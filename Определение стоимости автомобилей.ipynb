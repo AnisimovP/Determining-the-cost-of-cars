{
 "cells": [
  {
   "cell_type": "markdown",
   "metadata": {},
   "source": [
    "# Определение стоимости автомобилей"
   ]
  },
  {
   "cell_type": "markdown",
   "metadata": {},
   "source": [
    "Сервис по продаже автомобилей с пробегом «Не бит, не крашен» разрабатывает приложение для привлечения новых клиентов. В нём можно быстро узнать рыночную стоимость своего автомобиля. В вашем распоряжении исторические данные: технические характеристики, комплектации и цены автомобилей. Вам нужно построить модель для определения стоимости. \n",
    "\n",
    "Заказчику важны:\n",
    "\n",
    "- качество предсказания;\n",
    "- скорость предсказания;\n",
    "- время обучения."
   ]
  },
  {
   "cell_type": "markdown",
   "metadata": {},
   "source": [
    "## Подготовка данных"
   ]
  },
  {
   "cell_type": "code",
   "execution_count": 1,
   "metadata": {},
   "outputs": [],
   "source": [
    "import pandas as pd\n",
    "import numpy as np\n",
    "import time\n",
    "import seaborn as sns\n",
    "from catboost import CatBoostRegressor\n",
    "from sklearn.model_selection import cross_val_score, GridSearchCV\n",
    "from sklearn.model_selection import train_test_split\n",
    "from sklearn.metrics import mean_squared_error\n",
    "from sklearn.ensemble import RandomForestRegressor\n",
    "from sklearn.tree import DecisionTreeRegressor\n",
    "from sklearn.linear_model import LinearRegression\n",
    "from sklearn.preprocessing import OrdinalEncoder, StandardScaler\n",
    "from lightgbm import LGBMRegressor\n",
    "import matplotlib.pyplot as plt\n",
    "\n",
    "import warnings\n",
    "warnings.filterwarnings('ignore')"
   ]
  },
  {
   "cell_type": "code",
   "execution_count": 2,
   "metadata": {},
   "outputs": [],
   "source": [
    "data = pd.read_csv('/datasets/autos.csv')"
   ]
  },
  {
   "cell_type": "code",
   "execution_count": 3,
   "metadata": {
    "scrolled": false
   },
   "outputs": [
    {
     "data": {
      "text/html": [
       "<div>\n",
       "<style scoped>\n",
       "    .dataframe tbody tr th:only-of-type {\n",
       "        vertical-align: middle;\n",
       "    }\n",
       "\n",
       "    .dataframe tbody tr th {\n",
       "        vertical-align: top;\n",
       "    }\n",
       "\n",
       "    .dataframe thead th {\n",
       "        text-align: right;\n",
       "    }\n",
       "</style>\n",
       "<table border=\"1\" class=\"dataframe\">\n",
       "  <thead>\n",
       "    <tr style=\"text-align: right;\">\n",
       "      <th></th>\n",
       "      <th>DateCrawled</th>\n",
       "      <th>Price</th>\n",
       "      <th>VehicleType</th>\n",
       "      <th>RegistrationYear</th>\n",
       "      <th>Gearbox</th>\n",
       "      <th>Power</th>\n",
       "      <th>Model</th>\n",
       "      <th>Kilometer</th>\n",
       "      <th>RegistrationMonth</th>\n",
       "      <th>FuelType</th>\n",
       "      <th>Brand</th>\n",
       "      <th>NotRepaired</th>\n",
       "      <th>DateCreated</th>\n",
       "      <th>NumberOfPictures</th>\n",
       "      <th>PostalCode</th>\n",
       "      <th>LastSeen</th>\n",
       "    </tr>\n",
       "  </thead>\n",
       "  <tbody>\n",
       "    <tr>\n",
       "      <th>0</th>\n",
       "      <td>2016-03-24 11:52:17</td>\n",
       "      <td>480</td>\n",
       "      <td>NaN</td>\n",
       "      <td>1993</td>\n",
       "      <td>manual</td>\n",
       "      <td>0</td>\n",
       "      <td>golf</td>\n",
       "      <td>150000</td>\n",
       "      <td>0</td>\n",
       "      <td>petrol</td>\n",
       "      <td>volkswagen</td>\n",
       "      <td>NaN</td>\n",
       "      <td>2016-03-24 00:00:00</td>\n",
       "      <td>0</td>\n",
       "      <td>70435</td>\n",
       "      <td>2016-04-07 03:16:57</td>\n",
       "    </tr>\n",
       "    <tr>\n",
       "      <th>1</th>\n",
       "      <td>2016-03-24 10:58:45</td>\n",
       "      <td>18300</td>\n",
       "      <td>coupe</td>\n",
       "      <td>2011</td>\n",
       "      <td>manual</td>\n",
       "      <td>190</td>\n",
       "      <td>NaN</td>\n",
       "      <td>125000</td>\n",
       "      <td>5</td>\n",
       "      <td>gasoline</td>\n",
       "      <td>audi</td>\n",
       "      <td>yes</td>\n",
       "      <td>2016-03-24 00:00:00</td>\n",
       "      <td>0</td>\n",
       "      <td>66954</td>\n",
       "      <td>2016-04-07 01:46:50</td>\n",
       "    </tr>\n",
       "    <tr>\n",
       "      <th>2</th>\n",
       "      <td>2016-03-14 12:52:21</td>\n",
       "      <td>9800</td>\n",
       "      <td>suv</td>\n",
       "      <td>2004</td>\n",
       "      <td>auto</td>\n",
       "      <td>163</td>\n",
       "      <td>grand</td>\n",
       "      <td>125000</td>\n",
       "      <td>8</td>\n",
       "      <td>gasoline</td>\n",
       "      <td>jeep</td>\n",
       "      <td>NaN</td>\n",
       "      <td>2016-03-14 00:00:00</td>\n",
       "      <td>0</td>\n",
       "      <td>90480</td>\n",
       "      <td>2016-04-05 12:47:46</td>\n",
       "    </tr>\n",
       "    <tr>\n",
       "      <th>3</th>\n",
       "      <td>2016-03-17 16:54:04</td>\n",
       "      <td>1500</td>\n",
       "      <td>small</td>\n",
       "      <td>2001</td>\n",
       "      <td>manual</td>\n",
       "      <td>75</td>\n",
       "      <td>golf</td>\n",
       "      <td>150000</td>\n",
       "      <td>6</td>\n",
       "      <td>petrol</td>\n",
       "      <td>volkswagen</td>\n",
       "      <td>no</td>\n",
       "      <td>2016-03-17 00:00:00</td>\n",
       "      <td>0</td>\n",
       "      <td>91074</td>\n",
       "      <td>2016-03-17 17:40:17</td>\n",
       "    </tr>\n",
       "    <tr>\n",
       "      <th>4</th>\n",
       "      <td>2016-03-31 17:25:20</td>\n",
       "      <td>3600</td>\n",
       "      <td>small</td>\n",
       "      <td>2008</td>\n",
       "      <td>manual</td>\n",
       "      <td>69</td>\n",
       "      <td>fabia</td>\n",
       "      <td>90000</td>\n",
       "      <td>7</td>\n",
       "      <td>gasoline</td>\n",
       "      <td>skoda</td>\n",
       "      <td>no</td>\n",
       "      <td>2016-03-31 00:00:00</td>\n",
       "      <td>0</td>\n",
       "      <td>60437</td>\n",
       "      <td>2016-04-06 10:17:21</td>\n",
       "    </tr>\n",
       "    <tr>\n",
       "      <th>5</th>\n",
       "      <td>2016-04-04 17:36:23</td>\n",
       "      <td>650</td>\n",
       "      <td>sedan</td>\n",
       "      <td>1995</td>\n",
       "      <td>manual</td>\n",
       "      <td>102</td>\n",
       "      <td>3er</td>\n",
       "      <td>150000</td>\n",
       "      <td>10</td>\n",
       "      <td>petrol</td>\n",
       "      <td>bmw</td>\n",
       "      <td>yes</td>\n",
       "      <td>2016-04-04 00:00:00</td>\n",
       "      <td>0</td>\n",
       "      <td>33775</td>\n",
       "      <td>2016-04-06 19:17:07</td>\n",
       "    </tr>\n",
       "    <tr>\n",
       "      <th>6</th>\n",
       "      <td>2016-04-01 20:48:51</td>\n",
       "      <td>2200</td>\n",
       "      <td>convertible</td>\n",
       "      <td>2004</td>\n",
       "      <td>manual</td>\n",
       "      <td>109</td>\n",
       "      <td>2_reihe</td>\n",
       "      <td>150000</td>\n",
       "      <td>8</td>\n",
       "      <td>petrol</td>\n",
       "      <td>peugeot</td>\n",
       "      <td>no</td>\n",
       "      <td>2016-04-01 00:00:00</td>\n",
       "      <td>0</td>\n",
       "      <td>67112</td>\n",
       "      <td>2016-04-05 18:18:39</td>\n",
       "    </tr>\n",
       "    <tr>\n",
       "      <th>7</th>\n",
       "      <td>2016-03-21 18:54:38</td>\n",
       "      <td>0</td>\n",
       "      <td>sedan</td>\n",
       "      <td>1980</td>\n",
       "      <td>manual</td>\n",
       "      <td>50</td>\n",
       "      <td>other</td>\n",
       "      <td>40000</td>\n",
       "      <td>7</td>\n",
       "      <td>petrol</td>\n",
       "      <td>volkswagen</td>\n",
       "      <td>no</td>\n",
       "      <td>2016-03-21 00:00:00</td>\n",
       "      <td>0</td>\n",
       "      <td>19348</td>\n",
       "      <td>2016-03-25 16:47:58</td>\n",
       "    </tr>\n",
       "    <tr>\n",
       "      <th>8</th>\n",
       "      <td>2016-04-04 23:42:13</td>\n",
       "      <td>14500</td>\n",
       "      <td>bus</td>\n",
       "      <td>2014</td>\n",
       "      <td>manual</td>\n",
       "      <td>125</td>\n",
       "      <td>c_max</td>\n",
       "      <td>30000</td>\n",
       "      <td>8</td>\n",
       "      <td>petrol</td>\n",
       "      <td>ford</td>\n",
       "      <td>NaN</td>\n",
       "      <td>2016-04-04 00:00:00</td>\n",
       "      <td>0</td>\n",
       "      <td>94505</td>\n",
       "      <td>2016-04-04 23:42:13</td>\n",
       "    </tr>\n",
       "    <tr>\n",
       "      <th>9</th>\n",
       "      <td>2016-03-17 10:53:50</td>\n",
       "      <td>999</td>\n",
       "      <td>small</td>\n",
       "      <td>1998</td>\n",
       "      <td>manual</td>\n",
       "      <td>101</td>\n",
       "      <td>golf</td>\n",
       "      <td>150000</td>\n",
       "      <td>0</td>\n",
       "      <td>NaN</td>\n",
       "      <td>volkswagen</td>\n",
       "      <td>NaN</td>\n",
       "      <td>2016-03-17 00:00:00</td>\n",
       "      <td>0</td>\n",
       "      <td>27472</td>\n",
       "      <td>2016-03-31 17:17:06</td>\n",
       "    </tr>\n",
       "  </tbody>\n",
       "</table>\n",
       "</div>"
      ],
      "text/plain": [
       "           DateCrawled  Price  VehicleType  RegistrationYear Gearbox  Power  \\\n",
       "0  2016-03-24 11:52:17    480          NaN              1993  manual      0   \n",
       "1  2016-03-24 10:58:45  18300        coupe              2011  manual    190   \n",
       "2  2016-03-14 12:52:21   9800          suv              2004    auto    163   \n",
       "3  2016-03-17 16:54:04   1500        small              2001  manual     75   \n",
       "4  2016-03-31 17:25:20   3600        small              2008  manual     69   \n",
       "5  2016-04-04 17:36:23    650        sedan              1995  manual    102   \n",
       "6  2016-04-01 20:48:51   2200  convertible              2004  manual    109   \n",
       "7  2016-03-21 18:54:38      0        sedan              1980  manual     50   \n",
       "8  2016-04-04 23:42:13  14500          bus              2014  manual    125   \n",
       "9  2016-03-17 10:53:50    999        small              1998  manual    101   \n",
       "\n",
       "     Model  Kilometer  RegistrationMonth  FuelType       Brand NotRepaired  \\\n",
       "0     golf     150000                  0    petrol  volkswagen         NaN   \n",
       "1      NaN     125000                  5  gasoline        audi         yes   \n",
       "2    grand     125000                  8  gasoline        jeep         NaN   \n",
       "3     golf     150000                  6    petrol  volkswagen          no   \n",
       "4    fabia      90000                  7  gasoline       skoda          no   \n",
       "5      3er     150000                 10    petrol         bmw         yes   \n",
       "6  2_reihe     150000                  8    petrol     peugeot          no   \n",
       "7    other      40000                  7    petrol  volkswagen          no   \n",
       "8    c_max      30000                  8    petrol        ford         NaN   \n",
       "9     golf     150000                  0       NaN  volkswagen         NaN   \n",
       "\n",
       "           DateCreated  NumberOfPictures  PostalCode             LastSeen  \n",
       "0  2016-03-24 00:00:00                 0       70435  2016-04-07 03:16:57  \n",
       "1  2016-03-24 00:00:00                 0       66954  2016-04-07 01:46:50  \n",
       "2  2016-03-14 00:00:00                 0       90480  2016-04-05 12:47:46  \n",
       "3  2016-03-17 00:00:00                 0       91074  2016-03-17 17:40:17  \n",
       "4  2016-03-31 00:00:00                 0       60437  2016-04-06 10:17:21  \n",
       "5  2016-04-04 00:00:00                 0       33775  2016-04-06 19:17:07  \n",
       "6  2016-04-01 00:00:00                 0       67112  2016-04-05 18:18:39  \n",
       "7  2016-03-21 00:00:00                 0       19348  2016-03-25 16:47:58  \n",
       "8  2016-04-04 00:00:00                 0       94505  2016-04-04 23:42:13  \n",
       "9  2016-03-17 00:00:00                 0       27472  2016-03-31 17:17:06  "
      ]
     },
     "execution_count": 3,
     "metadata": {},
     "output_type": "execute_result"
    }
   ],
   "source": [
    "data.head(10)"
   ]
  },
  {
   "cell_type": "code",
   "execution_count": 4,
   "metadata": {},
   "outputs": [
    {
     "data": {
      "text/plain": [
       "(354369, 16)"
      ]
     },
     "execution_count": 4,
     "metadata": {},
     "output_type": "execute_result"
    }
   ],
   "source": [
    "data.shape"
   ]
  },
  {
   "cell_type": "code",
   "execution_count": 5,
   "metadata": {},
   "outputs": [
    {
     "name": "stdout",
     "output_type": "stream",
     "text": [
      "<class 'pandas.core.frame.DataFrame'>\n",
      "RangeIndex: 354369 entries, 0 to 354368\n",
      "Data columns (total 16 columns):\n",
      " #   Column             Non-Null Count   Dtype \n",
      "---  ------             --------------   ----- \n",
      " 0   DateCrawled        354369 non-null  object\n",
      " 1   Price              354369 non-null  int64 \n",
      " 2   VehicleType        316879 non-null  object\n",
      " 3   RegistrationYear   354369 non-null  int64 \n",
      " 4   Gearbox            334536 non-null  object\n",
      " 5   Power              354369 non-null  int64 \n",
      " 6   Model              334664 non-null  object\n",
      " 7   Kilometer          354369 non-null  int64 \n",
      " 8   RegistrationMonth  354369 non-null  int64 \n",
      " 9   FuelType           321474 non-null  object\n",
      " 10  Brand              354369 non-null  object\n",
      " 11  NotRepaired        283215 non-null  object\n",
      " 12  DateCreated        354369 non-null  object\n",
      " 13  NumberOfPictures   354369 non-null  int64 \n",
      " 14  PostalCode         354369 non-null  int64 \n",
      " 15  LastSeen           354369 non-null  object\n",
      "dtypes: int64(7), object(9)\n",
      "memory usage: 43.3+ MB\n"
     ]
    }
   ],
   "source": [
    "data.info()"
   ]
  },
  {
   "cell_type": "code",
   "execution_count": 6,
   "metadata": {
    "scrolled": false
   },
   "outputs": [
    {
     "data": {
      "text/html": [
       "<div>\n",
       "<style scoped>\n",
       "    .dataframe tbody tr th:only-of-type {\n",
       "        vertical-align: middle;\n",
       "    }\n",
       "\n",
       "    .dataframe tbody tr th {\n",
       "        vertical-align: top;\n",
       "    }\n",
       "\n",
       "    .dataframe thead th {\n",
       "        text-align: right;\n",
       "    }\n",
       "</style>\n",
       "<table border=\"1\" class=\"dataframe\">\n",
       "  <thead>\n",
       "    <tr style=\"text-align: right;\">\n",
       "      <th></th>\n",
       "      <th>Price</th>\n",
       "      <th>RegistrationYear</th>\n",
       "      <th>Power</th>\n",
       "      <th>Kilometer</th>\n",
       "      <th>RegistrationMonth</th>\n",
       "      <th>NumberOfPictures</th>\n",
       "      <th>PostalCode</th>\n",
       "    </tr>\n",
       "  </thead>\n",
       "  <tbody>\n",
       "    <tr>\n",
       "      <th>count</th>\n",
       "      <td>354369.000000</td>\n",
       "      <td>354369.000000</td>\n",
       "      <td>354369.000000</td>\n",
       "      <td>354369.000000</td>\n",
       "      <td>354369.000000</td>\n",
       "      <td>354369.0</td>\n",
       "      <td>354369.000000</td>\n",
       "    </tr>\n",
       "    <tr>\n",
       "      <th>mean</th>\n",
       "      <td>4416.656776</td>\n",
       "      <td>2004.234448</td>\n",
       "      <td>110.094337</td>\n",
       "      <td>128211.172535</td>\n",
       "      <td>5.714645</td>\n",
       "      <td>0.0</td>\n",
       "      <td>50508.689087</td>\n",
       "    </tr>\n",
       "    <tr>\n",
       "      <th>std</th>\n",
       "      <td>4514.158514</td>\n",
       "      <td>90.227958</td>\n",
       "      <td>189.850405</td>\n",
       "      <td>37905.341530</td>\n",
       "      <td>3.726421</td>\n",
       "      <td>0.0</td>\n",
       "      <td>25783.096248</td>\n",
       "    </tr>\n",
       "    <tr>\n",
       "      <th>min</th>\n",
       "      <td>0.000000</td>\n",
       "      <td>1000.000000</td>\n",
       "      <td>0.000000</td>\n",
       "      <td>5000.000000</td>\n",
       "      <td>0.000000</td>\n",
       "      <td>0.0</td>\n",
       "      <td>1067.000000</td>\n",
       "    </tr>\n",
       "    <tr>\n",
       "      <th>25%</th>\n",
       "      <td>1050.000000</td>\n",
       "      <td>1999.000000</td>\n",
       "      <td>69.000000</td>\n",
       "      <td>125000.000000</td>\n",
       "      <td>3.000000</td>\n",
       "      <td>0.0</td>\n",
       "      <td>30165.000000</td>\n",
       "    </tr>\n",
       "    <tr>\n",
       "      <th>50%</th>\n",
       "      <td>2700.000000</td>\n",
       "      <td>2003.000000</td>\n",
       "      <td>105.000000</td>\n",
       "      <td>150000.000000</td>\n",
       "      <td>6.000000</td>\n",
       "      <td>0.0</td>\n",
       "      <td>49413.000000</td>\n",
       "    </tr>\n",
       "    <tr>\n",
       "      <th>75%</th>\n",
       "      <td>6400.000000</td>\n",
       "      <td>2008.000000</td>\n",
       "      <td>143.000000</td>\n",
       "      <td>150000.000000</td>\n",
       "      <td>9.000000</td>\n",
       "      <td>0.0</td>\n",
       "      <td>71083.000000</td>\n",
       "    </tr>\n",
       "    <tr>\n",
       "      <th>max</th>\n",
       "      <td>20000.000000</td>\n",
       "      <td>9999.000000</td>\n",
       "      <td>20000.000000</td>\n",
       "      <td>150000.000000</td>\n",
       "      <td>12.000000</td>\n",
       "      <td>0.0</td>\n",
       "      <td>99998.000000</td>\n",
       "    </tr>\n",
       "  </tbody>\n",
       "</table>\n",
       "</div>"
      ],
      "text/plain": [
       "               Price  RegistrationYear          Power      Kilometer  \\\n",
       "count  354369.000000     354369.000000  354369.000000  354369.000000   \n",
       "mean     4416.656776       2004.234448     110.094337  128211.172535   \n",
       "std      4514.158514         90.227958     189.850405   37905.341530   \n",
       "min         0.000000       1000.000000       0.000000    5000.000000   \n",
       "25%      1050.000000       1999.000000      69.000000  125000.000000   \n",
       "50%      2700.000000       2003.000000     105.000000  150000.000000   \n",
       "75%      6400.000000       2008.000000     143.000000  150000.000000   \n",
       "max     20000.000000       9999.000000   20000.000000  150000.000000   \n",
       "\n",
       "       RegistrationMonth  NumberOfPictures     PostalCode  \n",
       "count      354369.000000          354369.0  354369.000000  \n",
       "mean            5.714645               0.0   50508.689087  \n",
       "std             3.726421               0.0   25783.096248  \n",
       "min             0.000000               0.0    1067.000000  \n",
       "25%             3.000000               0.0   30165.000000  \n",
       "50%             6.000000               0.0   49413.000000  \n",
       "75%             9.000000               0.0   71083.000000  \n",
       "max            12.000000               0.0   99998.000000  "
      ]
     },
     "execution_count": 6,
     "metadata": {},
     "output_type": "execute_result"
    }
   ],
   "source": [
    "data.describe()"
   ]
  },
  {
   "cell_type": "code",
   "execution_count": 7,
   "metadata": {},
   "outputs": [
    {
     "data": {
      "text/plain": [
       "'2016-04-07 14:36:58'"
      ]
     },
     "execution_count": 7,
     "metadata": {},
     "output_type": "execute_result"
    }
   ],
   "source": [
    "data['DateCrawled'].max()"
   ]
  },
  {
   "cell_type": "markdown",
   "metadata": {},
   "source": [
    "Сразу удалим столбцы, которые не будут нужны в обучении модели: `DateCrawled`, `NumberOfPictures`, `PostalCode`, `LastSeen`, `DateCreated`, `RegistrationMonth`"
   ]
  },
  {
   "cell_type": "code",
   "execution_count": 8,
   "metadata": {},
   "outputs": [],
   "source": [
    "data = data.drop(columns=['DateCrawled', 'NumberOfPictures', 'PostalCode', 'LastSeen', 'DateCreated', 'RegistrationMonth'], axis=1)\n"
   ]
  },
  {
   "cell_type": "code",
   "execution_count": 9,
   "metadata": {},
   "outputs": [
    {
     "data": {
      "text/html": [
       "<div>\n",
       "<style scoped>\n",
       "    .dataframe tbody tr th:only-of-type {\n",
       "        vertical-align: middle;\n",
       "    }\n",
       "\n",
       "    .dataframe tbody tr th {\n",
       "        vertical-align: top;\n",
       "    }\n",
       "\n",
       "    .dataframe thead th {\n",
       "        text-align: right;\n",
       "    }\n",
       "</style>\n",
       "<table border=\"1\" class=\"dataframe\">\n",
       "  <thead>\n",
       "    <tr style=\"text-align: right;\">\n",
       "      <th></th>\n",
       "      <th>Price</th>\n",
       "      <th>VehicleType</th>\n",
       "      <th>RegistrationYear</th>\n",
       "      <th>Gearbox</th>\n",
       "      <th>Power</th>\n",
       "      <th>Model</th>\n",
       "      <th>Kilometer</th>\n",
       "      <th>FuelType</th>\n",
       "      <th>Brand</th>\n",
       "      <th>NotRepaired</th>\n",
       "    </tr>\n",
       "  </thead>\n",
       "  <tbody>\n",
       "    <tr>\n",
       "      <th>0</th>\n",
       "      <td>480</td>\n",
       "      <td>NaN</td>\n",
       "      <td>1993</td>\n",
       "      <td>manual</td>\n",
       "      <td>0</td>\n",
       "      <td>golf</td>\n",
       "      <td>150000</td>\n",
       "      <td>petrol</td>\n",
       "      <td>volkswagen</td>\n",
       "      <td>NaN</td>\n",
       "    </tr>\n",
       "    <tr>\n",
       "      <th>1</th>\n",
       "      <td>18300</td>\n",
       "      <td>coupe</td>\n",
       "      <td>2011</td>\n",
       "      <td>manual</td>\n",
       "      <td>190</td>\n",
       "      <td>NaN</td>\n",
       "      <td>125000</td>\n",
       "      <td>gasoline</td>\n",
       "      <td>audi</td>\n",
       "      <td>yes</td>\n",
       "    </tr>\n",
       "    <tr>\n",
       "      <th>2</th>\n",
       "      <td>9800</td>\n",
       "      <td>suv</td>\n",
       "      <td>2004</td>\n",
       "      <td>auto</td>\n",
       "      <td>163</td>\n",
       "      <td>grand</td>\n",
       "      <td>125000</td>\n",
       "      <td>gasoline</td>\n",
       "      <td>jeep</td>\n",
       "      <td>NaN</td>\n",
       "    </tr>\n",
       "    <tr>\n",
       "      <th>3</th>\n",
       "      <td>1500</td>\n",
       "      <td>small</td>\n",
       "      <td>2001</td>\n",
       "      <td>manual</td>\n",
       "      <td>75</td>\n",
       "      <td>golf</td>\n",
       "      <td>150000</td>\n",
       "      <td>petrol</td>\n",
       "      <td>volkswagen</td>\n",
       "      <td>no</td>\n",
       "    </tr>\n",
       "    <tr>\n",
       "      <th>4</th>\n",
       "      <td>3600</td>\n",
       "      <td>small</td>\n",
       "      <td>2008</td>\n",
       "      <td>manual</td>\n",
       "      <td>69</td>\n",
       "      <td>fabia</td>\n",
       "      <td>90000</td>\n",
       "      <td>gasoline</td>\n",
       "      <td>skoda</td>\n",
       "      <td>no</td>\n",
       "    </tr>\n",
       "  </tbody>\n",
       "</table>\n",
       "</div>"
      ],
      "text/plain": [
       "   Price VehicleType  RegistrationYear Gearbox  Power  Model  Kilometer  \\\n",
       "0    480         NaN              1993  manual      0   golf     150000   \n",
       "1  18300       coupe              2011  manual    190    NaN     125000   \n",
       "2   9800         suv              2004    auto    163  grand     125000   \n",
       "3   1500       small              2001  manual     75   golf     150000   \n",
       "4   3600       small              2008  manual     69  fabia      90000   \n",
       "\n",
       "   FuelType       Brand NotRepaired  \n",
       "0    petrol  volkswagen         NaN  \n",
       "1  gasoline        audi         yes  \n",
       "2  gasoline        jeep         NaN  \n",
       "3    petrol  volkswagen          no  \n",
       "4  gasoline       skoda          no  "
      ]
     },
     "execution_count": 9,
     "metadata": {},
     "output_type": "execute_result"
    }
   ],
   "source": [
    "data.head()"
   ]
  },
  {
   "cell_type": "markdown",
   "metadata": {},
   "source": [
    "Также, для удобства переведем все столбцы в нижний регистр"
   ]
  },
  {
   "cell_type": "code",
   "execution_count": 10,
   "metadata": {},
   "outputs": [],
   "source": [
    "data.columns = data.columns.str.lower()"
   ]
  },
  {
   "cell_type": "code",
   "execution_count": 11,
   "metadata": {},
   "outputs": [
    {
     "data": {
      "text/html": [
       "<div>\n",
       "<style scoped>\n",
       "    .dataframe tbody tr th:only-of-type {\n",
       "        vertical-align: middle;\n",
       "    }\n",
       "\n",
       "    .dataframe tbody tr th {\n",
       "        vertical-align: top;\n",
       "    }\n",
       "\n",
       "    .dataframe thead th {\n",
       "        text-align: right;\n",
       "    }\n",
       "</style>\n",
       "<table border=\"1\" class=\"dataframe\">\n",
       "  <thead>\n",
       "    <tr style=\"text-align: right;\">\n",
       "      <th></th>\n",
       "      <th>price</th>\n",
       "      <th>vehicletype</th>\n",
       "      <th>registrationyear</th>\n",
       "      <th>gearbox</th>\n",
       "      <th>power</th>\n",
       "      <th>model</th>\n",
       "      <th>kilometer</th>\n",
       "      <th>fueltype</th>\n",
       "      <th>brand</th>\n",
       "      <th>notrepaired</th>\n",
       "    </tr>\n",
       "  </thead>\n",
       "  <tbody>\n",
       "    <tr>\n",
       "      <th>0</th>\n",
       "      <td>480</td>\n",
       "      <td>NaN</td>\n",
       "      <td>1993</td>\n",
       "      <td>manual</td>\n",
       "      <td>0</td>\n",
       "      <td>golf</td>\n",
       "      <td>150000</td>\n",
       "      <td>petrol</td>\n",
       "      <td>volkswagen</td>\n",
       "      <td>NaN</td>\n",
       "    </tr>\n",
       "    <tr>\n",
       "      <th>1</th>\n",
       "      <td>18300</td>\n",
       "      <td>coupe</td>\n",
       "      <td>2011</td>\n",
       "      <td>manual</td>\n",
       "      <td>190</td>\n",
       "      <td>NaN</td>\n",
       "      <td>125000</td>\n",
       "      <td>gasoline</td>\n",
       "      <td>audi</td>\n",
       "      <td>yes</td>\n",
       "    </tr>\n",
       "    <tr>\n",
       "      <th>2</th>\n",
       "      <td>9800</td>\n",
       "      <td>suv</td>\n",
       "      <td>2004</td>\n",
       "      <td>auto</td>\n",
       "      <td>163</td>\n",
       "      <td>grand</td>\n",
       "      <td>125000</td>\n",
       "      <td>gasoline</td>\n",
       "      <td>jeep</td>\n",
       "      <td>NaN</td>\n",
       "    </tr>\n",
       "    <tr>\n",
       "      <th>3</th>\n",
       "      <td>1500</td>\n",
       "      <td>small</td>\n",
       "      <td>2001</td>\n",
       "      <td>manual</td>\n",
       "      <td>75</td>\n",
       "      <td>golf</td>\n",
       "      <td>150000</td>\n",
       "      <td>petrol</td>\n",
       "      <td>volkswagen</td>\n",
       "      <td>no</td>\n",
       "    </tr>\n",
       "    <tr>\n",
       "      <th>4</th>\n",
       "      <td>3600</td>\n",
       "      <td>small</td>\n",
       "      <td>2008</td>\n",
       "      <td>manual</td>\n",
       "      <td>69</td>\n",
       "      <td>fabia</td>\n",
       "      <td>90000</td>\n",
       "      <td>gasoline</td>\n",
       "      <td>skoda</td>\n",
       "      <td>no</td>\n",
       "    </tr>\n",
       "  </tbody>\n",
       "</table>\n",
       "</div>"
      ],
      "text/plain": [
       "   price vehicletype  registrationyear gearbox  power  model  kilometer  \\\n",
       "0    480         NaN              1993  manual      0   golf     150000   \n",
       "1  18300       coupe              2011  manual    190    NaN     125000   \n",
       "2   9800         suv              2004    auto    163  grand     125000   \n",
       "3   1500       small              2001  manual     75   golf     150000   \n",
       "4   3600       small              2008  manual     69  fabia      90000   \n",
       "\n",
       "   fueltype       brand notrepaired  \n",
       "0    petrol  volkswagen         NaN  \n",
       "1  gasoline        audi         yes  \n",
       "2  gasoline        jeep         NaN  \n",
       "3    petrol  volkswagen          no  \n",
       "4  gasoline       skoda          no  "
      ]
     },
     "execution_count": 11,
     "metadata": {},
     "output_type": "execute_result"
    }
   ],
   "source": [
    "data.head()"
   ]
  },
  {
   "cell_type": "code",
   "execution_count": 12,
   "metadata": {},
   "outputs": [],
   "source": [
    "data = data.rename(columns={'vehicletype':'vehicle_type',\n",
    "                            'registrationyear':'registration_year',\n",
    "                            'fueltype': 'fuel_type',\n",
    "                            'notrepaired':'not_repaired'\n",
    "})"
   ]
  },
  {
   "cell_type": "code",
   "execution_count": 13,
   "metadata": {},
   "outputs": [
    {
     "data": {
      "text/html": [
       "<div>\n",
       "<style scoped>\n",
       "    .dataframe tbody tr th:only-of-type {\n",
       "        vertical-align: middle;\n",
       "    }\n",
       "\n",
       "    .dataframe tbody tr th {\n",
       "        vertical-align: top;\n",
       "    }\n",
       "\n",
       "    .dataframe thead th {\n",
       "        text-align: right;\n",
       "    }\n",
       "</style>\n",
       "<table border=\"1\" class=\"dataframe\">\n",
       "  <thead>\n",
       "    <tr style=\"text-align: right;\">\n",
       "      <th></th>\n",
       "      <th>price</th>\n",
       "      <th>vehicle_type</th>\n",
       "      <th>registration_year</th>\n",
       "      <th>gearbox</th>\n",
       "      <th>power</th>\n",
       "      <th>model</th>\n",
       "      <th>kilometer</th>\n",
       "      <th>fuel_type</th>\n",
       "      <th>brand</th>\n",
       "      <th>not_repaired</th>\n",
       "    </tr>\n",
       "  </thead>\n",
       "  <tbody>\n",
       "    <tr>\n",
       "      <th>0</th>\n",
       "      <td>480</td>\n",
       "      <td>NaN</td>\n",
       "      <td>1993</td>\n",
       "      <td>manual</td>\n",
       "      <td>0</td>\n",
       "      <td>golf</td>\n",
       "      <td>150000</td>\n",
       "      <td>petrol</td>\n",
       "      <td>volkswagen</td>\n",
       "      <td>NaN</td>\n",
       "    </tr>\n",
       "    <tr>\n",
       "      <th>1</th>\n",
       "      <td>18300</td>\n",
       "      <td>coupe</td>\n",
       "      <td>2011</td>\n",
       "      <td>manual</td>\n",
       "      <td>190</td>\n",
       "      <td>NaN</td>\n",
       "      <td>125000</td>\n",
       "      <td>gasoline</td>\n",
       "      <td>audi</td>\n",
       "      <td>yes</td>\n",
       "    </tr>\n",
       "    <tr>\n",
       "      <th>2</th>\n",
       "      <td>9800</td>\n",
       "      <td>suv</td>\n",
       "      <td>2004</td>\n",
       "      <td>auto</td>\n",
       "      <td>163</td>\n",
       "      <td>grand</td>\n",
       "      <td>125000</td>\n",
       "      <td>gasoline</td>\n",
       "      <td>jeep</td>\n",
       "      <td>NaN</td>\n",
       "    </tr>\n",
       "    <tr>\n",
       "      <th>3</th>\n",
       "      <td>1500</td>\n",
       "      <td>small</td>\n",
       "      <td>2001</td>\n",
       "      <td>manual</td>\n",
       "      <td>75</td>\n",
       "      <td>golf</td>\n",
       "      <td>150000</td>\n",
       "      <td>petrol</td>\n",
       "      <td>volkswagen</td>\n",
       "      <td>no</td>\n",
       "    </tr>\n",
       "    <tr>\n",
       "      <th>4</th>\n",
       "      <td>3600</td>\n",
       "      <td>small</td>\n",
       "      <td>2008</td>\n",
       "      <td>manual</td>\n",
       "      <td>69</td>\n",
       "      <td>fabia</td>\n",
       "      <td>90000</td>\n",
       "      <td>gasoline</td>\n",
       "      <td>skoda</td>\n",
       "      <td>no</td>\n",
       "    </tr>\n",
       "  </tbody>\n",
       "</table>\n",
       "</div>"
      ],
      "text/plain": [
       "   price vehicle_type  registration_year gearbox  power  model  kilometer  \\\n",
       "0    480          NaN               1993  manual      0   golf     150000   \n",
       "1  18300        coupe               2011  manual    190    NaN     125000   \n",
       "2   9800          suv               2004    auto    163  grand     125000   \n",
       "3   1500        small               2001  manual     75   golf     150000   \n",
       "4   3600        small               2008  manual     69  fabia      90000   \n",
       "\n",
       "  fuel_type       brand not_repaired  \n",
       "0    petrol  volkswagen          NaN  \n",
       "1  gasoline        audi          yes  \n",
       "2  gasoline        jeep          NaN  \n",
       "3    petrol  volkswagen           no  \n",
       "4  gasoline       skoda           no  "
      ]
     },
     "execution_count": 13,
     "metadata": {},
     "output_type": "execute_result"
    }
   ],
   "source": [
    "data.head()"
   ]
  },
  {
   "cell_type": "code",
   "execution_count": 14,
   "metadata": {},
   "outputs": [
    {
     "data": {
      "text/plain": [
       "price                    0\n",
       "vehicle_type         37490\n",
       "registration_year        0\n",
       "gearbox              19833\n",
       "power                    0\n",
       "model                19705\n",
       "kilometer                0\n",
       "fuel_type            32895\n",
       "brand                    0\n",
       "not_repaired         71154\n",
       "dtype: int64"
      ]
     },
     "execution_count": 14,
     "metadata": {},
     "output_type": "execute_result"
    }
   ],
   "source": [
    "data.isna().sum()"
   ]
  },
  {
   "cell_type": "markdown",
   "metadata": {},
   "source": [
    "Проведем работу с пропусками, а также проверим данные на выборсы и аномалии"
   ]
  },
  {
   "cell_type": "markdown",
   "metadata": {},
   "source": [
    "### `vehicle_type`"
   ]
  },
  {
   "cell_type": "code",
   "execution_count": 15,
   "metadata": {},
   "outputs": [
    {
     "data": {
      "text/plain": [
       "sedan          91457\n",
       "small          79831\n",
       "wagon          65166\n",
       "bus            28775\n",
       "convertible    20203\n",
       "coupe          16163\n",
       "suv            11996\n",
       "other           3288\n",
       "Name: vehicle_type, dtype: int64"
      ]
     },
     "execution_count": 15,
     "metadata": {},
     "output_type": "execute_result"
    }
   ],
   "source": [
    "data['vehicle_type'].value_counts()"
   ]
  },
  {
   "cell_type": "code",
   "execution_count": 16,
   "metadata": {},
   "outputs": [
    {
     "data": {
      "text/plain": [
       "37490"
      ]
     },
     "execution_count": 16,
     "metadata": {},
     "output_type": "execute_result"
    }
   ],
   "source": [
    "data['vehicle_type'].isna().sum()"
   ]
  },
  {
   "cell_type": "markdown",
   "metadata": {},
   "source": [
    "Так как мы не можем узнать какого типа кузов у машин (только опытном путем, проверяя каждую машину), то заполним все пропуски на \"other\""
   ]
  },
  {
   "cell_type": "code",
   "execution_count": 17,
   "metadata": {},
   "outputs": [],
   "source": [
    "data['vehicle_type'] = data['vehicle_type'].fillna('other')"
   ]
  },
  {
   "cell_type": "code",
   "execution_count": 18,
   "metadata": {},
   "outputs": [
    {
     "data": {
      "text/plain": [
       "0"
      ]
     },
     "execution_count": 18,
     "metadata": {},
     "output_type": "execute_result"
    }
   ],
   "source": [
    "data['vehicle_type'].isna().sum()"
   ]
  },
  {
   "cell_type": "code",
   "execution_count": 19,
   "metadata": {
    "scrolled": true
   },
   "outputs": [
    {
     "data": {
      "text/plain": [
       "sedan          91457\n",
       "small          79831\n",
       "wagon          65166\n",
       "other          40778\n",
       "bus            28775\n",
       "convertible    20203\n",
       "coupe          16163\n",
       "suv            11996\n",
       "Name: vehicle_type, dtype: int64"
      ]
     },
     "execution_count": 19,
     "metadata": {},
     "output_type": "execute_result"
    }
   ],
   "source": [
    "data['vehicle_type'].value_counts()"
   ]
  },
  {
   "cell_type": "markdown",
   "metadata": {},
   "source": [
    "### `gearbox`"
   ]
  },
  {
   "cell_type": "code",
   "execution_count": 20,
   "metadata": {},
   "outputs": [
    {
     "data": {
      "text/plain": [
       "manual    268251\n",
       "auto       66285\n",
       "Name: gearbox, dtype: int64"
      ]
     },
     "execution_count": 20,
     "metadata": {},
     "output_type": "execute_result"
    }
   ],
   "source": [
    "data['gearbox'].value_counts()"
   ]
  },
  {
   "cell_type": "code",
   "execution_count": 21,
   "metadata": {},
   "outputs": [
    {
     "data": {
      "text/plain": [
       "19833"
      ]
     },
     "execution_count": 21,
     "metadata": {},
     "output_type": "execute_result"
    }
   ],
   "source": [
    "data['gearbox'].isna().sum()"
   ]
  },
  {
   "cell_type": "code",
   "execution_count": 22,
   "metadata": {},
   "outputs": [
    {
     "data": {
      "text/plain": [
       "False    0.944033\n",
       "True     0.055967\n",
       "Name: gearbox, dtype: float64"
      ]
     },
     "execution_count": 22,
     "metadata": {},
     "output_type": "execute_result"
    }
   ],
   "source": [
    "data['gearbox'].isna().value_counts(normalize=True)"
   ]
  },
  {
   "cell_type": "markdown",
   "metadata": {},
   "source": [
    "Так как мы не можем заранее знать автоматическая коробка передач или механическая, а это тот параметр, который в корне влияет на цене автомабиля, удалим строки с пропусками в этом столбце"
   ]
  },
  {
   "cell_type": "code",
   "execution_count": 23,
   "metadata": {},
   "outputs": [],
   "source": [
    "data = data.loc[data['gearbox'].isna() == False]"
   ]
  },
  {
   "cell_type": "markdown",
   "metadata": {},
   "source": [
    "### `model`"
   ]
  },
  {
   "cell_type": "code",
   "execution_count": 24,
   "metadata": {},
   "outputs": [
    {
     "data": {
      "text/plain": [
       "golf                  27757\n",
       "other                 23025\n",
       "3er                   19086\n",
       "polo                  12334\n",
       "corsa                 11791\n",
       "                      ...  \n",
       "i3                        7\n",
       "rangerover                4\n",
       "serie_3                   3\n",
       "range_rover_evoque        2\n",
       "serie_1                   1\n",
       "Name: model, Length: 250, dtype: int64"
      ]
     },
     "execution_count": 24,
     "metadata": {},
     "output_type": "execute_result"
    }
   ],
   "source": [
    "data['model'].value_counts()"
   ]
  },
  {
   "cell_type": "code",
   "execution_count": 25,
   "metadata": {},
   "outputs": [
    {
     "data": {
      "text/plain": [
       "15574"
      ]
     },
     "execution_count": 25,
     "metadata": {},
     "output_type": "execute_result"
    }
   ],
   "source": [
    "data['model'].isna().sum()"
   ]
  },
  {
   "cell_type": "markdown",
   "metadata": {},
   "source": [
    "Заполним все пропуски на 'other'"
   ]
  },
  {
   "cell_type": "code",
   "execution_count": 26,
   "metadata": {},
   "outputs": [],
   "source": [
    "data['model'] = data['model'].fillna('other')"
   ]
  },
  {
   "cell_type": "code",
   "execution_count": 27,
   "metadata": {},
   "outputs": [
    {
     "data": {
      "text/plain": [
       "0"
      ]
     },
     "execution_count": 27,
     "metadata": {},
     "output_type": "execute_result"
    }
   ],
   "source": [
    "data['model'].isna().sum()"
   ]
  },
  {
   "cell_type": "markdown",
   "metadata": {},
   "source": [
    "### `fuel_type`"
   ]
  },
  {
   "cell_type": "code",
   "execution_count": 28,
   "metadata": {
    "scrolled": true
   },
   "outputs": [
    {
     "data": {
      "text/plain": [
       "petrol      209255\n",
       "gasoline     95126\n",
       "lpg           5174\n",
       "cng            551\n",
       "hybrid         227\n",
       "other          150\n",
       "electric        78\n",
       "Name: fuel_type, dtype: int64"
      ]
     },
     "execution_count": 28,
     "metadata": {},
     "output_type": "execute_result"
    }
   ],
   "source": [
    "data['fuel_type'].value_counts()"
   ]
  },
  {
   "cell_type": "markdown",
   "metadata": {},
   "source": [
    "Так как 'petrol' и 'gasoline' одно и то же, объединим их в единое понятие \"petrol\""
   ]
  },
  {
   "cell_type": "code",
   "execution_count": 29,
   "metadata": {},
   "outputs": [],
   "source": [
    "data['fuel_type'] = data['fuel_type'].replace('gasoline', 'petrol')"
   ]
  },
  {
   "cell_type": "code",
   "execution_count": 30,
   "metadata": {
    "scrolled": true
   },
   "outputs": [
    {
     "data": {
      "text/plain": [
       "petrol      304381\n",
       "lpg           5174\n",
       "cng            551\n",
       "hybrid         227\n",
       "other          150\n",
       "electric        78\n",
       "Name: fuel_type, dtype: int64"
      ]
     },
     "execution_count": 30,
     "metadata": {},
     "output_type": "execute_result"
    }
   ],
   "source": [
    "data['fuel_type'].value_counts()"
   ]
  },
  {
   "cell_type": "code",
   "execution_count": 31,
   "metadata": {
    "scrolled": true
   },
   "outputs": [
    {
     "data": {
      "text/plain": [
       "23975"
      ]
     },
     "execution_count": 31,
     "metadata": {},
     "output_type": "execute_result"
    }
   ],
   "source": [
    "data['fuel_type'].isna().sum()"
   ]
  },
  {
   "cell_type": "markdown",
   "metadata": {},
   "source": [
    "Заполним все данные на 'other'"
   ]
  },
  {
   "cell_type": "code",
   "execution_count": 32,
   "metadata": {},
   "outputs": [],
   "source": [
    "data['fuel_type'] = data['fuel_type'].fillna('other')"
   ]
  },
  {
   "cell_type": "code",
   "execution_count": 33,
   "metadata": {},
   "outputs": [
    {
     "data": {
      "text/plain": [
       "0"
      ]
     },
     "execution_count": 33,
     "metadata": {},
     "output_type": "execute_result"
    }
   ],
   "source": [
    "data['fuel_type'].isna().sum()"
   ]
  },
  {
   "cell_type": "markdown",
   "metadata": {},
   "source": [
    "### `not_repaired`"
   ]
  },
  {
   "cell_type": "code",
   "execution_count": 34,
   "metadata": {},
   "outputs": [
    {
     "data": {
      "text/plain": [
       "no     241629\n",
       "yes     34541\n",
       "Name: not_repaired, dtype: int64"
      ]
     },
     "execution_count": 34,
     "metadata": {},
     "output_type": "execute_result"
    }
   ],
   "source": [
    "data['not_repaired'].value_counts()"
   ]
  },
  {
   "cell_type": "code",
   "execution_count": 35,
   "metadata": {},
   "outputs": [
    {
     "data": {
      "text/plain": [
       "58366"
      ]
     },
     "execution_count": 35,
     "metadata": {},
     "output_type": "execute_result"
    }
   ],
   "source": [
    "data['not_repaired'].isna().sum()"
   ]
  },
  {
   "cell_type": "markdown",
   "metadata": {},
   "source": [
    "Скорее всего, незаполненные данные означают, что машина не была в ремонте, так что заполним все пропуски значением: \"no\""
   ]
  },
  {
   "cell_type": "code",
   "execution_count": 36,
   "metadata": {},
   "outputs": [],
   "source": [
    "data['not_repaired'] = data['not_repaired'].fillna('no')"
   ]
  },
  {
   "cell_type": "code",
   "execution_count": 37,
   "metadata": {},
   "outputs": [
    {
     "data": {
      "text/plain": [
       "0"
      ]
     },
     "execution_count": 37,
     "metadata": {},
     "output_type": "execute_result"
    }
   ],
   "source": [
    "data['not_repaired'].isna().sum()"
   ]
  },
  {
   "cell_type": "markdown",
   "metadata": {},
   "source": [
    "### `registration_year`"
   ]
  },
  {
   "cell_type": "code",
   "execution_count": 38,
   "metadata": {},
   "outputs": [
    {
     "data": {
      "text/plain": [
       "1999    21945\n",
       "2000    21332\n",
       "2005    20265\n",
       "2001    19506\n",
       "2006    19267\n",
       "        ...  \n",
       "4000        1\n",
       "3500        1\n",
       "1200        1\n",
       "3000        1\n",
       "2800        1\n",
       "Name: registration_year, Length: 116, dtype: int64"
      ]
     },
     "execution_count": 38,
     "metadata": {},
     "output_type": "execute_result"
    }
   ],
   "source": [
    "data['registration_year'].value_counts()"
   ]
  },
  {
   "cell_type": "code",
   "execution_count": 39,
   "metadata": {},
   "outputs": [
    {
     "data": {
      "text/plain": [
       "count    334536.000000\n",
       "mean       2003.379122\n",
       "std          32.059005\n",
       "min        1000.000000\n",
       "25%        1999.000000\n",
       "50%        2003.000000\n",
       "75%        2008.000000\n",
       "max        9000.000000\n",
       "Name: registration_year, dtype: float64"
      ]
     },
     "execution_count": 39,
     "metadata": {},
     "output_type": "execute_result"
    }
   ],
   "source": [
    "data['registration_year'].describe()"
   ]
  },
  {
   "cell_type": "code",
   "execution_count": 40,
   "metadata": {
    "scrolled": false
   },
   "outputs": [
    {
     "data": {
      "image/png": "[encoded data removed]",
      "text/plain": [
       "<Figure size 1040x800 with 1 Axes>"
      ]
     },
     "metadata": {
      "needs_background": "light"
     },
     "output_type": "display_data"
    }
   ],
   "source": [
    "plt.figure(figsize=(13,10), dpi= 80)\n",
    "sns.distplot(data['registration_year'], color=\"dodgerblue\",label=\"год регистрации автомобиля\", bins=100, \n",
    "             hist_kws={'alpha':.7}, kde=False)\n",
    "plt.title('Год регистрации автомобиля', fontsize=22)\n",
    "plt.xlabel('Год', fontsize=18)\n",
    "plt.ylabel('Количество машин', fontsize=18)\n",
    "plt.legend()\n",
    "plt.show()"
   ]
  },
  {
   "cell_type": "markdown",
   "metadata": {},
   "source": [
    "Отсечем все выборсы. Так как дата последней выгрузки стоит за 2016, будем отсчитывать начало производства машин от 1852г и до 2016г"
   ]
  },
  {
   "cell_type": "code",
   "execution_count": 41,
   "metadata": {},
   "outputs": [],
   "source": [
    "data = data.query('1852 <= registration_year <= 2016')"
   ]
  },
  {
   "cell_type": "code",
   "execution_count": 42,
   "metadata": {},
   "outputs": [
    {
     "data": {
      "text/plain": [
       "count    321864.000000\n",
       "mean       2002.606523\n",
       "std           6.745615\n",
       "min        1910.000000\n",
       "25%        1999.000000\n",
       "50%        2003.000000\n",
       "75%        2007.000000\n",
       "max        2016.000000\n",
       "Name: registration_year, dtype: float64"
      ]
     },
     "execution_count": 42,
     "metadata": {},
     "output_type": "execute_result"
    }
   ],
   "source": [
    "data['registration_year'].describe()"
   ]
  },
  {
   "cell_type": "code",
   "execution_count": 43,
   "metadata": {
    "scrolled": false
   },
   "outputs": [
    {
     "data": {
      "image/png": "[encoded data removed]",
      "text/plain": [
       "<Figure size 1040x800 with 1 Axes>"
      ]
     },
     "metadata": {
      "needs_background": "light"
     },
     "output_type": "display_data"
    }
   ],
   "source": [
    "plt.figure(figsize=(13,10), dpi= 80)\n",
    "sns.distplot(data['registration_year'], color=\"dodgerblue\",label=\"год регистрации автомобиля\", bins=100, \n",
    "             hist_kws={'alpha':.7}, kde=False)\n",
    "plt.title('Год регистрации автомобиля', fontsize=22)\n",
    "plt.xlabel('Год', fontsize=18)\n",
    "plt.ylabel('Количество машин', fontsize=18)\n",
    "plt.legend()\n",
    "plt.show()"
   ]
  },
  {
   "cell_type": "code",
   "execution_count": 44,
   "metadata": {},
   "outputs": [
    {
     "data": {
      "image/png": "[encoded data removed]",
      "text/plain": [
       "<Figure size 1040x800 with 1 Axes>"
      ]
     },
     "metadata": {
      "needs_background": "light"
     },
     "output_type": "display_data"
    }
   ],
   "source": [
    "plt.figure(figsize=(13,10), dpi= 80)\n",
    "sns.boxplot(data['registration_year'])\n",
    "plt.title('Год регистрации автомобиля', fontsize=22)\n",
    "plt.xlabel('Год', fontsize=18)\n",
    "plt.show()"
   ]
  },
  {
   "cell_type": "markdown",
   "metadata": {},
   "source": [
    "Мы можем наблюдать, что существенное количество зарегистрированный машин начало появляться только после 1980 гг.\n",
    "\n",
    "Отсечем предыдущие года для точности данных"
   ]
  },
  {
   "cell_type": "code",
   "execution_count": 45,
   "metadata": {},
   "outputs": [],
   "source": [
    "data = data.query('registration_year > 1980')"
   ]
  },
  {
   "cell_type": "code",
   "execution_count": 46,
   "metadata": {},
   "outputs": [
    {
     "data": {
      "image/png": "[encoded data removed]",
      "text/plain": [
       "<Figure size 1040x800 with 1 Axes>"
      ]
     },
     "metadata": {
      "needs_background": "light"
     },
     "output_type": "display_data"
    }
   ],
   "source": [
    "plt.figure(figsize=(13,10), dpi= 80)\n",
    "sns.distplot(data['registration_year'], color=\"dodgerblue\",label=\"год регистрации автомобиля\", bins=35, \n",
    "             hist_kws={'alpha':.7}, kde=False)\n",
    "plt.title('Год регистрации автомобиля', fontsize=22)\n",
    "plt.xlabel('Год', fontsize=18)\n",
    "plt.ylabel('Количество машин', fontsize=18)\n",
    "plt.legend()\n",
    "plt.show()"
   ]
  },
  {
   "cell_type": "code",
   "execution_count": 47,
   "metadata": {
    "scrolled": false
   },
   "outputs": [
    {
     "data": {
      "image/png": "[encoded data removed]",
      "text/plain": [
       "<Figure size 1040x800 with 1 Axes>"
      ]
     },
     "metadata": {
      "needs_background": "light"
     },
     "output_type": "display_data"
    }
   ],
   "source": [
    "plt.figure(figsize=(13,10), dpi= 80)\n",
    "sns.boxplot(data['registration_year'])\n",
    "plt.title('Год регистрации автомобиля', fontsize=22)\n",
    "plt.xlabel('Год', fontsize=18)\n",
    "plt.show()"
   ]
  },
  {
   "cell_type": "markdown",
   "metadata": {},
   "source": [
    "### `power`"
   ]
  },
  {
   "cell_type": "code",
   "execution_count": 48,
   "metadata": {},
   "outputs": [
    {
     "data": {
      "text/plain": [
       "0        23761\n",
       "75       22151\n",
       "60       14643\n",
       "150      13897\n",
       "101      12492\n",
       "         ...  \n",
       "6045         1\n",
       "671          1\n",
       "15001        1\n",
       "10311        1\n",
       "1653         1\n",
       "Name: power, Length: 684, dtype: int64"
      ]
     },
     "execution_count": 48,
     "metadata": {},
     "output_type": "execute_result"
    }
   ],
   "source": [
    "data['power'].value_counts()"
   ]
  },
  {
   "cell_type": "code",
   "execution_count": 49,
   "metadata": {},
   "outputs": [
    {
     "data": {
      "text/plain": [
       "count    318855.000000\n",
       "mean        115.450267\n",
       "std         185.778750\n",
       "min           0.000000\n",
       "25%          75.000000\n",
       "50%         106.000000\n",
       "75%         143.000000\n",
       "max       20000.000000\n",
       "Name: power, dtype: float64"
      ]
     },
     "execution_count": 49,
     "metadata": {},
     "output_type": "execute_result"
    }
   ],
   "source": [
    "data['power'].describe()"
   ]
  },
  {
   "cell_type": "code",
   "execution_count": 50,
   "metadata": {},
   "outputs": [
    {
     "data": {
      "image/png": "[encoded data removed]",
      "text/plain": [
       "<Figure size 1040x800 with 1 Axes>"
      ]
     },
     "metadata": {
      "needs_background": "light"
     },
     "output_type": "display_data"
    }
   ],
   "source": [
    "plt.figure(figsize=(13,10), dpi= 80)\n",
    "sns.distplot(data['power'], color=\"dodgerblue\",label=\"год регистрации автомобиля\", bins=35, \n",
    "             hist_kws={'alpha':.7}, kde=False)\n",
    "plt.title('Мощность', fontsize=22)\n",
    "plt.xlabel('л.с.', fontsize=18)\n",
    "plt.ylabel('Количество машин', fontsize=18)\n",
    "plt.legend()\n",
    "plt.show()"
   ]
  },
  {
   "cell_type": "code",
   "execution_count": 51,
   "metadata": {
    "scrolled": false
   },
   "outputs": [
    {
     "data": {
      "image/png": "[encoded data removed]",
      "text/plain": [
       "<Figure size 1040x800 with 1 Axes>"
      ]
     },
     "metadata": {
      "needs_background": "light"
     },
     "output_type": "display_data"
    }
   ],
   "source": [
    "plt.figure(figsize=(13,10), dpi= 80)\n",
    "sns.boxplot(data['power'])\n",
    "plt.title('Мощность', fontsize=22)\n",
    "plt.xlabel('лс.с', fontsize=18)\n",
    "plt.show()"
   ]
  },
  {
   "cell_type": "markdown",
   "metadata": {},
   "source": [
    "Не считая \"Devel Sixteen\" с 5000 л.с. и \"Dagger GT\" с 2500 л.с., остальные машины имеют максиум 1600 л.с. поэтому все остальное уберем из данных."
   ]
  },
  {
   "cell_type": "code",
   "execution_count": 52,
   "metadata": {},
   "outputs": [],
   "source": [
    "data = data.query('power < 1600')"
   ]
  },
  {
   "cell_type": "code",
   "execution_count": 53,
   "metadata": {},
   "outputs": [
    {
     "data": {
      "image/png": "[encoded data removed]",
      "text/plain": [
       "<Figure size 1040x800 with 1 Axes>"
      ]
     },
     "metadata": {
      "needs_background": "light"
     },
     "output_type": "display_data"
    }
   ],
   "source": [
    "plt.figure(figsize=(13,10), dpi= 80)\n",
    "sns.distplot(data['power'], color=\"dodgerblue\",label=\"год регистрации автомобиля\", bins=35, \n",
    "             hist_kws={'alpha':.7}, kde=False)\n",
    "plt.title('Мощность', fontsize=22)\n",
    "plt.xlabel('л.с.', fontsize=18)\n",
    "plt.ylabel('Количество машин', fontsize=18)\n",
    "plt.legend()\n",
    "plt.show()"
   ]
  },
  {
   "cell_type": "code",
   "execution_count": 54,
   "metadata": {},
   "outputs": [
    {
     "data": {
      "image/png": "[encoded data removed]",
      "text/plain": [
       "<Figure size 1040x800 with 1 Axes>"
      ]
     },
     "metadata": {
      "needs_background": "light"
     },
     "output_type": "display_data"
    }
   ],
   "source": [
    "plt.figure(figsize=(13,10), dpi= 80)\n",
    "sns.boxplot(data['power'])\n",
    "plt.title('Мощность', fontsize=22)\n",
    "plt.xlabel('лс.с', fontsize=18)\n",
    "plt.show()"
   ]
  },
  {
   "cell_type": "markdown",
   "metadata": {},
   "source": [
    "Можно заметить, что не так много людей, обладающие спорткарами, хотят их продать. Поэтому для точности данных отсечем еще часть \"выборосов\" и ограничемся 1000 л.с.\n",
    "\n",
    "Также, мы можем заметить, что очень много машин с мощностью 0-40 л.с. Так как мы никак не можем заменить эти данные, придется отсечь эти данные"
   ]
  },
  {
   "cell_type": "code",
   "execution_count": 55,
   "metadata": {},
   "outputs": [],
   "source": [
    "data = data.query('40 <= power <= 1000')"
   ]
  },
  {
   "cell_type": "code",
   "execution_count": 56,
   "metadata": {
    "scrolled": false
   },
   "outputs": [
    {
     "data": {
      "image/png": "[encoded data removed]",
      "text/plain": [
       "<Figure size 1040x800 with 1 Axes>"
      ]
     },
     "metadata": {
      "needs_background": "light"
     },
     "output_type": "display_data"
    }
   ],
   "source": [
    "plt.figure(figsize=(13,10), dpi= 80)\n",
    "sns.distplot(data['power'], color=\"dodgerblue\",label=\"год регистрации автомобиля\", bins=35, \n",
    "             hist_kws={'alpha':.7}, kde=False)\n",
    "plt.title('Мощность', fontsize=22)\n",
    "plt.xlabel('л.с.', fontsize=18)\n",
    "plt.ylabel('Количество машин', fontsize=18)\n",
    "plt.legend()\n",
    "plt.show()"
   ]
  },
  {
   "cell_type": "code",
   "execution_count": 57,
   "metadata": {},
   "outputs": [
    {
     "data": {
      "image/png": "[encoded data removed]",
      "text/plain": [
       "<Figure size 1040x800 with 1 Axes>"
      ]
     },
     "metadata": {
      "needs_background": "light"
     },
     "output_type": "display_data"
    }
   ],
   "source": [
    "plt.figure(figsize=(13,10), dpi= 80)\n",
    "sns.boxplot(data['power'])\n",
    "plt.title('Мощность', fontsize=22)\n",
    "plt.xlabel('лс.с', fontsize=18)\n",
    "plt.show()"
   ]
  },
  {
   "cell_type": "markdown",
   "metadata": {},
   "source": [
    "### `kilometer`"
   ]
  },
  {
   "cell_type": "code",
   "execution_count": 58,
   "metadata": {},
   "outputs": [
    {
     "data": {
      "text/plain": [
       "150000    196824\n",
       "125000     31384\n",
       "100000     12437\n",
       "90000      10066\n",
       "80000       8790\n",
       "70000       7569\n",
       "60000       6595\n",
       "50000       5454\n",
       "40000       4345\n",
       "30000       3752\n",
       "20000       3113\n",
       "5000        2738\n",
       "10000        862\n",
       "Name: kilometer, dtype: int64"
      ]
     },
     "execution_count": 58,
     "metadata": {},
     "output_type": "execute_result"
    }
   ],
   "source": [
    "data['kilometer'].value_counts()"
   ]
  },
  {
   "cell_type": "code",
   "execution_count": 59,
   "metadata": {},
   "outputs": [
    {
     "data": {
      "image/png": "[encoded data removed]",
      "text/plain": [
       "<Figure size 1040x800 with 1 Axes>"
      ]
     },
     "metadata": {
      "needs_background": "light"
     },
     "output_type": "display_data"
    }
   ],
   "source": [
    "plt.figure(figsize=(13,10), dpi= 80)\n",
    "sns.distplot(data['kilometer'], color=\"dodgerblue\",label=\"год регистрации автомобиля\", bins=7, \n",
    "             hist_kws={'alpha':.7}, kde=False)\n",
    "plt.title('Пробег', fontsize=22)\n",
    "plt.xlabel('км', fontsize=18)\n",
    "plt.ylabel('Количество машин', fontsize=18)\n",
    "plt.legend()\n",
    "plt.show()"
   ]
  },
  {
   "cell_type": "code",
   "execution_count": 60,
   "metadata": {
    "scrolled": false
   },
   "outputs": [
    {
     "data": {
      "image/png": "[encoded data removed]",
      "text/plain": [
       "<Figure size 1040x800 with 1 Axes>"
      ]
     },
     "metadata": {
      "needs_background": "light"
     },
     "output_type": "display_data"
    }
   ],
   "source": [
    "plt.figure(figsize=(13,10), dpi= 80)\n",
    "sns.boxplot(data['kilometer'])\n",
    "plt.title('Пробег', fontsize=22)\n",
    "plt.xlabel('км', fontsize=18)\n",
    "plt.show()"
   ]
  },
  {
   "cell_type": "markdown",
   "metadata": {},
   "source": [
    "### `price`"
   ]
  },
  {
   "cell_type": "code",
   "execution_count": 61,
   "metadata": {},
   "outputs": [
    {
     "data": {
      "text/plain": [
       "0        5900\n",
       "500      4325\n",
       "1500     4289\n",
       "1200     3619\n",
       "2500     3580\n",
       "         ... \n",
       "15911       1\n",
       "6434        1\n",
       "6039        1\n",
       "3988        1\n",
       "8188        1\n",
       "Name: price, Length: 3556, dtype: int64"
      ]
     },
     "execution_count": 61,
     "metadata": {},
     "output_type": "execute_result"
    }
   ],
   "source": [
    "data['price'].value_counts()"
   ]
  },
  {
   "cell_type": "markdown",
   "metadata": {},
   "source": [
    "Существуют позиции где цена равно 0. С этими данными мы ничего сделать не можем, так что придется их удалить"
   ]
  },
  {
   "cell_type": "code",
   "execution_count": 62,
   "metadata": {},
   "outputs": [],
   "source": [
    "data = data.query('price > 0')"
   ]
  },
  {
   "cell_type": "code",
   "execution_count": 63,
   "metadata": {},
   "outputs": [
    {
     "data": {
      "text/plain": [
       "count    288029.000000\n",
       "mean       4869.738703\n",
       "std        4612.568184\n",
       "min           1.000000\n",
       "25%        1350.000000\n",
       "50%        3200.000000\n",
       "75%        6999.000000\n",
       "max       20000.000000\n",
       "Name: price, dtype: float64"
      ]
     },
     "execution_count": 63,
     "metadata": {},
     "output_type": "execute_result"
    }
   ],
   "source": [
    "data['price'].describe()"
   ]
  },
  {
   "cell_type": "code",
   "execution_count": 64,
   "metadata": {},
   "outputs": [
    {
     "data": {
      "image/png": "[encoded data removed]",
      "text/plain": [
       "<Figure size 1040x800 with 1 Axes>"
      ]
     },
     "metadata": {
      "needs_background": "light"
     },
     "output_type": "display_data"
    }
   ],
   "source": [
    "plt.figure(figsize=(13,10), dpi= 80)\n",
    "sns.distplot(data['price'], color=\"dodgerblue\",label=\"Цена за автомобиль\", bins=50, \n",
    "             hist_kws={'alpha':.7}, kde=False)\n",
    "plt.title('Цена за автомобиль', fontsize=22)\n",
    "plt.xlabel('Евро', fontsize=18)\n",
    "plt.ylabel('Количество машин', fontsize=18)\n",
    "plt.legend()\n",
    "plt.show()"
   ]
  },
  {
   "cell_type": "code",
   "execution_count": 65,
   "metadata": {},
   "outputs": [
    {
     "data": {
      "image/png": "[encoded data removed]",
      "text/plain": [
       "<Figure size 1040x800 with 1 Axes>"
      ]
     },
     "metadata": {
      "needs_background": "light"
     },
     "output_type": "display_data"
    }
   ],
   "source": [
    "plt.figure(figsize=(13,10), dpi= 80)\n",
    "sns.boxplot(data['price'])\n",
    "plt.title('Цена за автомобиль', fontsize=22)\n",
    "plt.xlabel('Евро', fontsize=18)\n",
    "plt.show()"
   ]
  },
  {
   "cell_type": "markdown",
   "metadata": {},
   "source": [
    "Не будем удалять выбросы более 15.000 евро, так как это не единичные случаи и максимальная цена в 20.000 евро достаточно не высокая"
   ]
  },
  {
   "cell_type": "markdown",
   "metadata": {},
   "source": [
    "### Проверка на дубликаты"
   ]
  },
  {
   "cell_type": "code",
   "execution_count": 66,
   "metadata": {},
   "outputs": [
    {
     "name": "stdout",
     "output_type": "stream",
     "text": [
      "<class 'pandas.core.frame.DataFrame'>\n",
      "Int64Index: 288029 entries, 1 to 354368\n",
      "Data columns (total 10 columns):\n",
      " #   Column             Non-Null Count   Dtype \n",
      "---  ------             --------------   ----- \n",
      " 0   price              288029 non-null  int64 \n",
      " 1   vehicle_type       288029 non-null  object\n",
      " 2   registration_year  288029 non-null  int64 \n",
      " 3   gearbox            288029 non-null  object\n",
      " 4   power              288029 non-null  int64 \n",
      " 5   model              288029 non-null  object\n",
      " 6   kilometer          288029 non-null  int64 \n",
      " 7   fuel_type          288029 non-null  object\n",
      " 8   brand              288029 non-null  object\n",
      " 9   not_repaired       288029 non-null  object\n",
      "dtypes: int64(4), object(6)\n",
      "memory usage: 24.2+ MB\n"
     ]
    }
   ],
   "source": [
    "data.info()"
   ]
  },
  {
   "cell_type": "code",
   "execution_count": 67,
   "metadata": {},
   "outputs": [
    {
     "data": {
      "text/plain": [
       "45757"
      ]
     },
     "execution_count": 67,
     "metadata": {},
     "output_type": "execute_result"
    }
   ],
   "source": [
    "data.duplicated().sum()"
   ]
  },
  {
   "cell_type": "code",
   "execution_count": 68,
   "metadata": {},
   "outputs": [],
   "source": [
    "data = data.drop_duplicates()"
   ]
  },
  {
   "cell_type": "code",
   "execution_count": 69,
   "metadata": {},
   "outputs": [
    {
     "data": {
      "text/plain": [
       "0"
      ]
     },
     "execution_count": 69,
     "metadata": {},
     "output_type": "execute_result"
    }
   ],
   "source": [
    "data.duplicated().sum()"
   ]
  },
  {
   "cell_type": "code",
   "execution_count": 70,
   "metadata": {
    "scrolled": true
   },
   "outputs": [
    {
     "data": {
      "text/plain": [
       "(242272, 10)"
      ]
     },
     "execution_count": 70,
     "metadata": {},
     "output_type": "execute_result"
    }
   ],
   "source": [
    "data.shape"
   ]
  },
  {
   "cell_type": "markdown",
   "metadata": {},
   "source": [
    "**Вывод**\n",
    "\n",
    "На данном этапе были изучены и обработанны предаставленные данные.\n",
    "- Выведены аномалии и пропущенные значения.\n",
    "- Удаленны столбцы, которые не нужны для дальнейшего построения моделей.\n",
    "- Исправленны некорректные данные.\n",
    "- Подробно изучены количественные переменные в данных и удалены выбросы.\n",
    "- Удаленно достаточно много данных для достижения максимально точных метрик в дальнейшем обучении моделей."
   ]
  },
  {
   "cell_type": "markdown",
   "metadata": {},
   "source": [
    "## Обучение моделей"
   ]
  },
  {
   "cell_type": "markdown",
   "metadata": {},
   "source": [
    "Создадим таблицу, в которую в последующем будем загружать наши данные с разных моделей обучения. А также напишем функцию для упрощения ввода данных в эту таблицу"
   ]
  },
  {
   "cell_type": "code",
   "execution_count": 71,
   "metadata": {},
   "outputs": [],
   "source": [
    "metrics_results = pd.DataFrame(columns=['RMSE_train','Learn_time_train', 'Predict_time_train'])"
   ]
  },
  {
   "cell_type": "code",
   "execution_count": 72,
   "metadata": {},
   "outputs": [
    {
     "data": {
      "text/html": [
       "<div>\n",
       "<style scoped>\n",
       "    .dataframe tbody tr th:only-of-type {\n",
       "        vertical-align: middle;\n",
       "    }\n",
       "\n",
       "    .dataframe tbody tr th {\n",
       "        vertical-align: top;\n",
       "    }\n",
       "\n",
       "    .dataframe thead th {\n",
       "        text-align: right;\n",
       "    }\n",
       "</style>\n",
       "<table border=\"1\" class=\"dataframe\">\n",
       "  <thead>\n",
       "    <tr style=\"text-align: right;\">\n",
       "      <th></th>\n",
       "      <th>RMSE_train</th>\n",
       "      <th>Learn_time_train</th>\n",
       "      <th>Predict_time_train</th>\n",
       "    </tr>\n",
       "  </thead>\n",
       "  <tbody>\n",
       "  </tbody>\n",
       "</table>\n",
       "</div>"
      ],
      "text/plain": [
       "Empty DataFrame\n",
       "Columns: [RMSE_train, Learn_time_train, Predict_time_train]\n",
       "Index: []"
      ]
     },
     "execution_count": 72,
     "metadata": {},
     "output_type": "execute_result"
    }
   ],
   "source": [
    "metrics_results"
   ]
  },
  {
   "cell_type": "code",
   "execution_count": 73,
   "metadata": {},
   "outputs": [],
   "source": [
    "def metrics(model_name, RMSE_train, Learn_time_train, Predict_time_train):\n",
    "    metrics_results.loc[model_name,'RMSE_train'] = RMSE_train\n",
    "    metrics_results.loc[model_name,'Learn_time_train'] = Learn_time_train\n",
    "    metrics_results.loc[model_name,'Predict_time_train'] = Predict_time_train\n",
    "\n",
    "    return metrics_results"
   ]
  },
  {
   "cell_type": "markdown",
   "metadata": {},
   "source": [
    "Подготовим наши данные и используем два метода кодирования:\n",
    "- Прямое кодирование;\n",
    "- Порядковое кодирование."
   ]
  },
  {
   "cell_type": "code",
   "execution_count": 74,
   "metadata": {},
   "outputs": [],
   "source": [
    "data_copy = data.copy()\n",
    "\n",
    "# OHE кодирование\n",
    "data_ohe = pd.get_dummies(data_copy)\n",
    "\n",
    "# порядковое кодирование\n",
    "encoder = OrdinalEncoder()\n",
    "data_ordinal = data_copy\n",
    "columns=['vehicle_type','model','fuel_type','brand','gearbox','not_repaired']\n",
    "data_encoder = pd.DataFrame(encoder.fit_transform(data_copy[columns]),\n",
    "                            columns=data_copy[columns].columns,\n",
    "                           index=data_copy[columns].index)\n",
    "for column in columns:\n",
    "    data_ordinal[column] = data_encoder[column]"
   ]
  },
  {
   "cell_type": "code",
   "execution_count": 75,
   "metadata": {
    "scrolled": true
   },
   "outputs": [
    {
     "data": {
      "text/html": [
       "<div>\n",
       "<style scoped>\n",
       "    .dataframe tbody tr th:only-of-type {\n",
       "        vertical-align: middle;\n",
       "    }\n",
       "\n",
       "    .dataframe tbody tr th {\n",
       "        vertical-align: top;\n",
       "    }\n",
       "\n",
       "    .dataframe thead th {\n",
       "        text-align: right;\n",
       "    }\n",
       "</style>\n",
       "<table border=\"1\" class=\"dataframe\">\n",
       "  <thead>\n",
       "    <tr style=\"text-align: right;\">\n",
       "      <th></th>\n",
       "      <th>price</th>\n",
       "      <th>registration_year</th>\n",
       "      <th>power</th>\n",
       "      <th>kilometer</th>\n",
       "      <th>vehicle_type_bus</th>\n",
       "      <th>vehicle_type_convertible</th>\n",
       "      <th>vehicle_type_coupe</th>\n",
       "      <th>vehicle_type_other</th>\n",
       "      <th>vehicle_type_sedan</th>\n",
       "      <th>vehicle_type_small</th>\n",
       "      <th>...</th>\n",
       "      <th>brand_smart</th>\n",
       "      <th>brand_sonstige_autos</th>\n",
       "      <th>brand_subaru</th>\n",
       "      <th>brand_suzuki</th>\n",
       "      <th>brand_toyota</th>\n",
       "      <th>brand_trabant</th>\n",
       "      <th>brand_volkswagen</th>\n",
       "      <th>brand_volvo</th>\n",
       "      <th>not_repaired_no</th>\n",
       "      <th>not_repaired_yes</th>\n",
       "    </tr>\n",
       "  </thead>\n",
       "  <tbody>\n",
       "    <tr>\n",
       "      <th>1</th>\n",
       "      <td>18300</td>\n",
       "      <td>2011</td>\n",
       "      <td>190</td>\n",
       "      <td>125000</td>\n",
       "      <td>0</td>\n",
       "      <td>0</td>\n",
       "      <td>1</td>\n",
       "      <td>0</td>\n",
       "      <td>0</td>\n",
       "      <td>0</td>\n",
       "      <td>...</td>\n",
       "      <td>0</td>\n",
       "      <td>0</td>\n",
       "      <td>0</td>\n",
       "      <td>0</td>\n",
       "      <td>0</td>\n",
       "      <td>0</td>\n",
       "      <td>0</td>\n",
       "      <td>0</td>\n",
       "      <td>0</td>\n",
       "      <td>1</td>\n",
       "    </tr>\n",
       "    <tr>\n",
       "      <th>2</th>\n",
       "      <td>9800</td>\n",
       "      <td>2004</td>\n",
       "      <td>163</td>\n",
       "      <td>125000</td>\n",
       "      <td>0</td>\n",
       "      <td>0</td>\n",
       "      <td>0</td>\n",
       "      <td>0</td>\n",
       "      <td>0</td>\n",
       "      <td>0</td>\n",
       "      <td>...</td>\n",
       "      <td>0</td>\n",
       "      <td>0</td>\n",
       "      <td>0</td>\n",
       "      <td>0</td>\n",
       "      <td>0</td>\n",
       "      <td>0</td>\n",
       "      <td>0</td>\n",
       "      <td>0</td>\n",
       "      <td>1</td>\n",
       "      <td>0</td>\n",
       "    </tr>\n",
       "    <tr>\n",
       "      <th>3</th>\n",
       "      <td>1500</td>\n",
       "      <td>2001</td>\n",
       "      <td>75</td>\n",
       "      <td>150000</td>\n",
       "      <td>0</td>\n",
       "      <td>0</td>\n",
       "      <td>0</td>\n",
       "      <td>0</td>\n",
       "      <td>0</td>\n",
       "      <td>1</td>\n",
       "      <td>...</td>\n",
       "      <td>0</td>\n",
       "      <td>0</td>\n",
       "      <td>0</td>\n",
       "      <td>0</td>\n",
       "      <td>0</td>\n",
       "      <td>0</td>\n",
       "      <td>1</td>\n",
       "      <td>0</td>\n",
       "      <td>1</td>\n",
       "      <td>0</td>\n",
       "    </tr>\n",
       "    <tr>\n",
       "      <th>4</th>\n",
       "      <td>3600</td>\n",
       "      <td>2008</td>\n",
       "      <td>69</td>\n",
       "      <td>90000</td>\n",
       "      <td>0</td>\n",
       "      <td>0</td>\n",
       "      <td>0</td>\n",
       "      <td>0</td>\n",
       "      <td>0</td>\n",
       "      <td>1</td>\n",
       "      <td>...</td>\n",
       "      <td>0</td>\n",
       "      <td>0</td>\n",
       "      <td>0</td>\n",
       "      <td>0</td>\n",
       "      <td>0</td>\n",
       "      <td>0</td>\n",
       "      <td>0</td>\n",
       "      <td>0</td>\n",
       "      <td>1</td>\n",
       "      <td>0</td>\n",
       "    </tr>\n",
       "    <tr>\n",
       "      <th>5</th>\n",
       "      <td>650</td>\n",
       "      <td>1995</td>\n",
       "      <td>102</td>\n",
       "      <td>150000</td>\n",
       "      <td>0</td>\n",
       "      <td>0</td>\n",
       "      <td>0</td>\n",
       "      <td>0</td>\n",
       "      <td>1</td>\n",
       "      <td>0</td>\n",
       "      <td>...</td>\n",
       "      <td>0</td>\n",
       "      <td>0</td>\n",
       "      <td>0</td>\n",
       "      <td>0</td>\n",
       "      <td>0</td>\n",
       "      <td>0</td>\n",
       "      <td>0</td>\n",
       "      <td>0</td>\n",
       "      <td>0</td>\n",
       "      <td>1</td>\n",
       "    </tr>\n",
       "  </tbody>\n",
       "</table>\n",
       "<p>5 rows × 310 columns</p>\n",
       "</div>"
      ],
      "text/plain": [
       "   price  registration_year  power  kilometer  vehicle_type_bus  \\\n",
       "1  18300               2011    190     125000                 0   \n",
       "2   9800               2004    163     125000                 0   \n",
       "3   1500               2001     75     150000                 0   \n",
       "4   3600               2008     69      90000                 0   \n",
       "5    650               1995    102     150000                 0   \n",
       "\n",
       "   vehicle_type_convertible  vehicle_type_coupe  vehicle_type_other  \\\n",
       "1                         0                   1                   0   \n",
       "2                         0                   0                   0   \n",
       "3                         0                   0                   0   \n",
       "4                         0                   0                   0   \n",
       "5                         0                   0                   0   \n",
       "\n",
       "   vehicle_type_sedan  vehicle_type_small  ...  brand_smart  \\\n",
       "1                   0                   0  ...            0   \n",
       "2                   0                   0  ...            0   \n",
       "3                   0                   1  ...            0   \n",
       "4                   0                   1  ...            0   \n",
       "5                   1                   0  ...            0   \n",
       "\n",
       "   brand_sonstige_autos  brand_subaru  brand_suzuki  brand_toyota  \\\n",
       "1                     0             0             0             0   \n",
       "2                     0             0             0             0   \n",
       "3                     0             0             0             0   \n",
       "4                     0             0             0             0   \n",
       "5                     0             0             0             0   \n",
       "\n",
       "   brand_trabant  brand_volkswagen  brand_volvo  not_repaired_no  \\\n",
       "1              0                 0            0                0   \n",
       "2              0                 0            0                1   \n",
       "3              0                 1            0                1   \n",
       "4              0                 0            0                1   \n",
       "5              0                 0            0                0   \n",
       "\n",
       "   not_repaired_yes  \n",
       "1                 1  \n",
       "2                 0  \n",
       "3                 0  \n",
       "4                 0  \n",
       "5                 1  \n",
       "\n",
       "[5 rows x 310 columns]"
      ]
     },
     "execution_count": 75,
     "metadata": {},
     "output_type": "execute_result"
    }
   ],
   "source": [
    "data_ohe.head()"
   ]
  },
  {
   "cell_type": "code",
   "execution_count": 76,
   "metadata": {
    "scrolled": true
   },
   "outputs": [
    {
     "data": {
      "text/html": [
       "<div>\n",
       "<style scoped>\n",
       "    .dataframe tbody tr th:only-of-type {\n",
       "        vertical-align: middle;\n",
       "    }\n",
       "\n",
       "    .dataframe tbody tr th {\n",
       "        vertical-align: top;\n",
       "    }\n",
       "\n",
       "    .dataframe thead th {\n",
       "        text-align: right;\n",
       "    }\n",
       "</style>\n",
       "<table border=\"1\" class=\"dataframe\">\n",
       "  <thead>\n",
       "    <tr style=\"text-align: right;\">\n",
       "      <th></th>\n",
       "      <th>price</th>\n",
       "      <th>vehicle_type</th>\n",
       "      <th>registration_year</th>\n",
       "      <th>gearbox</th>\n",
       "      <th>power</th>\n",
       "      <th>model</th>\n",
       "      <th>kilometer</th>\n",
       "      <th>fuel_type</th>\n",
       "      <th>brand</th>\n",
       "      <th>not_repaired</th>\n",
       "    </tr>\n",
       "  </thead>\n",
       "  <tbody>\n",
       "    <tr>\n",
       "      <th>1</th>\n",
       "      <td>18300</td>\n",
       "      <td>2.0</td>\n",
       "      <td>2011</td>\n",
       "      <td>1.0</td>\n",
       "      <td>190</td>\n",
       "      <td>166.0</td>\n",
       "      <td>125000</td>\n",
       "      <td>5.0</td>\n",
       "      <td>1.0</td>\n",
       "      <td>1.0</td>\n",
       "    </tr>\n",
       "    <tr>\n",
       "      <th>2</th>\n",
       "      <td>9800</td>\n",
       "      <td>6.0</td>\n",
       "      <td>2004</td>\n",
       "      <td>0.0</td>\n",
       "      <td>163</td>\n",
       "      <td>117.0</td>\n",
       "      <td>125000</td>\n",
       "      <td>5.0</td>\n",
       "      <td>14.0</td>\n",
       "      <td>0.0</td>\n",
       "    </tr>\n",
       "    <tr>\n",
       "      <th>3</th>\n",
       "      <td>1500</td>\n",
       "      <td>5.0</td>\n",
       "      <td>2001</td>\n",
       "      <td>1.0</td>\n",
       "      <td>75</td>\n",
       "      <td>116.0</td>\n",
       "      <td>150000</td>\n",
       "      <td>5.0</td>\n",
       "      <td>38.0</td>\n",
       "      <td>0.0</td>\n",
       "    </tr>\n",
       "    <tr>\n",
       "      <th>4</th>\n",
       "      <td>3600</td>\n",
       "      <td>5.0</td>\n",
       "      <td>2008</td>\n",
       "      <td>1.0</td>\n",
       "      <td>69</td>\n",
       "      <td>101.0</td>\n",
       "      <td>90000</td>\n",
       "      <td>5.0</td>\n",
       "      <td>31.0</td>\n",
       "      <td>0.0</td>\n",
       "    </tr>\n",
       "    <tr>\n",
       "      <th>5</th>\n",
       "      <td>650</td>\n",
       "      <td>4.0</td>\n",
       "      <td>1995</td>\n",
       "      <td>1.0</td>\n",
       "      <td>102</td>\n",
       "      <td>11.0</td>\n",
       "      <td>150000</td>\n",
       "      <td>5.0</td>\n",
       "      <td>2.0</td>\n",
       "      <td>1.0</td>\n",
       "    </tr>\n",
       "  </tbody>\n",
       "</table>\n",
       "</div>"
      ],
      "text/plain": [
       "   price  vehicle_type  registration_year  gearbox  power  model  kilometer  \\\n",
       "1  18300           2.0               2011      1.0    190  166.0     125000   \n",
       "2   9800           6.0               2004      0.0    163  117.0     125000   \n",
       "3   1500           5.0               2001      1.0     75  116.0     150000   \n",
       "4   3600           5.0               2008      1.0     69  101.0      90000   \n",
       "5    650           4.0               1995      1.0    102   11.0     150000   \n",
       "\n",
       "   fuel_type  brand  not_repaired  \n",
       "1        5.0    1.0           1.0  \n",
       "2        5.0   14.0           0.0  \n",
       "3        5.0   38.0           0.0  \n",
       "4        5.0   31.0           0.0  \n",
       "5        5.0    2.0           1.0  "
      ]
     },
     "execution_count": 76,
     "metadata": {},
     "output_type": "execute_result"
    }
   ],
   "source": [
    "data_ordinal.head()"
   ]
  },
  {
   "cell_type": "markdown",
   "metadata": {},
   "source": [
    "Разделим наши данные на выборки, а также проведен масштабирование для прямого кодирования"
   ]
  },
  {
   "cell_type": "code",
   "execution_count": 77,
   "metadata": {},
   "outputs": [],
   "source": [
    "# разделение на выборке при OHE кодироваоние\n",
    "features_ohe = data_ohe.drop(['price'], axis=1)\n",
    "target_ohe = data_ohe['price']\n",
    "\n",
    "features_ohe_train, features_ohe_test, target_ohe_train, target_ohe_test = train_test_split(features_ohe,\n",
    "                                                                                            target_ohe, test_size=0.25, random_state=12345)\n",
    "\n",
    "\n",
    "# разделение на выборки при Порядковом кодирование\n",
    "features_ordinal = data_ordinal.drop(['price'], axis=1)\n",
    "target_ordinal = data_ordinal['price']\n",
    "\n",
    "features_ordinal_train, features_ordinal_test, target_ordinal_train, target_ordinal_test = train_test_split(features_ordinal,\n",
    "                                                                                            target_ordinal, test_size=0.25, random_state=12345)"
   ]
  },
  {
   "cell_type": "code",
   "execution_count": 78,
   "metadata": {},
   "outputs": [
    {
     "data": {
      "text/plain": [
       "(181704, 9)"
      ]
     },
     "execution_count": 78,
     "metadata": {},
     "output_type": "execute_result"
    }
   ],
   "source": [
    "features_ordinal_train.shape"
   ]
  },
  {
   "cell_type": "markdown",
   "metadata": {},
   "source": [
    "### Линейная регрессия"
   ]
  },
  {
   "cell_type": "code",
   "execution_count": 79,
   "metadata": {
    "scrolled": true
   },
   "outputs": [
    {
     "name": "stdout",
     "output_type": "stream",
     "text": [
      "Метрика RMSE Линейной регресии с использованием Прямого кодирования: 2520.2325572021205\n"
     ]
    }
   ],
   "source": [
    "model_LR = LinearRegression()\n",
    "cv_model_LR = (cross_val_score(model_LR,\n",
    "                               features_ohe_train,\n",
    "                               target_ohe_train, \n",
    "                               cv=5, \n",
    "                               scoring='neg_mean_squared_error').mean() * -1) ** 0.5\n",
    "\n",
    "print(\"Метрика RMSE Линейной регресии с использованием Прямого кодирования:\", cv_model_LR)"
   ]
  },
  {
   "cell_type": "code",
   "execution_count": 80,
   "metadata": {},
   "outputs": [],
   "source": [
    "start_time = time.time()\n",
    "model_LR.fit(features_ohe_train, target_ohe_train)\n",
    "time_learn_lr= round(time.time() - start_time,2)"
   ]
  },
  {
   "cell_type": "code",
   "execution_count": 81,
   "metadata": {},
   "outputs": [],
   "source": [
    "start_time = time.time()\n",
    "prediction_lr =  model_LR.predict(features_ohe_train)\n",
    "time_predict_lr= round(time.time() - start_time,2)"
   ]
  },
  {
   "cell_type": "code",
   "execution_count": 82,
   "metadata": {},
   "outputs": [
    {
     "data": {
      "text/html": [
       "<div>\n",
       "<style scoped>\n",
       "    .dataframe tbody tr th:only-of-type {\n",
       "        vertical-align: middle;\n",
       "    }\n",
       "\n",
       "    .dataframe tbody tr th {\n",
       "        vertical-align: top;\n",
       "    }\n",
       "\n",
       "    .dataframe thead th {\n",
       "        text-align: right;\n",
       "    }\n",
       "</style>\n",
       "<table border=\"1\" class=\"dataframe\">\n",
       "  <thead>\n",
       "    <tr style=\"text-align: right;\">\n",
       "      <th></th>\n",
       "      <th>RMSE_train</th>\n",
       "      <th>Learn_time_train</th>\n",
       "      <th>Predict_time_train</th>\n",
       "    </tr>\n",
       "  </thead>\n",
       "  <tbody>\n",
       "    <tr>\n",
       "      <th>LinearRegression</th>\n",
       "      <td>2520.232557</td>\n",
       "      <td>21.21</td>\n",
       "      <td>0.59</td>\n",
       "    </tr>\n",
       "  </tbody>\n",
       "</table>\n",
       "</div>"
      ],
      "text/plain": [
       "                   RMSE_train Learn_time_train Predict_time_train\n",
       "LinearRegression  2520.232557            21.21               0.59"
      ]
     },
     "execution_count": 82,
     "metadata": {},
     "output_type": "execute_result"
    }
   ],
   "source": [
    "metrics('LinearRegression', cv_model_LR, time_learn_lr, time_predict_lr)"
   ]
  },
  {
   "cell_type": "markdown",
   "metadata": {},
   "source": [
    "### Дерево решений"
   ]
  },
  {
   "cell_type": "code",
   "execution_count": 83,
   "metadata": {},
   "outputs": [
    {
     "name": "stdout",
     "output_type": "stream",
     "text": [
      "Показатель RMSE: 1901.970243845917 при глубине: {'max_depth': 13}\n"
     ]
    }
   ],
   "source": [
    "parametrs_dr = {'max_depth': range(2, 30)}\n",
    "model_dr = DecisionTreeRegressor(random_state=12345)\n",
    "\n",
    "grid_dr = GridSearchCV(model_dr,\n",
    "                      parametrs_dr,\n",
    "                      cv=5,\n",
    "                      scoring='neg_mean_squared_error')\n",
    "grid_dr.fit(features_ordinal_train, target_ordinal_train)\n",
    "RMSE_dr_train = (-grid_dr.best_score_) ** 0.5\n",
    "print('Показатель RMSE:', RMSE_dr_train, 'при глубине:', grid_dr.best_params_)"
   ]
  },
  {
   "cell_type": "code",
   "execution_count": 84,
   "metadata": {},
   "outputs": [],
   "source": [
    "start_time = time.time()\n",
    "grid_dr.best_estimator_.fit(features_ordinal_train, target_ordinal_train)\n",
    "time_learn_dr= round(time.time() - start_time,2)"
   ]
  },
  {
   "cell_type": "code",
   "execution_count": 85,
   "metadata": {},
   "outputs": [],
   "source": [
    "start_time = time.time()\n",
    "prediction_dr=grid_dr.best_estimator_.predict(features_ordinal_train)\n",
    "time_predict_dr= round(time.time() - start_time,2)"
   ]
  },
  {
   "cell_type": "code",
   "execution_count": 86,
   "metadata": {},
   "outputs": [
    {
     "data": {
      "text/html": [
       "<div>\n",
       "<style scoped>\n",
       "    .dataframe tbody tr th:only-of-type {\n",
       "        vertical-align: middle;\n",
       "    }\n",
       "\n",
       "    .dataframe tbody tr th {\n",
       "        vertical-align: top;\n",
       "    }\n",
       "\n",
       "    .dataframe thead th {\n",
       "        text-align: right;\n",
       "    }\n",
       "</style>\n",
       "<table border=\"1\" class=\"dataframe\">\n",
       "  <thead>\n",
       "    <tr style=\"text-align: right;\">\n",
       "      <th></th>\n",
       "      <th>RMSE_train</th>\n",
       "      <th>Learn_time_train</th>\n",
       "      <th>Predict_time_train</th>\n",
       "    </tr>\n",
       "  </thead>\n",
       "  <tbody>\n",
       "    <tr>\n",
       "      <th>LinearRegression</th>\n",
       "      <td>2520.232557</td>\n",
       "      <td>21.21</td>\n",
       "      <td>0.59</td>\n",
       "    </tr>\n",
       "    <tr>\n",
       "      <th>DecisionTreeRegressor</th>\n",
       "      <td>1901.970244</td>\n",
       "      <td>0.42</td>\n",
       "      <td>0.03</td>\n",
       "    </tr>\n",
       "  </tbody>\n",
       "</table>\n",
       "</div>"
      ],
      "text/plain": [
       "                        RMSE_train Learn_time_train Predict_time_train\n",
       "LinearRegression       2520.232557            21.21               0.59\n",
       "DecisionTreeRegressor  1901.970244             0.42               0.03"
      ]
     },
     "execution_count": 86,
     "metadata": {},
     "output_type": "execute_result"
    }
   ],
   "source": [
    "metrics('DecisionTreeRegressor', RMSE_dr_train, time_learn_dr, time_predict_dr)"
   ]
  },
  {
   "cell_type": "markdown",
   "metadata": {},
   "source": [
    "### Случайный лес"
   ]
  },
  {
   "cell_type": "code",
   "execution_count": 87,
   "metadata": {},
   "outputs": [
    {
     "name": "stdout",
     "output_type": "stream",
     "text": [
      "Показатель RMSE: 1694.3115611214923 при количестве деревьев: {'n_estimators': 35}\n"
     ]
    }
   ],
   "source": [
    "parametrs_rf = {'n_estimators': range(0, 40, 5)}\n",
    "model_rf = RandomForestRegressor(random_state=12345)\n",
    "\n",
    "grid_rf = GridSearchCV(model_rf,\n",
    "                      parametrs_rf,\n",
    "                      cv=5,\n",
    "                      scoring='neg_mean_squared_error')\n",
    "grid_rf.fit(features_ordinal_train, target_ordinal_train)\n",
    "RMSE_rf_train = (-grid_rf.best_score_) ** 0.5\n",
    "print('Показатель RMSE:', RMSE_rf_train, 'при количестве деревьев:', grid_rf.best_params_)"
   ]
  },
  {
   "cell_type": "code",
   "execution_count": 88,
   "metadata": {},
   "outputs": [],
   "source": [
    "start_time = time.time()\n",
    "grid_rf.best_estimator_.fit(features_ordinal_train, target_ordinal_train)\n",
    "time_learn_rf= round(time.time() - start_time,2)"
   ]
  },
  {
   "cell_type": "code",
   "execution_count": 89,
   "metadata": {},
   "outputs": [],
   "source": [
    "start_time = time.time()\n",
    "prediction_rf=grid_rf.best_estimator_.predict(features_ordinal_train)\n",
    "time_prediction_rf= round(time.time() - start_time,2)"
   ]
  },
  {
   "cell_type": "code",
   "execution_count": 91,
   "metadata": {},
   "outputs": [
    {
     "data": {
      "text/html": [
       "<div>\n",
       "<style scoped>\n",
       "    .dataframe tbody tr th:only-of-type {\n",
       "        vertical-align: middle;\n",
       "    }\n",
       "\n",
       "    .dataframe tbody tr th {\n",
       "        vertical-align: top;\n",
       "    }\n",
       "\n",
       "    .dataframe thead th {\n",
       "        text-align: right;\n",
       "    }\n",
       "</style>\n",
       "<table border=\"1\" class=\"dataframe\">\n",
       "  <thead>\n",
       "    <tr style=\"text-align: right;\">\n",
       "      <th></th>\n",
       "      <th>RMSE_train</th>\n",
       "      <th>Learn_time_train</th>\n",
       "      <th>Predict_time_train</th>\n",
       "    </tr>\n",
       "  </thead>\n",
       "  <tbody>\n",
       "    <tr>\n",
       "      <th>LinearRegression</th>\n",
       "      <td>2520.232557</td>\n",
       "      <td>21.21</td>\n",
       "      <td>0.59</td>\n",
       "    </tr>\n",
       "    <tr>\n",
       "      <th>DecisionTreeRegressor</th>\n",
       "      <td>1901.970244</td>\n",
       "      <td>0.42</td>\n",
       "      <td>0.03</td>\n",
       "    </tr>\n",
       "    <tr>\n",
       "      <th>RandomForestRegressor</th>\n",
       "      <td>1694.311561</td>\n",
       "      <td>14.59</td>\n",
       "      <td>2.78</td>\n",
       "    </tr>\n",
       "  </tbody>\n",
       "</table>\n",
       "</div>"
      ],
      "text/plain": [
       "                        RMSE_train Learn_time_train Predict_time_train\n",
       "LinearRegression       2520.232557            21.21               0.59\n",
       "DecisionTreeRegressor  1901.970244             0.42               0.03\n",
       "RandomForestRegressor  1694.311561            14.59               2.78"
      ]
     },
     "execution_count": 91,
     "metadata": {},
     "output_type": "execute_result"
    }
   ],
   "source": [
    "metrics('RandomForestRegressor', RMSE_rf_train, time_learn_rf, time_prediction_rf)"
   ]
  },
  {
   "cell_type": "markdown",
   "metadata": {},
   "source": [
    "### Light Gradient Boosted Machine (LightGBM)"
   ]
  },
  {
   "cell_type": "code",
   "execution_count": 115,
   "metadata": {},
   "outputs": [
    {
     "name": "stdout",
     "output_type": "stream",
     "text": [
      "Показатель RMSE: 1846.2548374288567 при параметрах: {'learning_rate': 0.4, 'max_depth': 10, 'n_estimators': 10}\n"
     ]
    }
   ],
   "source": [
    "parametrs_lgbm = {'max_depth': [5,10],\n",
    "                  \"n_estimators\": range (5, 15, 5),\n",
    "                 'learning_rate': [0.1,0.4]}\n",
    "\n",
    "model_lgbm = LGBMRegressor(random_state=12345)\n",
    "\n",
    "grid_lgbm = GridSearchCV(model_lgbm,\n",
    "                      parametrs_lgbm,\n",
    "                      cv=5,\n",
    "                      scoring='neg_mean_squared_error')\n",
    "grid_lgbm.fit(features_ordinal_train, target_ordinal_train)\n",
    "RMSE_lgbm_train = (-grid_lgbm.best_score_) ** 0.5\n",
    "print('Показатель RMSE:', RMSE_lgbm_train, 'при параметрах:', grid_lgbm.best_params_)"
   ]
  },
  {
   "cell_type": "code",
   "execution_count": 116,
   "metadata": {},
   "outputs": [],
   "source": [
    "start_time = time.time()\n",
    "grid_lgbm.best_estimator_.fit(features_ordinal_train, target_ordinal_train)\n",
    "time_learn_lgbm= round(time.time() - start_time,2)"
   ]
  },
  {
   "cell_type": "code",
   "execution_count": 117,
   "metadata": {},
   "outputs": [],
   "source": [
    "start_time = time.time()\n",
    "prediction_lgbm=grid_lgbm.best_estimator_.predict(features_ordinal_train)\n",
    "time_prediction_lgbm= round(time.time() - start_time,2)"
   ]
  },
  {
   "cell_type": "code",
   "execution_count": 118,
   "metadata": {},
   "outputs": [
    {
     "data": {
      "text/html": [
       "<div>\n",
       "<style scoped>\n",
       "    .dataframe tbody tr th:only-of-type {\n",
       "        vertical-align: middle;\n",
       "    }\n",
       "\n",
       "    .dataframe tbody tr th {\n",
       "        vertical-align: top;\n",
       "    }\n",
       "\n",
       "    .dataframe thead th {\n",
       "        text-align: right;\n",
       "    }\n",
       "</style>\n",
       "<table border=\"1\" class=\"dataframe\">\n",
       "  <thead>\n",
       "    <tr style=\"text-align: right;\">\n",
       "      <th></th>\n",
       "      <th>RMSE_train</th>\n",
       "      <th>Learn_time_train</th>\n",
       "      <th>Predict_time_train</th>\n",
       "    </tr>\n",
       "  </thead>\n",
       "  <tbody>\n",
       "    <tr>\n",
       "      <th>LinearRegression</th>\n",
       "      <td>2520.232557</td>\n",
       "      <td>21.21</td>\n",
       "      <td>0.59</td>\n",
       "    </tr>\n",
       "    <tr>\n",
       "      <th>DecisionTreeRegressor</th>\n",
       "      <td>1901.970244</td>\n",
       "      <td>0.42</td>\n",
       "      <td>0.03</td>\n",
       "    </tr>\n",
       "    <tr>\n",
       "      <th>RandomForestRegressor</th>\n",
       "      <td>1694.311561</td>\n",
       "      <td>14.59</td>\n",
       "      <td>2.78</td>\n",
       "    </tr>\n",
       "    <tr>\n",
       "      <th>LGBMRegressor</th>\n",
       "      <td>1846.254837</td>\n",
       "      <td>20.21</td>\n",
       "      <td>0.2</td>\n",
       "    </tr>\n",
       "  </tbody>\n",
       "</table>\n",
       "</div>"
      ],
      "text/plain": [
       "                        RMSE_train Learn_time_train Predict_time_train\n",
       "LinearRegression       2520.232557            21.21               0.59\n",
       "DecisionTreeRegressor  1901.970244             0.42               0.03\n",
       "RandomForestRegressor  1694.311561            14.59               2.78\n",
       "LGBMRegressor          1846.254837            20.21                0.2"
      ]
     },
     "execution_count": 118,
     "metadata": {},
     "output_type": "execute_result"
    }
   ],
   "source": [
    "metrics('LGBMRegressor', RMSE_lgbm_train, time_learn_lgbm, time_prediction_lgbm)"
   ]
  },
  {
   "cell_type": "markdown",
   "metadata": {},
   "source": [
    "### CatBoost Regressor"
   ]
  },
  {
   "cell_type": "code",
   "execution_count": 119,
   "metadata": {
    "scrolled": true
   },
   "outputs": [
    {
     "name": "stdout",
     "output_type": "stream",
     "text": [
      "0:\tlearn: 4371.7371133\ttotal: 96.5ms\tremaining: 3.76s\n",
      "39:\tlearn: 1977.9691019\ttotal: 1.01s\tremaining: 0us\n",
      "0:\tlearn: 4377.1406960\ttotal: 19.9ms\tremaining: 775ms\n",
      "39:\tlearn: 1992.5658711\ttotal: 873ms\tremaining: 0us\n",
      "0:\tlearn: 4376.7432126\ttotal: 20.7ms\tremaining: 806ms\n",
      "39:\tlearn: 1994.5062317\ttotal: 865ms\tremaining: 0us\n",
      "0:\tlearn: 4370.6451926\ttotal: 21.2ms\tremaining: 826ms\n",
      "39:\tlearn: 1984.4775941\ttotal: 853ms\tremaining: 0us\n",
      "0:\tlearn: 4367.3126538\ttotal: 21.3ms\tremaining: 830ms\n",
      "39:\tlearn: 1972.6044782\ttotal: 825ms\tremaining: 0us\n",
      "0:\tlearn: 4371.7371133\ttotal: 19.9ms\tremaining: 1.57s\n",
      "79:\tlearn: 1838.9414784\ttotal: 1.59s\tremaining: 0us\n",
      "0:\tlearn: 4377.1406960\ttotal: 22ms\tremaining: 1.74s\n",
      "79:\tlearn: 1846.2929389\ttotal: 1.63s\tremaining: 0us\n",
      "0:\tlearn: 4376.7432126\ttotal: 18.5ms\tremaining: 1.46s\n",
      "79:\tlearn: 1839.6844562\ttotal: 1.67s\tremaining: 0us\n",
      "0:\tlearn: 4370.6451926\ttotal: 20.4ms\tremaining: 1.61s\n",
      "79:\tlearn: 1836.0275302\ttotal: 1.69s\tremaining: 0us\n",
      "0:\tlearn: 4367.3126538\ttotal: 21.5ms\tremaining: 1.7s\n",
      "79:\tlearn: 1829.6515199\ttotal: 1.95s\tremaining: 0us\n",
      "0:\tlearn: 3290.8571007\ttotal: 22.8ms\tremaining: 891ms\n",
      "39:\tlearn: 1735.7250654\ttotal: 940ms\tremaining: 0us\n",
      "0:\tlearn: 3292.0904763\ttotal: 20.4ms\tremaining: 797ms\n",
      "39:\tlearn: 1738.8326635\ttotal: 856ms\tremaining: 0us\n",
      "0:\tlearn: 3291.3581717\ttotal: 19.4ms\tremaining: 755ms\n",
      "39:\tlearn: 1736.2872690\ttotal: 839ms\tremaining: 0us\n",
      "0:\tlearn: 3267.2406025\ttotal: 20.5ms\tremaining: 799ms\n",
      "39:\tlearn: 1734.7017809\ttotal: 853ms\tremaining: 0us\n",
      "0:\tlearn: 3265.1482583\ttotal: 21.6ms\tremaining: 843ms\n",
      "39:\tlearn: 1728.9241561\ttotal: 828ms\tremaining: 0us\n",
      "0:\tlearn: 3290.8571007\ttotal: 19.7ms\tremaining: 1.56s\n",
      "79:\tlearn: 1654.5742837\ttotal: 1.66s\tremaining: 0us\n",
      "0:\tlearn: 3292.0904763\ttotal: 24.6ms\tremaining: 1.94s\n",
      "79:\tlearn: 1658.7816573\ttotal: 1.74s\tremaining: 0us\n",
      "0:\tlearn: 3291.3581717\ttotal: 20.4ms\tremaining: 1.61s\n",
      "79:\tlearn: 1654.5453730\ttotal: 1.67s\tremaining: 0us\n",
      "0:\tlearn: 3267.2406025\ttotal: 20.7ms\tremaining: 1.64s\n",
      "79:\tlearn: 1649.5452629\ttotal: 1.61s\tremaining: 0us\n",
      "0:\tlearn: 3265.1482583\ttotal: 18.4ms\tremaining: 1.46s\n",
      "79:\tlearn: 1643.3333000\ttotal: 1.52s\tremaining: 0us\n",
      "0:\tlearn: 2778.4294838\ttotal: 18.5ms\tremaining: 721ms\n",
      "39:\tlearn: 1717.1585698\ttotal: 843ms\tremaining: 0us\n",
      "0:\tlearn: 2777.2733357\ttotal: 17.9ms\tremaining: 699ms\n",
      "39:\tlearn: 1715.1681199\ttotal: 796ms\tremaining: 0us\n",
      "0:\tlearn: 2776.2984182\ttotal: 19.9ms\tremaining: 775ms\n",
      "39:\tlearn: 1708.9326712\ttotal: 792ms\tremaining: 0us\n",
      "0:\tlearn: 2740.7456757\ttotal: 20ms\tremaining: 778ms\n",
      "39:\tlearn: 1709.2522167\ttotal: 787ms\tremaining: 0us\n",
      "0:\tlearn: 2739.3105917\ttotal: 20.2ms\tremaining: 790ms\n",
      "39:\tlearn: 1704.0437047\ttotal: 783ms\tremaining: 0us\n",
      "0:\tlearn: 2778.4294838\ttotal: 21.4ms\tremaining: 1.69s\n",
      "79:\tlearn: 1627.3974417\ttotal: 1.65s\tremaining: 0us\n",
      "0:\tlearn: 2777.2733357\ttotal: 20.4ms\tremaining: 1.61s\n",
      "79:\tlearn: 1625.2299107\ttotal: 1.7s\tremaining: 0us\n",
      "0:\tlearn: 2776.2984182\ttotal: 20.4ms\tremaining: 1.61s\n",
      "79:\tlearn: 1623.4243231\ttotal: 1.63s\tremaining: 0us\n",
      "0:\tlearn: 2740.7456757\ttotal: 19ms\tremaining: 1.5s\n",
      "79:\tlearn: 1621.1142654\ttotal: 1.57s\tremaining: 0us\n",
      "0:\tlearn: 2739.3105917\ttotal: 27.2ms\tremaining: 2.15s\n",
      "79:\tlearn: 1621.5794367\ttotal: 1.54s\tremaining: 0us\n",
      "0:\tlearn: 2757.4015349\ttotal: 26.3ms\tremaining: 2.08s\n",
      "79:\tlearn: 1626.2482111\ttotal: 2.09s\tremaining: 0us\n",
      "Показатель RMSE: 1688.273283594044 при параметрах: {'learning_rate': 0.8, 'n_estimators': 80, 'verbose': 250}\n"
     ]
    }
   ],
   "source": [
    "parametrs_cb = [{'learning_rate':[0.1, 0.5, 0.8],\n",
    "                'verbose' : [250],\n",
    "                'n_estimators' : [40, 80]}]\n",
    "\n",
    "model_cb = CatBoostRegressor(random_state=12345)\n",
    "\n",
    "grid_cb = GridSearchCV(model_cb,\n",
    "                      parametrs_cb,\n",
    "                      cv=5,\n",
    "                      scoring='neg_mean_squared_error')\n",
    "grid_cb.fit(features_ordinal_train, target_ordinal_train)\n",
    "RMSE_cb_train = (-grid_cb.best_score_) ** 0.5\n",
    "print('Показатель RMSE:', RMSE_cb_train, 'при параметрах:', grid_cb.best_params_)"
   ]
  },
  {
   "cell_type": "code",
   "execution_count": 120,
   "metadata": {},
   "outputs": [
    {
     "name": "stdout",
     "output_type": "stream",
     "text": [
      "0:\tlearn: 2757.4015349\ttotal: 30.7ms\tremaining: 2.42s\n",
      "79:\tlearn: 1626.2482111\ttotal: 2.17s\tremaining: 0us\n"
     ]
    }
   ],
   "source": [
    "start_time = time.time()\n",
    "grid_cb.best_estimator_.fit(features_ordinal_train, target_ordinal_train)\n",
    "time_learn_cb= round(time.time() - start_time,2)"
   ]
  },
  {
   "cell_type": "code",
   "execution_count": 121,
   "metadata": {},
   "outputs": [],
   "source": [
    "start_time = time.time()\n",
    "prediction_cb=grid_cb.best_estimator_.predict(features_ordinal_train)\n",
    "time_prediction_cb= round(time.time() - start_time,2)"
   ]
  },
  {
   "cell_type": "code",
   "execution_count": 122,
   "metadata": {},
   "outputs": [
    {
     "data": {
      "text/html": [
       "<div>\n",
       "<style scoped>\n",
       "    .dataframe tbody tr th:only-of-type {\n",
       "        vertical-align: middle;\n",
       "    }\n",
       "\n",
       "    .dataframe tbody tr th {\n",
       "        vertical-align: top;\n",
       "    }\n",
       "\n",
       "    .dataframe thead th {\n",
       "        text-align: right;\n",
       "    }\n",
       "</style>\n",
       "<table border=\"1\" class=\"dataframe\">\n",
       "  <thead>\n",
       "    <tr style=\"text-align: right;\">\n",
       "      <th></th>\n",
       "      <th>RMSE_train</th>\n",
       "      <th>Learn_time_train</th>\n",
       "      <th>Predict_time_train</th>\n",
       "    </tr>\n",
       "  </thead>\n",
       "  <tbody>\n",
       "    <tr>\n",
       "      <th>LinearRegression</th>\n",
       "      <td>2520.232557</td>\n",
       "      <td>21.21</td>\n",
       "      <td>0.59</td>\n",
       "    </tr>\n",
       "    <tr>\n",
       "      <th>DecisionTreeRegressor</th>\n",
       "      <td>1901.970244</td>\n",
       "      <td>0.42</td>\n",
       "      <td>0.03</td>\n",
       "    </tr>\n",
       "    <tr>\n",
       "      <th>RandomForestRegressor</th>\n",
       "      <td>1694.311561</td>\n",
       "      <td>14.59</td>\n",
       "      <td>2.78</td>\n",
       "    </tr>\n",
       "    <tr>\n",
       "      <th>LGBMRegressor</th>\n",
       "      <td>1846.254837</td>\n",
       "      <td>20.21</td>\n",
       "      <td>0.2</td>\n",
       "    </tr>\n",
       "    <tr>\n",
       "      <th>CatBoostRegressor</th>\n",
       "      <td>1688.273284</td>\n",
       "      <td>2.9</td>\n",
       "      <td>0.04</td>\n",
       "    </tr>\n",
       "  </tbody>\n",
       "</table>\n",
       "</div>"
      ],
      "text/plain": [
       "                        RMSE_train Learn_time_train Predict_time_train\n",
       "LinearRegression       2520.232557            21.21               0.59\n",
       "DecisionTreeRegressor  1901.970244             0.42               0.03\n",
       "RandomForestRegressor  1694.311561            14.59               2.78\n",
       "LGBMRegressor          1846.254837            20.21                0.2\n",
       "CatBoostRegressor      1688.273284              2.9               0.04"
      ]
     },
     "execution_count": 122,
     "metadata": {},
     "output_type": "execute_result"
    }
   ],
   "source": [
    "metrics('CatBoostRegressor', RMSE_cb_train, time_learn_cb, time_prediction_cb)"
   ]
  },
  {
   "cell_type": "markdown",
   "metadata": {},
   "source": [
    "Были построенны 5 моделей машинного обучения. Изучены метрики RMSE и время на предсказание моделей и сведены в общую таблицу"
   ]
  },
  {
   "cell_type": "markdown",
   "metadata": {},
   "source": [
    "## Анализ моделей"
   ]
  },
  {
   "cell_type": "markdown",
   "metadata": {},
   "source": [
    "Посмотрим на все полученные данные"
   ]
  },
  {
   "cell_type": "code",
   "execution_count": 123,
   "metadata": {
    "scrolled": false
   },
   "outputs": [],
   "source": [
    "metrics_results['Model'] = metrics_results.index"
   ]
  },
  {
   "cell_type": "code",
   "execution_count": 124,
   "metadata": {},
   "outputs": [
    {
     "data": {
      "text/html": [
       "<div>\n",
       "<style scoped>\n",
       "    .dataframe tbody tr th:only-of-type {\n",
       "        vertical-align: middle;\n",
       "    }\n",
       "\n",
       "    .dataframe tbody tr th {\n",
       "        vertical-align: top;\n",
       "    }\n",
       "\n",
       "    .dataframe thead th {\n",
       "        text-align: right;\n",
       "    }\n",
       "</style>\n",
       "<table border=\"1\" class=\"dataframe\">\n",
       "  <thead>\n",
       "    <tr style=\"text-align: right;\">\n",
       "      <th></th>\n",
       "      <th>RMSE_train</th>\n",
       "      <th>Learn_time_train</th>\n",
       "      <th>Predict_time_train</th>\n",
       "      <th>Model</th>\n",
       "    </tr>\n",
       "  </thead>\n",
       "  <tbody>\n",
       "    <tr>\n",
       "      <th>LinearRegression</th>\n",
       "      <td>2520.232557</td>\n",
       "      <td>21.21</td>\n",
       "      <td>0.59</td>\n",
       "      <td>LinearRegression</td>\n",
       "    </tr>\n",
       "    <tr>\n",
       "      <th>DecisionTreeRegressor</th>\n",
       "      <td>1901.970244</td>\n",
       "      <td>0.42</td>\n",
       "      <td>0.03</td>\n",
       "      <td>DecisionTreeRegressor</td>\n",
       "    </tr>\n",
       "    <tr>\n",
       "      <th>RandomForestRegressor</th>\n",
       "      <td>1694.311561</td>\n",
       "      <td>14.59</td>\n",
       "      <td>2.78</td>\n",
       "      <td>RandomForestRegressor</td>\n",
       "    </tr>\n",
       "    <tr>\n",
       "      <th>LGBMRegressor</th>\n",
       "      <td>1846.254837</td>\n",
       "      <td>20.21</td>\n",
       "      <td>0.2</td>\n",
       "      <td>LGBMRegressor</td>\n",
       "    </tr>\n",
       "    <tr>\n",
       "      <th>CatBoostRegressor</th>\n",
       "      <td>1688.273284</td>\n",
       "      <td>2.9</td>\n",
       "      <td>0.04</td>\n",
       "      <td>CatBoostRegressor</td>\n",
       "    </tr>\n",
       "  </tbody>\n",
       "</table>\n",
       "</div>"
      ],
      "text/plain": [
       "                        RMSE_train Learn_time_train Predict_time_train  \\\n",
       "LinearRegression       2520.232557            21.21               0.59   \n",
       "DecisionTreeRegressor  1901.970244             0.42               0.03   \n",
       "RandomForestRegressor  1694.311561            14.59               2.78   \n",
       "LGBMRegressor          1846.254837            20.21                0.2   \n",
       "CatBoostRegressor      1688.273284              2.9               0.04   \n",
       "\n",
       "                                       Model  \n",
       "LinearRegression            LinearRegression  \n",
       "DecisionTreeRegressor  DecisionTreeRegressor  \n",
       "RandomForestRegressor  RandomForestRegressor  \n",
       "LGBMRegressor                  LGBMRegressor  \n",
       "CatBoostRegressor          CatBoostRegressor  "
      ]
     },
     "execution_count": 124,
     "metadata": {},
     "output_type": "execute_result"
    }
   ],
   "source": [
    "metrics_results"
   ]
  },
  {
   "cell_type": "markdown",
   "metadata": {},
   "source": [
    "Можем увидеть, что на обучающей выборке лучший результат показал CatBoostRegressor. Совсем немного уступает RandomForestRegressor, но дольше происходит обучение. По времени лидирует DecisionTreeRegressor, но уступает по качестве метрики RMSE"
   ]
  },
  {
   "cell_type": "markdown",
   "metadata": {},
   "source": [
    "Так как заказчик не сообщил, какой из параметров в приоритете, то будем тестировать модель с наилучшим показателем метрики RMSE а именно CatBoostRegressor на тестовой выборке с наилучшими гиперпараметрами"
   ]
  },
  {
   "cell_type": "code",
   "execution_count": 129,
   "metadata": {},
   "outputs": [
    {
     "name": "stdout",
     "output_type": "stream",
     "text": [
      "Показатель RMSE: 1688.3637 Время предсказания: 0.01\n"
     ]
    }
   ],
   "source": [
    "start_time = time.time()\n",
    "prediction_cb_test = grid_cb.best_estimator_.predict(features_ordinal_test)\n",
    "time_prediction_cb_test= round(time.time() - start_time,2)\n",
    "RMSE_cb_test = mean_squared_error(target_ordinal_test, prediction_cb_test) ** 0.5\n",
    "print('Показатель RMSE:', round(RMSE_cb_test,4), 'Время предсказания:', time_prediction_cb_test)"
   ]
  },
  {
   "cell_type": "markdown",
   "metadata": {},
   "source": [
    "## Вывод"
   ]
  },
  {
   "cell_type": "markdown",
   "metadata": {},
   "source": [
    "В ходе работы было выполнено:\n",
    "- Предобработка данных:\n",
    "    - Выведены аномалии и пропущенные значения.;\n",
    "    - Исправленны некорректные данные;\n",
    "    - Подробно изучены количественные переменные в данных и удалены выбросы.\n",
    "- Обучение моделей:\n",
    "    - Построены 5 моделей машинного улучшения для выявления самого подходящего метода.\n",
    "\n",
    "По итогам построения моделей выявлена лучшая модель на тестовой выборке: CatBoostRegressor (Показатель метрики RMSE = 1688.36, время предсказания: 0.01 с.\n"
   ]
  }
 ],
 "metadata": {
  "ExecuteTimeLog": [
   {
    "duration": 400,
    "start_time": "2022-08-18T15:58:49.725Z"
   },
   {
    "duration": 2732,
    "start_time": "2022-08-18T15:59:11.426Z"
   },
   {
    "duration": 21,
    "start_time": "2022-08-18T15:59:18.013Z"
   },
   {
    "duration": 114,
    "start_time": "2022-08-18T15:59:47.506Z"
   },
   {
    "duration": 94,
    "start_time": "2022-08-18T16:01:02.691Z"
   },
   {
    "duration": 67,
    "start_time": "2022-08-18T16:03:41.939Z"
   },
   {
    "duration": 7,
    "start_time": "2022-08-18T16:04:10.534Z"
   },
   {
    "duration": 7,
    "start_time": "2022-08-18T16:04:26.090Z"
   },
   {
    "duration": 7,
    "start_time": "2022-08-18T16:04:29.432Z"
   },
   {
    "duration": 27,
    "start_time": "2022-08-18T16:04:38.073Z"
   },
   {
    "duration": 17,
    "start_time": "2022-08-18T16:04:44.962Z"
   },
   {
    "duration": 19,
    "start_time": "2022-08-18T16:06:26.791Z"
   },
   {
    "duration": 374,
    "start_time": "2022-08-18T16:06:39.213Z"
   },
   {
    "duration": 862,
    "start_time": "2022-08-18T16:06:39.589Z"
   },
   {
    "duration": 25,
    "start_time": "2022-08-18T16:06:40.453Z"
   },
   {
    "duration": 129,
    "start_time": "2022-08-18T16:06:40.480Z"
   },
   {
    "duration": 144,
    "start_time": "2022-08-18T16:06:40.612Z"
   },
   {
    "duration": 27,
    "start_time": "2022-08-18T16:06:40.758Z"
   },
   {
    "duration": 18,
    "start_time": "2022-08-18T16:06:40.786Z"
   },
   {
    "duration": 70,
    "start_time": "2022-08-18T16:07:26.873Z"
   },
   {
    "duration": 391,
    "start_time": "2022-08-18T16:07:31.135Z"
   },
   {
    "duration": 818,
    "start_time": "2022-08-18T16:07:31.528Z"
   },
   {
    "duration": 25,
    "start_time": "2022-08-18T16:07:32.347Z"
   },
   {
    "duration": 130,
    "start_time": "2022-08-18T16:07:32.374Z"
   },
   {
    "duration": 105,
    "start_time": "2022-08-18T16:07:32.505Z"
   },
   {
    "duration": 23,
    "start_time": "2022-08-18T16:07:32.612Z"
   },
   {
    "duration": 30,
    "start_time": "2022-08-18T16:07:32.637Z"
   },
   {
    "duration": 71,
    "start_time": "2022-08-18T16:08:37.172Z"
   },
   {
    "duration": 9,
    "start_time": "2022-08-18T16:08:40.614Z"
   },
   {
    "duration": 289,
    "start_time": "2022-08-18T16:09:16.035Z"
   },
   {
    "duration": 11,
    "start_time": "2022-08-18T16:09:30.830Z"
   },
   {
    "duration": 11,
    "start_time": "2022-08-18T16:09:40.150Z"
   },
   {
    "duration": 76,
    "start_time": "2022-08-18T16:09:51.968Z"
   },
   {
    "duration": 75,
    "start_time": "2022-08-18T16:10:09.463Z"
   },
   {
    "duration": 9,
    "start_time": "2022-08-18T16:10:27.764Z"
   },
   {
    "duration": 4,
    "start_time": "2022-08-18T16:11:57.827Z"
   },
   {
    "duration": 20,
    "start_time": "2022-08-18T16:12:01.884Z"
   },
   {
    "duration": 12,
    "start_time": "2022-08-18T16:12:08.038Z"
   },
   {
    "duration": 13,
    "start_time": "2022-08-18T16:13:53.082Z"
   },
   {
    "duration": 10,
    "start_time": "2022-08-18T16:13:59.469Z"
   },
   {
    "duration": 73,
    "start_time": "2022-08-18T16:14:12.188Z"
   },
   {
    "duration": 31,
    "start_time": "2022-08-18T16:16:38.147Z"
   },
   {
    "duration": 16,
    "start_time": "2022-08-18T16:16:51.924Z"
   },
   {
    "duration": 19,
    "start_time": "2022-08-18T16:17:58.800Z"
   },
   {
    "duration": 15,
    "start_time": "2022-08-18T16:18:09.626Z"
   },
   {
    "duration": 31,
    "start_time": "2022-08-18T16:18:19.333Z"
   },
   {
    "duration": 31,
    "start_time": "2022-08-18T16:18:51.995Z"
   },
   {
    "duration": 15,
    "start_time": "2022-08-18T16:19:03.869Z"
   },
   {
    "duration": 52,
    "start_time": "2022-08-18T16:19:53.963Z"
   },
   {
    "duration": 21,
    "start_time": "2022-08-18T16:20:04.321Z"
   },
   {
    "duration": 20,
    "start_time": "2022-08-18T16:20:16.855Z"
   },
   {
    "duration": 21,
    "start_time": "2022-08-18T16:20:22.508Z"
   },
   {
    "duration": 14,
    "start_time": "2022-08-18T16:23:35.663Z"
   },
   {
    "duration": 4,
    "start_time": "2022-08-18T16:23:38.766Z"
   },
   {
    "duration": 1654,
    "start_time": "2022-08-18T16:27:00.223Z"
   },
   {
    "duration": 39,
    "start_time": "2022-08-18T16:27:08.640Z"
   },
   {
    "duration": 6,
    "start_time": "2022-08-18T16:27:22.276Z"
   },
   {
    "duration": 37,
    "start_time": "2022-08-18T16:27:31.067Z"
   },
   {
    "duration": 10,
    "start_time": "2022-08-18T16:27:36.579Z"
   },
   {
    "duration": 10,
    "start_time": "2022-08-18T16:27:40.620Z"
   },
   {
    "duration": 75,
    "start_time": "2022-08-18T16:27:47.138Z"
   },
   {
    "duration": 3,
    "start_time": "2022-08-18T16:31:41.388Z"
   },
   {
    "duration": 2544,
    "start_time": "2022-08-18T16:32:04.375Z"
   },
   {
    "duration": 1369,
    "start_time": "2022-08-18T16:32:29.996Z"
   },
   {
    "duration": 48,
    "start_time": "2022-08-18T16:58:17.515Z"
   },
   {
    "duration": 17,
    "start_time": "2022-08-18T16:58:32.867Z"
   },
   {
    "duration": 19,
    "start_time": "2022-08-18T16:58:36.775Z"
   },
   {
    "duration": 24,
    "start_time": "2022-08-18T16:59:14.185Z"
   },
   {
    "duration": 16,
    "start_time": "2022-08-18T16:59:18.054Z"
   },
   {
    "duration": 6,
    "start_time": "2022-08-18T16:59:58.633Z"
   },
   {
    "duration": 31,
    "start_time": "2022-08-18T17:00:00.896Z"
   },
   {
    "duration": 22,
    "start_time": "2022-08-18T17:02:41.576Z"
   },
   {
    "duration": 12,
    "start_time": "2022-08-18T17:02:56.625Z"
   },
   {
    "duration": 46,
    "start_time": "2022-08-18T17:02:58.449Z"
   },
   {
    "duration": 14,
    "start_time": "2022-08-18T17:03:11.434Z"
   },
   {
    "duration": 31,
    "start_time": "2022-08-18T17:06:02.209Z"
   },
   {
    "duration": 18,
    "start_time": "2022-08-18T17:06:17.224Z"
   },
   {
    "duration": 18,
    "start_time": "2022-08-18T17:06:27.576Z"
   },
   {
    "duration": 21,
    "start_time": "2022-08-18T17:06:33.362Z"
   },
   {
    "duration": 3,
    "start_time": "2022-08-18T17:07:12.083Z"
   },
   {
    "duration": 28,
    "start_time": "2022-08-18T17:07:14.233Z"
   },
   {
    "duration": 71,
    "start_time": "2022-08-18T17:07:27.249Z"
   },
   {
    "duration": 16,
    "start_time": "2022-08-18T17:07:34.576Z"
   },
   {
    "duration": 21,
    "start_time": "2022-08-18T17:08:32.515Z"
   },
   {
    "duration": 78,
    "start_time": "2022-08-18T17:08:46.406Z"
   },
   {
    "duration": 25,
    "start_time": "2022-08-18T17:08:53.181Z"
   },
   {
    "duration": 9,
    "start_time": "2022-08-18T17:10:30.011Z"
   },
   {
    "duration": 21,
    "start_time": "2022-08-18T17:10:57.172Z"
   },
   {
    "duration": 19,
    "start_time": "2022-08-18T17:11:05.135Z"
   },
   {
    "duration": 216,
    "start_time": "2022-08-18T17:11:17.148Z"
   },
   {
    "duration": 46533,
    "start_time": "2022-08-18T17:11:46.736Z"
   },
   {
    "duration": 0,
    "start_time": "2022-08-18T17:15:23.789Z"
   },
   {
    "duration": 0,
    "start_time": "2022-08-18T17:18:50.549Z"
   },
   {
    "duration": 332,
    "start_time": "2022-08-18T17:19:05.257Z"
   },
   {
    "duration": 14,
    "start_time": "2022-08-18T17:23:05.781Z"
   },
   {
    "duration": 37,
    "start_time": "2022-08-18T17:23:25.379Z"
   },
   {
    "duration": 26,
    "start_time": "2022-08-18T17:23:38.581Z"
   },
   {
    "duration": 336,
    "start_time": "2022-08-18T17:23:48.862Z"
   },
   {
    "duration": 4,
    "start_time": "2022-08-19T19:35:06.334Z"
   },
   {
    "duration": 1024,
    "start_time": "2022-08-19T19:35:06.339Z"
   },
   {
    "duration": 33,
    "start_time": "2022-08-19T19:35:07.365Z"
   },
   {
    "duration": 143,
    "start_time": "2022-08-19T19:35:07.401Z"
   },
   {
    "duration": 125,
    "start_time": "2022-08-19T19:35:07.546Z"
   },
   {
    "duration": 29,
    "start_time": "2022-08-19T19:35:07.673Z"
   },
   {
    "duration": 11,
    "start_time": "2022-08-19T19:35:07.704Z"
   },
   {
    "duration": 5,
    "start_time": "2022-08-19T19:35:07.717Z"
   },
   {
    "duration": 16,
    "start_time": "2022-08-19T19:35:07.724Z"
   },
   {
    "duration": 55,
    "start_time": "2022-08-19T19:35:07.742Z"
   },
   {
    "duration": 11,
    "start_time": "2022-08-19T19:35:07.799Z"
   },
   {
    "duration": 96,
    "start_time": "2022-08-19T19:35:07.813Z"
   },
   {
    "duration": 32,
    "start_time": "2022-08-19T19:35:07.911Z"
   },
   {
    "duration": 48,
    "start_time": "2022-08-19T19:35:07.945Z"
   },
   {
    "duration": 25,
    "start_time": "2022-08-19T19:35:07.995Z"
   },
   {
    "duration": 23,
    "start_time": "2022-08-19T19:35:08.022Z"
   },
   {
    "duration": 52,
    "start_time": "2022-08-19T19:35:08.047Z"
   },
   {
    "duration": 31,
    "start_time": "2022-08-19T19:35:08.100Z"
   },
   {
    "duration": 20,
    "start_time": "2022-08-19T19:35:08.133Z"
   },
   {
    "duration": 57,
    "start_time": "2022-08-19T19:35:08.155Z"
   },
   {
    "duration": 44,
    "start_time": "2022-08-19T19:35:08.214Z"
   },
   {
    "duration": 46,
    "start_time": "2022-08-19T19:35:08.260Z"
   },
   {
    "duration": 16,
    "start_time": "2022-08-19T19:35:08.308Z"
   },
   {
    "duration": 19,
    "start_time": "2022-08-19T19:35:08.325Z"
   },
   {
    "duration": 40,
    "start_time": "2022-08-19T19:35:08.345Z"
   },
   {
    "duration": 39,
    "start_time": "2022-08-19T19:35:08.389Z"
   },
   {
    "duration": 19,
    "start_time": "2022-08-19T19:35:08.430Z"
   },
   {
    "duration": 53,
    "start_time": "2022-08-19T19:35:08.451Z"
   },
   {
    "duration": 15,
    "start_time": "2022-08-19T19:35:08.505Z"
   },
   {
    "duration": 21,
    "start_time": "2022-08-19T19:35:08.522Z"
   },
   {
    "duration": 37,
    "start_time": "2022-08-19T19:35:08.545Z"
   },
   {
    "duration": 37,
    "start_time": "2022-08-19T19:35:08.588Z"
   },
   {
    "duration": 20,
    "start_time": "2022-08-19T19:35:08.627Z"
   },
   {
    "duration": 33,
    "start_time": "2022-08-19T19:35:08.649Z"
   },
   {
    "duration": 18,
    "start_time": "2022-08-19T19:35:08.695Z"
   },
   {
    "duration": 14,
    "start_time": "2022-08-19T19:35:08.715Z"
   },
   {
    "duration": 18,
    "start_time": "2022-08-19T19:35:08.731Z"
   },
   {
    "duration": 350,
    "start_time": "2022-08-19T19:35:08.751Z"
   },
   {
    "duration": 39,
    "start_time": "2022-08-19T19:35:09.103Z"
   },
   {
    "duration": 36,
    "start_time": "2022-08-19T19:35:09.144Z"
   },
   {
    "duration": 328,
    "start_time": "2022-08-19T19:35:09.189Z"
   },
   {
    "duration": 354,
    "start_time": "2022-08-19T19:35:58.067Z"
   },
   {
    "duration": 139,
    "start_time": "2022-08-19T19:37:03.415Z"
   },
   {
    "duration": 29,
    "start_time": "2022-08-19T19:37:19.444Z"
   },
   {
    "duration": 1715,
    "start_time": "2022-08-19T19:37:23.525Z"
   },
   {
    "duration": 1805,
    "start_time": "2022-08-19T19:38:02.893Z"
   },
   {
    "duration": 1848,
    "start_time": "2022-08-19T19:38:13.730Z"
   },
   {
    "duration": 4,
    "start_time": "2022-08-19T19:38:48.748Z"
   },
   {
    "duration": 1748,
    "start_time": "2022-08-19T19:38:52.203Z"
   },
   {
    "duration": 1735,
    "start_time": "2022-08-19T19:39:09.527Z"
   },
   {
    "duration": 1743,
    "start_time": "2022-08-19T19:39:30.639Z"
   },
   {
    "duration": 1930,
    "start_time": "2022-08-19T19:39:39.949Z"
   },
   {
    "duration": 1765,
    "start_time": "2022-08-19T19:40:08.751Z"
   },
   {
    "duration": 14,
    "start_time": "2022-08-19T19:40:22.493Z"
   },
   {
    "duration": 3751,
    "start_time": "2022-08-19T19:40:56.517Z"
   },
   {
    "duration": 351,
    "start_time": "2022-08-19T19:41:22.829Z"
   },
   {
    "duration": 3626,
    "start_time": "2022-08-19T19:41:49.293Z"
   },
   {
    "duration": 3745,
    "start_time": "2022-08-19T19:42:00.191Z"
   },
   {
    "duration": 3972,
    "start_time": "2022-08-19T19:42:22.821Z"
   },
   {
    "duration": 1215,
    "start_time": "2022-08-19T19:43:30.593Z"
   },
   {
    "duration": 3768,
    "start_time": "2022-08-19T19:43:45.966Z"
   },
   {
    "duration": 3867,
    "start_time": "2022-08-19T19:43:58.516Z"
   },
   {
    "duration": 4397,
    "start_time": "2022-08-19T19:44:24.113Z"
   },
   {
    "duration": 2072,
    "start_time": "2022-08-19T19:44:36.309Z"
   },
   {
    "duration": 1844,
    "start_time": "2022-08-19T19:45:26.534Z"
   },
   {
    "duration": 1700,
    "start_time": "2022-08-19T19:46:21.503Z"
   },
   {
    "duration": 1979,
    "start_time": "2022-08-19T19:46:28.809Z"
   },
   {
    "duration": 2078,
    "start_time": "2022-08-19T19:46:46.128Z"
   },
   {
    "duration": 451,
    "start_time": "2022-08-19T19:47:07.339Z"
   },
   {
    "duration": 1683,
    "start_time": "2022-08-19T19:47:32.042Z"
   },
   {
    "duration": 968,
    "start_time": "2022-08-19T19:47:33.727Z"
   },
   {
    "duration": 22,
    "start_time": "2022-08-19T19:47:34.699Z"
   },
   {
    "duration": 151,
    "start_time": "2022-08-19T19:47:34.724Z"
   },
   {
    "duration": 120,
    "start_time": "2022-08-19T19:47:34.882Z"
   },
   {
    "duration": 25,
    "start_time": "2022-08-19T19:47:35.006Z"
   },
   {
    "duration": 14,
    "start_time": "2022-08-19T19:47:35.033Z"
   },
   {
    "duration": 4,
    "start_time": "2022-08-19T19:47:35.049Z"
   },
   {
    "duration": 63,
    "start_time": "2022-08-19T19:47:35.055Z"
   },
   {
    "duration": 34,
    "start_time": "2022-08-19T19:47:35.121Z"
   },
   {
    "duration": 23,
    "start_time": "2022-08-19T19:47:35.157Z"
   },
   {
    "duration": 111,
    "start_time": "2022-08-19T19:47:35.183Z"
   },
   {
    "duration": 37,
    "start_time": "2022-08-19T19:47:35.296Z"
   },
   {
    "duration": 17,
    "start_time": "2022-08-19T19:47:35.335Z"
   },
   {
    "duration": 52,
    "start_time": "2022-08-19T19:47:35.353Z"
   },
   {
    "duration": 21,
    "start_time": "2022-08-19T19:47:35.407Z"
   },
   {
    "duration": 33,
    "start_time": "2022-08-19T19:47:35.430Z"
   },
   {
    "duration": 75,
    "start_time": "2022-08-19T19:47:35.464Z"
   },
   {
    "duration": 22,
    "start_time": "2022-08-19T19:47:35.541Z"
   },
   {
    "duration": 86,
    "start_time": "2022-08-19T19:47:35.565Z"
   },
   {
    "duration": 53,
    "start_time": "2022-08-19T19:47:35.652Z"
   },
   {
    "duration": 37,
    "start_time": "2022-08-19T19:47:35.707Z"
   },
   {
    "duration": 18,
    "start_time": "2022-08-19T19:47:35.746Z"
   },
   {
    "duration": 54,
    "start_time": "2022-08-19T19:47:35.769Z"
   },
   {
    "duration": 16,
    "start_time": "2022-08-19T19:47:35.825Z"
   },
   {
    "duration": 38,
    "start_time": "2022-08-19T19:47:35.843Z"
   },
   {
    "duration": 38,
    "start_time": "2022-08-19T19:47:35.886Z"
   },
   {
    "duration": 29,
    "start_time": "2022-08-19T19:47:35.928Z"
   },
   {
    "duration": 36,
    "start_time": "2022-08-19T19:47:35.959Z"
   },
   {
    "duration": 28,
    "start_time": "2022-08-19T19:47:36.004Z"
   },
   {
    "duration": 21,
    "start_time": "2022-08-19T19:47:36.034Z"
   },
   {
    "duration": 59,
    "start_time": "2022-08-19T19:47:36.056Z"
   },
   {
    "duration": 15,
    "start_time": "2022-08-19T19:47:36.117Z"
   },
   {
    "duration": 22,
    "start_time": "2022-08-19T19:47:36.133Z"
   },
   {
    "duration": 34,
    "start_time": "2022-08-19T19:47:36.157Z"
   },
   {
    "duration": 24,
    "start_time": "2022-08-19T19:47:36.193Z"
   },
   {
    "duration": 19,
    "start_time": "2022-08-19T19:47:36.218Z"
   },
   {
    "duration": 488,
    "start_time": "2022-08-19T19:47:36.238Z"
   },
   {
    "duration": 49,
    "start_time": "2022-08-19T19:47:36.729Z"
   },
   {
    "duration": 19,
    "start_time": "2022-08-19T19:47:36.780Z"
   },
   {
    "duration": 557,
    "start_time": "2022-08-19T19:47:36.803Z"
   },
   {
    "duration": 129,
    "start_time": "2022-08-19T19:49:38.425Z"
   },
   {
    "duration": 183,
    "start_time": "2022-08-19T19:49:48.135Z"
   },
   {
    "duration": 223,
    "start_time": "2022-08-19T19:50:32.977Z"
   },
   {
    "duration": 196,
    "start_time": "2022-08-19T19:50:51.646Z"
   },
   {
    "duration": 188,
    "start_time": "2022-08-19T19:50:54.941Z"
   },
   {
    "duration": 32,
    "start_time": "2022-08-19T19:51:33.896Z"
   },
   {
    "duration": 411,
    "start_time": "2022-08-19T19:51:41.052Z"
   },
   {
    "duration": 349,
    "start_time": "2022-08-19T19:51:46.988Z"
   },
   {
    "duration": 324,
    "start_time": "2022-08-19T19:51:52.190Z"
   },
   {
    "duration": 427,
    "start_time": "2022-08-19T19:51:55.446Z"
   },
   {
    "duration": 292,
    "start_time": "2022-08-19T19:51:58.649Z"
   },
   {
    "duration": 283,
    "start_time": "2022-08-19T19:52:02.286Z"
   },
   {
    "duration": 171,
    "start_time": "2022-08-19T19:52:11.787Z"
   },
   {
    "duration": 27,
    "start_time": "2022-08-19T19:52:39.210Z"
   },
   {
    "duration": 294,
    "start_time": "2022-08-19T19:52:39.591Z"
   },
   {
    "duration": 173,
    "start_time": "2022-08-19T19:52:40.688Z"
   },
   {
    "duration": 28,
    "start_time": "2022-08-19T19:52:50.086Z"
   },
   {
    "duration": 296,
    "start_time": "2022-08-19T19:52:50.417Z"
   },
   {
    "duration": 171,
    "start_time": "2022-08-19T19:52:50.860Z"
   },
   {
    "duration": 1585,
    "start_time": "2022-08-19T19:52:56.067Z"
   },
   {
    "duration": 925,
    "start_time": "2022-08-19T19:52:57.654Z"
   },
   {
    "duration": 21,
    "start_time": "2022-08-19T19:52:58.587Z"
   },
   {
    "duration": 144,
    "start_time": "2022-08-19T19:52:58.610Z"
   },
   {
    "duration": 118,
    "start_time": "2022-08-19T19:52:58.755Z"
   },
   {
    "duration": 25,
    "start_time": "2022-08-19T19:52:58.877Z"
   },
   {
    "duration": 12,
    "start_time": "2022-08-19T19:52:58.904Z"
   },
   {
    "duration": 4,
    "start_time": "2022-08-19T19:52:58.918Z"
   },
   {
    "duration": 15,
    "start_time": "2022-08-19T19:52:58.924Z"
   },
   {
    "duration": 59,
    "start_time": "2022-08-19T19:52:58.942Z"
   },
   {
    "duration": 14,
    "start_time": "2022-08-19T19:52:59.003Z"
   },
   {
    "duration": 109,
    "start_time": "2022-08-19T19:52:59.019Z"
   },
   {
    "duration": 32,
    "start_time": "2022-08-19T19:52:59.130Z"
   },
   {
    "duration": 53,
    "start_time": "2022-08-19T19:52:59.169Z"
   },
   {
    "duration": 37,
    "start_time": "2022-08-19T19:52:59.225Z"
   },
   {
    "duration": 25,
    "start_time": "2022-08-19T19:52:59.265Z"
   },
   {
    "duration": 37,
    "start_time": "2022-08-19T19:52:59.291Z"
   },
   {
    "duration": 42,
    "start_time": "2022-08-19T19:52:59.329Z"
   },
   {
    "duration": 29,
    "start_time": "2022-08-19T19:52:59.373Z"
   },
   {
    "duration": 21,
    "start_time": "2022-08-19T19:52:59.404Z"
   },
   {
    "duration": 43,
    "start_time": "2022-08-19T19:52:59.427Z"
   },
   {
    "duration": 37,
    "start_time": "2022-08-19T19:52:59.473Z"
   },
   {
    "duration": 17,
    "start_time": "2022-08-19T19:52:59.512Z"
   },
   {
    "duration": 43,
    "start_time": "2022-08-19T19:52:59.532Z"
   },
   {
    "duration": 22,
    "start_time": "2022-08-19T19:52:59.577Z"
   },
   {
    "duration": 30,
    "start_time": "2022-08-19T19:52:59.601Z"
   },
   {
    "duration": 16,
    "start_time": "2022-08-19T19:52:59.633Z"
   },
   {
    "duration": 46,
    "start_time": "2022-08-19T19:52:59.653Z"
   },
   {
    "duration": 17,
    "start_time": "2022-08-19T19:52:59.701Z"
   },
   {
    "duration": 20,
    "start_time": "2022-08-19T19:52:59.719Z"
   },
   {
    "duration": 36,
    "start_time": "2022-08-19T19:52:59.741Z"
   },
   {
    "duration": 54,
    "start_time": "2022-08-19T19:52:59.779Z"
   },
   {
    "duration": 17,
    "start_time": "2022-08-19T19:52:59.835Z"
   },
   {
    "duration": 32,
    "start_time": "2022-08-19T19:52:59.854Z"
   },
   {
    "duration": 16,
    "start_time": "2022-08-19T19:52:59.888Z"
   },
   {
    "duration": 11,
    "start_time": "2022-08-19T19:52:59.905Z"
   },
   {
    "duration": 17,
    "start_time": "2022-08-19T19:52:59.918Z"
   },
   {
    "duration": 449,
    "start_time": "2022-08-19T19:52:59.937Z"
   },
   {
    "duration": 38,
    "start_time": "2022-08-19T19:53:00.390Z"
   },
   {
    "duration": 51,
    "start_time": "2022-08-19T19:53:00.431Z"
   },
   {
    "duration": 523,
    "start_time": "2022-08-19T19:53:00.484Z"
   },
   {
    "duration": 194,
    "start_time": "2022-08-19T19:53:01.009Z"
   },
   {
    "duration": 33,
    "start_time": "2022-08-19T19:53:01.206Z"
   },
   {
    "duration": 355,
    "start_time": "2022-08-19T19:53:01.241Z"
   },
   {
    "duration": 196,
    "start_time": "2022-08-19T19:53:01.598Z"
   },
   {
    "duration": 9,
    "start_time": "2022-08-19T19:54:48.224Z"
   },
   {
    "duration": 19,
    "start_time": "2022-08-19T19:55:07.436Z"
   },
   {
    "duration": 299,
    "start_time": "2022-08-19T19:55:37.992Z"
   },
   {
    "duration": 299,
    "start_time": "2022-08-19T19:58:20.555Z"
   },
   {
    "duration": 187,
    "start_time": "2022-08-19T19:58:38.554Z"
   },
   {
    "duration": 29,
    "start_time": "2022-08-19T20:02:13.677Z"
   },
   {
    "duration": 306,
    "start_time": "2022-08-19T20:02:21.716Z"
   },
   {
    "duration": 194,
    "start_time": "2022-08-19T20:02:35.937Z"
   },
   {
    "duration": 178,
    "start_time": "2022-08-19T20:02:44.543Z"
   },
   {
    "duration": 10,
    "start_time": "2022-08-19T20:05:30.439Z"
   },
   {
    "duration": 27,
    "start_time": "2022-08-19T20:07:05.192Z"
   },
   {
    "duration": 287,
    "start_time": "2022-08-19T20:07:12.649Z"
   },
   {
    "duration": 116,
    "start_time": "2022-08-19T20:08:15.935Z"
   },
   {
    "duration": 11,
    "start_time": "2022-08-19T20:08:20.715Z"
   },
   {
    "duration": 10,
    "start_time": "2022-08-19T20:08:32.109Z"
   },
   {
    "duration": 323,
    "start_time": "2022-08-19T20:10:38.832Z"
   },
   {
    "duration": 10,
    "start_time": "2022-08-19T20:10:53.883Z"
   },
   {
    "duration": 1603,
    "start_time": "2022-08-19T20:10:58.843Z"
   },
   {
    "duration": 1036,
    "start_time": "2022-08-19T20:11:00.449Z"
   },
   {
    "duration": 26,
    "start_time": "2022-08-19T20:11:01.487Z"
   },
   {
    "duration": 164,
    "start_time": "2022-08-19T20:11:01.516Z"
   },
   {
    "duration": 161,
    "start_time": "2022-08-19T20:11:01.682Z"
   },
   {
    "duration": 38,
    "start_time": "2022-08-19T20:11:01.845Z"
   },
   {
    "duration": 26,
    "start_time": "2022-08-19T20:11:01.885Z"
   },
   {
    "duration": 8,
    "start_time": "2022-08-19T20:11:01.913Z"
   },
   {
    "duration": 26,
    "start_time": "2022-08-19T20:11:01.923Z"
   },
   {
    "duration": 59,
    "start_time": "2022-08-19T20:11:01.952Z"
   },
   {
    "duration": 13,
    "start_time": "2022-08-19T20:11:02.013Z"
   },
   {
    "duration": 83,
    "start_time": "2022-08-19T20:11:02.027Z"
   },
   {
    "duration": 39,
    "start_time": "2022-08-19T20:11:02.112Z"
   },
   {
    "duration": 42,
    "start_time": "2022-08-19T20:11:02.153Z"
   },
   {
    "duration": 21,
    "start_time": "2022-08-19T20:11:02.197Z"
   },
   {
    "duration": 16,
    "start_time": "2022-08-19T20:11:02.220Z"
   },
   {
    "duration": 44,
    "start_time": "2022-08-19T20:11:02.238Z"
   },
   {
    "duration": 33,
    "start_time": "2022-08-19T20:11:02.284Z"
   },
   {
    "duration": 32,
    "start_time": "2022-08-19T20:11:02.319Z"
   },
   {
    "duration": 29,
    "start_time": "2022-08-19T20:11:02.353Z"
   },
   {
    "duration": 68,
    "start_time": "2022-08-19T20:11:02.384Z"
   },
   {
    "duration": 44,
    "start_time": "2022-08-19T20:11:02.454Z"
   },
   {
    "duration": 24,
    "start_time": "2022-08-19T20:11:02.500Z"
   },
   {
    "duration": 21,
    "start_time": "2022-08-19T20:11:02.526Z"
   },
   {
    "duration": 39,
    "start_time": "2022-08-19T20:11:02.550Z"
   },
   {
    "duration": 34,
    "start_time": "2022-08-19T20:11:02.592Z"
   },
   {
    "duration": 24,
    "start_time": "2022-08-19T20:11:02.628Z"
   },
   {
    "duration": 45,
    "start_time": "2022-08-19T20:11:02.657Z"
   },
   {
    "duration": 24,
    "start_time": "2022-08-19T20:11:02.704Z"
   },
   {
    "duration": 24,
    "start_time": "2022-08-19T20:11:02.730Z"
   },
   {
    "duration": 35,
    "start_time": "2022-08-19T20:11:02.756Z"
   },
   {
    "duration": 46,
    "start_time": "2022-08-19T20:11:02.793Z"
   },
   {
    "duration": 18,
    "start_time": "2022-08-19T20:11:02.841Z"
   },
   {
    "duration": 27,
    "start_time": "2022-08-19T20:11:02.861Z"
   },
   {
    "duration": 17,
    "start_time": "2022-08-19T20:11:02.890Z"
   },
   {
    "duration": 14,
    "start_time": "2022-08-19T20:11:02.909Z"
   },
   {
    "duration": 20,
    "start_time": "2022-08-19T20:11:02.925Z"
   },
   {
    "duration": 451,
    "start_time": "2022-08-19T20:11:02.968Z"
   },
   {
    "duration": 58,
    "start_time": "2022-08-19T20:11:03.421Z"
   },
   {
    "duration": 24,
    "start_time": "2022-08-19T20:11:03.482Z"
   },
   {
    "duration": 539,
    "start_time": "2022-08-19T20:11:03.509Z"
   },
   {
    "duration": 182,
    "start_time": "2022-08-19T20:11:04.050Z"
   },
   {
    "duration": 50,
    "start_time": "2022-08-19T20:11:04.233Z"
   },
   {
    "duration": 325,
    "start_time": "2022-08-19T20:11:04.285Z"
   },
   {
    "duration": 197,
    "start_time": "2022-08-19T20:11:04.612Z"
   },
   {
    "duration": 10,
    "start_time": "2022-08-19T20:11:04.811Z"
   },
   {
    "duration": 18,
    "start_time": "2022-08-19T20:11:04.822Z"
   },
   {
    "duration": 326,
    "start_time": "2022-08-19T20:11:04.842Z"
   },
   {
    "duration": 187,
    "start_time": "2022-08-19T20:11:05.175Z"
   },
   {
    "duration": 45,
    "start_time": "2022-08-19T20:11:05.368Z"
   },
   {
    "duration": 353,
    "start_time": "2022-08-19T20:11:05.415Z"
   },
   {
    "duration": 182,
    "start_time": "2022-08-19T20:11:05.770Z"
   },
   {
    "duration": 27,
    "start_time": "2022-08-19T20:11:05.954Z"
   },
   {
    "duration": 31,
    "start_time": "2022-08-19T20:11:05.983Z"
   },
   {
    "duration": 299,
    "start_time": "2022-08-19T20:11:06.015Z"
   },
   {
    "duration": 191,
    "start_time": "2022-08-19T20:11:06.316Z"
   },
   {
    "duration": 8,
    "start_time": "2022-08-19T20:11:39.494Z"
   },
   {
    "duration": 292,
    "start_time": "2022-08-19T20:12:23.562Z"
   },
   {
    "duration": 390,
    "start_time": "2022-08-19T20:12:29.007Z"
   },
   {
    "duration": 336,
    "start_time": "2022-08-19T20:12:33.879Z"
   },
   {
    "duration": 241,
    "start_time": "2022-08-19T20:12:40.642Z"
   },
   {
    "duration": 245,
    "start_time": "2022-08-19T20:13:07.001Z"
   },
   {
    "duration": 237,
    "start_time": "2022-08-19T20:13:12.193Z"
   },
   {
    "duration": 34,
    "start_time": "2022-08-19T20:15:15.865Z"
   },
   {
    "duration": 312,
    "start_time": "2022-08-19T20:15:16.327Z"
   },
   {
    "duration": 158,
    "start_time": "2022-08-19T20:15:18.386Z"
   },
   {
    "duration": 1564,
    "start_time": "2022-08-19T20:15:27.386Z"
   },
   {
    "duration": 939,
    "start_time": "2022-08-19T20:15:28.952Z"
   },
   {
    "duration": 20,
    "start_time": "2022-08-19T20:15:29.893Z"
   },
   {
    "duration": 147,
    "start_time": "2022-08-19T20:15:29.915Z"
   },
   {
    "duration": 122,
    "start_time": "2022-08-19T20:15:30.064Z"
   },
   {
    "duration": 27,
    "start_time": "2022-08-19T20:15:30.188Z"
   },
   {
    "duration": 16,
    "start_time": "2022-08-19T20:15:30.217Z"
   },
   {
    "duration": 7,
    "start_time": "2022-08-19T20:15:30.235Z"
   },
   {
    "duration": 38,
    "start_time": "2022-08-19T20:15:30.244Z"
   },
   {
    "duration": 39,
    "start_time": "2022-08-19T20:15:30.285Z"
   },
   {
    "duration": 15,
    "start_time": "2022-08-19T20:15:30.326Z"
   },
   {
    "duration": 93,
    "start_time": "2022-08-19T20:15:30.342Z"
   },
   {
    "duration": 49,
    "start_time": "2022-08-19T20:15:30.437Z"
   },
   {
    "duration": 17,
    "start_time": "2022-08-19T20:15:30.488Z"
   },
   {
    "duration": 23,
    "start_time": "2022-08-19T20:15:30.506Z"
   },
   {
    "duration": 16,
    "start_time": "2022-08-19T20:15:30.531Z"
   },
   {
    "duration": 56,
    "start_time": "2022-08-19T20:15:30.549Z"
   },
   {
    "duration": 34,
    "start_time": "2022-08-19T20:15:30.607Z"
   },
   {
    "duration": 40,
    "start_time": "2022-08-19T20:15:30.643Z"
   },
   {
    "duration": 26,
    "start_time": "2022-08-19T20:15:30.685Z"
   },
   {
    "duration": 62,
    "start_time": "2022-08-19T20:15:30.713Z"
   },
   {
    "duration": 36,
    "start_time": "2022-08-19T20:15:30.777Z"
   },
   {
    "duration": 20,
    "start_time": "2022-08-19T20:15:30.815Z"
   },
   {
    "duration": 23,
    "start_time": "2022-08-19T20:15:30.837Z"
   },
   {
    "duration": 23,
    "start_time": "2022-08-19T20:15:30.862Z"
   },
   {
    "duration": 40,
    "start_time": "2022-08-19T20:15:30.887Z"
   },
   {
    "duration": 32,
    "start_time": "2022-08-19T20:15:30.929Z"
   },
   {
    "duration": 84,
    "start_time": "2022-08-19T20:15:30.965Z"
   },
   {
    "duration": 99,
    "start_time": "2022-08-19T20:15:31.051Z"
   },
   {
    "duration": 65,
    "start_time": "2022-08-19T20:15:31.152Z"
   },
   {
    "duration": 18,
    "start_time": "2022-08-19T20:15:31.219Z"
   },
   {
    "duration": 40,
    "start_time": "2022-08-19T20:15:31.239Z"
   },
   {
    "duration": 39,
    "start_time": "2022-08-19T20:15:31.282Z"
   },
   {
    "duration": 24,
    "start_time": "2022-08-19T20:15:31.323Z"
   },
   {
    "duration": 34,
    "start_time": "2022-08-19T20:15:31.349Z"
   },
   {
    "duration": 13,
    "start_time": "2022-08-19T20:15:31.385Z"
   },
   {
    "duration": 26,
    "start_time": "2022-08-19T20:15:31.399Z"
   },
   {
    "duration": 483,
    "start_time": "2022-08-19T20:15:31.427Z"
   },
   {
    "duration": 43,
    "start_time": "2022-08-19T20:15:31.912Z"
   },
   {
    "duration": 18,
    "start_time": "2022-08-19T20:15:31.973Z"
   },
   {
    "duration": 492,
    "start_time": "2022-08-19T20:15:31.993Z"
   },
   {
    "duration": 197,
    "start_time": "2022-08-19T20:15:32.487Z"
   },
   {
    "duration": 31,
    "start_time": "2022-08-19T20:15:32.685Z"
   },
   {
    "duration": 298,
    "start_time": "2022-08-19T20:15:32.718Z"
   },
   {
    "duration": 190,
    "start_time": "2022-08-19T20:15:33.018Z"
   },
   {
    "duration": 9,
    "start_time": "2022-08-19T20:15:33.210Z"
   },
   {
    "duration": 17,
    "start_time": "2022-08-19T20:15:33.221Z"
   },
   {
    "duration": 320,
    "start_time": "2022-08-19T20:15:33.240Z"
   },
   {
    "duration": 195,
    "start_time": "2022-08-19T20:15:33.567Z"
   },
   {
    "duration": 36,
    "start_time": "2022-08-19T20:15:33.767Z"
   },
   {
    "duration": 285,
    "start_time": "2022-08-19T20:15:33.804Z"
   },
   {
    "duration": 199,
    "start_time": "2022-08-19T20:15:34.091Z"
   },
   {
    "duration": 29,
    "start_time": "2022-08-19T20:15:34.292Z"
   },
   {
    "duration": 296,
    "start_time": "2022-08-19T20:15:34.323Z"
   },
   {
    "duration": 173,
    "start_time": "2022-08-19T20:15:34.621Z"
   },
   {
    "duration": 8,
    "start_time": "2022-08-19T20:15:34.796Z"
   },
   {
    "duration": 277,
    "start_time": "2022-08-19T20:15:34.806Z"
   },
   {
    "duration": 361,
    "start_time": "2022-08-19T20:15:35.085Z"
   },
   {
    "duration": 137,
    "start_time": "2022-08-19T20:15:58.228Z"
   },
   {
    "duration": 149,
    "start_time": "2022-08-19T20:16:01.408Z"
   },
   {
    "duration": 139,
    "start_time": "2022-08-19T20:16:05.091Z"
   },
   {
    "duration": 1678,
    "start_time": "2022-08-19T21:13:06.455Z"
   },
   {
    "duration": 1017,
    "start_time": "2022-08-19T21:13:08.136Z"
   },
   {
    "duration": 34,
    "start_time": "2022-08-19T21:13:09.155Z"
   },
   {
    "duration": 130,
    "start_time": "2022-08-19T21:13:09.191Z"
   },
   {
    "duration": 172,
    "start_time": "2022-08-19T21:13:09.323Z"
   },
   {
    "duration": 27,
    "start_time": "2022-08-19T21:13:09.498Z"
   },
   {
    "duration": 17,
    "start_time": "2022-08-19T21:13:09.527Z"
   },
   {
    "duration": 29,
    "start_time": "2022-08-19T21:13:09.546Z"
   },
   {
    "duration": 22,
    "start_time": "2022-08-19T21:13:09.579Z"
   },
   {
    "duration": 41,
    "start_time": "2022-08-19T21:13:09.604Z"
   },
   {
    "duration": 17,
    "start_time": "2022-08-19T21:13:09.647Z"
   },
   {
    "duration": 94,
    "start_time": "2022-08-19T21:13:09.666Z"
   },
   {
    "duration": 39,
    "start_time": "2022-08-19T21:13:09.761Z"
   },
   {
    "duration": 23,
    "start_time": "2022-08-19T21:13:09.801Z"
   },
   {
    "duration": 24,
    "start_time": "2022-08-19T21:13:09.826Z"
   },
   {
    "duration": 37,
    "start_time": "2022-08-19T21:13:09.852Z"
   },
   {
    "duration": 35,
    "start_time": "2022-08-19T21:13:09.891Z"
   },
   {
    "duration": 53,
    "start_time": "2022-08-19T21:13:09.928Z"
   },
   {
    "duration": 21,
    "start_time": "2022-08-19T21:13:09.984Z"
   },
   {
    "duration": 24,
    "start_time": "2022-08-19T21:13:10.007Z"
   },
   {
    "duration": 69,
    "start_time": "2022-08-19T21:13:10.033Z"
   },
   {
    "duration": 32,
    "start_time": "2022-08-19T21:13:10.104Z"
   },
   {
    "duration": 42,
    "start_time": "2022-08-19T21:13:10.138Z"
   },
   {
    "duration": 21,
    "start_time": "2022-08-19T21:13:10.183Z"
   },
   {
    "duration": 20,
    "start_time": "2022-08-19T21:13:10.206Z"
   },
   {
    "duration": 52,
    "start_time": "2022-08-19T21:13:10.228Z"
   },
   {
    "duration": 18,
    "start_time": "2022-08-19T21:13:10.283Z"
   },
   {
    "duration": 31,
    "start_time": "2022-08-19T21:13:10.307Z"
   },
   {
    "duration": 42,
    "start_time": "2022-08-19T21:13:10.340Z"
   },
   {
    "duration": 19,
    "start_time": "2022-08-19T21:13:10.384Z"
   },
   {
    "duration": 18,
    "start_time": "2022-08-19T21:13:10.405Z"
   },
   {
    "duration": 55,
    "start_time": "2022-08-19T21:13:10.425Z"
   },
   {
    "duration": 32,
    "start_time": "2022-08-19T21:13:10.482Z"
   },
   {
    "duration": 37,
    "start_time": "2022-08-19T21:13:10.516Z"
   },
   {
    "duration": 39,
    "start_time": "2022-08-19T21:13:10.555Z"
   },
   {
    "duration": 26,
    "start_time": "2022-08-19T21:13:10.595Z"
   },
   {
    "duration": 32,
    "start_time": "2022-08-19T21:13:10.623Z"
   },
   {
    "duration": 422,
    "start_time": "2022-08-19T21:13:10.657Z"
   },
   {
    "duration": 38,
    "start_time": "2022-08-19T21:13:11.081Z"
   },
   {
    "duration": 17,
    "start_time": "2022-08-19T21:13:11.121Z"
   },
   {
    "duration": 504,
    "start_time": "2022-08-19T21:13:11.140Z"
   },
   {
    "duration": 177,
    "start_time": "2022-08-19T21:13:11.645Z"
   },
   {
    "duration": 56,
    "start_time": "2022-08-19T21:13:11.824Z"
   },
   {
    "duration": 290,
    "start_time": "2022-08-19T21:13:11.883Z"
   },
   {
    "duration": 168,
    "start_time": "2022-08-19T21:13:12.181Z"
   },
   {
    "duration": 9,
    "start_time": "2022-08-19T21:13:12.350Z"
   },
   {
    "duration": 28,
    "start_time": "2022-08-19T21:13:12.361Z"
   },
   {
    "duration": 290,
    "start_time": "2022-08-19T21:13:12.391Z"
   },
   {
    "duration": 181,
    "start_time": "2022-08-19T21:13:12.682Z"
   },
   {
    "duration": 42,
    "start_time": "2022-08-19T21:13:12.870Z"
   },
   {
    "duration": 281,
    "start_time": "2022-08-19T21:13:12.914Z"
   },
   {
    "duration": 186,
    "start_time": "2022-08-19T21:13:13.196Z"
   },
   {
    "duration": 29,
    "start_time": "2022-08-19T21:13:13.384Z"
   },
   {
    "duration": 296,
    "start_time": "2022-08-19T21:13:13.415Z"
   },
   {
    "duration": 166,
    "start_time": "2022-08-19T21:13:13.712Z"
   },
   {
    "duration": 7,
    "start_time": "2022-08-19T21:13:13.880Z"
   },
   {
    "duration": 253,
    "start_time": "2022-08-19T21:13:13.889Z"
   },
   {
    "duration": 340,
    "start_time": "2022-08-19T21:13:14.144Z"
   },
   {
    "duration": 141,
    "start_time": "2022-08-19T21:13:14.486Z"
   },
   {
    "duration": 69,
    "start_time": "2022-08-19T21:13:21.346Z"
   },
   {
    "duration": 163,
    "start_time": "2022-08-19T21:21:23.506Z"
   },
   {
    "duration": 151,
    "start_time": "2022-08-19T21:21:29.512Z"
   },
   {
    "duration": 124,
    "start_time": "2022-08-19T21:21:34.589Z"
   },
   {
    "duration": 131,
    "start_time": "2022-08-19T21:21:36.174Z"
   },
   {
    "duration": 132,
    "start_time": "2022-08-19T21:21:36.508Z"
   },
   {
    "duration": 1575,
    "start_time": "2022-08-19T21:21:40.698Z"
   },
   {
    "duration": 905,
    "start_time": "2022-08-19T21:21:42.274Z"
   },
   {
    "duration": 33,
    "start_time": "2022-08-19T21:21:43.181Z"
   },
   {
    "duration": 121,
    "start_time": "2022-08-19T21:21:43.216Z"
   },
   {
    "duration": 112,
    "start_time": "2022-08-19T21:21:43.339Z"
   },
   {
    "duration": 31,
    "start_time": "2022-08-19T21:21:43.453Z"
   },
   {
    "duration": 21,
    "start_time": "2022-08-19T21:21:43.486Z"
   },
   {
    "duration": 5,
    "start_time": "2022-08-19T21:21:43.509Z"
   },
   {
    "duration": 16,
    "start_time": "2022-08-19T21:21:43.516Z"
   },
   {
    "duration": 54,
    "start_time": "2022-08-19T21:21:43.536Z"
   },
   {
    "duration": 13,
    "start_time": "2022-08-19T21:21:43.592Z"
   },
   {
    "duration": 100,
    "start_time": "2022-08-19T21:21:43.607Z"
   },
   {
    "duration": 34,
    "start_time": "2022-08-19T21:21:43.709Z"
   },
   {
    "duration": 32,
    "start_time": "2022-08-19T21:21:43.745Z"
   },
   {
    "duration": 20,
    "start_time": "2022-08-19T21:21:43.779Z"
   },
   {
    "duration": 22,
    "start_time": "2022-08-19T21:21:43.801Z"
   },
   {
    "duration": 51,
    "start_time": "2022-08-19T21:21:43.825Z"
   },
   {
    "duration": 78,
    "start_time": "2022-08-19T21:21:43.878Z"
   },
   {
    "duration": 31,
    "start_time": "2022-08-19T21:21:43.958Z"
   },
   {
    "duration": 69,
    "start_time": "2022-08-19T21:21:43.991Z"
   },
   {
    "duration": 80,
    "start_time": "2022-08-19T21:21:44.062Z"
   },
   {
    "duration": 39,
    "start_time": "2022-08-19T21:21:44.144Z"
   },
   {
    "duration": 25,
    "start_time": "2022-08-19T21:21:44.185Z"
   },
   {
    "duration": 20,
    "start_time": "2022-08-19T21:21:44.212Z"
   },
   {
    "duration": 18,
    "start_time": "2022-08-19T21:21:44.235Z"
   },
   {
    "duration": 43,
    "start_time": "2022-08-19T21:21:44.255Z"
   },
   {
    "duration": 20,
    "start_time": "2022-08-19T21:21:44.299Z"
   },
   {
    "duration": 32,
    "start_time": "2022-08-19T21:21:44.324Z"
   },
   {
    "duration": 20,
    "start_time": "2022-08-19T21:21:44.368Z"
   },
   {
    "duration": 20,
    "start_time": "2022-08-19T21:21:44.390Z"
   },
   {
    "duration": 16,
    "start_time": "2022-08-19T21:21:44.412Z"
   },
   {
    "duration": 56,
    "start_time": "2022-08-19T21:21:44.430Z"
   },
   {
    "duration": 19,
    "start_time": "2022-08-19T21:21:44.488Z"
   },
   {
    "duration": 20,
    "start_time": "2022-08-19T21:21:44.509Z"
   },
   {
    "duration": 45,
    "start_time": "2022-08-19T21:21:44.531Z"
   },
   {
    "duration": 14,
    "start_time": "2022-08-19T21:21:44.578Z"
   },
   {
    "duration": 22,
    "start_time": "2022-08-19T21:21:44.595Z"
   },
   {
    "duration": 435,
    "start_time": "2022-08-19T21:21:44.619Z"
   },
   {
    "duration": 48,
    "start_time": "2022-08-19T21:21:45.056Z"
   },
   {
    "duration": 19,
    "start_time": "2022-08-19T21:21:45.105Z"
   },
   {
    "duration": 497,
    "start_time": "2022-08-19T21:21:45.126Z"
   },
   {
    "duration": 174,
    "start_time": "2022-08-19T21:21:45.625Z"
   },
   {
    "duration": 27,
    "start_time": "2022-08-19T21:21:45.800Z"
   },
   {
    "duration": 295,
    "start_time": "2022-08-19T21:21:45.829Z"
   },
   {
    "duration": 179,
    "start_time": "2022-08-19T21:21:46.126Z"
   },
   {
    "duration": 8,
    "start_time": "2022-08-19T21:21:46.307Z"
   },
   {
    "duration": 18,
    "start_time": "2022-08-19T21:21:46.317Z"
   },
   {
    "duration": 341,
    "start_time": "2022-08-19T21:21:46.337Z"
   },
   {
    "duration": 200,
    "start_time": "2022-08-19T21:21:46.680Z"
   },
   {
    "duration": 30,
    "start_time": "2022-08-19T21:21:46.882Z"
   },
   {
    "duration": 284,
    "start_time": "2022-08-19T21:21:46.914Z"
   },
   {
    "duration": 186,
    "start_time": "2022-08-19T21:21:47.201Z"
   },
   {
    "duration": 31,
    "start_time": "2022-08-19T21:21:47.389Z"
   },
   {
    "duration": 281,
    "start_time": "2022-08-19T21:21:47.422Z"
   },
   {
    "duration": 164,
    "start_time": "2022-08-19T21:21:47.705Z"
   },
   {
    "duration": 10,
    "start_time": "2022-08-19T21:21:47.871Z"
   },
   {
    "duration": 248,
    "start_time": "2022-08-19T21:21:47.883Z"
   },
   {
    "duration": 336,
    "start_time": "2022-08-19T21:21:48.133Z"
   },
   {
    "duration": 66,
    "start_time": "2022-08-19T21:21:48.471Z"
   },
   {
    "duration": 149,
    "start_time": "2022-08-19T21:21:48.539Z"
   },
   {
    "duration": 153,
    "start_time": "2022-08-19T21:21:48.690Z"
   },
   {
    "duration": 125,
    "start_time": "2022-08-19T21:21:48.845Z"
   },
   {
    "duration": 115,
    "start_time": "2022-08-19T21:22:40.936Z"
   },
   {
    "duration": 3,
    "start_time": "2022-08-19T21:22:43.044Z"
   },
   {
    "duration": 1606,
    "start_time": "2022-08-20T20:34:35.169Z"
   },
   {
    "duration": 1015,
    "start_time": "2022-08-20T20:34:36.777Z"
   },
   {
    "duration": 16,
    "start_time": "2022-08-20T20:34:37.794Z"
   },
   {
    "duration": 132,
    "start_time": "2022-08-20T20:34:37.812Z"
   },
   {
    "duration": 92,
    "start_time": "2022-08-20T20:34:37.945Z"
   },
   {
    "duration": 21,
    "start_time": "2022-08-20T20:34:38.038Z"
   },
   {
    "duration": 14,
    "start_time": "2022-08-20T20:34:38.061Z"
   },
   {
    "duration": 3,
    "start_time": "2022-08-20T20:34:38.086Z"
   },
   {
    "duration": 13,
    "start_time": "2022-08-20T20:34:38.090Z"
   },
   {
    "duration": 31,
    "start_time": "2022-08-20T20:34:38.105Z"
   },
   {
    "duration": 11,
    "start_time": "2022-08-20T20:34:38.137Z"
   },
   {
    "duration": 96,
    "start_time": "2022-08-20T20:34:38.149Z"
   },
   {
    "duration": 31,
    "start_time": "2022-08-20T20:34:38.247Z"
   },
   {
    "duration": 23,
    "start_time": "2022-08-20T20:34:38.279Z"
   },
   {
    "duration": 20,
    "start_time": "2022-08-20T20:34:38.303Z"
   },
   {
    "duration": 15,
    "start_time": "2022-08-20T20:34:38.324Z"
   },
   {
    "duration": 47,
    "start_time": "2022-08-20T20:34:38.340Z"
   },
   {
    "duration": 31,
    "start_time": "2022-08-20T20:34:38.389Z"
   },
   {
    "duration": 24,
    "start_time": "2022-08-20T20:34:38.421Z"
   },
   {
    "duration": 21,
    "start_time": "2022-08-20T20:34:38.447Z"
   },
   {
    "duration": 50,
    "start_time": "2022-08-20T20:34:38.469Z"
   },
   {
    "duration": 38,
    "start_time": "2022-08-20T20:34:38.521Z"
   },
   {
    "duration": 31,
    "start_time": "2022-08-20T20:34:38.560Z"
   },
   {
    "duration": 25,
    "start_time": "2022-08-20T20:34:38.593Z"
   },
   {
    "duration": 17,
    "start_time": "2022-08-20T20:34:38.619Z"
   },
   {
    "duration": 29,
    "start_time": "2022-08-20T20:34:38.637Z"
   },
   {
    "duration": 24,
    "start_time": "2022-08-20T20:34:38.667Z"
   },
   {
    "duration": 28,
    "start_time": "2022-08-20T20:34:38.694Z"
   },
   {
    "duration": 17,
    "start_time": "2022-08-20T20:34:38.724Z"
   },
   {
    "duration": 19,
    "start_time": "2022-08-20T20:34:38.742Z"
   },
   {
    "duration": 27,
    "start_time": "2022-08-20T20:34:38.762Z"
   },
   {
    "duration": 31,
    "start_time": "2022-08-20T20:34:38.790Z"
   },
   {
    "duration": 22,
    "start_time": "2022-08-20T20:34:38.822Z"
   },
   {
    "duration": 25,
    "start_time": "2022-08-20T20:34:38.845Z"
   },
   {
    "duration": 20,
    "start_time": "2022-08-20T20:34:38.871Z"
   },
   {
    "duration": 9,
    "start_time": "2022-08-20T20:34:38.893Z"
   },
   {
    "duration": 14,
    "start_time": "2022-08-20T20:34:38.903Z"
   },
   {
    "duration": 343,
    "start_time": "2022-08-20T20:34:38.918Z"
   },
   {
    "duration": 41,
    "start_time": "2022-08-20T20:34:39.263Z"
   },
   {
    "duration": 14,
    "start_time": "2022-08-20T20:34:39.305Z"
   },
   {
    "duration": 385,
    "start_time": "2022-08-20T20:34:39.321Z"
   },
   {
    "duration": 140,
    "start_time": "2022-08-20T20:34:39.707Z"
   },
   {
    "duration": 26,
    "start_time": "2022-08-20T20:34:39.849Z"
   },
   {
    "duration": 248,
    "start_time": "2022-08-20T20:34:39.877Z"
   },
   {
    "duration": 148,
    "start_time": "2022-08-20T20:34:40.126Z"
   },
   {
    "duration": 12,
    "start_time": "2022-08-20T20:34:40.276Z"
   },
   {
    "duration": 19,
    "start_time": "2022-08-20T20:34:40.290Z"
   },
   {
    "duration": 249,
    "start_time": "2022-08-20T20:34:40.310Z"
   },
   {
    "duration": 154,
    "start_time": "2022-08-20T20:34:40.560Z"
   },
   {
    "duration": 22,
    "start_time": "2022-08-20T20:34:40.715Z"
   },
   {
    "duration": 252,
    "start_time": "2022-08-20T20:34:40.738Z"
   },
   {
    "duration": 170,
    "start_time": "2022-08-20T20:34:40.991Z"
   },
   {
    "duration": 27,
    "start_time": "2022-08-20T20:34:41.163Z"
   },
   {
    "duration": 224,
    "start_time": "2022-08-20T20:34:41.192Z"
   },
   {
    "duration": 137,
    "start_time": "2022-08-20T20:34:41.418Z"
   },
   {
    "duration": 6,
    "start_time": "2022-08-20T20:34:41.557Z"
   },
   {
    "duration": 213,
    "start_time": "2022-08-20T20:34:41.565Z"
   },
   {
    "duration": 285,
    "start_time": "2022-08-20T20:34:41.780Z"
   },
   {
    "duration": 77,
    "start_time": "2022-08-20T20:34:42.067Z"
   },
   {
    "duration": 127,
    "start_time": "2022-08-20T20:34:42.145Z"
   },
   {
    "duration": 140,
    "start_time": "2022-08-20T20:34:42.273Z"
   },
   {
    "duration": 123,
    "start_time": "2022-08-20T20:34:42.414Z"
   },
   {
    "duration": 4,
    "start_time": "2022-08-20T20:34:42.538Z"
   },
   {
    "duration": 3,
    "start_time": "2022-08-20T20:49:28.837Z"
   },
   {
    "duration": 107,
    "start_time": "2022-08-20T20:51:03.214Z"
   },
   {
    "duration": 9,
    "start_time": "2022-08-20T20:51:15.398Z"
   },
   {
    "duration": 3,
    "start_time": "2022-08-20T20:51:36.161Z"
   },
   {
    "duration": 9,
    "start_time": "2022-08-20T20:51:53.592Z"
   },
   {
    "duration": 9,
    "start_time": "2022-08-20T21:06:31.092Z"
   },
   {
    "duration": 5,
    "start_time": "2022-08-20T21:06:42.069Z"
   },
   {
    "duration": 10,
    "start_time": "2022-08-20T21:06:48.148Z"
   },
   {
    "duration": 6,
    "start_time": "2022-08-20T21:07:15.448Z"
   },
   {
    "duration": 7,
    "start_time": "2022-08-20T21:07:16.520Z"
   },
   {
    "duration": 1882,
    "start_time": "2022-08-20T21:07:21.954Z"
   },
   {
    "duration": 744,
    "start_time": "2022-08-20T21:07:23.838Z"
   },
   {
    "duration": 18,
    "start_time": "2022-08-20T21:07:24.583Z"
   },
   {
    "duration": 137,
    "start_time": "2022-08-20T21:07:24.602Z"
   },
   {
    "duration": 92,
    "start_time": "2022-08-20T21:07:24.741Z"
   },
   {
    "duration": 22,
    "start_time": "2022-08-20T21:07:24.834Z"
   },
   {
    "duration": 13,
    "start_time": "2022-08-20T21:07:24.858Z"
   },
   {
    "duration": 15,
    "start_time": "2022-08-20T21:07:24.872Z"
   },
   {
    "duration": 13,
    "start_time": "2022-08-20T21:07:24.888Z"
   },
   {
    "duration": 35,
    "start_time": "2022-08-20T21:07:24.903Z"
   },
   {
    "duration": 11,
    "start_time": "2022-08-20T21:07:24.940Z"
   },
   {
    "duration": 96,
    "start_time": "2022-08-20T21:07:24.952Z"
   },
   {
    "duration": 39,
    "start_time": "2022-08-20T21:07:25.049Z"
   },
   {
    "duration": 19,
    "start_time": "2022-08-20T21:07:25.089Z"
   },
   {
    "duration": 21,
    "start_time": "2022-08-20T21:07:25.110Z"
   },
   {
    "duration": 17,
    "start_time": "2022-08-20T21:07:25.132Z"
   },
   {
    "duration": 52,
    "start_time": "2022-08-20T21:07:25.150Z"
   },
   {
    "duration": 37,
    "start_time": "2022-08-20T21:07:25.203Z"
   },
   {
    "duration": 21,
    "start_time": "2022-08-20T21:07:25.242Z"
   },
   {
    "duration": 41,
    "start_time": "2022-08-20T21:07:25.264Z"
   },
   {
    "duration": 39,
    "start_time": "2022-08-20T21:07:25.306Z"
   },
   {
    "duration": 41,
    "start_time": "2022-08-20T21:07:25.346Z"
   },
   {
    "duration": 19,
    "start_time": "2022-08-20T21:07:25.389Z"
   },
   {
    "duration": 30,
    "start_time": "2022-08-20T21:07:25.409Z"
   },
   {
    "duration": 29,
    "start_time": "2022-08-20T21:07:25.441Z"
   },
   {
    "duration": 44,
    "start_time": "2022-08-20T21:07:25.472Z"
   },
   {
    "duration": 24,
    "start_time": "2022-08-20T21:07:25.518Z"
   },
   {
    "duration": 39,
    "start_time": "2022-08-20T21:07:25.549Z"
   },
   {
    "duration": 33,
    "start_time": "2022-08-20T21:07:25.590Z"
   },
   {
    "duration": 18,
    "start_time": "2022-08-20T21:07:25.625Z"
   },
   {
    "duration": 25,
    "start_time": "2022-08-20T21:07:25.645Z"
   },
   {
    "duration": 35,
    "start_time": "2022-08-20T21:07:25.671Z"
   },
   {
    "duration": 28,
    "start_time": "2022-08-20T21:07:25.707Z"
   },
   {
    "duration": 30,
    "start_time": "2022-08-20T21:07:25.736Z"
   },
   {
    "duration": 20,
    "start_time": "2022-08-20T21:07:25.768Z"
   },
   {
    "duration": 21,
    "start_time": "2022-08-20T21:07:25.790Z"
   },
   {
    "duration": 27,
    "start_time": "2022-08-20T21:07:25.812Z"
   },
   {
    "duration": 369,
    "start_time": "2022-08-20T21:07:25.840Z"
   },
   {
    "duration": 37,
    "start_time": "2022-08-20T21:07:26.210Z"
   },
   {
    "duration": 18,
    "start_time": "2022-08-20T21:07:26.249Z"
   },
   {
    "duration": 459,
    "start_time": "2022-08-20T21:07:26.288Z"
   },
   {
    "duration": 148,
    "start_time": "2022-08-20T21:07:26.749Z"
   },
   {
    "duration": 28,
    "start_time": "2022-08-20T21:07:26.899Z"
   },
   {
    "duration": 268,
    "start_time": "2022-08-20T21:07:26.929Z"
   },
   {
    "duration": 156,
    "start_time": "2022-08-20T21:07:27.199Z"
   },
   {
    "duration": 8,
    "start_time": "2022-08-20T21:07:27.356Z"
   },
   {
    "duration": 29,
    "start_time": "2022-08-20T21:07:27.366Z"
   },
   {
    "duration": 264,
    "start_time": "2022-08-20T21:07:27.397Z"
   },
   {
    "duration": 184,
    "start_time": "2022-08-20T21:07:27.664Z"
   },
   {
    "duration": 38,
    "start_time": "2022-08-20T21:07:27.851Z"
   },
   {
    "duration": 251,
    "start_time": "2022-08-20T21:07:27.890Z"
   },
   {
    "duration": 157,
    "start_time": "2022-08-20T21:07:28.142Z"
   },
   {
    "duration": 25,
    "start_time": "2022-08-20T21:07:28.300Z"
   },
   {
    "duration": 248,
    "start_time": "2022-08-20T21:07:28.327Z"
   },
   {
    "duration": 135,
    "start_time": "2022-08-20T21:07:28.576Z"
   },
   {
    "duration": 7,
    "start_time": "2022-08-20T21:07:28.713Z"
   },
   {
    "duration": 214,
    "start_time": "2022-08-20T21:07:28.721Z"
   },
   {
    "duration": 297,
    "start_time": "2022-08-20T21:07:28.936Z"
   },
   {
    "duration": 75,
    "start_time": "2022-08-20T21:07:29.235Z"
   },
   {
    "duration": 122,
    "start_time": "2022-08-20T21:07:29.311Z"
   },
   {
    "duration": 146,
    "start_time": "2022-08-20T21:07:29.434Z"
   },
   {
    "duration": 126,
    "start_time": "2022-08-20T21:07:29.582Z"
   },
   {
    "duration": 4,
    "start_time": "2022-08-20T21:07:29.711Z"
   },
   {
    "duration": 7,
    "start_time": "2022-08-20T21:07:29.716Z"
   },
   {
    "duration": 120,
    "start_time": "2022-08-20T21:07:29.724Z"
   },
   {
    "duration": 0,
    "start_time": "2022-08-20T21:07:29.846Z"
   },
   {
    "duration": 9,
    "start_time": "2022-08-20T21:07:34.614Z"
   },
   {
    "duration": 13,
    "start_time": "2022-08-20T21:07:52.065Z"
   },
   {
    "duration": 52,
    "start_time": "2022-08-20T21:07:58.731Z"
   },
   {
    "duration": 479,
    "start_time": "2022-08-20T21:08:01.014Z"
   },
   {
    "duration": 14,
    "start_time": "2022-08-20T21:08:02.249Z"
   },
   {
    "duration": 1508,
    "start_time": "2022-08-22T20:08:07.763Z"
   },
   {
    "duration": 2978,
    "start_time": "2022-08-22T20:08:09.273Z"
   },
   {
    "duration": 18,
    "start_time": "2022-08-22T20:08:12.252Z"
   },
   {
    "duration": 121,
    "start_time": "2022-08-22T20:08:12.271Z"
   },
   {
    "duration": 92,
    "start_time": "2022-08-22T20:08:12.394Z"
   },
   {
    "duration": 29,
    "start_time": "2022-08-22T20:08:12.487Z"
   },
   {
    "duration": 15,
    "start_time": "2022-08-22T20:08:12.518Z"
   },
   {
    "duration": 5,
    "start_time": "2022-08-22T20:08:12.535Z"
   },
   {
    "duration": 17,
    "start_time": "2022-08-22T20:08:12.542Z"
   },
   {
    "duration": 33,
    "start_time": "2022-08-22T20:08:12.560Z"
   },
   {
    "duration": 24,
    "start_time": "2022-08-22T20:08:12.595Z"
   },
   {
    "duration": 68,
    "start_time": "2022-08-22T20:08:12.621Z"
   },
   {
    "duration": 45,
    "start_time": "2022-08-22T20:08:12.691Z"
   },
   {
    "duration": 16,
    "start_time": "2022-08-22T20:08:12.739Z"
   },
   {
    "duration": 17,
    "start_time": "2022-08-22T20:08:12.756Z"
   },
   {
    "duration": 32,
    "start_time": "2022-08-22T20:08:12.774Z"
   },
   {
    "duration": 31,
    "start_time": "2022-08-22T20:08:12.808Z"
   },
   {
    "duration": 26,
    "start_time": "2022-08-22T20:08:12.841Z"
   },
   {
    "duration": 15,
    "start_time": "2022-08-22T20:08:12.869Z"
   },
   {
    "duration": 42,
    "start_time": "2022-08-22T20:08:12.886Z"
   },
   {
    "duration": 35,
    "start_time": "2022-08-22T20:08:12.930Z"
   },
   {
    "duration": 47,
    "start_time": "2022-08-22T20:08:12.967Z"
   },
   {
    "duration": 19,
    "start_time": "2022-08-22T20:08:13.016Z"
   },
   {
    "duration": 22,
    "start_time": "2022-08-22T20:08:13.036Z"
   },
   {
    "duration": 17,
    "start_time": "2022-08-22T20:08:13.059Z"
   },
   {
    "duration": 34,
    "start_time": "2022-08-22T20:08:13.077Z"
   },
   {
    "duration": 23,
    "start_time": "2022-08-22T20:08:13.113Z"
   },
   {
    "duration": 23,
    "start_time": "2022-08-22T20:08:13.138Z"
   },
   {
    "duration": 15,
    "start_time": "2022-08-22T20:08:13.162Z"
   },
   {
    "duration": 18,
    "start_time": "2022-08-22T20:08:13.178Z"
   },
   {
    "duration": 27,
    "start_time": "2022-08-22T20:08:13.198Z"
   },
   {
    "duration": 25,
    "start_time": "2022-08-22T20:08:13.226Z"
   },
   {
    "duration": 16,
    "start_time": "2022-08-22T20:08:13.252Z"
   },
   {
    "duration": 36,
    "start_time": "2022-08-22T20:08:13.269Z"
   },
   {
    "duration": 17,
    "start_time": "2022-08-22T20:08:13.307Z"
   },
   {
    "duration": 11,
    "start_time": "2022-08-22T20:08:13.326Z"
   },
   {
    "duration": 19,
    "start_time": "2022-08-22T20:08:13.338Z"
   },
   {
    "duration": 363,
    "start_time": "2022-08-22T20:08:13.358Z"
   },
   {
    "duration": 31,
    "start_time": "2022-08-22T20:08:13.723Z"
   },
   {
    "duration": 15,
    "start_time": "2022-08-22T20:08:13.755Z"
   },
   {
    "duration": 449,
    "start_time": "2022-08-22T20:08:13.774Z"
   },
   {
    "duration": 152,
    "start_time": "2022-08-22T20:08:14.225Z"
   },
   {
    "duration": 33,
    "start_time": "2022-08-22T20:08:14.378Z"
   },
   {
    "duration": 251,
    "start_time": "2022-08-22T20:08:14.413Z"
   },
   {
    "duration": 156,
    "start_time": "2022-08-22T20:08:14.666Z"
   },
   {
    "duration": 7,
    "start_time": "2022-08-22T20:08:14.824Z"
   },
   {
    "duration": 14,
    "start_time": "2022-08-22T20:08:14.832Z"
   },
   {
    "duration": 251,
    "start_time": "2022-08-22T20:08:14.847Z"
   },
   {
    "duration": 161,
    "start_time": "2022-08-22T20:08:15.105Z"
   },
   {
    "duration": 22,
    "start_time": "2022-08-22T20:08:15.268Z"
   },
   {
    "duration": 258,
    "start_time": "2022-08-22T20:08:15.292Z"
   },
   {
    "duration": 173,
    "start_time": "2022-08-22T20:08:15.552Z"
   },
   {
    "duration": 23,
    "start_time": "2022-08-22T20:08:15.727Z"
   },
   {
    "duration": 243,
    "start_time": "2022-08-22T20:08:15.752Z"
   },
   {
    "duration": 176,
    "start_time": "2022-08-22T20:08:15.997Z"
   },
   {
    "duration": 8,
    "start_time": "2022-08-22T20:08:16.175Z"
   },
   {
    "duration": 251,
    "start_time": "2022-08-22T20:08:16.185Z"
   },
   {
    "duration": 308,
    "start_time": "2022-08-22T20:08:16.438Z"
   },
   {
    "duration": 70,
    "start_time": "2022-08-22T20:08:16.747Z"
   },
   {
    "duration": 117,
    "start_time": "2022-08-22T20:08:16.819Z"
   },
   {
    "duration": 133,
    "start_time": "2022-08-22T20:08:16.938Z"
   },
   {
    "duration": 122,
    "start_time": "2022-08-22T20:08:17.073Z"
   },
   {
    "duration": 3,
    "start_time": "2022-08-22T20:08:17.196Z"
   },
   {
    "duration": 3,
    "start_time": "2022-08-22T20:08:17.205Z"
   },
   {
    "duration": 486,
    "start_time": "2022-08-22T20:08:17.210Z"
   },
   {
    "duration": 25,
    "start_time": "2022-08-22T20:08:17.697Z"
   },
   {
    "duration": 134,
    "start_time": "2022-08-22T20:11:34.691Z"
   },
   {
    "duration": 156,
    "start_time": "2022-08-22T20:12:59.733Z"
   },
   {
    "duration": 233,
    "start_time": "2022-08-22T20:14:09.522Z"
   },
   {
    "duration": 8,
    "start_time": "2022-08-22T20:30:18.782Z"
   },
   {
    "duration": 9,
    "start_time": "2022-08-22T20:30:28.483Z"
   },
   {
    "duration": 4,
    "start_time": "2022-08-22T20:30:45.637Z"
   },
   {
    "duration": 10,
    "start_time": "2022-08-22T20:30:53.668Z"
   },
   {
    "duration": 15086,
    "start_time": "2022-08-22T20:31:16.242Z"
   },
   {
    "duration": 14861,
    "start_time": "2022-08-22T20:34:17.746Z"
   },
   {
    "duration": 14958,
    "start_time": "2022-08-22T20:34:37.057Z"
   },
   {
    "duration": 14920,
    "start_time": "2022-08-22T20:35:14.595Z"
   },
   {
    "duration": 4,
    "start_time": "2022-08-22T20:36:46.124Z"
   },
   {
    "duration": 14525,
    "start_time": "2022-08-22T20:52:17.894Z"
   },
   {
    "duration": 76,
    "start_time": "2022-08-22T20:54:27.927Z"
   },
   {
    "duration": 14968,
    "start_time": "2022-08-22T20:56:08.044Z"
   },
   {
    "duration": 16034,
    "start_time": "2022-08-22T20:56:32.672Z"
   },
   {
    "duration": 133,
    "start_time": "2022-08-22T21:01:49.866Z"
   },
   {
    "duration": 82,
    "start_time": "2022-08-22T21:03:47.448Z"
   },
   {
    "duration": 10,
    "start_time": "2022-08-22T21:03:54.297Z"
   },
   {
    "duration": 9,
    "start_time": "2022-08-22T21:07:20.725Z"
   },
   {
    "duration": 4,
    "start_time": "2022-08-22T21:07:48.436Z"
   },
   {
    "duration": 15453,
    "start_time": "2022-08-22T21:07:52.461Z"
   },
   {
    "duration": 15779,
    "start_time": "2022-08-22T21:09:29.931Z"
   },
   {
    "duration": 15403,
    "start_time": "2022-08-22T21:17:08.003Z"
   },
   {
    "duration": 15566,
    "start_time": "2022-08-22T21:17:27.544Z"
   },
   {
    "duration": 3,
    "start_time": "2022-08-22T21:22:23.780Z"
   },
   {
    "duration": 3,
    "start_time": "2022-08-22T21:23:17.727Z"
   },
   {
    "duration": 3,
    "start_time": "2022-08-22T21:24:30.401Z"
   },
   {
    "duration": 2,
    "start_time": "2022-08-22T21:24:30.713Z"
   },
   {
    "duration": 7724,
    "start_time": "2022-08-22T21:27:28.284Z"
   },
   {
    "duration": 7,
    "start_time": "2022-08-22T21:40:31.965Z"
   },
   {
    "duration": 6,
    "start_time": "2022-08-22T21:40:36.822Z"
   },
   {
    "duration": 4,
    "start_time": "2022-08-22T21:42:44.327Z"
   },
   {
    "duration": 5,
    "start_time": "2022-08-22T21:42:54.164Z"
   },
   {
    "duration": 1328,
    "start_time": "2022-08-22T21:43:30.933Z"
   },
   {
    "duration": 786,
    "start_time": "2022-08-22T21:43:32.262Z"
   },
   {
    "duration": 18,
    "start_time": "2022-08-22T21:43:33.050Z"
   },
   {
    "duration": 123,
    "start_time": "2022-08-22T21:43:33.070Z"
   },
   {
    "duration": 97,
    "start_time": "2022-08-22T21:43:33.195Z"
   },
   {
    "duration": 30,
    "start_time": "2022-08-22T21:43:33.294Z"
   },
   {
    "duration": 24,
    "start_time": "2022-08-22T21:43:33.325Z"
   },
   {
    "duration": 8,
    "start_time": "2022-08-22T21:43:33.351Z"
   },
   {
    "duration": 22,
    "start_time": "2022-08-22T21:43:33.361Z"
   },
   {
    "duration": 46,
    "start_time": "2022-08-22T21:43:33.385Z"
   },
   {
    "duration": 10,
    "start_time": "2022-08-22T21:43:33.433Z"
   },
   {
    "duration": 80,
    "start_time": "2022-08-22T21:43:33.444Z"
   },
   {
    "duration": 30,
    "start_time": "2022-08-22T21:43:33.526Z"
   },
   {
    "duration": 22,
    "start_time": "2022-08-22T21:43:33.559Z"
   },
   {
    "duration": 35,
    "start_time": "2022-08-22T21:43:33.583Z"
   },
   {
    "duration": 37,
    "start_time": "2022-08-22T21:43:33.620Z"
   },
   {
    "duration": 42,
    "start_time": "2022-08-22T21:43:33.658Z"
   },
   {
    "duration": 45,
    "start_time": "2022-08-22T21:43:33.702Z"
   },
   {
    "duration": 20,
    "start_time": "2022-08-22T21:43:33.748Z"
   },
   {
    "duration": 26,
    "start_time": "2022-08-22T21:43:33.769Z"
   },
   {
    "duration": 47,
    "start_time": "2022-08-22T21:43:33.797Z"
   },
   {
    "duration": 32,
    "start_time": "2022-08-22T21:43:33.845Z"
   },
   {
    "duration": 29,
    "start_time": "2022-08-22T21:43:33.878Z"
   },
   {
    "duration": 21,
    "start_time": "2022-08-22T21:43:33.908Z"
   },
   {
    "duration": 27,
    "start_time": "2022-08-22T21:43:33.930Z"
   },
   {
    "duration": 57,
    "start_time": "2022-08-22T21:43:33.958Z"
   },
   {
    "duration": 17,
    "start_time": "2022-08-22T21:43:34.017Z"
   },
   {
    "duration": 34,
    "start_time": "2022-08-22T21:43:34.035Z"
   },
   {
    "duration": 20,
    "start_time": "2022-08-22T21:43:34.071Z"
   },
   {
    "duration": 28,
    "start_time": "2022-08-22T21:43:34.092Z"
   },
   {
    "duration": 13,
    "start_time": "2022-08-22T21:43:34.122Z"
   },
   {
    "duration": 27,
    "start_time": "2022-08-22T21:43:34.136Z"
   },
   {
    "duration": 14,
    "start_time": "2022-08-22T21:43:34.164Z"
   },
   {
    "duration": 38,
    "start_time": "2022-08-22T21:43:34.180Z"
   },
   {
    "duration": 16,
    "start_time": "2022-08-22T21:43:34.220Z"
   },
   {
    "duration": 11,
    "start_time": "2022-08-22T21:43:34.237Z"
   },
   {
    "duration": 15,
    "start_time": "2022-08-22T21:43:34.250Z"
   },
   {
    "duration": 367,
    "start_time": "2022-08-22T21:43:34.266Z"
   },
   {
    "duration": 35,
    "start_time": "2022-08-22T21:43:34.634Z"
   },
   {
    "duration": 16,
    "start_time": "2022-08-22T21:43:34.670Z"
   },
   {
    "duration": 416,
    "start_time": "2022-08-22T21:43:34.690Z"
   },
   {
    "duration": 151,
    "start_time": "2022-08-22T21:43:35.108Z"
   },
   {
    "duration": 28,
    "start_time": "2022-08-22T21:43:35.261Z"
   },
   {
    "duration": 233,
    "start_time": "2022-08-22T21:43:35.291Z"
   },
   {
    "duration": 140,
    "start_time": "2022-08-22T21:43:35.525Z"
   },
   {
    "duration": 7,
    "start_time": "2022-08-22T21:43:35.667Z"
   },
   {
    "duration": 15,
    "start_time": "2022-08-22T21:43:35.675Z"
   },
   {
    "duration": 225,
    "start_time": "2022-08-22T21:43:35.691Z"
   },
   {
    "duration": 176,
    "start_time": "2022-08-22T21:43:35.918Z"
   },
   {
    "duration": 35,
    "start_time": "2022-08-22T21:43:36.096Z"
   },
   {
    "duration": 247,
    "start_time": "2022-08-22T21:43:36.133Z"
   },
   {
    "duration": 146,
    "start_time": "2022-08-22T21:43:36.381Z"
   },
   {
    "duration": 25,
    "start_time": "2022-08-22T21:43:36.529Z"
   },
   {
    "duration": 217,
    "start_time": "2022-08-22T21:43:36.556Z"
   },
   {
    "duration": 145,
    "start_time": "2022-08-22T21:43:36.775Z"
   },
   {
    "duration": 6,
    "start_time": "2022-08-22T21:43:36.921Z"
   },
   {
    "duration": 194,
    "start_time": "2022-08-22T21:43:36.928Z"
   },
   {
    "duration": 369,
    "start_time": "2022-08-22T21:43:37.124Z"
   },
   {
    "duration": 56,
    "start_time": "2022-08-22T21:43:37.494Z"
   },
   {
    "duration": 115,
    "start_time": "2022-08-22T21:43:37.551Z"
   },
   {
    "duration": 138,
    "start_time": "2022-08-22T21:43:37.668Z"
   },
   {
    "duration": 117,
    "start_time": "2022-08-22T21:43:37.808Z"
   },
   {
    "duration": 4,
    "start_time": "2022-08-22T21:43:37.927Z"
   },
   {
    "duration": 6,
    "start_time": "2022-08-22T21:43:37.932Z"
   },
   {
    "duration": 8,
    "start_time": "2022-08-22T21:43:37.939Z"
   },
   {
    "duration": 4,
    "start_time": "2022-08-22T21:43:37.949Z"
   },
   {
    "duration": 454,
    "start_time": "2022-08-22T21:43:37.955Z"
   },
   {
    "duration": 13,
    "start_time": "2022-08-22T21:43:38.410Z"
   },
   {
    "duration": 159,
    "start_time": "2022-08-22T21:43:38.425Z"
   },
   {
    "duration": 208,
    "start_time": "2022-08-22T21:43:38.585Z"
   },
   {
    "duration": 3,
    "start_time": "2022-08-22T21:43:38.795Z"
   },
   {
    "duration": 2,
    "start_time": "2022-08-22T21:43:38.806Z"
   },
   {
    "duration": 5,
    "start_time": "2022-08-22T21:43:38.810Z"
   },
   {
    "duration": 14498,
    "start_time": "2022-08-22T21:43:38.816Z"
   },
   {
    "duration": 4801,
    "start_time": "2022-08-22T21:43:53.316Z"
   },
   {
    "duration": 79,
    "start_time": "2022-08-22T21:45:23.337Z"
   },
   {
    "duration": 73,
    "start_time": "2022-08-22T21:46:28.250Z"
   },
   {
    "duration": 75,
    "start_time": "2022-08-22T21:46:32.466Z"
   },
   {
    "duration": 98,
    "start_time": "2022-08-22T21:46:49.809Z"
   },
   {
    "duration": 2,
    "start_time": "2022-08-22T21:46:57.269Z"
   },
   {
    "duration": 4,
    "start_time": "2022-08-22T21:47:17.394Z"
   },
   {
    "duration": 90,
    "start_time": "2022-08-22T21:48:53.236Z"
   },
   {
    "duration": 79,
    "start_time": "2022-08-22T21:49:08.270Z"
   },
   {
    "duration": 4,
    "start_time": "2022-08-22T21:49:43.524Z"
   },
   {
    "duration": 4,
    "start_time": "2022-08-22T21:49:53.265Z"
   },
   {
    "duration": 2334,
    "start_time": "2022-08-23T14:48:47.907Z"
   },
   {
    "duration": 985,
    "start_time": "2022-08-23T14:48:50.243Z"
   },
   {
    "duration": 17,
    "start_time": "2022-08-23T14:48:51.229Z"
   },
   {
    "duration": 114,
    "start_time": "2022-08-23T14:48:51.247Z"
   },
   {
    "duration": 95,
    "start_time": "2022-08-23T14:48:51.363Z"
   },
   {
    "duration": 23,
    "start_time": "2022-08-23T14:48:51.460Z"
   },
   {
    "duration": 21,
    "start_time": "2022-08-23T14:48:51.485Z"
   },
   {
    "duration": 4,
    "start_time": "2022-08-23T14:48:51.508Z"
   },
   {
    "duration": 15,
    "start_time": "2022-08-23T14:48:51.513Z"
   },
   {
    "duration": 32,
    "start_time": "2022-08-23T14:48:51.530Z"
   },
   {
    "duration": 10,
    "start_time": "2022-08-23T14:48:51.563Z"
   },
   {
    "duration": 86,
    "start_time": "2022-08-23T14:48:51.574Z"
   },
   {
    "duration": 37,
    "start_time": "2022-08-23T14:48:51.662Z"
   },
   {
    "duration": 15,
    "start_time": "2022-08-23T14:48:51.701Z"
   },
   {
    "duration": 18,
    "start_time": "2022-08-23T14:48:51.717Z"
   },
   {
    "duration": 14,
    "start_time": "2022-08-23T14:48:51.737Z"
   },
   {
    "duration": 50,
    "start_time": "2022-08-23T14:48:51.753Z"
   },
   {
    "duration": 29,
    "start_time": "2022-08-23T14:48:51.804Z"
   },
   {
    "duration": 14,
    "start_time": "2022-08-23T14:48:51.835Z"
   },
   {
    "duration": 19,
    "start_time": "2022-08-23T14:48:51.851Z"
   },
   {
    "duration": 59,
    "start_time": "2022-08-23T14:48:51.872Z"
   },
   {
    "duration": 30,
    "start_time": "2022-08-23T14:48:51.933Z"
   },
   {
    "duration": 33,
    "start_time": "2022-08-23T14:48:51.965Z"
   },
   {
    "duration": 17,
    "start_time": "2022-08-23T14:48:52.000Z"
   },
   {
    "duration": 15,
    "start_time": "2022-08-23T14:48:52.018Z"
   },
   {
    "duration": 33,
    "start_time": "2022-08-23T14:48:52.034Z"
   },
   {
    "duration": 38,
    "start_time": "2022-08-23T14:48:52.068Z"
   },
   {
    "duration": 27,
    "start_time": "2022-08-23T14:48:52.107Z"
   },
   {
    "duration": 18,
    "start_time": "2022-08-23T14:48:52.136Z"
   },
   {
    "duration": 43,
    "start_time": "2022-08-23T14:48:52.156Z"
   },
   {
    "duration": 14,
    "start_time": "2022-08-23T14:48:52.200Z"
   },
   {
    "duration": 28,
    "start_time": "2022-08-23T14:48:52.215Z"
   },
   {
    "duration": 16,
    "start_time": "2022-08-23T14:48:52.244Z"
   },
   {
    "duration": 37,
    "start_time": "2022-08-23T14:48:52.262Z"
   },
   {
    "duration": 13,
    "start_time": "2022-08-23T14:48:52.301Z"
   },
   {
    "duration": 8,
    "start_time": "2022-08-23T14:48:52.316Z"
   },
   {
    "duration": 16,
    "start_time": "2022-08-23T14:48:52.326Z"
   },
   {
    "duration": 355,
    "start_time": "2022-08-23T14:48:52.344Z"
   },
   {
    "duration": 32,
    "start_time": "2022-08-23T14:48:52.701Z"
   },
   {
    "duration": 17,
    "start_time": "2022-08-23T14:48:52.734Z"
   },
   {
    "duration": 414,
    "start_time": "2022-08-23T14:48:52.755Z"
   },
   {
    "duration": 155,
    "start_time": "2022-08-23T14:48:53.171Z"
   },
   {
    "duration": 29,
    "start_time": "2022-08-23T14:48:53.327Z"
   },
   {
    "duration": 254,
    "start_time": "2022-08-23T14:48:53.357Z"
   },
   {
    "duration": 155,
    "start_time": "2022-08-23T14:48:53.612Z"
   },
   {
    "duration": 8,
    "start_time": "2022-08-23T14:48:53.768Z"
   },
   {
    "duration": 31,
    "start_time": "2022-08-23T14:48:53.778Z"
   },
   {
    "duration": 237,
    "start_time": "2022-08-23T14:48:53.810Z"
   },
   {
    "duration": 171,
    "start_time": "2022-08-23T14:48:54.049Z"
   },
   {
    "duration": 25,
    "start_time": "2022-08-23T14:48:54.222Z"
   },
   {
    "duration": 260,
    "start_time": "2022-08-23T14:48:54.248Z"
   },
   {
    "duration": 178,
    "start_time": "2022-08-23T14:48:54.510Z"
   },
   {
    "duration": 30,
    "start_time": "2022-08-23T14:48:54.690Z"
   },
   {
    "duration": 240,
    "start_time": "2022-08-23T14:48:54.721Z"
   },
   {
    "duration": 152,
    "start_time": "2022-08-23T14:48:54.962Z"
   },
   {
    "duration": 8,
    "start_time": "2022-08-23T14:48:55.116Z"
   },
   {
    "duration": 228,
    "start_time": "2022-08-23T14:48:55.126Z"
   },
   {
    "duration": 301,
    "start_time": "2022-08-23T14:48:55.356Z"
   },
   {
    "duration": 66,
    "start_time": "2022-08-23T14:48:55.658Z"
   },
   {
    "duration": 134,
    "start_time": "2022-08-23T14:48:55.725Z"
   },
   {
    "duration": 137,
    "start_time": "2022-08-23T14:48:55.861Z"
   },
   {
    "duration": 125,
    "start_time": "2022-08-23T14:48:56.000Z"
   },
   {
    "duration": 4,
    "start_time": "2022-08-23T14:48:56.126Z"
   },
   {
    "duration": 9,
    "start_time": "2022-08-23T14:48:56.131Z"
   },
   {
    "duration": 8,
    "start_time": "2022-08-23T14:48:56.141Z"
   },
   {
    "duration": 6,
    "start_time": "2022-08-23T14:48:56.150Z"
   },
   {
    "duration": 4,
    "start_time": "2022-08-23T14:48:56.157Z"
   },
   {
    "duration": 387,
    "start_time": "2022-08-23T14:48:56.162Z"
   },
   {
    "duration": 13,
    "start_time": "2022-08-23T14:48:56.550Z"
   },
   {
    "duration": 127,
    "start_time": "2022-08-23T14:48:56.565Z"
   },
   {
    "duration": 158,
    "start_time": "2022-08-23T14:48:56.693Z"
   },
   {
    "duration": 3,
    "start_time": "2022-08-23T14:48:56.853Z"
   },
   {
    "duration": 10,
    "start_time": "2022-08-23T14:48:56.857Z"
   },
   {
    "duration": 4,
    "start_time": "2022-08-23T14:48:56.869Z"
   },
   {
    "duration": 14333,
    "start_time": "2022-08-23T14:48:56.874Z"
   },
   {
    "duration": 0,
    "start_time": "2022-08-23T14:49:11.209Z"
   },
   {
    "duration": 0,
    "start_time": "2022-08-23T14:49:11.210Z"
   },
   {
    "duration": 4,
    "start_time": "2022-08-23T14:49:32.935Z"
   },
   {
    "duration": 3,
    "start_time": "2022-08-23T14:51:27.487Z"
   },
   {
    "duration": 3,
    "start_time": "2022-08-23T14:51:27.626Z"
   },
   {
    "duration": 13401,
    "start_time": "2022-08-23T14:52:07.499Z"
   },
   {
    "duration": 12972,
    "start_time": "2022-08-23T14:52:26.331Z"
   },
   {
    "duration": 13247,
    "start_time": "2022-08-23T15:03:39.155Z"
   },
   {
    "duration": 17040,
    "start_time": "2022-08-23T15:05:16.060Z"
   },
   {
    "duration": 5779,
    "start_time": "2022-08-23T15:06:39.526Z"
   },
   {
    "duration": 12782,
    "start_time": "2022-08-23T15:07:01.323Z"
   },
   {
    "duration": 4269,
    "start_time": "2022-08-23T15:07:15.935Z"
   },
   {
    "duration": 11,
    "start_time": "2022-08-23T15:09:39.892Z"
   },
   {
    "duration": 16141,
    "start_time": "2022-08-23T15:11:25.270Z"
   },
   {
    "duration": 18941,
    "start_time": "2022-08-23T15:11:51.258Z"
   },
   {
    "duration": 366,
    "start_time": "2022-08-23T15:16:42.854Z"
   },
   {
    "duration": 3,
    "start_time": "2022-08-23T15:35:56.065Z"
   },
   {
    "duration": 379,
    "start_time": "2022-08-23T15:36:53.476Z"
   },
   {
    "duration": 421,
    "start_time": "2022-08-23T15:37:10.917Z"
   },
   {
    "duration": 393,
    "start_time": "2022-08-23T15:37:28.149Z"
   },
   {
    "duration": 383,
    "start_time": "2022-08-23T15:37:43.231Z"
   },
   {
    "duration": 1378,
    "start_time": "2022-08-23T15:38:03.909Z"
   },
   {
    "duration": 747,
    "start_time": "2022-08-23T15:38:05.289Z"
   },
   {
    "duration": 18,
    "start_time": "2022-08-23T15:38:06.037Z"
   },
   {
    "duration": 119,
    "start_time": "2022-08-23T15:38:06.057Z"
   },
   {
    "duration": 126,
    "start_time": "2022-08-23T15:38:06.178Z"
   },
   {
    "duration": 22,
    "start_time": "2022-08-23T15:38:06.305Z"
   },
   {
    "duration": 13,
    "start_time": "2022-08-23T15:38:06.328Z"
   },
   {
    "duration": 8,
    "start_time": "2022-08-23T15:38:06.343Z"
   },
   {
    "duration": 10,
    "start_time": "2022-08-23T15:38:06.353Z"
   },
   {
    "duration": 51,
    "start_time": "2022-08-23T15:38:06.365Z"
   },
   {
    "duration": 10,
    "start_time": "2022-08-23T15:38:06.417Z"
   },
   {
    "duration": 77,
    "start_time": "2022-08-23T15:38:06.429Z"
   },
   {
    "duration": 29,
    "start_time": "2022-08-23T15:38:06.508Z"
   },
   {
    "duration": 18,
    "start_time": "2022-08-23T15:38:06.538Z"
   },
   {
    "duration": 20,
    "start_time": "2022-08-23T15:38:06.557Z"
   },
   {
    "duration": 23,
    "start_time": "2022-08-23T15:38:06.578Z"
   },
   {
    "duration": 31,
    "start_time": "2022-08-23T15:38:06.603Z"
   },
   {
    "duration": 30,
    "start_time": "2022-08-23T15:38:06.635Z"
   },
   {
    "duration": 36,
    "start_time": "2022-08-23T15:38:06.667Z"
   },
   {
    "duration": 20,
    "start_time": "2022-08-23T15:38:06.705Z"
   },
   {
    "duration": 36,
    "start_time": "2022-08-23T15:38:06.727Z"
   },
   {
    "duration": 48,
    "start_time": "2022-08-23T15:38:06.765Z"
   },
   {
    "duration": 17,
    "start_time": "2022-08-23T15:38:06.814Z"
   },
   {
    "duration": 18,
    "start_time": "2022-08-23T15:38:06.833Z"
   },
   {
    "duration": 13,
    "start_time": "2022-08-23T15:38:06.853Z"
   },
   {
    "duration": 44,
    "start_time": "2022-08-23T15:38:06.867Z"
   },
   {
    "duration": 23,
    "start_time": "2022-08-23T15:38:06.912Z"
   },
   {
    "duration": 26,
    "start_time": "2022-08-23T15:38:06.939Z"
   },
   {
    "duration": 19,
    "start_time": "2022-08-23T15:38:06.966Z"
   },
   {
    "duration": 28,
    "start_time": "2022-08-23T15:38:06.986Z"
   },
   {
    "duration": 21,
    "start_time": "2022-08-23T15:38:07.015Z"
   },
   {
    "duration": 36,
    "start_time": "2022-08-23T15:38:07.037Z"
   },
   {
    "duration": 17,
    "start_time": "2022-08-23T15:38:07.074Z"
   },
   {
    "duration": 18,
    "start_time": "2022-08-23T15:38:07.099Z"
   },
   {
    "duration": 24,
    "start_time": "2022-08-23T15:38:07.118Z"
   },
   {
    "duration": 10,
    "start_time": "2022-08-23T15:38:07.144Z"
   },
   {
    "duration": 17,
    "start_time": "2022-08-23T15:38:07.156Z"
   },
   {
    "duration": 639,
    "start_time": "2022-08-23T15:38:07.199Z"
   },
   {
    "duration": 88,
    "start_time": "2022-08-23T15:38:07.840Z"
   },
   {
    "duration": 69,
    "start_time": "2022-08-23T15:38:07.930Z"
   },
   {
    "duration": 800,
    "start_time": "2022-08-23T15:38:08.001Z"
   },
   {
    "duration": 212,
    "start_time": "2022-08-23T15:38:08.803Z"
   },
   {
    "duration": 33,
    "start_time": "2022-08-23T15:38:09.016Z"
   },
   {
    "duration": 250,
    "start_time": "2022-08-23T15:38:09.050Z"
   },
   {
    "duration": 162,
    "start_time": "2022-08-23T15:38:09.302Z"
   },
   {
    "duration": 8,
    "start_time": "2022-08-23T15:38:09.466Z"
   },
   {
    "duration": 34,
    "start_time": "2022-08-23T15:38:09.475Z"
   },
   {
    "duration": 232,
    "start_time": "2022-08-23T15:38:09.511Z"
   },
   {
    "duration": 171,
    "start_time": "2022-08-23T15:38:09.745Z"
   },
   {
    "duration": 31,
    "start_time": "2022-08-23T15:38:09.917Z"
   },
   {
    "duration": 248,
    "start_time": "2022-08-23T15:38:09.950Z"
   },
   {
    "duration": 166,
    "start_time": "2022-08-23T15:38:10.200Z"
   },
   {
    "duration": 35,
    "start_time": "2022-08-23T15:38:10.368Z"
   },
   {
    "duration": 237,
    "start_time": "2022-08-23T15:38:10.406Z"
   },
   {
    "duration": 150,
    "start_time": "2022-08-23T15:38:10.645Z"
   },
   {
    "duration": 6,
    "start_time": "2022-08-23T15:38:10.798Z"
   },
   {
    "duration": 208,
    "start_time": "2022-08-23T15:38:10.805Z"
   },
   {
    "duration": 309,
    "start_time": "2022-08-23T15:38:11.015Z"
   },
   {
    "duration": 60,
    "start_time": "2022-08-23T15:38:11.326Z"
   },
   {
    "duration": 133,
    "start_time": "2022-08-23T15:38:11.387Z"
   },
   {
    "duration": 143,
    "start_time": "2022-08-23T15:38:11.522Z"
   },
   {
    "duration": 114,
    "start_time": "2022-08-23T15:38:11.666Z"
   },
   {
    "duration": 3,
    "start_time": "2022-08-23T15:38:11.782Z"
   },
   {
    "duration": 12,
    "start_time": "2022-08-23T15:38:11.786Z"
   },
   {
    "duration": 8,
    "start_time": "2022-08-23T15:38:11.800Z"
   },
   {
    "duration": 4,
    "start_time": "2022-08-23T15:38:11.810Z"
   },
   {
    "duration": 6,
    "start_time": "2022-08-23T15:38:11.815Z"
   },
   {
    "duration": 502,
    "start_time": "2022-08-23T15:38:11.823Z"
   },
   {
    "duration": 0,
    "start_time": "2022-08-23T15:38:12.327Z"
   },
   {
    "duration": 0,
    "start_time": "2022-08-23T15:38:12.329Z"
   },
   {
    "duration": 0,
    "start_time": "2022-08-23T15:38:12.330Z"
   },
   {
    "duration": 0,
    "start_time": "2022-08-23T15:38:12.332Z"
   },
   {
    "duration": 0,
    "start_time": "2022-08-23T15:38:12.333Z"
   },
   {
    "duration": 0,
    "start_time": "2022-08-23T15:38:12.334Z"
   },
   {
    "duration": 0,
    "start_time": "2022-08-23T15:38:12.336Z"
   },
   {
    "duration": 0,
    "start_time": "2022-08-23T15:38:12.337Z"
   },
   {
    "duration": 824,
    "start_time": "2022-08-23T15:41:00.391Z"
   },
   {
    "duration": 13,
    "start_time": "2022-08-23T15:41:16.759Z"
   },
   {
    "duration": 9,
    "start_time": "2022-08-23T15:41:29.564Z"
   },
   {
    "duration": 405,
    "start_time": "2022-08-23T15:42:18.710Z"
   },
   {
    "duration": 396,
    "start_time": "2022-08-23T15:42:34.706Z"
   },
   {
    "duration": 380,
    "start_time": "2022-08-23T15:42:49.664Z"
   },
   {
    "duration": 12,
    "start_time": "2022-08-23T15:42:54.917Z"
   },
   {
    "duration": 14,
    "start_time": "2022-08-23T15:43:04.701Z"
   },
   {
    "duration": 1314,
    "start_time": "2022-08-23T15:43:17.159Z"
   },
   {
    "duration": 733,
    "start_time": "2022-08-23T15:43:18.475Z"
   },
   {
    "duration": 16,
    "start_time": "2022-08-23T15:43:19.209Z"
   },
   {
    "duration": 120,
    "start_time": "2022-08-23T15:43:19.227Z"
   },
   {
    "duration": 96,
    "start_time": "2022-08-23T15:43:19.349Z"
   },
   {
    "duration": 23,
    "start_time": "2022-08-23T15:43:19.447Z"
   },
   {
    "duration": 27,
    "start_time": "2022-08-23T15:43:19.471Z"
   },
   {
    "duration": 4,
    "start_time": "2022-08-23T15:43:19.500Z"
   },
   {
    "duration": 13,
    "start_time": "2022-08-23T15:43:19.506Z"
   },
   {
    "duration": 41,
    "start_time": "2022-08-23T15:43:19.521Z"
   },
   {
    "duration": 12,
    "start_time": "2022-08-23T15:43:19.563Z"
   },
   {
    "duration": 93,
    "start_time": "2022-08-23T15:43:19.577Z"
   },
   {
    "duration": 40,
    "start_time": "2022-08-23T15:43:19.671Z"
   },
   {
    "duration": 22,
    "start_time": "2022-08-23T15:43:19.712Z"
   },
   {
    "duration": 33,
    "start_time": "2022-08-23T15:43:19.736Z"
   },
   {
    "duration": 37,
    "start_time": "2022-08-23T15:43:19.771Z"
   },
   {
    "duration": 37,
    "start_time": "2022-08-23T15:43:19.809Z"
   },
   {
    "duration": 35,
    "start_time": "2022-08-23T15:43:19.847Z"
   },
   {
    "duration": 24,
    "start_time": "2022-08-23T15:43:19.883Z"
   },
   {
    "duration": 21,
    "start_time": "2022-08-23T15:43:19.909Z"
   },
   {
    "duration": 44,
    "start_time": "2022-08-23T15:43:19.932Z"
   },
   {
    "duration": 48,
    "start_time": "2022-08-23T15:43:19.977Z"
   },
   {
    "duration": 25,
    "start_time": "2022-08-23T15:43:20.027Z"
   },
   {
    "duration": 16,
    "start_time": "2022-08-23T15:43:20.054Z"
   },
   {
    "duration": 13,
    "start_time": "2022-08-23T15:43:20.072Z"
   },
   {
    "duration": 28,
    "start_time": "2022-08-23T15:43:20.098Z"
   },
   {
    "duration": 18,
    "start_time": "2022-08-23T15:43:20.128Z"
   },
   {
    "duration": 49,
    "start_time": "2022-08-23T15:43:20.150Z"
   },
   {
    "duration": 14,
    "start_time": "2022-08-23T15:43:20.201Z"
   },
   {
    "duration": 20,
    "start_time": "2022-08-23T15:43:20.216Z"
   },
   {
    "duration": 15,
    "start_time": "2022-08-23T15:43:20.238Z"
   },
   {
    "duration": 52,
    "start_time": "2022-08-23T15:43:20.254Z"
   },
   {
    "duration": 14,
    "start_time": "2022-08-23T15:43:20.308Z"
   },
   {
    "duration": 19,
    "start_time": "2022-08-23T15:43:20.324Z"
   },
   {
    "duration": 14,
    "start_time": "2022-08-23T15:43:20.345Z"
   },
   {
    "duration": 38,
    "start_time": "2022-08-23T15:43:20.361Z"
   },
   {
    "duration": 17,
    "start_time": "2022-08-23T15:43:20.400Z"
   },
   {
    "duration": 343,
    "start_time": "2022-08-23T15:43:20.418Z"
   },
   {
    "duration": 41,
    "start_time": "2022-08-23T15:43:20.763Z"
   },
   {
    "duration": 16,
    "start_time": "2022-08-23T15:43:20.805Z"
   },
   {
    "duration": 378,
    "start_time": "2022-08-23T15:43:20.823Z"
   },
   {
    "duration": 157,
    "start_time": "2022-08-23T15:43:21.202Z"
   },
   {
    "duration": 39,
    "start_time": "2022-08-23T15:43:21.361Z"
   },
   {
    "duration": 248,
    "start_time": "2022-08-23T15:43:21.402Z"
   },
   {
    "duration": 159,
    "start_time": "2022-08-23T15:43:21.651Z"
   },
   {
    "duration": 10,
    "start_time": "2022-08-23T15:43:21.812Z"
   },
   {
    "duration": 15,
    "start_time": "2022-08-23T15:43:21.823Z"
   },
   {
    "duration": 265,
    "start_time": "2022-08-23T15:43:21.840Z"
   },
   {
    "duration": 168,
    "start_time": "2022-08-23T15:43:22.107Z"
   },
   {
    "duration": 29,
    "start_time": "2022-08-23T15:43:22.277Z"
   },
   {
    "duration": 232,
    "start_time": "2022-08-23T15:43:22.307Z"
   },
   {
    "duration": 166,
    "start_time": "2022-08-23T15:43:22.541Z"
   },
   {
    "duration": 26,
    "start_time": "2022-08-23T15:43:22.709Z"
   },
   {
    "duration": 240,
    "start_time": "2022-08-23T15:43:22.736Z"
   },
   {
    "duration": 146,
    "start_time": "2022-08-23T15:43:22.978Z"
   },
   {
    "duration": 6,
    "start_time": "2022-08-23T15:43:23.126Z"
   },
   {
    "duration": 214,
    "start_time": "2022-08-23T15:43:23.134Z"
   },
   {
    "duration": 311,
    "start_time": "2022-08-23T15:43:23.349Z"
   },
   {
    "duration": 67,
    "start_time": "2022-08-23T15:43:23.663Z"
   },
   {
    "duration": 131,
    "start_time": "2022-08-23T15:43:23.732Z"
   },
   {
    "duration": 178,
    "start_time": "2022-08-23T15:43:23.865Z"
   },
   {
    "duration": 129,
    "start_time": "2022-08-23T15:43:24.045Z"
   },
   {
    "duration": 4,
    "start_time": "2022-08-23T15:43:24.175Z"
   },
   {
    "duration": 7,
    "start_time": "2022-08-23T15:43:24.180Z"
   },
   {
    "duration": 6,
    "start_time": "2022-08-23T15:43:24.198Z"
   },
   {
    "duration": 5,
    "start_time": "2022-08-23T15:43:24.206Z"
   },
   {
    "duration": 6,
    "start_time": "2022-08-23T15:43:24.213Z"
   },
   {
    "duration": 432,
    "start_time": "2022-08-23T15:43:24.221Z"
   },
   {
    "duration": 123,
    "start_time": "2022-08-23T15:43:24.654Z"
   },
   {
    "duration": 0,
    "start_time": "2022-08-23T15:43:24.779Z"
   },
   {
    "duration": 0,
    "start_time": "2022-08-23T15:43:24.780Z"
   },
   {
    "duration": 0,
    "start_time": "2022-08-23T15:43:24.782Z"
   },
   {
    "duration": 0,
    "start_time": "2022-08-23T15:43:24.783Z"
   },
   {
    "duration": 0,
    "start_time": "2022-08-23T15:43:24.798Z"
   },
   {
    "duration": 0,
    "start_time": "2022-08-23T15:43:24.799Z"
   },
   {
    "duration": 0,
    "start_time": "2022-08-23T15:43:24.801Z"
   },
   {
    "duration": 0,
    "start_time": "2022-08-23T15:43:24.801Z"
   },
   {
    "duration": 0,
    "start_time": "2022-08-23T15:43:24.803Z"
   },
   {
    "duration": 0,
    "start_time": "2022-08-23T15:43:24.804Z"
   },
   {
    "duration": 14,
    "start_time": "2022-08-23T15:44:08.642Z"
   },
   {
    "duration": 1363,
    "start_time": "2022-08-23T15:44:11.718Z"
   },
   {
    "duration": 744,
    "start_time": "2022-08-23T15:44:13.083Z"
   },
   {
    "duration": 17,
    "start_time": "2022-08-23T15:44:13.829Z"
   },
   {
    "duration": 125,
    "start_time": "2022-08-23T15:44:13.848Z"
   },
   {
    "duration": 100,
    "start_time": "2022-08-23T15:44:13.974Z"
   },
   {
    "duration": 28,
    "start_time": "2022-08-23T15:44:14.076Z"
   },
   {
    "duration": 10,
    "start_time": "2022-08-23T15:44:14.106Z"
   },
   {
    "duration": 7,
    "start_time": "2022-08-23T15:44:14.117Z"
   },
   {
    "duration": 10,
    "start_time": "2022-08-23T15:44:14.126Z"
   },
   {
    "duration": 32,
    "start_time": "2022-08-23T15:44:14.139Z"
   },
   {
    "duration": 11,
    "start_time": "2022-08-23T15:44:14.198Z"
   },
   {
    "duration": 70,
    "start_time": "2022-08-23T15:44:14.211Z"
   },
   {
    "duration": 42,
    "start_time": "2022-08-23T15:44:14.283Z"
   },
   {
    "duration": 15,
    "start_time": "2022-08-23T15:44:14.327Z"
   },
   {
    "duration": 18,
    "start_time": "2022-08-23T15:44:14.343Z"
   },
   {
    "duration": 13,
    "start_time": "2022-08-23T15:44:14.363Z"
   },
   {
    "duration": 36,
    "start_time": "2022-08-23T15:44:14.398Z"
   },
   {
    "duration": 48,
    "start_time": "2022-08-23T15:44:14.437Z"
   },
   {
    "duration": 32,
    "start_time": "2022-08-23T15:44:14.487Z"
   },
   {
    "duration": 31,
    "start_time": "2022-08-23T15:44:14.521Z"
   },
   {
    "duration": 64,
    "start_time": "2022-08-23T15:44:14.554Z"
   },
   {
    "duration": 82,
    "start_time": "2022-08-23T15:44:14.620Z"
   },
   {
    "duration": 14,
    "start_time": "2022-08-23T15:44:14.703Z"
   },
   {
    "duration": 82,
    "start_time": "2022-08-23T15:44:14.718Z"
   },
   {
    "duration": 24,
    "start_time": "2022-08-23T15:44:14.802Z"
   },
   {
    "duration": 83,
    "start_time": "2022-08-23T15:44:14.828Z"
   },
   {
    "duration": 16,
    "start_time": "2022-08-23T15:44:14.912Z"
   },
   {
    "duration": 107,
    "start_time": "2022-08-23T15:44:14.934Z"
   },
   {
    "duration": 68,
    "start_time": "2022-08-23T15:44:15.042Z"
   },
   {
    "duration": 22,
    "start_time": "2022-08-23T15:44:15.111Z"
   },
   {
    "duration": 68,
    "start_time": "2022-08-23T15:44:15.135Z"
   },
   {
    "duration": 33,
    "start_time": "2022-08-23T15:44:15.204Z"
   },
   {
    "duration": 79,
    "start_time": "2022-08-23T15:44:15.239Z"
   },
   {
    "duration": 24,
    "start_time": "2022-08-23T15:44:15.320Z"
   },
   {
    "duration": 14,
    "start_time": "2022-08-23T15:44:15.399Z"
   },
   {
    "duration": 10,
    "start_time": "2022-08-23T15:44:15.414Z"
   },
   {
    "duration": 16,
    "start_time": "2022-08-23T15:44:15.426Z"
   },
   {
    "duration": 690,
    "start_time": "2022-08-23T15:44:15.443Z"
   },
   {
    "duration": 88,
    "start_time": "2022-08-23T15:44:16.135Z"
   },
   {
    "duration": 16,
    "start_time": "2022-08-23T15:44:16.224Z"
   },
   {
    "duration": 450,
    "start_time": "2022-08-23T15:44:16.297Z"
   },
   {
    "duration": 162,
    "start_time": "2022-08-23T15:44:16.748Z"
   },
   {
    "duration": 29,
    "start_time": "2022-08-23T15:44:16.912Z"
   },
   {
    "duration": 249,
    "start_time": "2022-08-23T15:44:16.943Z"
   },
   {
    "duration": 176,
    "start_time": "2022-08-23T15:44:17.198Z"
   },
   {
    "duration": 8,
    "start_time": "2022-08-23T15:44:17.375Z"
   },
   {
    "duration": 29,
    "start_time": "2022-08-23T15:44:17.384Z"
   },
   {
    "duration": 242,
    "start_time": "2022-08-23T15:44:17.415Z"
   },
   {
    "duration": 167,
    "start_time": "2022-08-23T15:44:17.659Z"
   },
   {
    "duration": 24,
    "start_time": "2022-08-23T15:44:17.827Z"
   },
   {
    "duration": 251,
    "start_time": "2022-08-23T15:44:17.852Z"
   },
   {
    "duration": 168,
    "start_time": "2022-08-23T15:44:18.105Z"
   },
   {
    "duration": 31,
    "start_time": "2022-08-23T15:44:18.275Z"
   },
   {
    "duration": 232,
    "start_time": "2022-08-23T15:44:18.308Z"
   },
   {
    "duration": 149,
    "start_time": "2022-08-23T15:44:18.542Z"
   },
   {
    "duration": 7,
    "start_time": "2022-08-23T15:44:18.698Z"
   },
   {
    "duration": 227,
    "start_time": "2022-08-23T15:44:18.706Z"
   },
   {
    "duration": 299,
    "start_time": "2022-08-23T15:44:18.935Z"
   },
   {
    "duration": 66,
    "start_time": "2022-08-23T15:44:19.236Z"
   },
   {
    "duration": 130,
    "start_time": "2022-08-23T15:44:19.304Z"
   },
   {
    "duration": 142,
    "start_time": "2022-08-23T15:44:19.435Z"
   },
   {
    "duration": 135,
    "start_time": "2022-08-23T15:44:19.579Z"
   },
   {
    "duration": 3,
    "start_time": "2022-08-23T15:44:19.716Z"
   },
   {
    "duration": 5,
    "start_time": "2022-08-23T15:44:19.721Z"
   },
   {
    "duration": 8,
    "start_time": "2022-08-23T15:44:19.728Z"
   },
   {
    "duration": 3,
    "start_time": "2022-08-23T15:44:19.738Z"
   },
   {
    "duration": 6,
    "start_time": "2022-08-23T15:44:19.742Z"
   },
   {
    "duration": 17,
    "start_time": "2022-08-23T15:44:19.749Z"
   },
   {
    "duration": 142,
    "start_time": "2022-08-23T15:44:19.767Z"
   },
   {
    "duration": 0,
    "start_time": "2022-08-23T15:44:19.911Z"
   },
   {
    "duration": 0,
    "start_time": "2022-08-23T15:44:19.912Z"
   },
   {
    "duration": 0,
    "start_time": "2022-08-23T15:44:19.913Z"
   },
   {
    "duration": 0,
    "start_time": "2022-08-23T15:44:19.914Z"
   },
   {
    "duration": 0,
    "start_time": "2022-08-23T15:44:19.915Z"
   },
   {
    "duration": 0,
    "start_time": "2022-08-23T15:44:19.916Z"
   },
   {
    "duration": 0,
    "start_time": "2022-08-23T15:44:19.917Z"
   },
   {
    "duration": 1,
    "start_time": "2022-08-23T15:44:19.917Z"
   },
   {
    "duration": 0,
    "start_time": "2022-08-23T15:44:19.918Z"
   },
   {
    "duration": 0,
    "start_time": "2022-08-23T15:44:19.919Z"
   },
   {
    "duration": 8,
    "start_time": "2022-08-23T15:44:44.573Z"
   },
   {
    "duration": 11,
    "start_time": "2022-08-23T15:44:45.069Z"
   },
   {
    "duration": 64,
    "start_time": "2022-08-23T15:45:00.593Z"
   },
   {
    "duration": 29,
    "start_time": "2022-08-23T15:45:04.980Z"
   },
   {
    "duration": 35,
    "start_time": "2022-08-23T15:45:44.263Z"
   },
   {
    "duration": 14,
    "start_time": "2022-08-23T15:45:47.371Z"
   },
   {
    "duration": 42,
    "start_time": "2022-08-23T15:46:42.638Z"
   },
   {
    "duration": 12,
    "start_time": "2022-08-23T15:46:57.418Z"
   },
   {
    "duration": 17,
    "start_time": "2022-08-23T15:47:13.590Z"
   },
   {
    "duration": 825,
    "start_time": "2022-08-23T15:47:20.397Z"
   },
   {
    "duration": 14,
    "start_time": "2022-08-23T15:47:23.143Z"
   },
   {
    "duration": 834,
    "start_time": "2022-08-23T15:49:22.382Z"
   },
   {
    "duration": 15,
    "start_time": "2022-08-23T15:49:23.218Z"
   },
   {
    "duration": 832,
    "start_time": "2022-08-23T15:49:39.667Z"
   },
   {
    "duration": 13,
    "start_time": "2022-08-23T15:49:47.675Z"
   },
   {
    "duration": 10,
    "start_time": "2022-08-23T15:54:04.349Z"
   },
   {
    "duration": 3,
    "start_time": "2022-08-23T15:54:12.375Z"
   },
   {
    "duration": 1054,
    "start_time": "2022-08-23T15:54:55.991Z"
   },
   {
    "duration": 17,
    "start_time": "2022-08-23T15:54:57.932Z"
   },
   {
    "duration": 16,
    "start_time": "2022-08-23T15:55:02.611Z"
   },
   {
    "duration": 69,
    "start_time": "2022-08-23T15:55:03.279Z"
   },
   {
    "duration": 157,
    "start_time": "2022-08-23T15:55:07.319Z"
   },
   {
    "duration": 4,
    "start_time": "2022-08-23T15:55:07.987Z"
   },
   {
    "duration": 3,
    "start_time": "2022-08-23T15:55:09.114Z"
   },
   {
    "duration": 3,
    "start_time": "2022-08-23T15:55:09.762Z"
   },
   {
    "duration": 16868,
    "start_time": "2022-08-23T15:55:12.532Z"
   },
   {
    "duration": 980,
    "start_time": "2022-08-23T15:58:32.995Z"
   },
   {
    "duration": 14,
    "start_time": "2022-08-23T15:58:33.977Z"
   },
   {
    "duration": 15,
    "start_time": "2022-08-23T15:58:39.665Z"
   },
   {
    "duration": 66,
    "start_time": "2022-08-23T15:58:40.127Z"
   },
   {
    "duration": 152,
    "start_time": "2022-08-23T15:58:40.734Z"
   },
   {
    "duration": 3,
    "start_time": "2022-08-23T15:58:41.154Z"
   },
   {
    "duration": 22289,
    "start_time": "2022-08-23T15:58:42.712Z"
   },
   {
    "duration": 4044,
    "start_time": "2022-08-23T15:59:09.455Z"
   },
   {
    "duration": 1003,
    "start_time": "2022-08-23T16:01:15.386Z"
   },
   {
    "duration": 15,
    "start_time": "2022-08-23T16:01:20.495Z"
   },
   {
    "duration": 12,
    "start_time": "2022-08-23T16:01:20.850Z"
   },
   {
    "duration": 9,
    "start_time": "2022-08-23T16:01:46.265Z"
   },
   {
    "duration": 1012,
    "start_time": "2022-08-23T16:02:19.858Z"
   },
   {
    "duration": 884,
    "start_time": "2022-08-23T16:04:35.516Z"
   },
   {
    "duration": 14,
    "start_time": "2022-08-23T16:04:37.267Z"
   },
   {
    "duration": 10,
    "start_time": "2022-08-23T16:04:38.840Z"
   },
   {
    "duration": 994,
    "start_time": "2022-08-23T16:04:51.217Z"
   },
   {
    "duration": 1385,
    "start_time": "2022-08-23T17:27:12.670Z"
   },
   {
    "duration": 752,
    "start_time": "2022-08-23T17:27:14.057Z"
   },
   {
    "duration": 16,
    "start_time": "2022-08-23T17:27:14.811Z"
   },
   {
    "duration": 126,
    "start_time": "2022-08-23T17:27:14.829Z"
   },
   {
    "duration": 131,
    "start_time": "2022-08-23T17:27:14.957Z"
   },
   {
    "duration": 22,
    "start_time": "2022-08-23T17:27:15.098Z"
   },
   {
    "duration": 11,
    "start_time": "2022-08-23T17:27:15.122Z"
   },
   {
    "duration": 4,
    "start_time": "2022-08-23T17:27:15.134Z"
   },
   {
    "duration": 12,
    "start_time": "2022-08-23T17:27:15.139Z"
   },
   {
    "duration": 52,
    "start_time": "2022-08-23T17:27:15.154Z"
   },
   {
    "duration": 11,
    "start_time": "2022-08-23T17:27:15.208Z"
   },
   {
    "duration": 78,
    "start_time": "2022-08-23T17:27:15.221Z"
   },
   {
    "duration": 29,
    "start_time": "2022-08-23T17:27:15.300Z"
   },
   {
    "duration": 14,
    "start_time": "2022-08-23T17:27:15.331Z"
   },
   {
    "duration": 25,
    "start_time": "2022-08-23T17:27:15.346Z"
   },
   {
    "duration": 27,
    "start_time": "2022-08-23T17:27:15.372Z"
   },
   {
    "duration": 27,
    "start_time": "2022-08-23T17:27:15.400Z"
   },
   {
    "duration": 28,
    "start_time": "2022-08-23T17:27:15.429Z"
   },
   {
    "duration": 14,
    "start_time": "2022-08-23T17:27:15.459Z"
   },
   {
    "duration": 38,
    "start_time": "2022-08-23T17:27:15.474Z"
   },
   {
    "duration": 38,
    "start_time": "2022-08-23T17:27:15.513Z"
   },
   {
    "duration": 29,
    "start_time": "2022-08-23T17:27:15.553Z"
   },
   {
    "duration": 13,
    "start_time": "2022-08-23T17:27:15.598Z"
   },
   {
    "duration": 18,
    "start_time": "2022-08-23T17:27:15.613Z"
   },
   {
    "duration": 13,
    "start_time": "2022-08-23T17:27:15.633Z"
   },
   {
    "duration": 50,
    "start_time": "2022-08-23T17:27:15.648Z"
   },
   {
    "duration": 16,
    "start_time": "2022-08-23T17:27:15.700Z"
   },
   {
    "duration": 26,
    "start_time": "2022-08-23T17:27:15.721Z"
   },
   {
    "duration": 15,
    "start_time": "2022-08-23T17:27:15.749Z"
   },
   {
    "duration": 39,
    "start_time": "2022-08-23T17:27:15.765Z"
   },
   {
    "duration": 13,
    "start_time": "2022-08-23T17:27:15.805Z"
   },
   {
    "duration": 27,
    "start_time": "2022-08-23T17:27:15.819Z"
   },
   {
    "duration": 17,
    "start_time": "2022-08-23T17:27:15.847Z"
   },
   {
    "duration": 33,
    "start_time": "2022-08-23T17:27:15.865Z"
   },
   {
    "duration": 13,
    "start_time": "2022-08-23T17:27:15.900Z"
   },
   {
    "duration": 9,
    "start_time": "2022-08-23T17:27:15.914Z"
   },
   {
    "duration": 16,
    "start_time": "2022-08-23T17:27:15.925Z"
   },
   {
    "duration": 376,
    "start_time": "2022-08-23T17:27:15.943Z"
   },
   {
    "duration": 31,
    "start_time": "2022-08-23T17:27:16.321Z"
   },
   {
    "duration": 14,
    "start_time": "2022-08-23T17:27:16.354Z"
   },
   {
    "duration": 370,
    "start_time": "2022-08-23T17:27:16.369Z"
   },
   {
    "duration": 146,
    "start_time": "2022-08-23T17:27:16.740Z"
   },
   {
    "duration": 44,
    "start_time": "2022-08-23T17:27:16.887Z"
   },
   {
    "duration": 245,
    "start_time": "2022-08-23T17:27:16.932Z"
   },
   {
    "duration": 160,
    "start_time": "2022-08-23T17:27:17.178Z"
   },
   {
    "duration": 8,
    "start_time": "2022-08-23T17:27:17.339Z"
   },
   {
    "duration": 15,
    "start_time": "2022-08-23T17:27:17.348Z"
   },
   {
    "duration": 247,
    "start_time": "2022-08-23T17:27:17.364Z"
   },
   {
    "duration": 162,
    "start_time": "2022-08-23T17:27:17.612Z"
   },
   {
    "duration": 36,
    "start_time": "2022-08-23T17:27:17.775Z"
   },
   {
    "duration": 232,
    "start_time": "2022-08-23T17:27:17.813Z"
   },
   {
    "duration": 167,
    "start_time": "2022-08-23T17:27:18.046Z"
   },
   {
    "duration": 29,
    "start_time": "2022-08-23T17:27:18.215Z"
   },
   {
    "duration": 239,
    "start_time": "2022-08-23T17:27:18.246Z"
   },
   {
    "duration": 146,
    "start_time": "2022-08-23T17:27:18.486Z"
   },
   {
    "duration": 8,
    "start_time": "2022-08-23T17:27:18.633Z"
   },
   {
    "duration": 218,
    "start_time": "2022-08-23T17:27:18.642Z"
   },
   {
    "duration": 297,
    "start_time": "2022-08-23T17:27:18.862Z"
   },
   {
    "duration": 67,
    "start_time": "2022-08-23T17:27:19.161Z"
   },
   {
    "duration": 140,
    "start_time": "2022-08-23T17:27:19.230Z"
   },
   {
    "duration": 141,
    "start_time": "2022-08-23T17:27:19.371Z"
   },
   {
    "duration": 111,
    "start_time": "2022-08-23T17:27:19.514Z"
   },
   {
    "duration": 3,
    "start_time": "2022-08-23T17:27:19.627Z"
   },
   {
    "duration": 7,
    "start_time": "2022-08-23T17:27:19.632Z"
   },
   {
    "duration": 13,
    "start_time": "2022-08-23T17:27:19.640Z"
   },
   {
    "duration": 5,
    "start_time": "2022-08-23T17:27:19.654Z"
   },
   {
    "duration": 4,
    "start_time": "2022-08-23T17:27:19.660Z"
   },
   {
    "duration": 11,
    "start_time": "2022-08-23T17:27:19.665Z"
   },
   {
    "duration": 880,
    "start_time": "2022-08-23T17:27:19.678Z"
   },
   {
    "duration": 13,
    "start_time": "2022-08-23T17:27:20.560Z"
   },
   {
    "duration": 9,
    "start_time": "2022-08-23T17:27:20.574Z"
   },
   {
    "duration": 25,
    "start_time": "2022-08-23T17:27:20.584Z"
   },
   {
    "duration": 65,
    "start_time": "2022-08-23T17:27:20.611Z"
   },
   {
    "duration": 182,
    "start_time": "2022-08-23T17:27:20.677Z"
   },
   {
    "duration": 3,
    "start_time": "2022-08-23T17:27:20.860Z"
   },
   {
    "duration": 13234,
    "start_time": "2022-08-23T17:27:20.865Z"
   },
   {
    "duration": 4299,
    "start_time": "2022-08-23T17:27:34.101Z"
   },
   {
    "duration": 823,
    "start_time": "2022-08-23T17:36:16.728Z"
   },
   {
    "duration": 15,
    "start_time": "2022-08-23T17:36:23.099Z"
   },
   {
    "duration": 8,
    "start_time": "2022-08-23T17:36:24.132Z"
   },
   {
    "duration": 11,
    "start_time": "2022-08-23T17:36:40.936Z"
   },
   {
    "duration": 923,
    "start_time": "2022-08-23T17:41:23.128Z"
   },
   {
    "duration": 14,
    "start_time": "2022-08-23T17:41:24.849Z"
   },
   {
    "duration": 12,
    "start_time": "2022-08-23T17:41:26.582Z"
   },
   {
    "duration": 227,
    "start_time": "2022-08-23T17:42:33.759Z"
   },
   {
    "duration": 245,
    "start_time": "2022-08-23T17:43:43.927Z"
   },
   {
    "duration": 1332,
    "start_time": "2022-08-23T17:43:47.814Z"
   },
   {
    "duration": 727,
    "start_time": "2022-08-23T17:43:49.148Z"
   },
   {
    "duration": 25,
    "start_time": "2022-08-23T17:43:49.877Z"
   },
   {
    "duration": 120,
    "start_time": "2022-08-23T17:43:49.904Z"
   },
   {
    "duration": 130,
    "start_time": "2022-08-23T17:43:50.025Z"
   },
   {
    "duration": 22,
    "start_time": "2022-08-23T17:43:50.157Z"
   },
   {
    "duration": 21,
    "start_time": "2022-08-23T17:43:50.180Z"
   },
   {
    "duration": 6,
    "start_time": "2022-08-23T17:43:50.202Z"
   },
   {
    "duration": 13,
    "start_time": "2022-08-23T17:43:50.210Z"
   },
   {
    "duration": 39,
    "start_time": "2022-08-23T17:43:50.225Z"
   },
   {
    "duration": 11,
    "start_time": "2022-08-23T17:43:50.265Z"
   },
   {
    "duration": 84,
    "start_time": "2022-08-23T17:43:50.277Z"
   },
   {
    "duration": 37,
    "start_time": "2022-08-23T17:43:50.362Z"
   },
   {
    "duration": 16,
    "start_time": "2022-08-23T17:43:50.401Z"
   },
   {
    "duration": 20,
    "start_time": "2022-08-23T17:43:50.418Z"
   },
   {
    "duration": 13,
    "start_time": "2022-08-23T17:43:50.439Z"
   },
   {
    "duration": 45,
    "start_time": "2022-08-23T17:43:50.454Z"
   },
   {
    "duration": 27,
    "start_time": "2022-08-23T17:43:50.500Z"
   },
   {
    "duration": 18,
    "start_time": "2022-08-23T17:43:50.529Z"
   },
   {
    "duration": 22,
    "start_time": "2022-08-23T17:43:50.548Z"
   },
   {
    "duration": 50,
    "start_time": "2022-08-23T17:43:50.571Z"
   },
   {
    "duration": 29,
    "start_time": "2022-08-23T17:43:50.622Z"
   },
   {
    "duration": 16,
    "start_time": "2022-08-23T17:43:50.653Z"
   },
   {
    "duration": 38,
    "start_time": "2022-08-23T17:43:50.671Z"
   },
   {
    "duration": 13,
    "start_time": "2022-08-23T17:43:50.710Z"
   },
   {
    "duration": 28,
    "start_time": "2022-08-23T17:43:50.725Z"
   },
   {
    "duration": 17,
    "start_time": "2022-08-23T17:43:50.754Z"
   },
   {
    "duration": 40,
    "start_time": "2022-08-23T17:43:50.775Z"
   },
   {
    "duration": 15,
    "start_time": "2022-08-23T17:43:50.817Z"
   },
   {
    "duration": 18,
    "start_time": "2022-08-23T17:43:50.833Z"
   },
   {
    "duration": 14,
    "start_time": "2022-08-23T17:43:50.852Z"
   },
   {
    "duration": 56,
    "start_time": "2022-08-23T17:43:50.867Z"
   },
   {
    "duration": 15,
    "start_time": "2022-08-23T17:43:50.925Z"
   },
   {
    "duration": 19,
    "start_time": "2022-08-23T17:43:50.942Z"
   },
   {
    "duration": 15,
    "start_time": "2022-08-23T17:43:50.963Z"
   },
   {
    "duration": 26,
    "start_time": "2022-08-23T17:43:50.980Z"
   },
   {
    "duration": 35,
    "start_time": "2022-08-23T17:43:51.007Z"
   },
   {
    "duration": 362,
    "start_time": "2022-08-23T17:43:51.043Z"
   },
   {
    "duration": 34,
    "start_time": "2022-08-23T17:43:51.407Z"
   },
   {
    "duration": 15,
    "start_time": "2022-08-23T17:43:51.442Z"
   },
   {
    "duration": 377,
    "start_time": "2022-08-23T17:43:51.459Z"
   },
   {
    "duration": 151,
    "start_time": "2022-08-23T17:43:51.838Z"
   },
   {
    "duration": 39,
    "start_time": "2022-08-23T17:43:51.990Z"
   },
   {
    "duration": 240,
    "start_time": "2022-08-23T17:43:52.030Z"
   },
   {
    "duration": 156,
    "start_time": "2022-08-23T17:43:52.272Z"
   },
   {
    "duration": 8,
    "start_time": "2022-08-23T17:43:52.429Z"
   },
   {
    "duration": 15,
    "start_time": "2022-08-23T17:43:52.438Z"
   },
   {
    "duration": 247,
    "start_time": "2022-08-23T17:43:52.454Z"
   },
   {
    "duration": 171,
    "start_time": "2022-08-23T17:43:52.703Z"
   },
   {
    "duration": 36,
    "start_time": "2022-08-23T17:43:52.875Z"
   },
   {
    "duration": 224,
    "start_time": "2022-08-23T17:43:52.912Z"
   },
   {
    "duration": 160,
    "start_time": "2022-08-23T17:43:53.138Z"
   },
   {
    "duration": 28,
    "start_time": "2022-08-23T17:43:53.299Z"
   },
   {
    "duration": 225,
    "start_time": "2022-08-23T17:43:53.328Z"
   },
   {
    "duration": 137,
    "start_time": "2022-08-23T17:43:53.555Z"
   },
   {
    "duration": 9,
    "start_time": "2022-08-23T17:43:53.693Z"
   },
   {
    "duration": 210,
    "start_time": "2022-08-23T17:43:53.703Z"
   },
   {
    "duration": 305,
    "start_time": "2022-08-23T17:43:53.914Z"
   },
   {
    "duration": 79,
    "start_time": "2022-08-23T17:43:54.220Z"
   },
   {
    "duration": 136,
    "start_time": "2022-08-23T17:43:54.300Z"
   },
   {
    "duration": 163,
    "start_time": "2022-08-23T17:43:54.438Z"
   },
   {
    "duration": 110,
    "start_time": "2022-08-23T17:43:54.602Z"
   },
   {
    "duration": 3,
    "start_time": "2022-08-23T17:43:54.714Z"
   },
   {
    "duration": 6,
    "start_time": "2022-08-23T17:43:54.718Z"
   },
   {
    "duration": 8,
    "start_time": "2022-08-23T17:43:54.726Z"
   },
   {
    "duration": 5,
    "start_time": "2022-08-23T17:43:54.735Z"
   },
   {
    "duration": 4,
    "start_time": "2022-08-23T17:43:54.741Z"
   },
   {
    "duration": 16,
    "start_time": "2022-08-23T17:43:54.747Z"
   },
   {
    "duration": 975,
    "start_time": "2022-08-23T17:43:54.765Z"
   },
   {
    "duration": 16,
    "start_time": "2022-08-23T17:43:55.742Z"
   },
   {
    "duration": 13,
    "start_time": "2022-08-23T17:43:55.759Z"
   },
   {
    "duration": 289,
    "start_time": "2022-08-23T17:43:55.774Z"
   },
   {
    "duration": 13135,
    "start_time": "2022-08-23T17:43:56.065Z"
   },
   {
    "duration": 4700,
    "start_time": "2022-08-23T17:44:09.201Z"
   },
   {
    "duration": 209,
    "start_time": "2022-08-23T17:44:13.903Z"
   },
   {
    "duration": 4,
    "start_time": "2022-08-23T17:44:47.041Z"
   },
   {
    "duration": 105,
    "start_time": "2022-08-23T17:48:20.997Z"
   },
   {
    "duration": 249,
    "start_time": "2022-08-23T17:51:43.530Z"
   },
   {
    "duration": 250,
    "start_time": "2022-08-23T17:51:52.282Z"
   },
   {
    "duration": 84,
    "start_time": "2022-08-23T17:51:54.764Z"
   },
   {
    "duration": 22,
    "start_time": "2022-08-23T17:52:16.266Z"
   },
   {
    "duration": 13,
    "start_time": "2022-08-23T17:52:32.629Z"
   },
   {
    "duration": 13,
    "start_time": "2022-08-23T17:52:34.960Z"
   },
   {
    "duration": 10,
    "start_time": "2022-08-23T17:52:42.237Z"
   },
   {
    "duration": 9,
    "start_time": "2022-08-23T17:52:46.855Z"
   },
   {
    "duration": 22,
    "start_time": "2022-08-23T17:52:50.594Z"
   },
   {
    "duration": 10,
    "start_time": "2022-08-23T17:58:50.398Z"
   },
   {
    "duration": 5,
    "start_time": "2022-08-23T17:59:04.895Z"
   },
   {
    "duration": 1073,
    "start_time": "2022-08-23T17:59:35.853Z"
   },
   {
    "duration": 16,
    "start_time": "2022-08-23T17:59:36.928Z"
   },
   {
    "duration": 11,
    "start_time": "2022-08-23T17:59:38.353Z"
   },
   {
    "duration": 77,
    "start_time": "2022-08-23T17:59:42.588Z"
   },
   {
    "duration": 935,
    "start_time": "2022-08-23T18:00:11.901Z"
   },
   {
    "duration": 16,
    "start_time": "2022-08-23T18:00:13.537Z"
   },
   {
    "duration": 12,
    "start_time": "2022-08-23T18:00:13.724Z"
   },
   {
    "duration": 262,
    "start_time": "2022-08-23T18:00:13.870Z"
   },
   {
    "duration": 89,
    "start_time": "2022-08-23T18:00:16.536Z"
   },
   {
    "duration": 27,
    "start_time": "2022-08-23T18:05:20.926Z"
   },
   {
    "duration": 1120,
    "start_time": "2022-08-23T18:06:23.920Z"
   },
   {
    "duration": 14,
    "start_time": "2022-08-23T18:06:25.042Z"
   },
   {
    "duration": 12,
    "start_time": "2022-08-23T18:06:25.441Z"
   },
   {
    "duration": 93,
    "start_time": "2022-08-23T18:06:30.394Z"
   },
   {
    "duration": 233,
    "start_time": "2022-08-23T18:06:37.313Z"
   },
   {
    "duration": 21,
    "start_time": "2022-08-23T18:06:39.389Z"
   },
   {
    "duration": 10,
    "start_time": "2022-08-23T18:07:06.407Z"
   },
   {
    "duration": 14,
    "start_time": "2022-08-23T18:07:19.413Z"
   },
   {
    "duration": 99,
    "start_time": "2022-08-23T18:07:26.871Z"
   },
   {
    "duration": 11,
    "start_time": "2022-08-23T18:07:58.382Z"
   },
   {
    "duration": 50,
    "start_time": "2022-08-23T18:08:23.399Z"
   },
   {
    "duration": 1336,
    "start_time": "2022-08-23T18:08:35.623Z"
   },
   {
    "duration": 718,
    "start_time": "2022-08-23T18:08:36.961Z"
   },
   {
    "duration": 22,
    "start_time": "2022-08-23T18:08:37.681Z"
   },
   {
    "duration": 117,
    "start_time": "2022-08-23T18:08:37.705Z"
   },
   {
    "duration": 90,
    "start_time": "2022-08-23T18:08:37.823Z"
   },
   {
    "duration": 22,
    "start_time": "2022-08-23T18:08:37.914Z"
   },
   {
    "duration": 15,
    "start_time": "2022-08-23T18:08:37.937Z"
   },
   {
    "duration": 9,
    "start_time": "2022-08-23T18:08:37.953Z"
   },
   {
    "duration": 13,
    "start_time": "2022-08-23T18:08:37.963Z"
   },
   {
    "duration": 45,
    "start_time": "2022-08-23T18:08:37.979Z"
   },
   {
    "duration": 11,
    "start_time": "2022-08-23T18:08:38.026Z"
   },
   {
    "duration": 88,
    "start_time": "2022-08-23T18:08:38.039Z"
   },
   {
    "duration": 32,
    "start_time": "2022-08-23T18:08:38.129Z"
   },
   {
    "duration": 17,
    "start_time": "2022-08-23T18:08:38.163Z"
   },
   {
    "duration": 19,
    "start_time": "2022-08-23T18:08:38.199Z"
   },
   {
    "duration": 18,
    "start_time": "2022-08-23T18:08:38.220Z"
   },
   {
    "duration": 31,
    "start_time": "2022-08-23T18:08:38.240Z"
   },
   {
    "duration": 29,
    "start_time": "2022-08-23T18:08:38.298Z"
   },
   {
    "duration": 18,
    "start_time": "2022-08-23T18:08:38.329Z"
   },
   {
    "duration": 22,
    "start_time": "2022-08-23T18:08:38.349Z"
   },
   {
    "duration": 58,
    "start_time": "2022-08-23T18:08:38.372Z"
   },
   {
    "duration": 32,
    "start_time": "2022-08-23T18:08:38.432Z"
   },
   {
    "duration": 33,
    "start_time": "2022-08-23T18:08:38.466Z"
   },
   {
    "duration": 17,
    "start_time": "2022-08-23T18:08:38.501Z"
   },
   {
    "duration": 15,
    "start_time": "2022-08-23T18:08:38.520Z"
   },
   {
    "duration": 32,
    "start_time": "2022-08-23T18:08:38.537Z"
   },
   {
    "duration": 43,
    "start_time": "2022-08-23T18:08:38.571Z"
   },
   {
    "duration": 28,
    "start_time": "2022-08-23T18:08:38.618Z"
   },
   {
    "duration": 16,
    "start_time": "2022-08-23T18:08:38.647Z"
   },
   {
    "duration": 33,
    "start_time": "2022-08-23T18:08:38.665Z"
   },
   {
    "duration": 14,
    "start_time": "2022-08-23T18:08:38.700Z"
   },
   {
    "duration": 30,
    "start_time": "2022-08-23T18:08:38.715Z"
   },
   {
    "duration": 16,
    "start_time": "2022-08-23T18:08:38.747Z"
   },
   {
    "duration": 44,
    "start_time": "2022-08-23T18:08:38.765Z"
   },
   {
    "duration": 14,
    "start_time": "2022-08-23T18:08:38.810Z"
   },
   {
    "duration": 12,
    "start_time": "2022-08-23T18:08:38.825Z"
   },
   {
    "duration": 15,
    "start_time": "2022-08-23T18:08:38.838Z"
   },
   {
    "duration": 351,
    "start_time": "2022-08-23T18:08:38.855Z"
   },
   {
    "duration": 33,
    "start_time": "2022-08-23T18:08:39.208Z"
   },
   {
    "duration": 15,
    "start_time": "2022-08-23T18:08:39.242Z"
   },
   {
    "duration": 415,
    "start_time": "2022-08-23T18:08:39.259Z"
   },
   {
    "duration": 207,
    "start_time": "2022-08-23T18:08:39.675Z"
   },
   {
    "duration": 36,
    "start_time": "2022-08-23T18:08:39.884Z"
   },
   {
    "duration": 273,
    "start_time": "2022-08-23T18:08:39.921Z"
   },
   {
    "duration": 176,
    "start_time": "2022-08-23T18:08:40.200Z"
   },
   {
    "duration": 10,
    "start_time": "2022-08-23T18:08:40.377Z"
   },
   {
    "duration": 18,
    "start_time": "2022-08-23T18:08:40.398Z"
   },
   {
    "duration": 256,
    "start_time": "2022-08-23T18:08:40.418Z"
   },
   {
    "duration": 182,
    "start_time": "2022-08-23T18:08:40.676Z"
   },
   {
    "duration": 25,
    "start_time": "2022-08-23T18:08:40.860Z"
   },
   {
    "duration": 244,
    "start_time": "2022-08-23T18:08:40.887Z"
   },
   {
    "duration": 180,
    "start_time": "2022-08-23T18:08:41.133Z"
   },
   {
    "duration": 25,
    "start_time": "2022-08-23T18:08:41.315Z"
   },
   {
    "duration": 241,
    "start_time": "2022-08-23T18:08:41.342Z"
   },
   {
    "duration": 149,
    "start_time": "2022-08-23T18:08:41.584Z"
   },
   {
    "duration": 7,
    "start_time": "2022-08-23T18:08:41.735Z"
   },
   {
    "duration": 217,
    "start_time": "2022-08-23T18:08:41.743Z"
   },
   {
    "duration": 294,
    "start_time": "2022-08-23T18:08:41.962Z"
   },
   {
    "duration": 68,
    "start_time": "2022-08-23T18:08:42.258Z"
   },
   {
    "duration": 127,
    "start_time": "2022-08-23T18:08:42.328Z"
   },
   {
    "duration": 141,
    "start_time": "2022-08-23T18:08:42.457Z"
   },
   {
    "duration": 123,
    "start_time": "2022-08-23T18:08:42.600Z"
   },
   {
    "duration": 3,
    "start_time": "2022-08-23T18:08:42.725Z"
   },
   {
    "duration": 12,
    "start_time": "2022-08-23T18:08:42.729Z"
   },
   {
    "duration": 9,
    "start_time": "2022-08-23T18:08:42.742Z"
   },
   {
    "duration": 5,
    "start_time": "2022-08-23T18:08:42.753Z"
   },
   {
    "duration": 4,
    "start_time": "2022-08-23T18:08:42.760Z"
   },
   {
    "duration": 11,
    "start_time": "2022-08-23T18:08:42.765Z"
   },
   {
    "duration": 1082,
    "start_time": "2022-08-23T18:08:42.778Z"
   },
   {
    "duration": 14,
    "start_time": "2022-08-23T18:08:43.862Z"
   },
   {
    "duration": 22,
    "start_time": "2022-08-23T18:08:43.877Z"
   },
   {
    "duration": 14,
    "start_time": "2022-08-23T18:08:43.900Z"
   },
   {
    "duration": 270,
    "start_time": "2022-08-23T18:08:43.915Z"
   },
   {
    "duration": 12720,
    "start_time": "2022-08-23T18:08:44.186Z"
   },
   {
    "duration": 4692,
    "start_time": "2022-08-23T18:08:56.908Z"
   },
   {
    "duration": 219,
    "start_time": "2022-08-23T18:09:01.603Z"
   },
   {
    "duration": 10,
    "start_time": "2022-08-23T18:09:05.529Z"
   },
   {
    "duration": 64,
    "start_time": "2022-08-23T18:09:07.903Z"
   },
   {
    "duration": 10,
    "start_time": "2022-08-23T18:09:25.672Z"
   },
   {
    "duration": 10,
    "start_time": "2022-08-23T18:09:42.830Z"
   },
   {
    "duration": 49,
    "start_time": "2022-08-23T18:09:57.396Z"
   },
   {
    "duration": 1174,
    "start_time": "2022-08-23T18:15:24.450Z"
   },
   {
    "duration": 1133,
    "start_time": "2022-08-23T18:15:34.432Z"
   },
   {
    "duration": 10,
    "start_time": "2022-08-23T18:15:38.627Z"
   },
   {
    "duration": 1156,
    "start_time": "2022-08-23T18:16:09.049Z"
   },
   {
    "duration": 1164,
    "start_time": "2022-08-23T18:16:18.637Z"
   },
   {
    "duration": 1070,
    "start_time": "2022-08-23T18:16:27.835Z"
   },
   {
    "duration": 1063,
    "start_time": "2022-08-23T18:17:59.595Z"
   },
   {
    "duration": 1079,
    "start_time": "2022-08-23T18:18:18.385Z"
   },
   {
    "duration": 1036,
    "start_time": "2022-08-23T18:18:33.090Z"
   },
   {
    "duration": 20,
    "start_time": "2022-08-23T18:18:36.857Z"
   },
   {
    "duration": 248,
    "start_time": "2022-08-23T18:18:43.171Z"
   },
   {
    "duration": 601,
    "start_time": "2022-08-23T18:18:45.633Z"
   },
   {
    "duration": 604,
    "start_time": "2022-08-23T18:18:59.982Z"
   },
   {
    "duration": 1405,
    "start_time": "2022-08-23T18:20:37.201Z"
   },
   {
    "duration": 975,
    "start_time": "2022-08-23T18:20:38.607Z"
   },
   {
    "duration": 17,
    "start_time": "2022-08-23T18:20:39.586Z"
   },
   {
    "duration": 110,
    "start_time": "2022-08-23T18:20:39.604Z"
   },
   {
    "duration": 100,
    "start_time": "2022-08-23T18:20:39.716Z"
   },
   {
    "duration": 24,
    "start_time": "2022-08-23T18:20:39.818Z"
   },
   {
    "duration": 11,
    "start_time": "2022-08-23T18:20:39.844Z"
   },
   {
    "duration": 4,
    "start_time": "2022-08-23T18:20:39.857Z"
   },
   {
    "duration": 15,
    "start_time": "2022-08-23T18:20:39.863Z"
   },
   {
    "duration": 48,
    "start_time": "2022-08-23T18:20:39.880Z"
   },
   {
    "duration": 11,
    "start_time": "2022-08-23T18:20:39.930Z"
   },
   {
    "duration": 86,
    "start_time": "2022-08-23T18:20:39.942Z"
   },
   {
    "duration": 29,
    "start_time": "2022-08-23T18:20:40.029Z"
   },
   {
    "duration": 18,
    "start_time": "2022-08-23T18:20:40.059Z"
   },
   {
    "duration": 28,
    "start_time": "2022-08-23T18:20:40.078Z"
   },
   {
    "duration": 20,
    "start_time": "2022-08-23T18:20:40.107Z"
   },
   {
    "duration": 29,
    "start_time": "2022-08-23T18:20:40.128Z"
   },
   {
    "duration": 28,
    "start_time": "2022-08-23T18:20:40.158Z"
   },
   {
    "duration": 14,
    "start_time": "2022-08-23T18:20:40.198Z"
   },
   {
    "duration": 19,
    "start_time": "2022-08-23T18:20:40.213Z"
   },
   {
    "duration": 36,
    "start_time": "2022-08-23T18:20:40.233Z"
   },
   {
    "duration": 60,
    "start_time": "2022-08-23T18:20:40.271Z"
   },
   {
    "duration": 17,
    "start_time": "2022-08-23T18:20:40.333Z"
   },
   {
    "duration": 20,
    "start_time": "2022-08-23T18:20:40.351Z"
   },
   {
    "duration": 26,
    "start_time": "2022-08-23T18:20:40.373Z"
   },
   {
    "duration": 32,
    "start_time": "2022-08-23T18:20:40.401Z"
   },
   {
    "duration": 16,
    "start_time": "2022-08-23T18:20:40.437Z"
   },
   {
    "duration": 45,
    "start_time": "2022-08-23T18:20:40.454Z"
   },
   {
    "duration": 15,
    "start_time": "2022-08-23T18:20:40.500Z"
   },
   {
    "duration": 19,
    "start_time": "2022-08-23T18:20:40.516Z"
   },
   {
    "duration": 13,
    "start_time": "2022-08-23T18:20:40.536Z"
   },
   {
    "duration": 27,
    "start_time": "2022-08-23T18:20:40.550Z"
   },
   {
    "duration": 15,
    "start_time": "2022-08-23T18:20:40.598Z"
   },
   {
    "duration": 19,
    "start_time": "2022-08-23T18:20:40.615Z"
   },
   {
    "duration": 13,
    "start_time": "2022-08-23T18:20:40.636Z"
   },
   {
    "duration": 9,
    "start_time": "2022-08-23T18:20:40.651Z"
   },
   {
    "duration": 45,
    "start_time": "2022-08-23T18:20:40.662Z"
   },
   {
    "duration": 347,
    "start_time": "2022-08-23T18:20:40.708Z"
   },
   {
    "duration": 32,
    "start_time": "2022-08-23T18:20:41.056Z"
   },
   {
    "duration": 22,
    "start_time": "2022-08-23T18:20:41.089Z"
   },
   {
    "duration": 379,
    "start_time": "2022-08-23T18:20:41.113Z"
   },
   {
    "duration": 150,
    "start_time": "2022-08-23T18:20:41.498Z"
   },
   {
    "duration": 28,
    "start_time": "2022-08-23T18:20:41.649Z"
   },
   {
    "duration": 242,
    "start_time": "2022-08-23T18:20:41.679Z"
   },
   {
    "duration": 157,
    "start_time": "2022-08-23T18:20:41.923Z"
   },
   {
    "duration": 16,
    "start_time": "2022-08-23T18:20:42.082Z"
   },
   {
    "duration": 17,
    "start_time": "2022-08-23T18:20:42.099Z"
   },
   {
    "duration": 247,
    "start_time": "2022-08-23T18:20:42.117Z"
   },
   {
    "duration": 165,
    "start_time": "2022-08-23T18:20:42.366Z"
   },
   {
    "duration": 24,
    "start_time": "2022-08-23T18:20:42.537Z"
   },
   {
    "duration": 237,
    "start_time": "2022-08-23T18:20:42.562Z"
   },
   {
    "duration": 153,
    "start_time": "2022-08-23T18:20:42.800Z"
   },
   {
    "duration": 25,
    "start_time": "2022-08-23T18:20:42.954Z"
   },
   {
    "duration": 232,
    "start_time": "2022-08-23T18:20:42.980Z"
   },
   {
    "duration": 149,
    "start_time": "2022-08-23T18:20:43.213Z"
   },
   {
    "duration": 7,
    "start_time": "2022-08-23T18:20:43.364Z"
   },
   {
    "duration": 216,
    "start_time": "2022-08-23T18:20:43.372Z"
   },
   {
    "duration": 286,
    "start_time": "2022-08-23T18:20:43.589Z"
   },
   {
    "duration": 67,
    "start_time": "2022-08-23T18:20:43.876Z"
   },
   {
    "duration": 134,
    "start_time": "2022-08-23T18:20:43.945Z"
   },
   {
    "duration": 137,
    "start_time": "2022-08-23T18:20:44.080Z"
   },
   {
    "duration": 116,
    "start_time": "2022-08-23T18:20:44.219Z"
   },
   {
    "duration": 4,
    "start_time": "2022-08-23T18:20:44.336Z"
   },
   {
    "duration": 5,
    "start_time": "2022-08-23T18:20:44.342Z"
   },
   {
    "duration": 7,
    "start_time": "2022-08-23T18:20:44.349Z"
   },
   {
    "duration": 5,
    "start_time": "2022-08-23T18:20:44.357Z"
   },
   {
    "duration": 5,
    "start_time": "2022-08-23T18:20:44.363Z"
   },
   {
    "duration": 1116,
    "start_time": "2022-08-23T18:20:44.369Z"
   },
   {
    "duration": 18,
    "start_time": "2022-08-23T18:20:45.486Z"
   },
   {
    "duration": 12,
    "start_time": "2022-08-23T18:20:45.505Z"
   },
   {
    "duration": 11,
    "start_time": "2022-08-23T18:20:45.519Z"
   },
   {
    "duration": 262,
    "start_time": "2022-08-23T18:20:45.531Z"
   },
   {
    "duration": 13011,
    "start_time": "2022-08-23T18:20:45.795Z"
   },
   {
    "duration": 4495,
    "start_time": "2022-08-23T18:20:58.809Z"
   },
   {
    "duration": 56,
    "start_time": "2022-08-23T18:24:26.904Z"
   },
   {
    "duration": 1354,
    "start_time": "2022-08-23T18:24:32.619Z"
   },
   {
    "duration": 1079,
    "start_time": "2022-08-23T18:24:33.975Z"
   },
   {
    "duration": 22,
    "start_time": "2022-08-23T18:24:35.061Z"
   },
   {
    "duration": 117,
    "start_time": "2022-08-23T18:24:35.085Z"
   },
   {
    "duration": 101,
    "start_time": "2022-08-23T18:24:35.203Z"
   },
   {
    "duration": 24,
    "start_time": "2022-08-23T18:24:35.306Z"
   },
   {
    "duration": 14,
    "start_time": "2022-08-23T18:24:35.332Z"
   },
   {
    "duration": 6,
    "start_time": "2022-08-23T18:24:35.347Z"
   },
   {
    "duration": 10,
    "start_time": "2022-08-23T18:24:35.354Z"
   },
   {
    "duration": 52,
    "start_time": "2022-08-23T18:24:35.366Z"
   },
   {
    "duration": 10,
    "start_time": "2022-08-23T18:24:35.420Z"
   },
   {
    "duration": 78,
    "start_time": "2022-08-23T18:24:35.432Z"
   },
   {
    "duration": 52,
    "start_time": "2022-08-23T18:24:35.512Z"
   },
   {
    "duration": 17,
    "start_time": "2022-08-23T18:24:35.565Z"
   },
   {
    "duration": 27,
    "start_time": "2022-08-23T18:24:35.584Z"
   },
   {
    "duration": 14,
    "start_time": "2022-08-23T18:24:35.613Z"
   },
   {
    "duration": 31,
    "start_time": "2022-08-23T18:24:35.628Z"
   },
   {
    "duration": 43,
    "start_time": "2022-08-23T18:24:35.661Z"
   },
   {
    "duration": 14,
    "start_time": "2022-08-23T18:24:35.706Z"
   },
   {
    "duration": 21,
    "start_time": "2022-08-23T18:24:35.722Z"
   },
   {
    "duration": 71,
    "start_time": "2022-08-23T18:24:35.745Z"
   },
   {
    "duration": 39,
    "start_time": "2022-08-23T18:24:35.817Z"
   },
   {
    "duration": 12,
    "start_time": "2022-08-23T18:24:35.858Z"
   },
   {
    "duration": 37,
    "start_time": "2022-08-23T18:24:35.872Z"
   },
   {
    "duration": 20,
    "start_time": "2022-08-23T18:24:35.910Z"
   },
   {
    "duration": 37,
    "start_time": "2022-08-23T18:24:35.931Z"
   },
   {
    "duration": 28,
    "start_time": "2022-08-23T18:24:35.970Z"
   },
   {
    "duration": 30,
    "start_time": "2022-08-23T18:24:36.003Z"
   },
   {
    "duration": 15,
    "start_time": "2022-08-23T18:24:36.035Z"
   },
   {
    "duration": 19,
    "start_time": "2022-08-23T18:24:36.051Z"
   },
   {
    "duration": 40,
    "start_time": "2022-08-23T18:24:36.071Z"
   },
   {
    "duration": 31,
    "start_time": "2022-08-23T18:24:36.112Z"
   },
   {
    "duration": 14,
    "start_time": "2022-08-23T18:24:36.145Z"
   },
   {
    "duration": 48,
    "start_time": "2022-08-23T18:24:36.161Z"
   },
   {
    "duration": 25,
    "start_time": "2022-08-23T18:24:36.211Z"
   },
   {
    "duration": 21,
    "start_time": "2022-08-23T18:24:36.238Z"
   },
   {
    "duration": 20,
    "start_time": "2022-08-23T18:24:36.261Z"
   },
   {
    "duration": 344,
    "start_time": "2022-08-23T18:24:36.283Z"
   },
   {
    "duration": 36,
    "start_time": "2022-08-23T18:24:36.629Z"
   },
   {
    "duration": 32,
    "start_time": "2022-08-23T18:24:36.667Z"
   },
   {
    "duration": 380,
    "start_time": "2022-08-23T18:24:36.701Z"
   },
   {
    "duration": 149,
    "start_time": "2022-08-23T18:24:37.083Z"
   },
   {
    "duration": 30,
    "start_time": "2022-08-23T18:24:37.234Z"
   },
   {
    "duration": 250,
    "start_time": "2022-08-23T18:24:37.266Z"
   },
   {
    "duration": 152,
    "start_time": "2022-08-23T18:24:37.518Z"
   },
   {
    "duration": 8,
    "start_time": "2022-08-23T18:24:37.673Z"
   },
   {
    "duration": 30,
    "start_time": "2022-08-23T18:24:37.683Z"
   },
   {
    "duration": 244,
    "start_time": "2022-08-23T18:24:37.715Z"
   },
   {
    "duration": 181,
    "start_time": "2022-08-23T18:24:37.961Z"
   },
   {
    "duration": 24,
    "start_time": "2022-08-23T18:24:38.144Z"
   },
   {
    "duration": 236,
    "start_time": "2022-08-23T18:24:38.170Z"
   },
   {
    "duration": 165,
    "start_time": "2022-08-23T18:24:38.407Z"
   },
   {
    "duration": 36,
    "start_time": "2022-08-23T18:24:38.574Z"
   },
   {
    "duration": 248,
    "start_time": "2022-08-23T18:24:38.612Z"
   },
   {
    "duration": 144,
    "start_time": "2022-08-23T18:24:38.862Z"
   },
   {
    "duration": 7,
    "start_time": "2022-08-23T18:24:39.007Z"
   },
   {
    "duration": 234,
    "start_time": "2022-08-23T18:24:39.016Z"
   },
   {
    "duration": 313,
    "start_time": "2022-08-23T18:24:39.252Z"
   },
   {
    "duration": 69,
    "start_time": "2022-08-23T18:24:39.567Z"
   },
   {
    "duration": 143,
    "start_time": "2022-08-23T18:24:39.638Z"
   },
   {
    "duration": 151,
    "start_time": "2022-08-23T18:24:39.783Z"
   },
   {
    "duration": 124,
    "start_time": "2022-08-23T18:24:39.936Z"
   },
   {
    "duration": 3,
    "start_time": "2022-08-23T18:24:40.062Z"
   },
   {
    "duration": 24,
    "start_time": "2022-08-23T18:24:40.066Z"
   },
   {
    "duration": 13,
    "start_time": "2022-08-23T18:24:40.092Z"
   },
   {
    "duration": 5,
    "start_time": "2022-08-23T18:24:40.106Z"
   },
   {
    "duration": 3,
    "start_time": "2022-08-23T18:24:40.113Z"
   },
   {
    "duration": 1111,
    "start_time": "2022-08-23T18:24:40.118Z"
   },
   {
    "duration": 16,
    "start_time": "2022-08-23T18:24:41.231Z"
   },
   {
    "duration": 12,
    "start_time": "2022-08-23T18:24:41.249Z"
   },
   {
    "duration": 12,
    "start_time": "2022-08-23T18:24:41.263Z"
   },
   {
    "duration": 290,
    "start_time": "2022-08-23T18:24:41.276Z"
   },
   {
    "duration": 16833,
    "start_time": "2022-08-23T18:24:41.567Z"
   },
   {
    "duration": 5310,
    "start_time": "2022-08-23T18:24:58.401Z"
   },
   {
    "duration": 1317,
    "start_time": "2022-08-23T19:21:51.638Z"
   },
   {
    "duration": 993,
    "start_time": "2022-08-23T19:21:52.957Z"
   },
   {
    "duration": 20,
    "start_time": "2022-08-23T19:21:53.952Z"
   },
   {
    "duration": 140,
    "start_time": "2022-08-23T19:21:53.975Z"
   },
   {
    "duration": 102,
    "start_time": "2022-08-23T19:21:54.117Z"
   },
   {
    "duration": 23,
    "start_time": "2022-08-23T19:21:54.221Z"
   },
   {
    "duration": 34,
    "start_time": "2022-08-23T19:21:54.246Z"
   },
   {
    "duration": 55,
    "start_time": "2022-08-23T19:21:54.281Z"
   },
   {
    "duration": 41,
    "start_time": "2022-08-23T19:21:54.338Z"
   },
   {
    "duration": 91,
    "start_time": "2022-08-23T19:21:54.382Z"
   },
   {
    "duration": 15,
    "start_time": "2022-08-23T19:21:54.475Z"
   },
   {
    "duration": 114,
    "start_time": "2022-08-23T19:21:54.494Z"
   },
   {
    "duration": 38,
    "start_time": "2022-08-23T19:21:54.610Z"
   },
   {
    "duration": 32,
    "start_time": "2022-08-23T19:21:54.650Z"
   },
   {
    "duration": 30,
    "start_time": "2022-08-23T19:21:54.683Z"
   },
   {
    "duration": 16,
    "start_time": "2022-08-23T19:21:54.715Z"
   },
   {
    "duration": 31,
    "start_time": "2022-08-23T19:21:54.733Z"
   },
   {
    "duration": 40,
    "start_time": "2022-08-23T19:21:54.765Z"
   },
   {
    "duration": 19,
    "start_time": "2022-08-23T19:21:54.807Z"
   },
   {
    "duration": 37,
    "start_time": "2022-08-23T19:21:54.827Z"
   },
   {
    "duration": 55,
    "start_time": "2022-08-23T19:21:54.867Z"
   },
   {
    "duration": 38,
    "start_time": "2022-08-23T19:21:54.924Z"
   },
   {
    "duration": 21,
    "start_time": "2022-08-23T19:21:54.963Z"
   },
   {
    "duration": 27,
    "start_time": "2022-08-23T19:21:54.986Z"
   },
   {
    "duration": 15,
    "start_time": "2022-08-23T19:21:55.014Z"
   },
   {
    "duration": 36,
    "start_time": "2022-08-23T19:21:55.031Z"
   },
   {
    "duration": 44,
    "start_time": "2022-08-23T19:21:55.069Z"
   },
   {
    "duration": 29,
    "start_time": "2022-08-23T19:21:55.117Z"
   },
   {
    "duration": 22,
    "start_time": "2022-08-23T19:21:55.148Z"
   },
   {
    "duration": 36,
    "start_time": "2022-08-23T19:21:55.172Z"
   },
   {
    "duration": 24,
    "start_time": "2022-08-23T19:21:55.210Z"
   },
   {
    "duration": 36,
    "start_time": "2022-08-23T19:21:55.236Z"
   },
   {
    "duration": 27,
    "start_time": "2022-08-23T19:21:55.274Z"
   },
   {
    "duration": 33,
    "start_time": "2022-08-23T19:21:55.302Z"
   },
   {
    "duration": 20,
    "start_time": "2022-08-23T19:21:55.337Z"
   },
   {
    "duration": 33,
    "start_time": "2022-08-23T19:21:55.359Z"
   },
   {
    "duration": 27,
    "start_time": "2022-08-23T19:21:55.394Z"
   },
   {
    "duration": 325,
    "start_time": "2022-08-23T19:21:55.423Z"
   },
   {
    "duration": 48,
    "start_time": "2022-08-23T19:21:55.750Z"
   },
   {
    "duration": 20,
    "start_time": "2022-08-23T19:21:55.800Z"
   },
   {
    "duration": 438,
    "start_time": "2022-08-23T19:21:55.822Z"
   },
   {
    "duration": 151,
    "start_time": "2022-08-23T19:21:56.262Z"
   },
   {
    "duration": 27,
    "start_time": "2022-08-23T19:21:56.415Z"
   },
   {
    "duration": 256,
    "start_time": "2022-08-23T19:21:56.444Z"
   },
   {
    "duration": 212,
    "start_time": "2022-08-23T19:21:56.702Z"
   },
   {
    "duration": 11,
    "start_time": "2022-08-23T19:21:56.915Z"
   },
   {
    "duration": 23,
    "start_time": "2022-08-23T19:21:56.928Z"
   },
   {
    "duration": 258,
    "start_time": "2022-08-23T19:21:56.952Z"
   },
   {
    "duration": 189,
    "start_time": "2022-08-23T19:21:57.211Z"
   },
   {
    "duration": 22,
    "start_time": "2022-08-23T19:21:57.401Z"
   },
   {
    "duration": 265,
    "start_time": "2022-08-23T19:21:57.425Z"
   },
   {
    "duration": 167,
    "start_time": "2022-08-23T19:21:57.692Z"
   },
   {
    "duration": 36,
    "start_time": "2022-08-23T19:21:57.862Z"
   },
   {
    "duration": 242,
    "start_time": "2022-08-23T19:21:57.900Z"
   },
   {
    "duration": 187,
    "start_time": "2022-08-23T19:21:58.144Z"
   },
   {
    "duration": 8,
    "start_time": "2022-08-23T19:21:58.332Z"
   },
   {
    "duration": 219,
    "start_time": "2022-08-23T19:21:58.341Z"
   },
   {
    "duration": 304,
    "start_time": "2022-08-23T19:21:58.562Z"
   },
   {
    "duration": 90,
    "start_time": "2022-08-23T19:21:58.868Z"
   },
   {
    "duration": 133,
    "start_time": "2022-08-23T19:21:58.960Z"
   },
   {
    "duration": 145,
    "start_time": "2022-08-23T19:21:59.095Z"
   },
   {
    "duration": 130,
    "start_time": "2022-08-23T19:21:59.241Z"
   },
   {
    "duration": 4,
    "start_time": "2022-08-23T19:21:59.372Z"
   },
   {
    "duration": 12,
    "start_time": "2022-08-23T19:21:59.378Z"
   },
   {
    "duration": 12,
    "start_time": "2022-08-23T19:21:59.398Z"
   },
   {
    "duration": 11,
    "start_time": "2022-08-23T19:21:59.411Z"
   },
   {
    "duration": 12,
    "start_time": "2022-08-23T19:21:59.424Z"
   },
   {
    "duration": 1046,
    "start_time": "2022-08-23T19:21:59.438Z"
   },
   {
    "duration": 21,
    "start_time": "2022-08-23T19:22:00.485Z"
   },
   {
    "duration": 26,
    "start_time": "2022-08-23T19:22:00.508Z"
   },
   {
    "duration": 50,
    "start_time": "2022-08-23T19:22:00.535Z"
   },
   {
    "duration": 268,
    "start_time": "2022-08-23T19:22:00.587Z"
   },
   {
    "duration": 19654,
    "start_time": "2022-08-23T19:22:00.856Z"
   },
   {
    "duration": 5189,
    "start_time": "2022-08-23T19:22:20.511Z"
   },
   {
    "duration": 51,
    "start_time": "2022-08-23T19:24:00.320Z"
   },
   {
    "duration": 1329,
    "start_time": "2022-08-23T19:24:06.527Z"
   },
   {
    "duration": 961,
    "start_time": "2022-08-23T19:24:07.858Z"
   },
   {
    "duration": 28,
    "start_time": "2022-08-23T19:24:08.820Z"
   },
   {
    "duration": 110,
    "start_time": "2022-08-23T19:24:08.849Z"
   },
   {
    "duration": 93,
    "start_time": "2022-08-23T19:24:08.962Z"
   },
   {
    "duration": 21,
    "start_time": "2022-08-23T19:24:09.057Z"
   },
   {
    "duration": 21,
    "start_time": "2022-08-23T19:24:09.079Z"
   },
   {
    "duration": 5,
    "start_time": "2022-08-23T19:24:09.101Z"
   },
   {
    "duration": 17,
    "start_time": "2022-08-23T19:24:09.107Z"
   },
   {
    "duration": 31,
    "start_time": "2022-08-23T19:24:09.126Z"
   },
   {
    "duration": 9,
    "start_time": "2022-08-23T19:24:09.159Z"
   },
   {
    "duration": 99,
    "start_time": "2022-08-23T19:24:09.169Z"
   },
   {
    "duration": 33,
    "start_time": "2022-08-23T19:24:09.269Z"
   },
   {
    "duration": 30,
    "start_time": "2022-08-23T19:24:09.304Z"
   },
   {
    "duration": 18,
    "start_time": "2022-08-23T19:24:09.335Z"
   },
   {
    "duration": 14,
    "start_time": "2022-08-23T19:24:09.355Z"
   },
   {
    "duration": 39,
    "start_time": "2022-08-23T19:24:09.370Z"
   },
   {
    "duration": 43,
    "start_time": "2022-08-23T19:24:09.411Z"
   },
   {
    "duration": 16,
    "start_time": "2022-08-23T19:24:09.456Z"
   },
   {
    "duration": 32,
    "start_time": "2022-08-23T19:24:09.473Z"
   },
   {
    "duration": 36,
    "start_time": "2022-08-23T19:24:09.507Z"
   },
   {
    "duration": 30,
    "start_time": "2022-08-23T19:24:09.545Z"
   },
   {
    "duration": 32,
    "start_time": "2022-08-23T19:24:09.577Z"
   },
   {
    "duration": 16,
    "start_time": "2022-08-23T19:24:09.611Z"
   },
   {
    "duration": 14,
    "start_time": "2022-08-23T19:24:09.628Z"
   },
   {
    "duration": 72,
    "start_time": "2022-08-23T19:24:09.643Z"
   },
   {
    "duration": 17,
    "start_time": "2022-08-23T19:24:09.717Z"
   },
   {
    "duration": 27,
    "start_time": "2022-08-23T19:24:09.736Z"
   },
   {
    "duration": 33,
    "start_time": "2022-08-23T19:24:09.765Z"
   },
   {
    "duration": 17,
    "start_time": "2022-08-23T19:24:09.800Z"
   },
   {
    "duration": 25,
    "start_time": "2022-08-23T19:24:09.818Z"
   },
   {
    "duration": 29,
    "start_time": "2022-08-23T19:24:09.844Z"
   },
   {
    "duration": 29,
    "start_time": "2022-08-23T19:24:09.874Z"
   },
   {
    "duration": 19,
    "start_time": "2022-08-23T19:24:09.905Z"
   },
   {
    "duration": 16,
    "start_time": "2022-08-23T19:24:09.926Z"
   },
   {
    "duration": 11,
    "start_time": "2022-08-23T19:24:09.944Z"
   },
   {
    "duration": 42,
    "start_time": "2022-08-23T19:24:09.956Z"
   },
   {
    "duration": 349,
    "start_time": "2022-08-23T19:24:10.000Z"
   },
   {
    "duration": 33,
    "start_time": "2022-08-23T19:24:10.351Z"
   },
   {
    "duration": 16,
    "start_time": "2022-08-23T19:24:10.397Z"
   },
   {
    "duration": 416,
    "start_time": "2022-08-23T19:24:10.419Z"
   },
   {
    "duration": 145,
    "start_time": "2022-08-23T19:24:10.836Z"
   },
   {
    "duration": 33,
    "start_time": "2022-08-23T19:24:10.983Z"
   },
   {
    "duration": 238,
    "start_time": "2022-08-23T19:24:11.018Z"
   },
   {
    "duration": 157,
    "start_time": "2022-08-23T19:24:11.258Z"
   },
   {
    "duration": 7,
    "start_time": "2022-08-23T19:24:11.417Z"
   },
   {
    "duration": 14,
    "start_time": "2022-08-23T19:24:11.426Z"
   },
   {
    "duration": 264,
    "start_time": "2022-08-23T19:24:11.442Z"
   },
   {
    "duration": 158,
    "start_time": "2022-08-23T19:24:11.708Z"
   },
   {
    "duration": 33,
    "start_time": "2022-08-23T19:24:11.867Z"
   },
   {
    "duration": 232,
    "start_time": "2022-08-23T19:24:11.902Z"
   },
   {
    "duration": 164,
    "start_time": "2022-08-23T19:24:12.136Z"
   },
   {
    "duration": 24,
    "start_time": "2022-08-23T19:24:12.302Z"
   },
   {
    "duration": 263,
    "start_time": "2022-08-23T19:24:12.328Z"
   },
   {
    "duration": 137,
    "start_time": "2022-08-23T19:24:12.592Z"
   },
   {
    "duration": 7,
    "start_time": "2022-08-23T19:24:12.731Z"
   },
   {
    "duration": 216,
    "start_time": "2022-08-23T19:24:12.739Z"
   },
   {
    "duration": 284,
    "start_time": "2022-08-23T19:24:12.956Z"
   },
   {
    "duration": 66,
    "start_time": "2022-08-23T19:24:13.241Z"
   },
   {
    "duration": 135,
    "start_time": "2022-08-23T19:24:13.308Z"
   },
   {
    "duration": 140,
    "start_time": "2022-08-23T19:24:13.444Z"
   },
   {
    "duration": 122,
    "start_time": "2022-08-23T19:24:13.586Z"
   },
   {
    "duration": 4,
    "start_time": "2022-08-23T19:24:13.709Z"
   },
   {
    "duration": 8,
    "start_time": "2022-08-23T19:24:13.714Z"
   },
   {
    "duration": 9,
    "start_time": "2022-08-23T19:24:13.723Z"
   },
   {
    "duration": 5,
    "start_time": "2022-08-23T19:24:13.733Z"
   },
   {
    "duration": 14,
    "start_time": "2022-08-23T19:24:13.739Z"
   },
   {
    "duration": 1075,
    "start_time": "2022-08-23T19:24:13.754Z"
   },
   {
    "duration": 15,
    "start_time": "2022-08-23T19:24:14.831Z"
   },
   {
    "duration": 11,
    "start_time": "2022-08-23T19:24:14.847Z"
   },
   {
    "duration": 286,
    "start_time": "2022-08-23T19:24:14.859Z"
   },
   {
    "duration": 17854,
    "start_time": "2022-08-23T19:24:15.147Z"
   },
   {
    "duration": 4794,
    "start_time": "2022-08-23T19:24:33.003Z"
   },
   {
    "duration": 1378,
    "start_time": "2022-08-23T19:25:49.887Z"
   },
   {
    "duration": 963,
    "start_time": "2022-08-23T19:25:51.267Z"
   },
   {
    "duration": 21,
    "start_time": "2022-08-23T19:25:52.234Z"
   },
   {
    "duration": 193,
    "start_time": "2022-08-23T19:25:52.257Z"
   },
   {
    "duration": 96,
    "start_time": "2022-08-23T19:25:52.451Z"
   },
   {
    "duration": 21,
    "start_time": "2022-08-23T19:25:52.549Z"
   },
   {
    "duration": 14,
    "start_time": "2022-08-23T19:25:52.572Z"
   },
   {
    "duration": 15,
    "start_time": "2022-08-23T19:25:52.587Z"
   },
   {
    "duration": 13,
    "start_time": "2022-08-23T19:25:52.605Z"
   },
   {
    "duration": 33,
    "start_time": "2022-08-23T19:25:52.620Z"
   },
   {
    "duration": 11,
    "start_time": "2022-08-23T19:25:52.654Z"
   },
   {
    "duration": 89,
    "start_time": "2022-08-23T19:25:52.667Z"
   },
   {
    "duration": 45,
    "start_time": "2022-08-23T19:25:52.758Z"
   },
   {
    "duration": 20,
    "start_time": "2022-08-23T19:25:52.805Z"
   },
   {
    "duration": 18,
    "start_time": "2022-08-23T19:25:52.827Z"
   },
   {
    "duration": 14,
    "start_time": "2022-08-23T19:25:52.847Z"
   },
   {
    "duration": 53,
    "start_time": "2022-08-23T19:25:52.863Z"
   },
   {
    "duration": 36,
    "start_time": "2022-08-23T19:25:52.918Z"
   },
   {
    "duration": 15,
    "start_time": "2022-08-23T19:25:52.955Z"
   },
   {
    "duration": 31,
    "start_time": "2022-08-23T19:25:52.971Z"
   },
   {
    "duration": 36,
    "start_time": "2022-08-23T19:25:53.003Z"
   },
   {
    "duration": 29,
    "start_time": "2022-08-23T19:25:53.041Z"
   },
   {
    "duration": 32,
    "start_time": "2022-08-23T19:25:53.071Z"
   },
   {
    "duration": 15,
    "start_time": "2022-08-23T19:25:53.104Z"
   },
   {
    "duration": 36,
    "start_time": "2022-08-23T19:25:53.121Z"
   },
   {
    "duration": 31,
    "start_time": "2022-08-23T19:25:53.158Z"
   },
   {
    "duration": 15,
    "start_time": "2022-08-23T19:25:53.193Z"
   },
   {
    "duration": 32,
    "start_time": "2022-08-23T19:25:53.209Z"
   },
   {
    "duration": 12,
    "start_time": "2022-08-23T19:25:53.242Z"
   },
   {
    "duration": 25,
    "start_time": "2022-08-23T19:25:53.255Z"
   },
   {
    "duration": 19,
    "start_time": "2022-08-23T19:25:53.281Z"
   },
   {
    "duration": 26,
    "start_time": "2022-08-23T19:25:53.301Z"
   },
   {
    "duration": 15,
    "start_time": "2022-08-23T19:25:53.328Z"
   },
   {
    "duration": 18,
    "start_time": "2022-08-23T19:25:53.345Z"
   },
   {
    "duration": 35,
    "start_time": "2022-08-23T19:25:53.365Z"
   },
   {
    "duration": 8,
    "start_time": "2022-08-23T19:25:53.401Z"
   },
   {
    "duration": 15,
    "start_time": "2022-08-23T19:25:53.411Z"
   },
   {
    "duration": 349,
    "start_time": "2022-08-23T19:25:53.428Z"
   },
   {
    "duration": 38,
    "start_time": "2022-08-23T19:25:53.778Z"
   },
   {
    "duration": 15,
    "start_time": "2022-08-23T19:25:53.817Z"
   },
   {
    "duration": 374,
    "start_time": "2022-08-23T19:25:53.834Z"
   },
   {
    "duration": 150,
    "start_time": "2022-08-23T19:25:54.210Z"
   },
   {
    "duration": 40,
    "start_time": "2022-08-23T19:25:54.361Z"
   },
   {
    "duration": 290,
    "start_time": "2022-08-23T19:25:54.403Z"
   },
   {
    "duration": 159,
    "start_time": "2022-08-23T19:25:54.695Z"
   },
   {
    "duration": 9,
    "start_time": "2022-08-23T19:25:54.856Z"
   },
   {
    "duration": 18,
    "start_time": "2022-08-23T19:25:54.867Z"
   },
   {
    "duration": 241,
    "start_time": "2022-08-23T19:25:54.906Z"
   },
   {
    "duration": 185,
    "start_time": "2022-08-23T19:25:55.149Z"
   },
   {
    "duration": 23,
    "start_time": "2022-08-23T19:25:55.336Z"
   },
   {
    "duration": 239,
    "start_time": "2022-08-23T19:25:55.362Z"
   },
   {
    "duration": 162,
    "start_time": "2022-08-23T19:25:55.602Z"
   },
   {
    "duration": 33,
    "start_time": "2022-08-23T19:25:55.765Z"
   },
   {
    "duration": 235,
    "start_time": "2022-08-23T19:25:55.800Z"
   },
   {
    "duration": 145,
    "start_time": "2022-08-23T19:25:56.036Z"
   },
   {
    "duration": 6,
    "start_time": "2022-08-23T19:25:56.183Z"
   },
   {
    "duration": 222,
    "start_time": "2022-08-23T19:25:56.190Z"
   },
   {
    "duration": 281,
    "start_time": "2022-08-23T19:25:56.414Z"
   },
   {
    "duration": 67,
    "start_time": "2022-08-23T19:25:56.696Z"
   },
   {
    "duration": 132,
    "start_time": "2022-08-23T19:25:56.764Z"
   },
   {
    "duration": 137,
    "start_time": "2022-08-23T19:25:56.898Z"
   },
   {
    "duration": 117,
    "start_time": "2022-08-23T19:25:57.037Z"
   },
   {
    "duration": 3,
    "start_time": "2022-08-23T19:25:57.156Z"
   },
   {
    "duration": 12,
    "start_time": "2022-08-23T19:25:57.160Z"
   },
   {
    "duration": 7,
    "start_time": "2022-08-23T19:25:57.173Z"
   },
   {
    "duration": 22,
    "start_time": "2022-08-23T19:25:57.182Z"
   },
   {
    "duration": 7,
    "start_time": "2022-08-23T19:25:57.206Z"
   },
   {
    "duration": 1016,
    "start_time": "2022-08-23T19:25:57.214Z"
   },
   {
    "duration": 14,
    "start_time": "2022-08-23T19:25:58.232Z"
   },
   {
    "duration": 16,
    "start_time": "2022-08-23T19:25:58.247Z"
   },
   {
    "duration": 277,
    "start_time": "2022-08-23T19:25:58.265Z"
   },
   {
    "duration": 15957,
    "start_time": "2022-08-23T19:25:58.544Z"
   },
   {
    "duration": 5897,
    "start_time": "2022-08-23T19:26:14.503Z"
   },
   {
    "duration": 3089,
    "start_time": "2022-08-23T19:26:20.402Z"
   },
   {
    "duration": 3018,
    "start_time": "2022-08-23T19:26:33.612Z"
   },
   {
    "duration": 2992,
    "start_time": "2022-08-23T19:26:45.069Z"
   },
   {
    "duration": 2054,
    "start_time": "2022-08-23T19:27:54.746Z"
   },
   {
    "duration": 2077,
    "start_time": "2022-08-23T19:28:04.604Z"
   },
   {
    "duration": 5465,
    "start_time": "2022-08-23T19:28:11.671Z"
   },
   {
    "duration": 66,
    "start_time": "2022-08-23T19:29:49.886Z"
   },
   {
    "duration": 1451,
    "start_time": "2022-08-23T19:30:03.329Z"
   },
   {
    "duration": 1023,
    "start_time": "2022-08-23T19:30:04.783Z"
   },
   {
    "duration": 20,
    "start_time": "2022-08-23T19:30:05.808Z"
   },
   {
    "duration": 133,
    "start_time": "2022-08-23T19:30:05.830Z"
   },
   {
    "duration": 103,
    "start_time": "2022-08-23T19:30:05.964Z"
   },
   {
    "duration": 30,
    "start_time": "2022-08-23T19:30:06.068Z"
   },
   {
    "duration": 21,
    "start_time": "2022-08-23T19:30:06.100Z"
   },
   {
    "duration": 23,
    "start_time": "2022-08-23T19:30:06.122Z"
   },
   {
    "duration": 19,
    "start_time": "2022-08-23T19:30:06.146Z"
   },
   {
    "duration": 61,
    "start_time": "2022-08-23T19:30:06.167Z"
   },
   {
    "duration": 11,
    "start_time": "2022-08-23T19:30:06.229Z"
   },
   {
    "duration": 81,
    "start_time": "2022-08-23T19:30:06.242Z"
   },
   {
    "duration": 31,
    "start_time": "2022-08-23T19:30:06.325Z"
   },
   {
    "duration": 23,
    "start_time": "2022-08-23T19:30:06.358Z"
   },
   {
    "duration": 31,
    "start_time": "2022-08-23T19:30:06.399Z"
   },
   {
    "duration": 47,
    "start_time": "2022-08-23T19:30:06.431Z"
   },
   {
    "duration": 32,
    "start_time": "2022-08-23T19:30:06.479Z"
   },
   {
    "duration": 49,
    "start_time": "2022-08-23T19:30:06.513Z"
   },
   {
    "duration": 33,
    "start_time": "2022-08-23T19:30:06.563Z"
   },
   {
    "duration": 39,
    "start_time": "2022-08-23T19:30:06.597Z"
   },
   {
    "duration": 45,
    "start_time": "2022-08-23T19:30:06.637Z"
   },
   {
    "duration": 29,
    "start_time": "2022-08-23T19:30:06.684Z"
   },
   {
    "duration": 27,
    "start_time": "2022-08-23T19:30:06.715Z"
   },
   {
    "duration": 51,
    "start_time": "2022-08-23T19:30:06.744Z"
   },
   {
    "duration": 29,
    "start_time": "2022-08-23T19:30:06.797Z"
   },
   {
    "duration": 47,
    "start_time": "2022-08-23T19:30:06.827Z"
   },
   {
    "duration": 27,
    "start_time": "2022-08-23T19:30:06.875Z"
   },
   {
    "duration": 46,
    "start_time": "2022-08-23T19:30:06.908Z"
   },
   {
    "duration": 42,
    "start_time": "2022-08-23T19:30:06.956Z"
   },
   {
    "duration": 18,
    "start_time": "2022-08-23T19:30:06.999Z"
   },
   {
    "duration": 45,
    "start_time": "2022-08-23T19:30:07.019Z"
   },
   {
    "duration": 49,
    "start_time": "2022-08-23T19:30:07.065Z"
   },
   {
    "duration": 23,
    "start_time": "2022-08-23T19:30:07.115Z"
   },
   {
    "duration": 30,
    "start_time": "2022-08-23T19:30:07.139Z"
   },
   {
    "duration": 30,
    "start_time": "2022-08-23T19:30:07.170Z"
   },
   {
    "duration": 27,
    "start_time": "2022-08-23T19:30:07.201Z"
   },
   {
    "duration": 38,
    "start_time": "2022-08-23T19:30:07.230Z"
   },
   {
    "duration": 318,
    "start_time": "2022-08-23T19:30:07.269Z"
   },
   {
    "duration": 39,
    "start_time": "2022-08-23T19:30:07.589Z"
   },
   {
    "duration": 17,
    "start_time": "2022-08-23T19:30:07.630Z"
   },
   {
    "duration": 426,
    "start_time": "2022-08-23T19:30:07.648Z"
   },
   {
    "duration": 166,
    "start_time": "2022-08-23T19:30:08.076Z"
   },
   {
    "duration": 28,
    "start_time": "2022-08-23T19:30:08.243Z"
   },
   {
    "duration": 255,
    "start_time": "2022-08-23T19:30:08.273Z"
   },
   {
    "duration": 159,
    "start_time": "2022-08-23T19:30:08.529Z"
   },
   {
    "duration": 9,
    "start_time": "2022-08-23T19:30:08.690Z"
   },
   {
    "duration": 28,
    "start_time": "2022-08-23T19:30:08.700Z"
   },
   {
    "duration": 245,
    "start_time": "2022-08-23T19:30:08.729Z"
   },
   {
    "duration": 163,
    "start_time": "2022-08-23T19:30:08.976Z"
   },
   {
    "duration": 22,
    "start_time": "2022-08-23T19:30:09.141Z"
   },
   {
    "duration": 245,
    "start_time": "2022-08-23T19:30:09.165Z"
   },
   {
    "duration": 181,
    "start_time": "2022-08-23T19:30:09.413Z"
   },
   {
    "duration": 24,
    "start_time": "2022-08-23T19:30:09.598Z"
   },
   {
    "duration": 240,
    "start_time": "2022-08-23T19:30:09.624Z"
   },
   {
    "duration": 163,
    "start_time": "2022-08-23T19:30:09.866Z"
   },
   {
    "duration": 8,
    "start_time": "2022-08-23T19:30:10.030Z"
   },
   {
    "duration": 246,
    "start_time": "2022-08-23T19:30:10.039Z"
   },
   {
    "duration": 316,
    "start_time": "2022-08-23T19:30:10.286Z"
   },
   {
    "duration": 76,
    "start_time": "2022-08-23T19:30:10.604Z"
   },
   {
    "duration": 134,
    "start_time": "2022-08-23T19:30:10.681Z"
   },
   {
    "duration": 145,
    "start_time": "2022-08-23T19:30:10.816Z"
   },
   {
    "duration": 131,
    "start_time": "2022-08-23T19:30:10.963Z"
   },
   {
    "duration": 5,
    "start_time": "2022-08-23T19:30:11.098Z"
   },
   {
    "duration": 7,
    "start_time": "2022-08-23T19:30:11.105Z"
   },
   {
    "duration": 23,
    "start_time": "2022-08-23T19:30:11.114Z"
   },
   {
    "duration": 5,
    "start_time": "2022-08-23T19:30:11.138Z"
   },
   {
    "duration": 6,
    "start_time": "2022-08-23T19:30:11.145Z"
   },
   {
    "duration": 1089,
    "start_time": "2022-08-23T19:30:11.153Z"
   },
   {
    "duration": 16,
    "start_time": "2022-08-23T19:30:12.243Z"
   },
   {
    "duration": 11,
    "start_time": "2022-08-23T19:30:12.261Z"
   },
   {
    "duration": 294,
    "start_time": "2022-08-23T19:30:12.274Z"
   },
   {
    "duration": 116,
    "start_time": "2022-08-23T19:30:12.569Z"
   },
   {
    "duration": 0,
    "start_time": "2022-08-23T19:30:12.687Z"
   },
   {
    "duration": 0,
    "start_time": "2022-08-23T19:30:12.688Z"
   },
   {
    "duration": 0,
    "start_time": "2022-08-23T19:30:12.698Z"
   },
   {
    "duration": 992,
    "start_time": "2022-08-23T19:32:15.209Z"
   },
   {
    "duration": 22,
    "start_time": "2022-08-23T19:32:16.204Z"
   },
   {
    "duration": 15,
    "start_time": "2022-08-23T19:32:16.228Z"
   },
   {
    "duration": 919,
    "start_time": "2022-08-23T19:33:06.085Z"
   },
   {
    "duration": 929,
    "start_time": "2022-08-23T19:33:11.702Z"
   },
   {
    "duration": 1316,
    "start_time": "2022-08-23T19:39:26.261Z"
   },
   {
    "duration": 753,
    "start_time": "2022-08-23T19:39:27.579Z"
   },
   {
    "duration": 16,
    "start_time": "2022-08-23T19:39:28.334Z"
   },
   {
    "duration": 112,
    "start_time": "2022-08-23T19:39:28.352Z"
   },
   {
    "duration": 125,
    "start_time": "2022-08-23T19:39:28.465Z"
   },
   {
    "duration": 35,
    "start_time": "2022-08-23T19:39:28.591Z"
   },
   {
    "duration": 12,
    "start_time": "2022-08-23T19:39:28.628Z"
   },
   {
    "duration": 10,
    "start_time": "2022-08-23T19:39:28.642Z"
   },
   {
    "duration": 13,
    "start_time": "2022-08-23T19:39:28.654Z"
   },
   {
    "duration": 42,
    "start_time": "2022-08-23T19:39:28.671Z"
   },
   {
    "duration": 11,
    "start_time": "2022-08-23T19:39:28.715Z"
   },
   {
    "duration": 88,
    "start_time": "2022-08-23T19:39:28.727Z"
   },
   {
    "duration": 30,
    "start_time": "2022-08-23T19:39:28.817Z"
   },
   {
    "duration": 24,
    "start_time": "2022-08-23T19:39:28.849Z"
   },
   {
    "duration": 33,
    "start_time": "2022-08-23T19:39:28.877Z"
   },
   {
    "duration": 15,
    "start_time": "2022-08-23T19:39:28.912Z"
   },
   {
    "duration": 54,
    "start_time": "2022-08-23T19:39:28.928Z"
   },
   {
    "duration": 43,
    "start_time": "2022-08-23T19:39:28.984Z"
   },
   {
    "duration": 16,
    "start_time": "2022-08-23T19:39:29.029Z"
   },
   {
    "duration": 20,
    "start_time": "2022-08-23T19:39:29.046Z"
   },
   {
    "duration": 51,
    "start_time": "2022-08-23T19:39:29.067Z"
   },
   {
    "duration": 29,
    "start_time": "2022-08-23T19:39:29.120Z"
   },
   {
    "duration": 19,
    "start_time": "2022-08-23T19:39:29.151Z"
   },
   {
    "duration": 31,
    "start_time": "2022-08-23T19:39:29.171Z"
   },
   {
    "duration": 13,
    "start_time": "2022-08-23T19:39:29.204Z"
   },
   {
    "duration": 31,
    "start_time": "2022-08-23T19:39:29.219Z"
   },
   {
    "duration": 16,
    "start_time": "2022-08-23T19:39:29.251Z"
   },
   {
    "duration": 45,
    "start_time": "2022-08-23T19:39:29.270Z"
   },
   {
    "duration": 17,
    "start_time": "2022-08-23T19:39:29.317Z"
   },
   {
    "duration": 17,
    "start_time": "2022-08-23T19:39:29.336Z"
   },
   {
    "duration": 14,
    "start_time": "2022-08-23T19:39:29.355Z"
   },
   {
    "duration": 48,
    "start_time": "2022-08-23T19:39:29.370Z"
   },
   {
    "duration": 15,
    "start_time": "2022-08-23T19:39:29.420Z"
   },
   {
    "duration": 20,
    "start_time": "2022-08-23T19:39:29.436Z"
   },
   {
    "duration": 15,
    "start_time": "2022-08-23T19:39:29.458Z"
   },
   {
    "duration": 8,
    "start_time": "2022-08-23T19:39:29.498Z"
   },
   {
    "duration": 16,
    "start_time": "2022-08-23T19:39:29.507Z"
   },
   {
    "duration": 353,
    "start_time": "2022-08-23T19:39:29.525Z"
   },
   {
    "duration": 49,
    "start_time": "2022-08-23T19:39:29.880Z"
   },
   {
    "duration": 16,
    "start_time": "2022-08-23T19:39:29.932Z"
   },
   {
    "duration": 385,
    "start_time": "2022-08-23T19:39:29.949Z"
   },
   {
    "duration": 149,
    "start_time": "2022-08-23T19:39:30.335Z"
   },
   {
    "duration": 34,
    "start_time": "2022-08-23T19:39:30.486Z"
   },
   {
    "duration": 243,
    "start_time": "2022-08-23T19:39:30.522Z"
   },
   {
    "duration": 162,
    "start_time": "2022-08-23T19:39:30.766Z"
   },
   {
    "duration": 9,
    "start_time": "2022-08-23T19:39:30.930Z"
   },
   {
    "duration": 34,
    "start_time": "2022-08-23T19:39:30.940Z"
   },
   {
    "duration": 230,
    "start_time": "2022-08-23T19:39:30.976Z"
   },
   {
    "duration": 161,
    "start_time": "2022-08-23T19:39:31.207Z"
   },
   {
    "duration": 33,
    "start_time": "2022-08-23T19:39:31.370Z"
   },
   {
    "duration": 224,
    "start_time": "2022-08-23T19:39:31.405Z"
   },
   {
    "duration": 163,
    "start_time": "2022-08-23T19:39:31.630Z"
   },
   {
    "duration": 28,
    "start_time": "2022-08-23T19:39:31.794Z"
   },
   {
    "duration": 243,
    "start_time": "2022-08-23T19:39:31.824Z"
   },
   {
    "duration": 145,
    "start_time": "2022-08-23T19:39:32.069Z"
   },
   {
    "duration": 7,
    "start_time": "2022-08-23T19:39:32.216Z"
   },
   {
    "duration": 227,
    "start_time": "2022-08-23T19:39:32.225Z"
   },
   {
    "duration": 291,
    "start_time": "2022-08-23T19:39:32.454Z"
   },
   {
    "duration": 66,
    "start_time": "2022-08-23T19:39:32.746Z"
   },
   {
    "duration": 129,
    "start_time": "2022-08-23T19:39:32.813Z"
   },
   {
    "duration": 142,
    "start_time": "2022-08-23T19:39:32.943Z"
   },
   {
    "duration": 113,
    "start_time": "2022-08-23T19:39:33.086Z"
   },
   {
    "duration": 4,
    "start_time": "2022-08-23T19:39:33.200Z"
   },
   {
    "duration": 6,
    "start_time": "2022-08-23T19:39:33.205Z"
   },
   {
    "duration": 12,
    "start_time": "2022-08-23T19:39:33.213Z"
   },
   {
    "duration": 5,
    "start_time": "2022-08-23T19:39:33.227Z"
   },
   {
    "duration": 17,
    "start_time": "2022-08-23T19:39:33.233Z"
   },
   {
    "duration": 840,
    "start_time": "2022-08-23T19:39:33.251Z"
   },
   {
    "duration": 0,
    "start_time": "2022-08-23T19:39:34.092Z"
   },
   {
    "duration": 0,
    "start_time": "2022-08-23T19:39:34.093Z"
   },
   {
    "duration": 0,
    "start_time": "2022-08-23T19:39:34.094Z"
   },
   {
    "duration": 0,
    "start_time": "2022-08-23T19:39:34.095Z"
   },
   {
    "duration": 0,
    "start_time": "2022-08-23T19:39:34.098Z"
   },
   {
    "duration": 0,
    "start_time": "2022-08-23T19:39:34.099Z"
   },
   {
    "duration": 0,
    "start_time": "2022-08-23T19:39:34.101Z"
   },
   {
    "duration": 761,
    "start_time": "2022-08-23T19:39:42.037Z"
   },
   {
    "duration": 729,
    "start_time": "2022-08-23T19:39:49.437Z"
   },
   {
    "duration": 15,
    "start_time": "2022-08-23T19:39:50.736Z"
   },
   {
    "duration": 12,
    "start_time": "2022-08-23T19:39:52.075Z"
   },
   {
    "duration": 400,
    "start_time": "2022-08-23T19:40:00.717Z"
   },
   {
    "duration": 9,
    "start_time": "2022-08-23T19:40:08.351Z"
   },
   {
    "duration": 4,
    "start_time": "2022-08-23T19:40:14.894Z"
   },
   {
    "duration": 19303,
    "start_time": "2022-08-23T19:40:20.697Z"
   },
   {
    "duration": 5067,
    "start_time": "2022-08-23T19:40:41.232Z"
   },
   {
    "duration": 1333,
    "start_time": "2022-08-23T19:49:27.425Z"
   },
   {
    "duration": 739,
    "start_time": "2022-08-23T19:49:28.759Z"
   },
   {
    "duration": 16,
    "start_time": "2022-08-23T19:49:29.500Z"
   },
   {
    "duration": 126,
    "start_time": "2022-08-23T19:49:29.518Z"
   },
   {
    "duration": 102,
    "start_time": "2022-08-23T19:49:29.645Z"
   },
   {
    "duration": 23,
    "start_time": "2022-08-23T19:49:29.749Z"
   },
   {
    "duration": 27,
    "start_time": "2022-08-23T19:49:29.774Z"
   },
   {
    "duration": 26,
    "start_time": "2022-08-23T19:49:29.803Z"
   },
   {
    "duration": 18,
    "start_time": "2022-08-23T19:49:29.830Z"
   },
   {
    "duration": 32,
    "start_time": "2022-08-23T19:49:29.851Z"
   },
   {
    "duration": 14,
    "start_time": "2022-08-23T19:49:29.885Z"
   },
   {
    "duration": 77,
    "start_time": "2022-08-23T19:49:29.901Z"
   },
   {
    "duration": 40,
    "start_time": "2022-08-23T19:49:29.979Z"
   },
   {
    "duration": 19,
    "start_time": "2022-08-23T19:49:30.020Z"
   },
   {
    "duration": 19,
    "start_time": "2022-08-23T19:49:30.041Z"
   },
   {
    "duration": 14,
    "start_time": "2022-08-23T19:49:30.061Z"
   },
   {
    "duration": 47,
    "start_time": "2022-08-23T19:49:30.077Z"
   },
   {
    "duration": 28,
    "start_time": "2022-08-23T19:49:30.125Z"
   },
   {
    "duration": 25,
    "start_time": "2022-08-23T19:49:30.154Z"
   },
   {
    "duration": 30,
    "start_time": "2022-08-23T19:49:30.180Z"
   },
   {
    "duration": 39,
    "start_time": "2022-08-23T19:49:30.212Z"
   },
   {
    "duration": 47,
    "start_time": "2022-08-23T19:49:30.252Z"
   },
   {
    "duration": 14,
    "start_time": "2022-08-23T19:49:30.301Z"
   },
   {
    "duration": 27,
    "start_time": "2022-08-23T19:49:30.316Z"
   },
   {
    "duration": 25,
    "start_time": "2022-08-23T19:49:30.344Z"
   },
   {
    "duration": 31,
    "start_time": "2022-08-23T19:49:30.370Z"
   },
   {
    "duration": 26,
    "start_time": "2022-08-23T19:49:30.403Z"
   },
   {
    "duration": 33,
    "start_time": "2022-08-23T19:49:30.433Z"
   },
   {
    "duration": 38,
    "start_time": "2022-08-23T19:49:30.467Z"
   },
   {
    "duration": 28,
    "start_time": "2022-08-23T19:49:30.507Z"
   },
   {
    "duration": 24,
    "start_time": "2022-08-23T19:49:30.536Z"
   },
   {
    "duration": 52,
    "start_time": "2022-08-23T19:49:30.562Z"
   },
   {
    "duration": 26,
    "start_time": "2022-08-23T19:49:30.615Z"
   },
   {
    "duration": 49,
    "start_time": "2022-08-23T19:49:30.643Z"
   },
   {
    "duration": 40,
    "start_time": "2022-08-23T19:49:30.693Z"
   },
   {
    "duration": 21,
    "start_time": "2022-08-23T19:49:30.734Z"
   },
   {
    "duration": 15,
    "start_time": "2022-08-23T19:49:30.756Z"
   },
   {
    "duration": 315,
    "start_time": "2022-08-23T19:49:30.773Z"
   },
   {
    "duration": 37,
    "start_time": "2022-08-23T19:49:31.090Z"
   },
   {
    "duration": 16,
    "start_time": "2022-08-23T19:49:31.129Z"
   },
   {
    "duration": 382,
    "start_time": "2022-08-23T19:49:31.147Z"
   },
   {
    "duration": 155,
    "start_time": "2022-08-23T19:49:31.530Z"
   },
   {
    "duration": 36,
    "start_time": "2022-08-23T19:49:31.687Z"
   },
   {
    "duration": 251,
    "start_time": "2022-08-23T19:49:31.724Z"
   },
   {
    "duration": 158,
    "start_time": "2022-08-23T19:49:31.976Z"
   },
   {
    "duration": 8,
    "start_time": "2022-08-23T19:49:32.135Z"
   },
   {
    "duration": 15,
    "start_time": "2022-08-23T19:49:32.144Z"
   },
   {
    "duration": 243,
    "start_time": "2022-08-23T19:49:32.160Z"
   },
   {
    "duration": 162,
    "start_time": "2022-08-23T19:49:32.405Z"
   },
   {
    "duration": 31,
    "start_time": "2022-08-23T19:49:32.569Z"
   },
   {
    "duration": 225,
    "start_time": "2022-08-23T19:49:32.601Z"
   },
   {
    "duration": 163,
    "start_time": "2022-08-23T19:49:32.828Z"
   },
   {
    "duration": 31,
    "start_time": "2022-08-23T19:49:32.993Z"
   },
   {
    "duration": 229,
    "start_time": "2022-08-23T19:49:33.026Z"
   },
   {
    "duration": 146,
    "start_time": "2022-08-23T19:49:33.256Z"
   },
   {
    "duration": 7,
    "start_time": "2022-08-23T19:49:33.403Z"
   },
   {
    "duration": 216,
    "start_time": "2022-08-23T19:49:33.411Z"
   },
   {
    "duration": 283,
    "start_time": "2022-08-23T19:49:33.628Z"
   },
   {
    "duration": 63,
    "start_time": "2022-08-23T19:49:33.912Z"
   },
   {
    "duration": 142,
    "start_time": "2022-08-23T19:49:33.977Z"
   },
   {
    "duration": 137,
    "start_time": "2022-08-23T19:49:34.120Z"
   },
   {
    "duration": 133,
    "start_time": "2022-08-23T19:49:34.258Z"
   },
   {
    "duration": 4,
    "start_time": "2022-08-23T19:49:34.392Z"
   },
   {
    "duration": 22,
    "start_time": "2022-08-23T19:49:34.397Z"
   },
   {
    "duration": 18,
    "start_time": "2022-08-23T19:49:34.421Z"
   },
   {
    "duration": 7,
    "start_time": "2022-08-23T19:49:34.441Z"
   },
   {
    "duration": 14,
    "start_time": "2022-08-23T19:49:34.450Z"
   },
   {
    "duration": 811,
    "start_time": "2022-08-23T19:49:34.465Z"
   },
   {
    "duration": 14,
    "start_time": "2022-08-23T19:49:35.278Z"
   },
   {
    "duration": 14,
    "start_time": "2022-08-23T19:49:35.299Z"
   },
   {
    "duration": 398,
    "start_time": "2022-08-23T19:49:35.314Z"
   },
   {
    "duration": 4,
    "start_time": "2022-08-23T19:49:35.714Z"
   },
   {
    "duration": 17180,
    "start_time": "2022-08-23T19:49:35.720Z"
   },
   {
    "duration": 4696,
    "start_time": "2022-08-23T19:49:52.902Z"
   },
   {
    "duration": 162,
    "start_time": "2022-08-23T19:49:57.600Z"
   },
   {
    "duration": 1455,
    "start_time": "2022-08-23T19:53:00.187Z"
   },
   {
    "duration": 0,
    "start_time": "2022-08-23T19:53:01.647Z"
   },
   {
    "duration": 0,
    "start_time": "2022-08-23T19:53:01.648Z"
   },
   {
    "duration": 0,
    "start_time": "2022-08-23T19:53:01.650Z"
   },
   {
    "duration": 0,
    "start_time": "2022-08-23T19:53:01.650Z"
   },
   {
    "duration": 0,
    "start_time": "2022-08-23T19:53:01.651Z"
   },
   {
    "duration": 0,
    "start_time": "2022-08-23T19:53:01.652Z"
   },
   {
    "duration": 0,
    "start_time": "2022-08-23T19:53:01.653Z"
   },
   {
    "duration": 0,
    "start_time": "2022-08-23T19:53:01.654Z"
   },
   {
    "duration": 0,
    "start_time": "2022-08-23T19:53:01.655Z"
   },
   {
    "duration": 0,
    "start_time": "2022-08-23T19:53:01.656Z"
   },
   {
    "duration": 0,
    "start_time": "2022-08-23T19:53:01.657Z"
   },
   {
    "duration": 0,
    "start_time": "2022-08-23T19:53:01.657Z"
   },
   {
    "duration": 0,
    "start_time": "2022-08-23T19:53:01.658Z"
   },
   {
    "duration": 0,
    "start_time": "2022-08-23T19:53:01.659Z"
   },
   {
    "duration": 0,
    "start_time": "2022-08-23T19:53:01.660Z"
   },
   {
    "duration": 0,
    "start_time": "2022-08-23T19:53:01.661Z"
   },
   {
    "duration": 0,
    "start_time": "2022-08-23T19:53:01.662Z"
   },
   {
    "duration": 0,
    "start_time": "2022-08-23T19:53:01.663Z"
   },
   {
    "duration": 0,
    "start_time": "2022-08-23T19:53:01.664Z"
   },
   {
    "duration": 0,
    "start_time": "2022-08-23T19:53:01.665Z"
   },
   {
    "duration": 0,
    "start_time": "2022-08-23T19:53:01.665Z"
   },
   {
    "duration": 0,
    "start_time": "2022-08-23T19:53:01.666Z"
   },
   {
    "duration": 0,
    "start_time": "2022-08-23T19:53:01.667Z"
   },
   {
    "duration": 0,
    "start_time": "2022-08-23T19:53:01.668Z"
   },
   {
    "duration": 0,
    "start_time": "2022-08-23T19:53:01.669Z"
   },
   {
    "duration": 0,
    "start_time": "2022-08-23T19:53:01.670Z"
   },
   {
    "duration": 0,
    "start_time": "2022-08-23T19:53:01.671Z"
   },
   {
    "duration": 0,
    "start_time": "2022-08-23T19:53:01.671Z"
   },
   {
    "duration": 0,
    "start_time": "2022-08-23T19:53:01.672Z"
   },
   {
    "duration": 0,
    "start_time": "2022-08-23T19:53:01.673Z"
   },
   {
    "duration": 0,
    "start_time": "2022-08-23T19:53:01.674Z"
   },
   {
    "duration": 0,
    "start_time": "2022-08-23T19:53:01.675Z"
   },
   {
    "duration": 0,
    "start_time": "2022-08-23T19:53:01.676Z"
   },
   {
    "duration": 0,
    "start_time": "2022-08-23T19:53:01.698Z"
   },
   {
    "duration": 0,
    "start_time": "2022-08-23T19:53:01.699Z"
   },
   {
    "duration": 0,
    "start_time": "2022-08-23T19:53:01.700Z"
   },
   {
    "duration": 0,
    "start_time": "2022-08-23T19:53:01.701Z"
   },
   {
    "duration": 0,
    "start_time": "2022-08-23T19:53:01.702Z"
   },
   {
    "duration": 0,
    "start_time": "2022-08-23T19:53:01.703Z"
   },
   {
    "duration": 0,
    "start_time": "2022-08-23T19:53:01.705Z"
   },
   {
    "duration": 0,
    "start_time": "2022-08-23T19:53:01.706Z"
   },
   {
    "duration": 0,
    "start_time": "2022-08-23T19:53:01.707Z"
   },
   {
    "duration": 1,
    "start_time": "2022-08-23T19:53:01.708Z"
   },
   {
    "duration": 0,
    "start_time": "2022-08-23T19:53:01.710Z"
   },
   {
    "duration": 0,
    "start_time": "2022-08-23T19:53:01.711Z"
   },
   {
    "duration": 0,
    "start_time": "2022-08-23T19:53:01.712Z"
   },
   {
    "duration": 0,
    "start_time": "2022-08-23T19:53:01.713Z"
   },
   {
    "duration": 0,
    "start_time": "2022-08-23T19:53:01.714Z"
   },
   {
    "duration": 0,
    "start_time": "2022-08-23T19:53:01.716Z"
   },
   {
    "duration": 0,
    "start_time": "2022-08-23T19:53:01.717Z"
   },
   {
    "duration": 0,
    "start_time": "2022-08-23T19:53:01.718Z"
   },
   {
    "duration": 0,
    "start_time": "2022-08-23T19:53:01.719Z"
   },
   {
    "duration": 0,
    "start_time": "2022-08-23T19:53:01.721Z"
   },
   {
    "duration": 0,
    "start_time": "2022-08-23T19:53:01.722Z"
   },
   {
    "duration": 0,
    "start_time": "2022-08-23T19:53:01.723Z"
   },
   {
    "duration": 0,
    "start_time": "2022-08-23T19:53:01.724Z"
   },
   {
    "duration": 0,
    "start_time": "2022-08-23T19:53:01.725Z"
   },
   {
    "duration": 0,
    "start_time": "2022-08-23T19:53:01.726Z"
   },
   {
    "duration": 0,
    "start_time": "2022-08-23T19:53:01.728Z"
   },
   {
    "duration": 0,
    "start_time": "2022-08-23T19:53:01.729Z"
   },
   {
    "duration": 0,
    "start_time": "2022-08-23T19:53:01.730Z"
   },
   {
    "duration": 0,
    "start_time": "2022-08-23T19:53:01.731Z"
   },
   {
    "duration": 0,
    "start_time": "2022-08-23T19:53:01.732Z"
   },
   {
    "duration": 0,
    "start_time": "2022-08-23T19:53:01.733Z"
   },
   {
    "duration": 0,
    "start_time": "2022-08-23T19:53:01.734Z"
   },
   {
    "duration": 0,
    "start_time": "2022-08-23T19:53:01.734Z"
   },
   {
    "duration": 0,
    "start_time": "2022-08-23T19:53:01.735Z"
   },
   {
    "duration": 0,
    "start_time": "2022-08-23T19:53:01.736Z"
   },
   {
    "duration": 0,
    "start_time": "2022-08-23T19:53:01.798Z"
   },
   {
    "duration": 0,
    "start_time": "2022-08-23T19:53:01.799Z"
   },
   {
    "duration": 0,
    "start_time": "2022-08-23T19:53:01.801Z"
   },
   {
    "duration": 0,
    "start_time": "2022-08-23T19:53:01.802Z"
   },
   {
    "duration": 0,
    "start_time": "2022-08-23T19:53:01.803Z"
   },
   {
    "duration": 0,
    "start_time": "2022-08-23T19:53:01.804Z"
   },
   {
    "duration": 1390,
    "start_time": "2022-08-23T19:54:13.437Z"
   },
   {
    "duration": 1271,
    "start_time": "2022-08-23T19:54:14.830Z"
   },
   {
    "duration": 24,
    "start_time": "2022-08-23T19:54:16.104Z"
   },
   {
    "duration": 272,
    "start_time": "2022-08-23T19:54:16.130Z"
   },
   {
    "duration": 195,
    "start_time": "2022-08-23T19:54:16.404Z"
   },
   {
    "duration": 24,
    "start_time": "2022-08-23T19:54:16.600Z"
   },
   {
    "duration": 14,
    "start_time": "2022-08-23T19:54:16.625Z"
   },
   {
    "duration": 5,
    "start_time": "2022-08-23T19:54:16.641Z"
   },
   {
    "duration": 10,
    "start_time": "2022-08-23T19:54:16.697Z"
   },
   {
    "duration": 35,
    "start_time": "2022-08-23T19:54:16.710Z"
   },
   {
    "duration": 59,
    "start_time": "2022-08-23T19:54:16.746Z"
   },
   {
    "duration": 129,
    "start_time": "2022-08-23T19:54:16.806Z"
   },
   {
    "duration": 104,
    "start_time": "2022-08-23T19:54:16.937Z"
   },
   {
    "duration": 65,
    "start_time": "2022-08-23T19:54:17.043Z"
   },
   {
    "duration": 35,
    "start_time": "2022-08-23T19:54:17.110Z"
   },
   {
    "duration": 71,
    "start_time": "2022-08-23T19:54:17.147Z"
   },
   {
    "duration": 83,
    "start_time": "2022-08-23T19:54:17.219Z"
   },
   {
    "duration": 105,
    "start_time": "2022-08-23T19:54:17.304Z"
   },
   {
    "duration": 23,
    "start_time": "2022-08-23T19:54:17.411Z"
   },
   {
    "duration": 64,
    "start_time": "2022-08-23T19:54:17.435Z"
   },
   {
    "duration": 40,
    "start_time": "2022-08-23T19:54:17.501Z"
   },
   {
    "duration": 36,
    "start_time": "2022-08-23T19:54:17.542Z"
   },
   {
    "duration": 30,
    "start_time": "2022-08-23T19:54:17.579Z"
   },
   {
    "duration": 17,
    "start_time": "2022-08-23T19:54:17.610Z"
   },
   {
    "duration": 14,
    "start_time": "2022-08-23T19:54:17.628Z"
   },
   {
    "duration": 29,
    "start_time": "2022-08-23T19:54:17.643Z"
   },
   {
    "duration": 38,
    "start_time": "2022-08-23T19:54:17.674Z"
   },
   {
    "duration": 28,
    "start_time": "2022-08-23T19:54:17.715Z"
   },
   {
    "duration": 15,
    "start_time": "2022-08-23T19:54:17.744Z"
   },
   {
    "duration": 18,
    "start_time": "2022-08-23T19:54:17.761Z"
   },
   {
    "duration": 14,
    "start_time": "2022-08-23T19:54:17.798Z"
   },
   {
    "duration": 35,
    "start_time": "2022-08-23T19:54:17.813Z"
   },
   {
    "duration": 16,
    "start_time": "2022-08-23T19:54:17.850Z"
   },
   {
    "duration": 34,
    "start_time": "2022-08-23T19:54:17.868Z"
   },
   {
    "duration": 15,
    "start_time": "2022-08-23T19:54:17.903Z"
   },
   {
    "duration": 9,
    "start_time": "2022-08-23T19:54:17.920Z"
   },
   {
    "duration": 17,
    "start_time": "2022-08-23T19:54:17.930Z"
   },
   {
    "duration": 382,
    "start_time": "2022-08-23T19:54:17.949Z"
   },
   {
    "duration": 32,
    "start_time": "2022-08-23T19:54:18.334Z"
   },
   {
    "duration": 30,
    "start_time": "2022-08-23T19:54:18.368Z"
   },
   {
    "duration": 399,
    "start_time": "2022-08-23T19:54:18.399Z"
   },
   {
    "duration": 155,
    "start_time": "2022-08-23T19:54:18.800Z"
   },
   {
    "duration": 28,
    "start_time": "2022-08-23T19:54:18.956Z"
   },
   {
    "duration": 246,
    "start_time": "2022-08-23T19:54:18.985Z"
   },
   {
    "duration": 156,
    "start_time": "2022-08-23T19:54:19.232Z"
   },
   {
    "duration": 13,
    "start_time": "2022-08-23T19:54:19.390Z"
   },
   {
    "duration": 16,
    "start_time": "2022-08-23T19:54:19.405Z"
   },
   {
    "duration": 248,
    "start_time": "2022-08-23T19:54:19.422Z"
   },
   {
    "duration": 174,
    "start_time": "2022-08-23T19:54:19.672Z"
   },
   {
    "duration": 24,
    "start_time": "2022-08-23T19:54:19.848Z"
   },
   {
    "duration": 426,
    "start_time": "2022-08-23T19:54:19.874Z"
   },
   {
    "duration": 317,
    "start_time": "2022-08-23T19:54:20.302Z"
   },
   {
    "duration": 24,
    "start_time": "2022-08-23T19:54:20.620Z"
   },
   {
    "duration": 443,
    "start_time": "2022-08-23T19:54:20.699Z"
   },
   {
    "duration": 296,
    "start_time": "2022-08-23T19:54:21.143Z"
   },
   {
    "duration": 59,
    "start_time": "2022-08-23T19:54:21.440Z"
   },
   {
    "duration": 404,
    "start_time": "2022-08-23T19:54:21.501Z"
   },
   {
    "duration": 594,
    "start_time": "2022-08-23T19:54:21.906Z"
   },
   {
    "duration": 114,
    "start_time": "2022-08-23T19:54:22.501Z"
   },
   {
    "duration": 221,
    "start_time": "2022-08-23T19:54:22.617Z"
   },
   {
    "duration": 302,
    "start_time": "2022-08-23T19:54:22.839Z"
   },
   {
    "duration": 270,
    "start_time": "2022-08-23T19:54:23.143Z"
   },
   {
    "duration": 4,
    "start_time": "2022-08-23T19:54:23.414Z"
   },
   {
    "duration": 6,
    "start_time": "2022-08-23T19:54:23.419Z"
   },
   {
    "duration": 7,
    "start_time": "2022-08-23T19:54:23.427Z"
   },
   {
    "duration": 4,
    "start_time": "2022-08-23T19:54:23.436Z"
   },
   {
    "duration": 57,
    "start_time": "2022-08-23T19:54:23.441Z"
   },
   {
    "duration": 1537,
    "start_time": "2022-08-23T19:54:23.500Z"
   },
   {
    "duration": 64,
    "start_time": "2022-08-23T19:54:25.038Z"
   },
   {
    "duration": 11,
    "start_time": "2022-08-23T19:54:25.103Z"
   },
   {
    "duration": 486,
    "start_time": "2022-08-23T19:54:25.115Z"
   },
   {
    "duration": 3,
    "start_time": "2022-08-23T19:54:25.602Z"
   },
   {
    "duration": 18814,
    "start_time": "2022-08-23T19:54:25.606Z"
   },
   {
    "duration": 6977,
    "start_time": "2022-08-23T19:54:44.422Z"
   },
   {
    "duration": 163,
    "start_time": "2022-08-23T19:54:51.401Z"
   },
   {
    "duration": 13,
    "start_time": "2022-08-23T20:09:46.990Z"
   },
   {
    "duration": 79,
    "start_time": "2022-08-23T20:09:49.020Z"
   },
   {
    "duration": 11,
    "start_time": "2022-08-23T20:09:51.152Z"
   },
   {
    "duration": 4,
    "start_time": "2022-08-23T20:10:55.940Z"
   },
   {
    "duration": 637,
    "start_time": "2022-08-23T20:11:00.223Z"
   },
   {
    "duration": 11,
    "start_time": "2022-08-23T20:11:14.748Z"
   },
   {
    "duration": 3330,
    "start_time": "2022-08-23T20:11:38.406Z"
   },
   {
    "duration": 3269,
    "start_time": "2022-08-23T20:11:58.257Z"
   },
   {
    "duration": 12849,
    "start_time": "2022-08-23T20:12:03.765Z"
   },
   {
    "duration": 3304,
    "start_time": "2022-08-23T20:12:17.336Z"
   },
   {
    "duration": 3244,
    "start_time": "2022-08-23T20:13:09.822Z"
   },
   {
    "duration": 3296,
    "start_time": "2022-08-23T20:13:20.493Z"
   },
   {
    "duration": 3209,
    "start_time": "2022-08-23T20:14:16.290Z"
   },
   {
    "duration": 3242,
    "start_time": "2022-08-23T20:14:20.685Z"
   },
   {
    "duration": 12,
    "start_time": "2022-08-23T20:15:15.332Z"
   },
   {
    "duration": 1391,
    "start_time": "2022-08-23T20:15:50.176Z"
   },
   {
    "duration": 59,
    "start_time": "2022-08-23T20:16:44.689Z"
   },
   {
    "duration": 3523,
    "start_time": "2022-08-23T20:17:01.661Z"
   },
   {
    "duration": 419,
    "start_time": "2022-08-23T20:17:45.677Z"
   },
   {
    "duration": 439,
    "start_time": "2022-08-23T20:18:44.717Z"
   },
   {
    "duration": 430,
    "start_time": "2022-08-23T20:19:45.822Z"
   },
   {
    "duration": 413,
    "start_time": "2022-08-23T20:20:11.537Z"
   },
   {
    "duration": 417,
    "start_time": "2022-08-23T20:20:20.136Z"
   },
   {
    "duration": 12,
    "start_time": "2022-08-23T20:49:01.698Z"
   },
   {
    "duration": 170,
    "start_time": "2022-08-23T20:50:08.940Z"
   },
   {
    "duration": 1392,
    "start_time": "2022-08-23T20:53:28.084Z"
   },
   {
    "duration": 799,
    "start_time": "2022-08-23T20:53:29.478Z"
   },
   {
    "duration": 30,
    "start_time": "2022-08-23T20:53:30.279Z"
   },
   {
    "duration": 125,
    "start_time": "2022-08-23T20:53:30.311Z"
   },
   {
    "duration": 90,
    "start_time": "2022-08-23T20:53:30.438Z"
   },
   {
    "duration": 24,
    "start_time": "2022-08-23T20:53:30.529Z"
   },
   {
    "duration": 53,
    "start_time": "2022-08-23T20:53:30.555Z"
   },
   {
    "duration": 32,
    "start_time": "2022-08-23T20:53:30.610Z"
   },
   {
    "duration": 22,
    "start_time": "2022-08-23T20:53:30.643Z"
   },
   {
    "duration": 50,
    "start_time": "2022-08-23T20:53:30.667Z"
   },
   {
    "duration": 16,
    "start_time": "2022-08-23T20:53:30.718Z"
   },
   {
    "duration": 90,
    "start_time": "2022-08-23T20:53:30.736Z"
   },
   {
    "duration": 31,
    "start_time": "2022-08-23T20:53:30.827Z"
   },
   {
    "duration": 16,
    "start_time": "2022-08-23T20:53:30.859Z"
   },
   {
    "duration": 42,
    "start_time": "2022-08-23T20:53:30.876Z"
   },
   {
    "duration": 43,
    "start_time": "2022-08-23T20:53:30.919Z"
   },
   {
    "duration": 47,
    "start_time": "2022-08-23T20:53:30.963Z"
   },
   {
    "duration": 47,
    "start_time": "2022-08-23T20:53:31.011Z"
   },
   {
    "duration": 17,
    "start_time": "2022-08-23T20:53:31.059Z"
   },
   {
    "duration": 44,
    "start_time": "2022-08-23T20:53:31.077Z"
   },
   {
    "duration": 44,
    "start_time": "2022-08-23T20:53:31.122Z"
   },
   {
    "duration": 30,
    "start_time": "2022-08-23T20:53:31.167Z"
   },
   {
    "duration": 35,
    "start_time": "2022-08-23T20:53:31.198Z"
   },
   {
    "duration": 51,
    "start_time": "2022-08-23T20:53:31.234Z"
   },
   {
    "duration": 34,
    "start_time": "2022-08-23T20:53:31.287Z"
   },
   {
    "duration": 35,
    "start_time": "2022-08-23T20:53:31.323Z"
   },
   {
    "duration": 24,
    "start_time": "2022-08-23T20:53:31.359Z"
   },
   {
    "duration": 43,
    "start_time": "2022-08-23T20:53:31.387Z"
   },
   {
    "duration": 15,
    "start_time": "2022-08-23T20:53:31.431Z"
   },
   {
    "duration": 23,
    "start_time": "2022-08-23T20:53:31.447Z"
   },
   {
    "duration": 14,
    "start_time": "2022-08-23T20:53:31.471Z"
   },
   {
    "duration": 27,
    "start_time": "2022-08-23T20:53:31.509Z"
   },
   {
    "duration": 31,
    "start_time": "2022-08-23T20:53:31.537Z"
   },
   {
    "duration": 20,
    "start_time": "2022-08-23T20:53:31.569Z"
   },
   {
    "duration": 20,
    "start_time": "2022-08-23T20:53:31.590Z"
   },
   {
    "duration": 10,
    "start_time": "2022-08-23T20:53:31.612Z"
   },
   {
    "duration": 15,
    "start_time": "2022-08-23T20:53:31.624Z"
   },
   {
    "duration": 368,
    "start_time": "2022-08-23T20:53:31.640Z"
   },
   {
    "duration": 34,
    "start_time": "2022-08-23T20:53:32.010Z"
   },
   {
    "duration": 16,
    "start_time": "2022-08-23T20:53:32.045Z"
   },
   {
    "duration": 383,
    "start_time": "2022-08-23T20:53:32.062Z"
   },
   {
    "duration": 167,
    "start_time": "2022-08-23T20:53:32.446Z"
   },
   {
    "duration": 27,
    "start_time": "2022-08-23T20:53:32.615Z"
   },
   {
    "duration": 236,
    "start_time": "2022-08-23T20:53:32.643Z"
   },
   {
    "duration": 157,
    "start_time": "2022-08-23T20:53:32.881Z"
   },
   {
    "duration": 7,
    "start_time": "2022-08-23T20:53:33.040Z"
   },
   {
    "duration": 15,
    "start_time": "2022-08-23T20:53:33.048Z"
   },
   {
    "duration": 251,
    "start_time": "2022-08-23T20:53:33.065Z"
   },
   {
    "duration": 161,
    "start_time": "2022-08-23T20:53:33.317Z"
   },
   {
    "duration": 40,
    "start_time": "2022-08-23T20:53:33.479Z"
   },
   {
    "duration": 227,
    "start_time": "2022-08-23T20:53:33.521Z"
   },
   {
    "duration": 162,
    "start_time": "2022-08-23T20:53:33.749Z"
   },
   {
    "duration": 23,
    "start_time": "2022-08-23T20:53:33.913Z"
   },
   {
    "duration": 255,
    "start_time": "2022-08-23T20:53:33.938Z"
   },
   {
    "duration": 150,
    "start_time": "2022-08-23T20:53:34.195Z"
   },
   {
    "duration": 7,
    "start_time": "2022-08-23T20:53:34.346Z"
   },
   {
    "duration": 263,
    "start_time": "2022-08-23T20:53:34.354Z"
   },
   {
    "duration": 307,
    "start_time": "2022-08-23T20:53:34.619Z"
   },
   {
    "duration": 82,
    "start_time": "2022-08-23T20:53:34.927Z"
   },
   {
    "duration": 128,
    "start_time": "2022-08-23T20:53:35.011Z"
   },
   {
    "duration": 149,
    "start_time": "2022-08-23T20:53:35.140Z"
   },
   {
    "duration": 122,
    "start_time": "2022-08-23T20:53:35.291Z"
   },
   {
    "duration": 3,
    "start_time": "2022-08-23T20:53:35.415Z"
   },
   {
    "duration": 6,
    "start_time": "2022-08-23T20:53:35.419Z"
   },
   {
    "duration": 9,
    "start_time": "2022-08-23T20:53:35.426Z"
   },
   {
    "duration": 6,
    "start_time": "2022-08-23T20:53:35.436Z"
   },
   {
    "duration": 6,
    "start_time": "2022-08-23T20:53:35.443Z"
   },
   {
    "duration": 791,
    "start_time": "2022-08-23T20:53:35.450Z"
   },
   {
    "duration": 13,
    "start_time": "2022-08-23T20:53:36.242Z"
   },
   {
    "duration": 12,
    "start_time": "2022-08-23T20:53:36.256Z"
   },
   {
    "duration": 424,
    "start_time": "2022-08-23T20:53:36.269Z"
   },
   {
    "duration": 5,
    "start_time": "2022-08-23T20:53:36.694Z"
   },
   {
    "duration": 38418,
    "start_time": "2022-08-23T20:53:36.700Z"
   },
   {
    "duration": 14688,
    "start_time": "2022-08-23T20:54:15.120Z"
   },
   {
    "duration": 3277,
    "start_time": "2022-08-23T20:54:29.900Z"
   },
   {
    "duration": 424,
    "start_time": "2022-08-23T20:54:33.178Z"
   },
   {
    "duration": 162,
    "start_time": "2022-08-23T20:54:33.603Z"
   },
   {
    "duration": 43905,
    "start_time": "2022-08-23T21:00:18.346Z"
   },
   {
    "duration": 3316,
    "start_time": "2022-08-23T21:03:33.240Z"
   },
   {
    "duration": 5329,
    "start_time": "2022-08-23T21:06:09.258Z"
   },
   {
    "duration": 23633,
    "start_time": "2022-08-23T21:06:43.481Z"
   },
   {
    "duration": 13508,
    "start_time": "2022-08-23T21:07:44.188Z"
   },
   {
    "duration": 302997,
    "start_time": "2022-08-23T21:08:21.754Z"
   },
   {
    "duration": 61651,
    "start_time": "2022-08-23T21:13:44.916Z"
   },
   {
    "duration": 41195,
    "start_time": "2022-08-23T21:16:53.559Z"
   },
   {
    "duration": 74823,
    "start_time": "2022-08-23T21:17:37.322Z"
   },
   {
    "duration": 18815,
    "start_time": "2022-08-23T21:20:01.635Z"
   },
   {
    "duration": 100412,
    "start_time": "2022-08-23T21:20:26.602Z"
   },
   {
    "duration": 98029,
    "start_time": "2022-08-23T21:22:16.373Z"
   },
   {
    "duration": 3233,
    "start_time": "2022-08-23T21:26:41.168Z"
   },
   {
    "duration": 3264,
    "start_time": "2022-08-23T21:26:53.665Z"
   },
   {
    "duration": 3238,
    "start_time": "2022-08-23T21:27:00.871Z"
   },
   {
    "duration": 3221,
    "start_time": "2022-08-23T21:27:09.746Z"
   },
   {
    "duration": 3221,
    "start_time": "2022-08-23T21:27:25.014Z"
   },
   {
    "duration": 65,
    "start_time": "2022-08-23T21:30:36.184Z"
   },
   {
    "duration": 11,
    "start_time": "2022-08-23T21:30:41.195Z"
   },
   {
    "duration": 12,
    "start_time": "2022-08-23T21:30:44.476Z"
   },
   {
    "duration": 3272,
    "start_time": "2022-08-23T21:31:02.549Z"
   },
   {
    "duration": 3203,
    "start_time": "2022-08-23T21:32:26.069Z"
   },
   {
    "duration": 3342,
    "start_time": "2022-08-23T21:33:17.695Z"
   },
   {
    "duration": 420,
    "start_time": "2022-08-23T21:33:58.835Z"
   },
   {
    "duration": 3452,
    "start_time": "2022-08-23T21:35:11.357Z"
   },
   {
    "duration": 17816,
    "start_time": "2022-08-23T21:36:26.486Z"
   },
   {
    "duration": 1379,
    "start_time": "2022-08-23T21:37:25.453Z"
   },
   {
    "duration": 780,
    "start_time": "2022-08-23T21:37:26.834Z"
   },
   {
    "duration": 17,
    "start_time": "2022-08-23T21:37:27.616Z"
   },
   {
    "duration": 114,
    "start_time": "2022-08-23T21:37:27.635Z"
   },
   {
    "duration": 140,
    "start_time": "2022-08-23T21:37:27.750Z"
   },
   {
    "duration": 24,
    "start_time": "2022-08-23T21:37:27.891Z"
   },
   {
    "duration": 11,
    "start_time": "2022-08-23T21:37:27.917Z"
   },
   {
    "duration": 4,
    "start_time": "2022-08-23T21:37:27.930Z"
   },
   {
    "duration": 22,
    "start_time": "2022-08-23T21:37:27.936Z"
   },
   {
    "duration": 56,
    "start_time": "2022-08-23T21:37:27.961Z"
   },
   {
    "duration": 11,
    "start_time": "2022-08-23T21:37:28.019Z"
   },
   {
    "duration": 82,
    "start_time": "2022-08-23T21:37:28.032Z"
   },
   {
    "duration": 33,
    "start_time": "2022-08-23T21:37:28.116Z"
   },
   {
    "duration": 15,
    "start_time": "2022-08-23T21:37:28.150Z"
   },
   {
    "duration": 43,
    "start_time": "2022-08-23T21:37:28.167Z"
   },
   {
    "duration": 31,
    "start_time": "2022-08-23T21:37:28.212Z"
   },
   {
    "duration": 33,
    "start_time": "2022-08-23T21:37:28.244Z"
   },
   {
    "duration": 47,
    "start_time": "2022-08-23T21:37:28.278Z"
   },
   {
    "duration": 14,
    "start_time": "2022-08-23T21:37:28.326Z"
   },
   {
    "duration": 21,
    "start_time": "2022-08-23T21:37:28.341Z"
   },
   {
    "duration": 63,
    "start_time": "2022-08-23T21:37:28.363Z"
   },
   {
    "duration": 30,
    "start_time": "2022-08-23T21:37:28.427Z"
   },
   {
    "duration": 13,
    "start_time": "2022-08-23T21:37:28.459Z"
   },
   {
    "duration": 33,
    "start_time": "2022-08-23T21:37:28.474Z"
   },
   {
    "duration": 24,
    "start_time": "2022-08-23T21:37:28.508Z"
   },
   {
    "duration": 30,
    "start_time": "2022-08-23T21:37:28.534Z"
   },
   {
    "duration": 15,
    "start_time": "2022-08-23T21:37:28.566Z"
   },
   {
    "duration": 46,
    "start_time": "2022-08-23T21:37:28.585Z"
   },
   {
    "duration": 13,
    "start_time": "2022-08-23T21:37:28.632Z"
   },
   {
    "duration": 17,
    "start_time": "2022-08-23T21:37:28.647Z"
   },
   {
    "duration": 37,
    "start_time": "2022-08-23T21:37:28.665Z"
   },
   {
    "duration": 30,
    "start_time": "2022-08-23T21:37:28.704Z"
   },
   {
    "duration": 14,
    "start_time": "2022-08-23T21:37:28.736Z"
   },
   {
    "duration": 19,
    "start_time": "2022-08-23T21:37:28.751Z"
   },
   {
    "duration": 32,
    "start_time": "2022-08-23T21:37:28.771Z"
   },
   {
    "duration": 23,
    "start_time": "2022-08-23T21:37:28.804Z"
   },
   {
    "duration": 16,
    "start_time": "2022-08-23T21:37:28.828Z"
   },
   {
    "duration": 362,
    "start_time": "2022-08-23T21:37:28.846Z"
   },
   {
    "duration": 38,
    "start_time": "2022-08-23T21:37:29.209Z"
   },
   {
    "duration": 16,
    "start_time": "2022-08-23T21:37:29.248Z"
   },
   {
    "duration": 431,
    "start_time": "2022-08-23T21:37:29.265Z"
   },
   {
    "duration": 163,
    "start_time": "2022-08-23T21:37:29.698Z"
   },
   {
    "duration": 44,
    "start_time": "2022-08-23T21:37:29.863Z"
   },
   {
    "duration": 274,
    "start_time": "2022-08-23T21:37:29.909Z"
   },
   {
    "duration": 174,
    "start_time": "2022-08-23T21:37:30.185Z"
   },
   {
    "duration": 8,
    "start_time": "2022-08-23T21:37:30.361Z"
   },
   {
    "duration": 36,
    "start_time": "2022-08-23T21:37:30.370Z"
   },
   {
    "duration": 247,
    "start_time": "2022-08-23T21:37:30.408Z"
   },
   {
    "duration": 178,
    "start_time": "2022-08-23T21:37:30.656Z"
   },
   {
    "duration": 31,
    "start_time": "2022-08-23T21:37:30.836Z"
   },
   {
    "duration": 253,
    "start_time": "2022-08-23T21:37:30.869Z"
   },
   {
    "duration": 167,
    "start_time": "2022-08-23T21:37:31.124Z"
   },
   {
    "duration": 34,
    "start_time": "2022-08-23T21:37:31.297Z"
   },
   {
    "duration": 244,
    "start_time": "2022-08-23T21:37:31.332Z"
   },
   {
    "duration": 150,
    "start_time": "2022-08-23T21:37:31.578Z"
   },
   {
    "duration": 6,
    "start_time": "2022-08-23T21:37:31.730Z"
   },
   {
    "duration": 219,
    "start_time": "2022-08-23T21:37:31.737Z"
   },
   {
    "duration": 310,
    "start_time": "2022-08-23T21:37:31.958Z"
   },
   {
    "duration": 68,
    "start_time": "2022-08-23T21:37:32.270Z"
   },
   {
    "duration": 138,
    "start_time": "2022-08-23T21:37:32.339Z"
   },
   {
    "duration": 145,
    "start_time": "2022-08-23T21:37:32.479Z"
   },
   {
    "duration": 148,
    "start_time": "2022-08-23T21:37:32.627Z"
   },
   {
    "duration": 3,
    "start_time": "2022-08-23T21:37:32.777Z"
   },
   {
    "duration": 18,
    "start_time": "2022-08-23T21:37:32.782Z"
   },
   {
    "duration": 29,
    "start_time": "2022-08-23T21:37:32.801Z"
   },
   {
    "duration": 7,
    "start_time": "2022-08-23T21:37:32.832Z"
   },
   {
    "duration": 8,
    "start_time": "2022-08-23T21:37:32.841Z"
   },
   {
    "duration": 757,
    "start_time": "2022-08-23T21:37:32.851Z"
   },
   {
    "duration": 16,
    "start_time": "2022-08-23T21:37:33.610Z"
   },
   {
    "duration": 12,
    "start_time": "2022-08-23T21:37:33.627Z"
   },
   {
    "duration": 442,
    "start_time": "2022-08-23T21:37:33.641Z"
   },
   {
    "duration": 4,
    "start_time": "2022-08-23T21:37:34.084Z"
   },
   {
    "duration": 14911,
    "start_time": "2022-08-23T21:37:34.090Z"
   },
   {
    "duration": 5004,
    "start_time": "2022-08-23T21:37:49.003Z"
   },
   {
    "duration": 66,
    "start_time": "2022-08-23T21:37:54.009Z"
   },
   {
    "duration": 0,
    "start_time": "2022-08-23T21:37:54.076Z"
   },
   {
    "duration": 1,
    "start_time": "2022-08-23T21:37:54.077Z"
   },
   {
    "duration": 0,
    "start_time": "2022-08-23T21:37:54.078Z"
   },
   {
    "duration": 3243,
    "start_time": "2022-08-23T21:39:08.495Z"
   },
   {
    "duration": 44,
    "start_time": "2022-08-23T21:39:47.684Z"
   },
   {
    "duration": 3274,
    "start_time": "2022-08-23T21:39:52.285Z"
   },
   {
    "duration": 160,
    "start_time": "2022-08-23T21:40:20.086Z"
   },
   {
    "duration": 416294,
    "start_time": "2022-08-23T21:41:29.166Z"
   },
   {
    "duration": 198052,
    "start_time": "2022-08-23T21:49:10.597Z"
   },
   {
    "duration": 13782,
    "start_time": "2022-08-23T21:56:48.678Z"
   },
   {
    "duration": 13749,
    "start_time": "2022-08-23T21:57:15.122Z"
   },
   {
    "duration": 3,
    "start_time": "2022-08-23T22:03:40.759Z"
   },
   {
    "duration": 24634,
    "start_time": "2022-08-23T22:09:21.078Z"
   },
   {
    "duration": 54,
    "start_time": "2022-08-23T22:14:02.397Z"
   },
   {
    "duration": 21405,
    "start_time": "2022-08-23T22:14:07.507Z"
   },
   {
    "duration": 56039,
    "start_time": "2022-08-23T22:14:39.167Z"
   },
   {
    "duration": 4979,
    "start_time": "2022-08-23T22:16:07.626Z"
   },
   {
    "duration": 59,
    "start_time": "2022-08-23T22:16:15.604Z"
   },
   {
    "duration": 163387,
    "start_time": "2022-08-23T22:16:18.222Z"
   },
   {
    "duration": 10,
    "start_time": "2022-08-23T22:21:17.614Z"
   },
   {
    "duration": 7328,
    "start_time": "2022-08-23T22:21:22.372Z"
   },
   {
    "duration": 3,
    "start_time": "2022-08-23T22:28:15.635Z"
   },
   {
    "duration": 144732,
    "start_time": "2022-08-23T22:36:04.876Z"
   },
   {
    "duration": 8665,
    "start_time": "2022-08-23T22:39:49.891Z"
   },
   {
    "duration": 8813,
    "start_time": "2022-08-23T22:40:04.302Z"
   },
   {
    "duration": 13565,
    "start_time": "2022-08-23T22:40:47.069Z"
   },
   {
    "duration": 7,
    "start_time": "2022-08-23T23:09:47.729Z"
   },
   {
    "duration": 1336,
    "start_time": "2022-08-23T23:11:13.228Z"
   },
   {
    "duration": 748,
    "start_time": "2022-08-23T23:11:14.565Z"
   },
   {
    "duration": 16,
    "start_time": "2022-08-23T23:11:15.314Z"
   },
   {
    "duration": 119,
    "start_time": "2022-08-23T23:11:15.332Z"
   },
   {
    "duration": 97,
    "start_time": "2022-08-23T23:11:15.452Z"
   },
   {
    "duration": 21,
    "start_time": "2022-08-23T23:11:15.551Z"
   },
   {
    "duration": 13,
    "start_time": "2022-08-23T23:11:15.574Z"
   },
   {
    "duration": 13,
    "start_time": "2022-08-23T23:11:15.588Z"
   },
   {
    "duration": 10,
    "start_time": "2022-08-23T23:11:15.602Z"
   },
   {
    "duration": 32,
    "start_time": "2022-08-23T23:11:15.614Z"
   },
   {
    "duration": 11,
    "start_time": "2022-08-23T23:11:15.647Z"
   },
   {
    "duration": 87,
    "start_time": "2022-08-23T23:11:15.659Z"
   },
   {
    "duration": 29,
    "start_time": "2022-08-23T23:11:15.748Z"
   },
   {
    "duration": 38,
    "start_time": "2022-08-23T23:11:15.778Z"
   },
   {
    "duration": 18,
    "start_time": "2022-08-23T23:11:15.819Z"
   },
   {
    "duration": 13,
    "start_time": "2022-08-23T23:11:15.838Z"
   },
   {
    "duration": 28,
    "start_time": "2022-08-23T23:11:15.853Z"
   },
   {
    "duration": 34,
    "start_time": "2022-08-23T23:11:15.882Z"
   },
   {
    "duration": 14,
    "start_time": "2022-08-23T23:11:15.917Z"
   },
   {
    "duration": 24,
    "start_time": "2022-08-23T23:11:15.933Z"
   },
   {
    "duration": 60,
    "start_time": "2022-08-23T23:11:15.958Z"
   },
   {
    "duration": 30,
    "start_time": "2022-08-23T23:11:16.020Z"
   },
   {
    "duration": 13,
    "start_time": "2022-08-23T23:11:16.052Z"
   },
   {
    "duration": 31,
    "start_time": "2022-08-23T23:11:16.067Z"
   },
   {
    "duration": 13,
    "start_time": "2022-08-23T23:11:16.100Z"
   },
   {
    "duration": 28,
    "start_time": "2022-08-23T23:11:16.114Z"
   },
   {
    "duration": 17,
    "start_time": "2022-08-23T23:11:16.144Z"
   },
   {
    "duration": 40,
    "start_time": "2022-08-23T23:11:16.164Z"
   },
   {
    "duration": 15,
    "start_time": "2022-08-23T23:11:16.205Z"
   },
   {
    "duration": 17,
    "start_time": "2022-08-23T23:11:16.221Z"
   },
   {
    "duration": 13,
    "start_time": "2022-08-23T23:11:16.240Z"
   },
   {
    "duration": 46,
    "start_time": "2022-08-23T23:11:16.254Z"
   },
   {
    "duration": 15,
    "start_time": "2022-08-23T23:11:16.301Z"
   },
   {
    "duration": 21,
    "start_time": "2022-08-23T23:11:16.317Z"
   },
   {
    "duration": 13,
    "start_time": "2022-08-23T23:11:16.339Z"
   },
   {
    "duration": 9,
    "start_time": "2022-08-23T23:11:16.354Z"
   },
   {
    "duration": 40,
    "start_time": "2022-08-23T23:11:16.365Z"
   },
   {
    "duration": 318,
    "start_time": "2022-08-23T23:11:16.407Z"
   },
   {
    "duration": 31,
    "start_time": "2022-08-23T23:11:16.727Z"
   },
   {
    "duration": 14,
    "start_time": "2022-08-23T23:11:16.760Z"
   },
   {
    "duration": 364,
    "start_time": "2022-08-23T23:11:16.775Z"
   },
   {
    "duration": 144,
    "start_time": "2022-08-23T23:11:17.140Z"
   },
   {
    "duration": 34,
    "start_time": "2022-08-23T23:11:17.285Z"
   },
   {
    "duration": 234,
    "start_time": "2022-08-23T23:11:17.320Z"
   },
   {
    "duration": 148,
    "start_time": "2022-08-23T23:11:17.555Z"
   },
   {
    "duration": 7,
    "start_time": "2022-08-23T23:11:17.705Z"
   },
   {
    "duration": 15,
    "start_time": "2022-08-23T23:11:17.713Z"
   },
   {
    "duration": 235,
    "start_time": "2022-08-23T23:11:17.730Z"
   },
   {
    "duration": 160,
    "start_time": "2022-08-23T23:11:17.967Z"
   },
   {
    "duration": 22,
    "start_time": "2022-08-23T23:11:18.128Z"
   },
   {
    "duration": 230,
    "start_time": "2022-08-23T23:11:18.152Z"
   },
   {
    "duration": 158,
    "start_time": "2022-08-23T23:11:18.383Z"
   },
   {
    "duration": 25,
    "start_time": "2022-08-23T23:11:18.542Z"
   },
   {
    "duration": 224,
    "start_time": "2022-08-23T23:11:18.568Z"
   },
   {
    "duration": 142,
    "start_time": "2022-08-23T23:11:18.794Z"
   },
   {
    "duration": 6,
    "start_time": "2022-08-23T23:11:18.937Z"
   },
   {
    "duration": 203,
    "start_time": "2022-08-23T23:11:18.945Z"
   },
   {
    "duration": 286,
    "start_time": "2022-08-23T23:11:19.149Z"
   },
   {
    "duration": 71,
    "start_time": "2022-08-23T23:11:19.436Z"
   },
   {
    "duration": 132,
    "start_time": "2022-08-23T23:11:19.508Z"
   },
   {
    "duration": 146,
    "start_time": "2022-08-23T23:11:19.641Z"
   },
   {
    "duration": 119,
    "start_time": "2022-08-23T23:11:19.788Z"
   },
   {
    "duration": 3,
    "start_time": "2022-08-23T23:11:19.910Z"
   },
   {
    "duration": 11,
    "start_time": "2022-08-23T23:11:19.915Z"
   },
   {
    "duration": 10,
    "start_time": "2022-08-23T23:11:19.927Z"
   },
   {
    "duration": 11,
    "start_time": "2022-08-23T23:11:19.939Z"
   },
   {
    "duration": 8,
    "start_time": "2022-08-23T23:11:19.951Z"
   },
   {
    "duration": 739,
    "start_time": "2022-08-23T23:11:19.960Z"
   },
   {
    "duration": 13,
    "start_time": "2022-08-23T23:11:20.701Z"
   },
   {
    "duration": 13,
    "start_time": "2022-08-23T23:11:20.715Z"
   },
   {
    "duration": 411,
    "start_time": "2022-08-23T23:11:20.730Z"
   },
   {
    "duration": 4,
    "start_time": "2022-08-23T23:11:21.143Z"
   },
   {
    "duration": 12951,
    "start_time": "2022-08-23T23:11:21.148Z"
   },
   {
    "duration": 4399,
    "start_time": "2022-08-23T23:11:34.100Z"
   },
   {
    "duration": 3282,
    "start_time": "2022-08-23T23:11:38.501Z"
   },
   {
    "duration": 164,
    "start_time": "2022-08-23T23:11:41.785Z"
   },
   {
    "duration": 194985,
    "start_time": "2022-08-23T23:11:41.951Z"
   },
   {
    "duration": 13418,
    "start_time": "2022-08-23T23:14:56.937Z"
   },
   {
    "duration": 154651,
    "start_time": "2022-08-23T23:15:10.357Z"
   },
   {
    "duration": 7490,
    "start_time": "2022-08-23T23:17:45.010Z"
   },
   {
    "duration": 144234,
    "start_time": "2022-08-23T23:17:52.502Z"
   },
   {
    "duration": 8516,
    "start_time": "2022-08-23T23:20:16.741Z"
   },
   {
    "duration": 7,
    "start_time": "2022-08-23T23:20:25.258Z"
   },
   {
    "duration": 3,
    "start_time": "2022-08-23T23:48:04.192Z"
   },
   {
    "duration": 2,
    "start_time": "2022-08-23T23:48:18.653Z"
   },
   {
    "duration": 3,
    "start_time": "2022-08-23T23:48:29.402Z"
   },
   {
    "duration": 110,
    "start_time": "2022-08-23T23:49:04.975Z"
   },
   {
    "duration": 4,
    "start_time": "2022-08-23T23:50:08.917Z"
   },
   {
    "duration": 6,
    "start_time": "2022-08-23T23:50:09.316Z"
   },
   {
    "duration": 3,
    "start_time": "2022-08-23T23:50:09.820Z"
   },
   {
    "duration": 3,
    "start_time": "2022-08-23T23:50:10.263Z"
   },
   {
    "duration": 3111,
    "start_time": "2022-08-23T23:50:19.468Z"
   },
   {
    "duration": 155,
    "start_time": "2022-08-23T23:50:26.136Z"
   },
   {
    "duration": 7,
    "start_time": "2022-08-23T23:50:32.513Z"
   },
   {
    "duration": 8,
    "start_time": "2022-08-23T23:50:35.676Z"
   },
   {
    "duration": 8,
    "start_time": "2022-08-23T23:50:53.471Z"
   },
   {
    "duration": 3,
    "start_time": "2022-08-23T23:51:26.357Z"
   },
   {
    "duration": 9,
    "start_time": "2022-08-23T23:51:26.915Z"
   },
   {
    "duration": 3,
    "start_time": "2022-08-23T23:51:30.158Z"
   },
   {
    "duration": 8,
    "start_time": "2022-08-23T23:51:30.616Z"
   },
   {
    "duration": 7,
    "start_time": "2022-08-23T23:51:43.338Z"
   },
   {
    "duration": 4,
    "start_time": "2022-08-23T23:51:44.049Z"
   },
   {
    "duration": 8,
    "start_time": "2022-08-23T23:51:44.340Z"
   },
   {
    "duration": 9,
    "start_time": "2022-08-23T23:52:29.900Z"
   },
   {
    "duration": 18,
    "start_time": "2022-08-23T23:52:37.091Z"
   },
   {
    "duration": 3,
    "start_time": "2022-08-23T23:52:55.701Z"
   },
   {
    "duration": 20,
    "start_time": "2022-08-23T23:52:57.117Z"
   },
   {
    "duration": 3,
    "start_time": "2022-08-23T23:53:05.461Z"
   },
   {
    "duration": 24,
    "start_time": "2022-08-23T23:53:06.180Z"
   },
   {
    "duration": 8,
    "start_time": "2022-08-23T23:53:20.997Z"
   },
   {
    "duration": 13,
    "start_time": "2022-08-23T23:53:28.590Z"
   },
   {
    "duration": 13,
    "start_time": "2022-08-23T23:53:50.373Z"
   },
   {
    "duration": 16,
    "start_time": "2022-08-23T23:54:38.830Z"
   },
   {
    "duration": 138,
    "start_time": "2022-08-23T23:54:52.062Z"
   },
   {
    "duration": 3,
    "start_time": "2022-08-23T23:55:47.371Z"
   },
   {
    "duration": 8,
    "start_time": "2022-08-23T23:56:07.256Z"
   },
   {
    "duration": 9,
    "start_time": "2022-08-23T23:56:16.566Z"
   },
   {
    "duration": 177,
    "start_time": "2022-08-23T23:56:26.495Z"
   },
   {
    "duration": 210,
    "start_time": "2022-08-23T23:56:50.476Z"
   },
   {
    "duration": 263,
    "start_time": "2022-08-23T23:57:45.559Z"
   },
   {
    "duration": 173,
    "start_time": "2022-08-23T23:58:33.076Z"
   },
   {
    "duration": 3,
    "start_time": "2022-08-24T00:00:07.833Z"
   },
   {
    "duration": 175,
    "start_time": "2022-08-24T00:00:08.228Z"
   },
   {
    "duration": 1377,
    "start_time": "2022-08-24T00:00:22.369Z"
   },
   {
    "duration": 727,
    "start_time": "2022-08-24T00:00:23.747Z"
   },
   {
    "duration": 24,
    "start_time": "2022-08-24T00:00:24.475Z"
   },
   {
    "duration": 125,
    "start_time": "2022-08-24T00:00:24.501Z"
   },
   {
    "duration": 93,
    "start_time": "2022-08-24T00:00:24.628Z"
   },
   {
    "duration": 23,
    "start_time": "2022-08-24T00:00:24.723Z"
   },
   {
    "duration": 13,
    "start_time": "2022-08-24T00:00:24.747Z"
   },
   {
    "duration": 8,
    "start_time": "2022-08-24T00:00:24.761Z"
   },
   {
    "duration": 11,
    "start_time": "2022-08-24T00:00:24.771Z"
   },
   {
    "duration": 41,
    "start_time": "2022-08-24T00:00:24.784Z"
   },
   {
    "duration": 9,
    "start_time": "2022-08-24T00:00:24.827Z"
   },
   {
    "duration": 97,
    "start_time": "2022-08-24T00:00:24.837Z"
   },
   {
    "duration": 32,
    "start_time": "2022-08-24T00:00:24.936Z"
   },
   {
    "duration": 29,
    "start_time": "2022-08-24T00:00:24.969Z"
   },
   {
    "duration": 17,
    "start_time": "2022-08-24T00:00:25.000Z"
   },
   {
    "duration": 14,
    "start_time": "2022-08-24T00:00:25.018Z"
   },
   {
    "duration": 29,
    "start_time": "2022-08-24T00:00:25.033Z"
   },
   {
    "duration": 47,
    "start_time": "2022-08-24T00:00:25.063Z"
   },
   {
    "duration": 14,
    "start_time": "2022-08-24T00:00:25.112Z"
   },
   {
    "duration": 20,
    "start_time": "2022-08-24T00:00:25.128Z"
   },
   {
    "duration": 63,
    "start_time": "2022-08-24T00:00:25.150Z"
   },
   {
    "duration": 32,
    "start_time": "2022-08-24T00:00:25.215Z"
   },
   {
    "duration": 13,
    "start_time": "2022-08-24T00:00:25.248Z"
   },
   {
    "duration": 37,
    "start_time": "2022-08-24T00:00:25.263Z"
   },
   {
    "duration": 12,
    "start_time": "2022-08-24T00:00:25.301Z"
   },
   {
    "duration": 28,
    "start_time": "2022-08-24T00:00:25.315Z"
   },
   {
    "duration": 14,
    "start_time": "2022-08-24T00:00:25.344Z"
   },
   {
    "duration": 40,
    "start_time": "2022-08-24T00:00:25.362Z"
   },
   {
    "duration": 14,
    "start_time": "2022-08-24T00:00:25.404Z"
   },
   {
    "duration": 18,
    "start_time": "2022-08-24T00:00:25.419Z"
   },
   {
    "duration": 13,
    "start_time": "2022-08-24T00:00:25.438Z"
   },
   {
    "duration": 51,
    "start_time": "2022-08-24T00:00:25.452Z"
   },
   {
    "duration": 13,
    "start_time": "2022-08-24T00:00:25.505Z"
   },
   {
    "duration": 20,
    "start_time": "2022-08-24T00:00:25.519Z"
   },
   {
    "duration": 13,
    "start_time": "2022-08-24T00:00:25.540Z"
   },
   {
    "duration": 9,
    "start_time": "2022-08-24T00:00:25.554Z"
   },
   {
    "duration": 40,
    "start_time": "2022-08-24T00:00:25.564Z"
   },
   {
    "duration": 423,
    "start_time": "2022-08-24T00:00:25.606Z"
   },
   {
    "duration": 87,
    "start_time": "2022-08-24T00:00:26.030Z"
   },
   {
    "duration": 15,
    "start_time": "2022-08-24T00:00:26.119Z"
   },
   {
    "duration": 422,
    "start_time": "2022-08-24T00:00:26.136Z"
   },
   {
    "duration": 149,
    "start_time": "2022-08-24T00:00:26.560Z"
   },
   {
    "duration": 29,
    "start_time": "2022-08-24T00:00:26.710Z"
   },
   {
    "duration": 245,
    "start_time": "2022-08-24T00:00:26.740Z"
   },
   {
    "duration": 152,
    "start_time": "2022-08-24T00:00:26.986Z"
   },
   {
    "duration": 7,
    "start_time": "2022-08-24T00:00:27.140Z"
   },
   {
    "duration": 16,
    "start_time": "2022-08-24T00:00:27.149Z"
   },
   {
    "duration": 236,
    "start_time": "2022-08-24T00:00:27.167Z"
   },
   {
    "duration": 158,
    "start_time": "2022-08-24T00:00:27.404Z"
   },
   {
    "duration": 34,
    "start_time": "2022-08-24T00:00:27.564Z"
   },
   {
    "duration": 228,
    "start_time": "2022-08-24T00:00:27.600Z"
   },
   {
    "duration": 155,
    "start_time": "2022-08-24T00:00:27.829Z"
   },
   {
    "duration": 31,
    "start_time": "2022-08-24T00:00:27.986Z"
   },
   {
    "duration": 226,
    "start_time": "2022-08-24T00:00:28.019Z"
   },
   {
    "duration": 141,
    "start_time": "2022-08-24T00:00:28.247Z"
   },
   {
    "duration": 12,
    "start_time": "2022-08-24T00:00:28.389Z"
   },
   {
    "duration": 204,
    "start_time": "2022-08-24T00:00:28.403Z"
   },
   {
    "duration": 293,
    "start_time": "2022-08-24T00:00:28.609Z"
   },
   {
    "duration": 59,
    "start_time": "2022-08-24T00:00:28.903Z"
   },
   {
    "duration": 130,
    "start_time": "2022-08-24T00:00:28.963Z"
   },
   {
    "duration": 138,
    "start_time": "2022-08-24T00:00:29.095Z"
   },
   {
    "duration": 122,
    "start_time": "2022-08-24T00:00:29.235Z"
   },
   {
    "duration": 3,
    "start_time": "2022-08-24T00:00:29.359Z"
   },
   {
    "duration": 6,
    "start_time": "2022-08-24T00:00:29.363Z"
   },
   {
    "duration": 8,
    "start_time": "2022-08-24T00:00:29.370Z"
   },
   {
    "duration": 20,
    "start_time": "2022-08-24T00:00:29.379Z"
   },
   {
    "duration": 6,
    "start_time": "2022-08-24T00:00:29.400Z"
   },
   {
    "duration": 728,
    "start_time": "2022-08-24T00:00:29.408Z"
   },
   {
    "duration": 14,
    "start_time": "2022-08-24T00:00:30.138Z"
   },
   {
    "duration": 26,
    "start_time": "2022-08-24T00:00:30.153Z"
   },
   {
    "duration": 412,
    "start_time": "2022-08-24T00:00:30.180Z"
   },
   {
    "duration": 6,
    "start_time": "2022-08-24T00:00:30.593Z"
   },
   {
    "duration": 12804,
    "start_time": "2022-08-24T00:00:30.600Z"
   },
   {
    "duration": 4293,
    "start_time": "2022-08-24T00:00:43.406Z"
   },
   {
    "duration": 3168,
    "start_time": "2022-08-24T00:00:47.700Z"
   },
   {
    "duration": 162,
    "start_time": "2022-08-24T00:00:50.869Z"
   },
   {
    "duration": 193852,
    "start_time": "2022-08-24T00:00:51.033Z"
   },
   {
    "duration": 13441,
    "start_time": "2022-08-24T00:04:04.887Z"
   },
   {
    "duration": 154370,
    "start_time": "2022-08-24T00:04:18.330Z"
   },
   {
    "duration": 6919,
    "start_time": "2022-08-24T00:06:52.701Z"
   },
   {
    "duration": 143356,
    "start_time": "2022-08-24T00:06:59.621Z"
   },
   {
    "duration": 8526,
    "start_time": "2022-08-24T00:09:22.981Z"
   },
   {
    "duration": 7,
    "start_time": "2022-08-24T00:09:31.508Z"
   },
   {
    "duration": 19,
    "start_time": "2022-08-24T00:09:31.516Z"
   },
   {
    "duration": 171,
    "start_time": "2022-08-24T00:21:02.415Z"
   },
   {
    "duration": 4,
    "start_time": "2022-08-24T00:22:41.409Z"
   },
   {
    "duration": 193,
    "start_time": "2022-08-24T00:22:41.825Z"
   },
   {
    "duration": 3,
    "start_time": "2022-08-24T00:22:46.220Z"
   },
   {
    "duration": 200,
    "start_time": "2022-08-24T00:22:47.011Z"
   },
   {
    "duration": 3,
    "start_time": "2022-08-24T00:22:50.343Z"
   },
   {
    "duration": 191,
    "start_time": "2022-08-24T00:22:50.635Z"
   },
   {
    "duration": 4,
    "start_time": "2022-08-24T00:22:53.442Z"
   },
   {
    "duration": 197,
    "start_time": "2022-08-24T00:22:53.714Z"
   },
   {
    "duration": 3,
    "start_time": "2022-08-24T00:25:20.904Z"
   },
   {
    "duration": 123,
    "start_time": "2022-08-24T00:25:21.135Z"
   },
   {
    "duration": 3,
    "start_time": "2022-08-24T00:25:42.163Z"
   },
   {
    "duration": 169,
    "start_time": "2022-08-24T00:25:42.349Z"
   },
   {
    "duration": 3,
    "start_time": "2022-08-24T00:25:49.638Z"
   },
   {
    "duration": 143,
    "start_time": "2022-08-24T00:25:50.770Z"
   },
   {
    "duration": 5,
    "start_time": "2022-08-24T00:27:05.081Z"
   },
   {
    "duration": 19,
    "start_time": "2022-08-24T00:27:05.460Z"
   },
   {
    "duration": 3,
    "start_time": "2022-08-24T00:27:52.773Z"
   },
   {
    "duration": 3,
    "start_time": "2022-08-24T00:27:53.595Z"
   },
   {
    "duration": 19,
    "start_time": "2022-08-24T00:27:54.613Z"
   },
   {
    "duration": 8,
    "start_time": "2022-08-24T00:27:58.869Z"
   },
   {
    "duration": 3,
    "start_time": "2022-08-24T00:28:12.588Z"
   },
   {
    "duration": 241,
    "start_time": "2022-08-24T00:28:13.111Z"
   },
   {
    "duration": 9,
    "start_time": "2022-08-24T00:28:34.875Z"
   },
   {
    "duration": 243,
    "start_time": "2022-08-24T00:28:50.615Z"
   },
   {
    "duration": 266,
    "start_time": "2022-08-24T00:29:14.341Z"
   },
   {
    "duration": 1826,
    "start_time": "2022-08-24T03:49:03.157Z"
   },
   {
    "duration": 1061,
    "start_time": "2022-08-24T03:49:04.986Z"
   },
   {
    "duration": 18,
    "start_time": "2022-08-24T03:49:06.049Z"
   },
   {
    "duration": 134,
    "start_time": "2022-08-24T03:49:06.068Z"
   },
   {
    "duration": 85,
    "start_time": "2022-08-24T03:49:08.155Z"
   },
   {
    "duration": 23,
    "start_time": "2022-08-24T03:49:22.984Z"
   },
   {
    "duration": 11,
    "start_time": "2022-08-24T03:49:39.224Z"
   },
   {
    "duration": 3,
    "start_time": "2022-08-24T03:49:41.143Z"
   },
   {
    "duration": 10,
    "start_time": "2022-08-24T03:49:42.052Z"
   },
   {
    "duration": 32,
    "start_time": "2022-08-24T03:49:46.699Z"
   },
   {
    "duration": 10,
    "start_time": "2022-08-24T03:49:47.239Z"
   },
   {
    "duration": 77,
    "start_time": "2022-08-24T03:49:50.967Z"
   },
   {
    "duration": 30,
    "start_time": "2022-08-24T03:49:54.520Z"
   },
   {
    "duration": 16,
    "start_time": "2022-08-24T03:49:57.310Z"
   },
   {
    "duration": 19,
    "start_time": "2022-08-24T03:50:05.392Z"
   },
   {
    "duration": 21,
    "start_time": "2022-08-24T03:50:26.340Z"
   },
   {
    "duration": 30,
    "start_time": "2022-08-24T03:50:26.682Z"
   },
   {
    "duration": 30,
    "start_time": "2022-08-24T03:50:29.335Z"
   },
   {
    "duration": 17,
    "start_time": "2022-08-24T03:50:29.843Z"
   },
   {
    "duration": 21,
    "start_time": "2022-08-24T03:50:30.896Z"
   },
   {
    "duration": 39,
    "start_time": "2022-08-24T03:50:33.478Z"
   },
   {
    "duration": 32,
    "start_time": "2022-08-24T03:51:22.902Z"
   },
   {
    "duration": 15,
    "start_time": "2022-08-24T03:51:23.571Z"
   },
   {
    "duration": 19,
    "start_time": "2022-08-24T03:51:24.631Z"
   },
   {
    "duration": 20,
    "start_time": "2022-08-24T03:51:27.598Z"
   },
   {
    "duration": 31,
    "start_time": "2022-08-24T03:51:29.187Z"
   },
   {
    "duration": 14,
    "start_time": "2022-08-24T03:51:36.755Z"
   },
   {
    "duration": 32,
    "start_time": "2022-08-24T03:51:37.102Z"
   },
   {
    "duration": 32,
    "start_time": "2022-08-24T03:51:59.398Z"
   },
   {
    "duration": 17,
    "start_time": "2022-08-24T03:51:59.770Z"
   },
   {
    "duration": 18,
    "start_time": "2022-08-24T03:52:02.259Z"
   },
   {
    "duration": 16,
    "start_time": "2022-08-24T03:52:02.279Z"
   },
   {
    "duration": 34,
    "start_time": "2022-08-24T03:52:04.001Z"
   },
   {
    "duration": 16,
    "start_time": "2022-08-24T03:52:04.396Z"
   },
   {
    "duration": 19,
    "start_time": "2022-08-24T03:52:12.450Z"
   },
   {
    "duration": 15,
    "start_time": "2022-08-24T03:52:43.506Z"
   },
   {
    "duration": 349,
    "start_time": "2022-08-24T03:53:02.996Z"
   },
   {
    "duration": 34,
    "start_time": "2022-08-24T03:53:14.157Z"
   },
   {
    "duration": 17,
    "start_time": "2022-08-24T03:53:28.781Z"
   },
   {
    "duration": 344,
    "start_time": "2022-08-24T03:53:30.051Z"
   },
   {
    "duration": 29,
    "start_time": "2022-08-24T03:53:52.119Z"
   },
   {
    "duration": 321,
    "start_time": "2022-08-24T03:53:53.385Z"
   },
   {
    "duration": 153,
    "start_time": "2022-08-24T03:54:03.321Z"
   },
   {
    "duration": 10,
    "start_time": "2022-08-24T03:54:07.231Z"
   },
   {
    "duration": 16,
    "start_time": "2022-08-24T03:54:08.987Z"
   },
   {
    "duration": 8,
    "start_time": "2022-08-24T03:54:45.098Z"
   },
   {
    "duration": 14,
    "start_time": "2022-08-24T03:54:49.244Z"
   },
   {
    "duration": 229,
    "start_time": "2022-08-24T03:54:52.931Z"
   },
   {
    "duration": 149,
    "start_time": "2022-08-24T03:54:54.634Z"
   },
   {
    "duration": 23,
    "start_time": "2022-08-24T03:55:03.256Z"
   },
   {
    "duration": 235,
    "start_time": "2022-08-24T03:55:05.411Z"
   },
   {
    "duration": 154,
    "start_time": "2022-08-24T03:55:08.771Z"
   },
   {
    "duration": 22,
    "start_time": "2022-08-24T03:55:26.968Z"
   },
   {
    "duration": 302,
    "start_time": "2022-08-24T03:56:36.209Z"
   },
   {
    "duration": 135,
    "start_time": "2022-08-24T03:56:39.089Z"
   },
   {
    "duration": 7,
    "start_time": "2022-08-24T03:56:44.238Z"
   },
   {
    "duration": 209,
    "start_time": "2022-08-24T03:56:46.981Z"
   },
   {
    "duration": 195,
    "start_time": "2022-08-24T03:56:50.303Z"
   },
   {
    "duration": 71,
    "start_time": "2022-08-24T03:56:53.378Z"
   },
   {
    "duration": 128,
    "start_time": "2022-08-24T03:56:55.054Z"
   },
   {
    "duration": 146,
    "start_time": "2022-08-24T03:56:57.010Z"
   },
   {
    "duration": 137,
    "start_time": "2022-08-24T03:57:33.430Z"
   },
   {
    "duration": 4,
    "start_time": "2022-08-24T03:57:34.810Z"
   },
   {
    "duration": 4,
    "start_time": "2022-08-24T03:59:42.945Z"
   },
   {
    "duration": 5,
    "start_time": "2022-08-24T03:59:54.570Z"
   },
   {
    "duration": 80,
    "start_time": "2022-08-24T04:00:29.817Z"
   },
   {
    "duration": 5,
    "start_time": "2022-08-24T04:02:44.026Z"
   },
   {
    "duration": 5,
    "start_time": "2022-08-24T04:02:45.524Z"
   },
   {
    "duration": 3,
    "start_time": "2022-08-24T04:03:09.616Z"
   },
   {
    "duration": 4,
    "start_time": "2022-08-24T04:03:10.028Z"
   },
   {
    "duration": 823,
    "start_time": "2022-08-24T04:04:31.994Z"
   },
   {
    "duration": 14,
    "start_time": "2022-08-24T04:05:17.021Z"
   },
   {
    "duration": 12,
    "start_time": "2022-08-24T04:05:20.878Z"
   },
   {
    "duration": 7,
    "start_time": "2022-08-24T04:05:59.779Z"
   },
   {
    "duration": 518,
    "start_time": "2022-08-24T04:07:48.498Z"
   },
   {
    "duration": 1702,
    "start_time": "2022-08-24T15:56:17.514Z"
   },
   {
    "duration": 1356,
    "start_time": "2022-08-24T15:56:19.218Z"
   },
   {
    "duration": 22,
    "start_time": "2022-08-24T15:56:20.807Z"
   },
   {
    "duration": 160,
    "start_time": "2022-08-24T15:56:22.670Z"
   },
   {
    "duration": 94,
    "start_time": "2022-08-24T15:56:24.435Z"
   },
   {
    "duration": 311,
    "start_time": "2022-08-24T15:56:36.822Z"
   },
   {
    "duration": 146,
    "start_time": "2022-08-24T15:57:03.971Z"
   },
   {
    "duration": 10,
    "start_time": "2022-08-24T15:57:07.333Z"
   },
   {
    "duration": 604,
    "start_time": "2022-08-24T15:58:30.076Z"
   },
   {
    "duration": 5,
    "start_time": "2022-08-24T15:59:04.231Z"
   },
   {
    "duration": 555,
    "start_time": "2022-08-24T15:59:12.019Z"
   },
   {
    "duration": 27,
    "start_time": "2022-08-24T15:59:17.217Z"
   },
   {
    "duration": 36,
    "start_time": "2022-08-24T15:59:26.584Z"
   },
   {
    "duration": 23,
    "start_time": "2022-08-24T15:59:27.153Z"
   },
   {
    "duration": 10,
    "start_time": "2022-08-24T15:59:27.226Z"
   },
   {
    "duration": 3,
    "start_time": "2022-08-24T15:59:27.305Z"
   },
   {
    "duration": 11,
    "start_time": "2022-08-24T15:59:27.342Z"
   },
   {
    "duration": 36,
    "start_time": "2022-08-24T15:59:27.381Z"
   },
   {
    "duration": 9,
    "start_time": "2022-08-24T15:59:27.419Z"
   },
   {
    "duration": 97,
    "start_time": "2022-08-24T15:59:27.468Z"
   },
   {
    "duration": 48,
    "start_time": "2022-08-24T15:59:27.566Z"
   },
   {
    "duration": 16,
    "start_time": "2022-08-24T15:59:32.358Z"
   },
   {
    "duration": 21,
    "start_time": "2022-08-24T15:59:32.913Z"
   },
   {
    "duration": 24,
    "start_time": "2022-08-24T15:59:32.983Z"
   },
   {
    "duration": 32,
    "start_time": "2022-08-24T15:59:33.031Z"
   },
   {
    "duration": 33,
    "start_time": "2022-08-24T15:59:34.419Z"
   },
   {
    "duration": 17,
    "start_time": "2022-08-24T15:59:34.941Z"
   },
   {
    "duration": 28,
    "start_time": "2022-08-24T15:59:34.978Z"
   },
   {
    "duration": 48,
    "start_time": "2022-08-24T15:59:35.057Z"
   },
   {
    "duration": 42,
    "start_time": "2022-08-24T15:59:35.156Z"
   },
   {
    "duration": 18,
    "start_time": "2022-08-24T15:59:35.200Z"
   },
   {
    "duration": 24,
    "start_time": "2022-08-24T15:59:36.924Z"
   },
   {
    "duration": 16,
    "start_time": "2022-08-24T15:59:37.448Z"
   },
   {
    "duration": 33,
    "start_time": "2022-08-24T15:59:37.521Z"
   },
   {
    "duration": 18,
    "start_time": "2022-08-24T15:59:37.602Z"
   },
   {
    "duration": 40,
    "start_time": "2022-08-24T15:59:37.670Z"
   },
   {
    "duration": 16,
    "start_time": "2022-08-24T15:59:37.718Z"
   },
   {
    "duration": 24,
    "start_time": "2022-08-24T15:59:37.785Z"
   },
   {
    "duration": 16,
    "start_time": "2022-08-24T15:59:37.822Z"
   },
   {
    "duration": 32,
    "start_time": "2022-08-24T15:59:40.149Z"
   },
   {
    "duration": 24,
    "start_time": "2022-08-24T15:59:40.185Z"
   },
   {
    "duration": 20,
    "start_time": "2022-08-24T15:59:40.261Z"
   },
   {
    "duration": 17,
    "start_time": "2022-08-24T15:59:40.334Z"
   },
   {
    "duration": 11,
    "start_time": "2022-08-24T15:59:40.411Z"
   },
   {
    "duration": 17,
    "start_time": "2022-08-24T15:59:40.449Z"
   },
   {
    "duration": 32,
    "start_time": "2022-08-24T16:00:57.849Z"
   },
   {
    "duration": 16,
    "start_time": "2022-08-24T16:01:01.832Z"
   },
   {
    "duration": 25,
    "start_time": "2022-08-24T16:01:13.616Z"
   },
   {
    "duration": 15,
    "start_time": "2022-08-24T16:01:14.494Z"
   },
   {
    "duration": 1527,
    "start_time": "2022-08-24T16:01:25.231Z"
   },
   {
    "duration": 794,
    "start_time": "2022-08-24T16:01:26.760Z"
   },
   {
    "duration": 22,
    "start_time": "2022-08-24T16:01:27.556Z"
   },
   {
    "duration": 154,
    "start_time": "2022-08-24T16:01:27.587Z"
   },
   {
    "duration": 96,
    "start_time": "2022-08-24T16:01:27.743Z"
   },
   {
    "duration": 23,
    "start_time": "2022-08-24T16:01:27.841Z"
   },
   {
    "duration": 33,
    "start_time": "2022-08-24T16:01:27.866Z"
   },
   {
    "duration": 31,
    "start_time": "2022-08-24T16:01:27.901Z"
   },
   {
    "duration": 6,
    "start_time": "2022-08-24T16:01:27.934Z"
   },
   {
    "duration": 30,
    "start_time": "2022-08-24T16:01:27.943Z"
   },
   {
    "duration": 40,
    "start_time": "2022-08-24T16:01:27.974Z"
   },
   {
    "duration": 11,
    "start_time": "2022-08-24T16:01:28.016Z"
   },
   {
    "duration": 122,
    "start_time": "2022-08-24T16:01:28.029Z"
   },
   {
    "duration": 34,
    "start_time": "2022-08-24T16:01:28.153Z"
   },
   {
    "duration": 18,
    "start_time": "2022-08-24T16:01:28.190Z"
   },
   {
    "duration": 39,
    "start_time": "2022-08-24T16:01:28.210Z"
   },
   {
    "duration": 18,
    "start_time": "2022-08-24T16:01:28.251Z"
   },
   {
    "duration": 39,
    "start_time": "2022-08-24T16:01:28.287Z"
   },
   {
    "duration": 37,
    "start_time": "2022-08-24T16:01:28.329Z"
   },
   {
    "duration": 34,
    "start_time": "2022-08-24T16:01:28.368Z"
   },
   {
    "duration": 28,
    "start_time": "2022-08-24T16:01:28.403Z"
   },
   {
    "duration": 45,
    "start_time": "2022-08-24T16:01:28.433Z"
   },
   {
    "duration": 35,
    "start_time": "2022-08-24T16:01:28.746Z"
   },
   {
    "duration": 33,
    "start_time": "2022-08-24T16:01:28.782Z"
   },
   {
    "duration": 18,
    "start_time": "2022-08-24T16:01:28.859Z"
   },
   {
    "duration": 17,
    "start_time": "2022-08-24T16:01:28.905Z"
   },
   {
    "duration": 29,
    "start_time": "2022-08-24T16:01:30.848Z"
   },
   {
    "duration": 17,
    "start_time": "2022-08-24T16:01:30.923Z"
   },
   {
    "duration": 30,
    "start_time": "2022-08-24T16:01:30.994Z"
   },
   {
    "duration": 16,
    "start_time": "2022-08-24T16:01:31.046Z"
   },
   {
    "duration": 19,
    "start_time": "2022-08-24T16:01:32.866Z"
   },
   {
    "duration": 17,
    "start_time": "2022-08-24T16:01:32.903Z"
   },
   {
    "duration": 31,
    "start_time": "2022-08-24T16:01:32.979Z"
   },
   {
    "duration": 16,
    "start_time": "2022-08-24T16:01:34.448Z"
   },
   {
    "duration": 20,
    "start_time": "2022-08-24T16:01:34.766Z"
   },
   {
    "duration": 20,
    "start_time": "2022-08-24T16:01:36.049Z"
   },
   {
    "duration": 12,
    "start_time": "2022-08-24T16:01:36.533Z"
   },
   {
    "duration": 17,
    "start_time": "2022-08-24T16:01:38.478Z"
   },
   {
    "duration": 396,
    "start_time": "2022-08-24T16:01:38.954Z"
   },
   {
    "duration": 38,
    "start_time": "2022-08-24T16:01:42.210Z"
   },
   {
    "duration": 20,
    "start_time": "2022-08-24T16:01:45.706Z"
   },
   {
    "duration": 25,
    "start_time": "2022-08-24T16:01:53.100Z"
   },
   {
    "duration": 15,
    "start_time": "2022-08-24T16:01:53.998Z"
   },
   {
    "duration": 17,
    "start_time": "2022-08-24T16:02:28.209Z"
   },
   {
    "duration": 351,
    "start_time": "2022-08-24T16:02:28.607Z"
   },
   {
    "duration": 216,
    "start_time": "2022-08-24T16:02:30.168Z"
   },
   {
    "duration": 24,
    "start_time": "2022-08-24T16:02:34.983Z"
   },
   {
    "duration": 233,
    "start_time": "2022-08-24T16:02:35.235Z"
   },
   {
    "duration": 148,
    "start_time": "2022-08-24T16:02:37.381Z"
   },
   {
    "duration": 249,
    "start_time": "2022-08-24T16:03:14.264Z"
   },
   {
    "duration": 312,
    "start_time": "2022-08-24T16:03:45.893Z"
   },
   {
    "duration": 28,
    "start_time": "2022-08-24T16:04:59.716Z"
   },
   {
    "duration": 29,
    "start_time": "2022-08-24T16:05:05.989Z"
   },
   {
    "duration": 269,
    "start_time": "2022-08-24T16:05:07.318Z"
   },
   {
    "duration": 158,
    "start_time": "2022-08-24T16:05:10.233Z"
   },
   {
    "duration": 1444,
    "start_time": "2022-08-24T16:05:17.460Z"
   },
   {
    "duration": 809,
    "start_time": "2022-08-24T16:05:18.906Z"
   },
   {
    "duration": 19,
    "start_time": "2022-08-24T16:05:19.717Z"
   },
   {
    "duration": 199,
    "start_time": "2022-08-24T16:05:19.738Z"
   },
   {
    "duration": 119,
    "start_time": "2022-08-24T16:05:19.938Z"
   },
   {
    "duration": 31,
    "start_time": "2022-08-24T16:05:20.059Z"
   },
   {
    "duration": 28,
    "start_time": "2022-08-24T16:05:20.091Z"
   },
   {
    "duration": 14,
    "start_time": "2022-08-24T16:05:20.120Z"
   },
   {
    "duration": 5,
    "start_time": "2022-08-24T16:05:20.136Z"
   },
   {
    "duration": 12,
    "start_time": "2022-08-24T16:05:20.143Z"
   },
   {
    "duration": 47,
    "start_time": "2022-08-24T16:05:20.156Z"
   },
   {
    "duration": 12,
    "start_time": "2022-08-24T16:05:20.205Z"
   },
   {
    "duration": 93,
    "start_time": "2022-08-24T16:05:20.218Z"
   },
   {
    "duration": 33,
    "start_time": "2022-08-24T16:05:20.312Z"
   },
   {
    "duration": 19,
    "start_time": "2022-08-24T16:05:20.346Z"
   },
   {
    "duration": 34,
    "start_time": "2022-08-24T16:05:20.366Z"
   },
   {
    "duration": 17,
    "start_time": "2022-08-24T16:05:20.402Z"
   },
   {
    "duration": 36,
    "start_time": "2022-08-24T16:05:20.420Z"
   },
   {
    "duration": 52,
    "start_time": "2022-08-24T16:05:20.458Z"
   },
   {
    "duration": 22,
    "start_time": "2022-08-24T16:05:20.511Z"
   },
   {
    "duration": 27,
    "start_time": "2022-08-24T16:05:20.534Z"
   },
   {
    "duration": 52,
    "start_time": "2022-08-24T16:05:20.563Z"
   },
   {
    "duration": 33,
    "start_time": "2022-08-24T16:05:20.617Z"
   },
   {
    "duration": 24,
    "start_time": "2022-08-24T16:05:20.651Z"
   },
   {
    "duration": 34,
    "start_time": "2022-08-24T16:05:20.676Z"
   },
   {
    "duration": 21,
    "start_time": "2022-08-24T16:05:20.711Z"
   },
   {
    "duration": 36,
    "start_time": "2022-08-24T16:05:20.734Z"
   },
   {
    "duration": 24,
    "start_time": "2022-08-24T16:05:20.774Z"
   },
   {
    "duration": 32,
    "start_time": "2022-08-24T16:05:20.800Z"
   },
   {
    "duration": 23,
    "start_time": "2022-08-24T16:05:20.834Z"
   },
   {
    "duration": 28,
    "start_time": "2022-08-24T16:05:20.859Z"
   },
   {
    "duration": 16,
    "start_time": "2022-08-24T16:05:20.888Z"
   },
   {
    "duration": 33,
    "start_time": "2022-08-24T16:05:20.905Z"
   },
   {
    "duration": 21,
    "start_time": "2022-08-24T16:05:20.939Z"
   },
   {
    "duration": 37,
    "start_time": "2022-08-24T16:05:20.962Z"
   },
   {
    "duration": 17,
    "start_time": "2022-08-24T16:05:21.000Z"
   },
   {
    "duration": 11,
    "start_time": "2022-08-24T16:05:21.019Z"
   },
   {
    "duration": 16,
    "start_time": "2022-08-24T16:05:21.031Z"
   },
   {
    "duration": 378,
    "start_time": "2022-08-24T16:05:21.049Z"
   },
   {
    "duration": 33,
    "start_time": "2022-08-24T16:05:21.429Z"
   },
   {
    "duration": 29,
    "start_time": "2022-08-24T16:05:21.463Z"
   },
   {
    "duration": 422,
    "start_time": "2022-08-24T16:05:21.493Z"
   },
   {
    "duration": 161,
    "start_time": "2022-08-24T16:05:21.917Z"
   },
   {
    "duration": 30,
    "start_time": "2022-08-24T16:05:22.080Z"
   },
   {
    "duration": 255,
    "start_time": "2022-08-24T16:05:22.112Z"
   },
   {
    "duration": 156,
    "start_time": "2022-08-24T16:05:22.369Z"
   },
   {
    "duration": 9,
    "start_time": "2022-08-24T16:05:22.527Z"
   },
   {
    "duration": 14,
    "start_time": "2022-08-24T16:05:22.538Z"
   },
   {
    "duration": 263,
    "start_time": "2022-08-24T16:05:22.554Z"
   },
   {
    "duration": 163,
    "start_time": "2022-08-24T16:05:22.819Z"
   },
   {
    "duration": 24,
    "start_time": "2022-08-24T16:05:22.984Z"
   },
   {
    "duration": 251,
    "start_time": "2022-08-24T16:05:23.010Z"
   },
   {
    "duration": 161,
    "start_time": "2022-08-24T16:05:23.263Z"
   },
   {
    "duration": 25,
    "start_time": "2022-08-24T16:05:23.426Z"
   },
   {
    "duration": 250,
    "start_time": "2022-08-24T16:05:23.453Z"
   },
   {
    "duration": 151,
    "start_time": "2022-08-24T16:05:23.705Z"
   },
   {
    "duration": 7,
    "start_time": "2022-08-24T16:05:23.858Z"
   },
   {
    "duration": 232,
    "start_time": "2022-08-24T16:05:23.866Z"
   },
   {
    "duration": 309,
    "start_time": "2022-08-24T16:05:24.100Z"
   },
   {
    "duration": 76,
    "start_time": "2022-08-24T16:05:24.411Z"
   },
   {
    "duration": 0,
    "start_time": "2022-08-24T16:05:24.488Z"
   },
   {
    "duration": 0,
    "start_time": "2022-08-24T16:05:24.490Z"
   },
   {
    "duration": 0,
    "start_time": "2022-08-24T16:05:24.490Z"
   },
   {
    "duration": 0,
    "start_time": "2022-08-24T16:05:24.491Z"
   },
   {
    "duration": 0,
    "start_time": "2022-08-24T16:05:24.492Z"
   },
   {
    "duration": 0,
    "start_time": "2022-08-24T16:05:24.493Z"
   },
   {
    "duration": 0,
    "start_time": "2022-08-24T16:05:24.494Z"
   },
   {
    "duration": 0,
    "start_time": "2022-08-24T16:05:24.496Z"
   },
   {
    "duration": 0,
    "start_time": "2022-08-24T16:05:24.497Z"
   },
   {
    "duration": 0,
    "start_time": "2022-08-24T16:05:24.498Z"
   },
   {
    "duration": 0,
    "start_time": "2022-08-24T16:05:24.499Z"
   },
   {
    "duration": 1,
    "start_time": "2022-08-24T16:05:24.499Z"
   },
   {
    "duration": 0,
    "start_time": "2022-08-24T16:05:24.501Z"
   },
   {
    "duration": 0,
    "start_time": "2022-08-24T16:05:24.501Z"
   },
   {
    "duration": 0,
    "start_time": "2022-08-24T16:05:24.503Z"
   },
   {
    "duration": 0,
    "start_time": "2022-08-24T16:05:24.503Z"
   },
   {
    "duration": 0,
    "start_time": "2022-08-24T16:05:24.505Z"
   },
   {
    "duration": 0,
    "start_time": "2022-08-24T16:05:24.506Z"
   },
   {
    "duration": 0,
    "start_time": "2022-08-24T16:05:24.507Z"
   },
   {
    "duration": 0,
    "start_time": "2022-08-24T16:05:24.508Z"
   },
   {
    "duration": 0,
    "start_time": "2022-08-24T16:05:24.509Z"
   },
   {
    "duration": 0,
    "start_time": "2022-08-24T16:05:24.510Z"
   },
   {
    "duration": 0,
    "start_time": "2022-08-24T16:05:24.511Z"
   },
   {
    "duration": 0,
    "start_time": "2022-08-24T16:05:24.512Z"
   },
   {
    "duration": 0,
    "start_time": "2022-08-24T16:05:24.513Z"
   },
   {
    "duration": 0,
    "start_time": "2022-08-24T16:05:24.515Z"
   },
   {
    "duration": 0,
    "start_time": "2022-08-24T16:05:24.515Z"
   },
   {
    "duration": 0,
    "start_time": "2022-08-24T16:05:24.516Z"
   },
   {
    "duration": 8,
    "start_time": "2022-08-24T16:06:52.902Z"
   },
   {
    "duration": 28,
    "start_time": "2022-08-24T16:08:41.021Z"
   },
   {
    "duration": 32,
    "start_time": "2022-08-24T16:08:46.342Z"
   },
   {
    "duration": 28,
    "start_time": "2022-08-24T16:08:50.615Z"
   },
   {
    "duration": 27,
    "start_time": "2022-08-24T16:08:53.945Z"
   },
   {
    "duration": 9,
    "start_time": "2022-08-24T16:09:24.922Z"
   },
   {
    "duration": 30,
    "start_time": "2022-08-24T16:09:40.825Z"
   },
   {
    "duration": 8,
    "start_time": "2022-08-24T16:09:51.006Z"
   },
   {
    "duration": 21,
    "start_time": "2022-08-24T16:09:54.129Z"
   },
   {
    "duration": 9,
    "start_time": "2022-08-24T16:10:00.742Z"
   },
   {
    "duration": 14,
    "start_time": "2022-08-24T16:10:06.757Z"
   },
   {
    "duration": 22,
    "start_time": "2022-08-24T16:10:25.049Z"
   },
   {
    "duration": 16,
    "start_time": "2022-08-24T16:10:25.343Z"
   },
   {
    "duration": 21,
    "start_time": "2022-08-24T16:10:29.191Z"
   },
   {
    "duration": 15,
    "start_time": "2022-08-24T16:10:29.547Z"
   },
   {
    "duration": 21,
    "start_time": "2022-08-24T16:10:32.983Z"
   },
   {
    "duration": 15,
    "start_time": "2022-08-24T16:10:33.277Z"
   },
   {
    "duration": 1395,
    "start_time": "2022-08-24T16:10:37.707Z"
   },
   {
    "duration": 783,
    "start_time": "2022-08-24T16:10:39.103Z"
   },
   {
    "duration": 17,
    "start_time": "2022-08-24T16:10:39.888Z"
   },
   {
    "duration": 159,
    "start_time": "2022-08-24T16:10:39.907Z"
   },
   {
    "duration": 103,
    "start_time": "2022-08-24T16:10:40.068Z"
   },
   {
    "duration": 38,
    "start_time": "2022-08-24T16:10:40.173Z"
   },
   {
    "duration": 31,
    "start_time": "2022-08-24T16:10:40.213Z"
   },
   {
    "duration": 19,
    "start_time": "2022-08-24T16:10:40.246Z"
   },
   {
    "duration": 8,
    "start_time": "2022-08-24T16:10:40.267Z"
   },
   {
    "duration": 21,
    "start_time": "2022-08-24T16:10:40.278Z"
   },
   {
    "duration": 39,
    "start_time": "2022-08-24T16:10:40.301Z"
   },
   {
    "duration": 18,
    "start_time": "2022-08-24T16:10:40.343Z"
   },
   {
    "duration": 98,
    "start_time": "2022-08-24T16:10:40.362Z"
   },
   {
    "duration": 38,
    "start_time": "2022-08-24T16:10:40.462Z"
   },
   {
    "duration": 18,
    "start_time": "2022-08-24T16:10:40.502Z"
   },
   {
    "duration": 30,
    "start_time": "2022-08-24T16:10:40.521Z"
   },
   {
    "duration": 17,
    "start_time": "2022-08-24T16:10:40.552Z"
   },
   {
    "duration": 46,
    "start_time": "2022-08-24T16:10:40.571Z"
   },
   {
    "duration": 31,
    "start_time": "2022-08-24T16:10:40.619Z"
   },
   {
    "duration": 19,
    "start_time": "2022-08-24T16:10:40.652Z"
   },
   {
    "duration": 22,
    "start_time": "2022-08-24T16:10:40.687Z"
   },
   {
    "duration": 42,
    "start_time": "2022-08-24T16:10:40.711Z"
   },
   {
    "duration": 54,
    "start_time": "2022-08-24T16:10:40.755Z"
   },
   {
    "duration": 15,
    "start_time": "2022-08-24T16:10:40.811Z"
   },
   {
    "duration": 21,
    "start_time": "2022-08-24T16:10:40.827Z"
   },
   {
    "duration": 51,
    "start_time": "2022-08-24T16:10:40.849Z"
   },
   {
    "duration": 30,
    "start_time": "2022-08-24T16:10:40.902Z"
   },
   {
    "duration": 14,
    "start_time": "2022-08-24T16:10:40.936Z"
   },
   {
    "duration": 48,
    "start_time": "2022-08-24T16:10:40.952Z"
   },
   {
    "duration": 19,
    "start_time": "2022-08-24T16:10:41.002Z"
   },
   {
    "duration": 21,
    "start_time": "2022-08-24T16:10:41.023Z"
   },
   {
    "duration": 15,
    "start_time": "2022-08-24T16:10:41.046Z"
   },
   {
    "duration": 49,
    "start_time": "2022-08-24T16:10:41.063Z"
   },
   {
    "duration": 19,
    "start_time": "2022-08-24T16:10:41.113Z"
   },
   {
    "duration": 20,
    "start_time": "2022-08-24T16:10:41.134Z"
   },
   {
    "duration": 33,
    "start_time": "2022-08-24T16:10:41.155Z"
   },
   {
    "duration": 9,
    "start_time": "2022-08-24T16:10:41.189Z"
   },
   {
    "duration": 22,
    "start_time": "2022-08-24T16:10:41.199Z"
   },
   {
    "duration": 388,
    "start_time": "2022-08-24T16:10:41.222Z"
   },
   {
    "duration": 33,
    "start_time": "2022-08-24T16:10:41.612Z"
   },
   {
    "duration": 15,
    "start_time": "2022-08-24T16:10:41.647Z"
   },
   {
    "duration": 434,
    "start_time": "2022-08-24T16:10:41.664Z"
   },
   {
    "duration": 146,
    "start_time": "2022-08-24T16:10:42.100Z"
   },
   {
    "duration": 27,
    "start_time": "2022-08-24T16:10:42.247Z"
   },
   {
    "duration": 253,
    "start_time": "2022-08-24T16:10:42.276Z"
   },
   {
    "duration": 148,
    "start_time": "2022-08-24T16:10:42.531Z"
   },
   {
    "duration": 12,
    "start_time": "2022-08-24T16:10:42.681Z"
   },
   {
    "duration": 14,
    "start_time": "2022-08-24T16:10:42.695Z"
   },
   {
    "duration": 250,
    "start_time": "2022-08-24T16:10:42.710Z"
   },
   {
    "duration": 163,
    "start_time": "2022-08-24T16:10:42.962Z"
   },
   {
    "duration": 23,
    "start_time": "2022-08-24T16:10:43.127Z"
   },
   {
    "duration": 258,
    "start_time": "2022-08-24T16:10:43.152Z"
   },
   {
    "duration": 162,
    "start_time": "2022-08-24T16:10:43.411Z"
   },
   {
    "duration": 31,
    "start_time": "2022-08-24T16:10:43.575Z"
   },
   {
    "duration": 242,
    "start_time": "2022-08-24T16:10:43.607Z"
   },
   {
    "duration": 147,
    "start_time": "2022-08-24T16:10:43.851Z"
   },
   {
    "duration": 8,
    "start_time": "2022-08-24T16:10:43.999Z"
   },
   {
    "duration": 226,
    "start_time": "2022-08-24T16:10:44.009Z"
   },
   {
    "duration": 297,
    "start_time": "2022-08-24T16:10:44.237Z"
   },
   {
    "duration": 8,
    "start_time": "2022-08-24T16:10:44.536Z"
   },
   {
    "duration": 23,
    "start_time": "2022-08-24T16:10:44.545Z"
   },
   {
    "duration": 27,
    "start_time": "2022-08-24T16:10:44.570Z"
   },
   {
    "duration": 51,
    "start_time": "2022-08-24T16:10:44.599Z"
   },
   {
    "duration": 0,
    "start_time": "2022-08-24T16:10:44.651Z"
   },
   {
    "duration": 0,
    "start_time": "2022-08-24T16:10:44.652Z"
   },
   {
    "duration": 0,
    "start_time": "2022-08-24T16:10:44.653Z"
   },
   {
    "duration": 0,
    "start_time": "2022-08-24T16:10:44.654Z"
   },
   {
    "duration": 0,
    "start_time": "2022-08-24T16:10:44.655Z"
   },
   {
    "duration": 0,
    "start_time": "2022-08-24T16:10:44.656Z"
   },
   {
    "duration": 0,
    "start_time": "2022-08-24T16:10:44.657Z"
   },
   {
    "duration": 0,
    "start_time": "2022-08-24T16:10:44.658Z"
   },
   {
    "duration": 0,
    "start_time": "2022-08-24T16:10:44.660Z"
   },
   {
    "duration": 0,
    "start_time": "2022-08-24T16:10:44.661Z"
   },
   {
    "duration": 0,
    "start_time": "2022-08-24T16:10:44.662Z"
   },
   {
    "duration": 0,
    "start_time": "2022-08-24T16:10:44.663Z"
   },
   {
    "duration": 0,
    "start_time": "2022-08-24T16:10:44.664Z"
   },
   {
    "duration": 0,
    "start_time": "2022-08-24T16:10:44.665Z"
   },
   {
    "duration": 0,
    "start_time": "2022-08-24T16:10:44.666Z"
   },
   {
    "duration": 0,
    "start_time": "2022-08-24T16:10:44.667Z"
   },
   {
    "duration": 1,
    "start_time": "2022-08-24T16:10:44.668Z"
   },
   {
    "duration": 0,
    "start_time": "2022-08-24T16:10:44.670Z"
   },
   {
    "duration": 0,
    "start_time": "2022-08-24T16:10:44.671Z"
   },
   {
    "duration": 0,
    "start_time": "2022-08-24T16:10:44.672Z"
   },
   {
    "duration": 0,
    "start_time": "2022-08-24T16:10:44.673Z"
   },
   {
    "duration": 0,
    "start_time": "2022-08-24T16:10:44.673Z"
   },
   {
    "duration": 1,
    "start_time": "2022-08-24T16:10:44.674Z"
   },
   {
    "duration": 0,
    "start_time": "2022-08-24T16:10:44.676Z"
   },
   {
    "duration": 0,
    "start_time": "2022-08-24T16:10:44.677Z"
   },
   {
    "duration": 0,
    "start_time": "2022-08-24T16:10:44.678Z"
   },
   {
    "duration": 0,
    "start_time": "2022-08-24T16:10:44.687Z"
   },
   {
    "duration": 0,
    "start_time": "2022-08-24T16:10:44.688Z"
   },
   {
    "duration": 201,
    "start_time": "2022-08-24T16:11:40.399Z"
   },
   {
    "duration": 199,
    "start_time": "2022-08-24T16:11:44.520Z"
   },
   {
    "duration": 207,
    "start_time": "2022-08-24T16:11:51.762Z"
   },
   {
    "duration": 482,
    "start_time": "2022-08-24T16:11:54.341Z"
   },
   {
    "duration": 264,
    "start_time": "2022-08-24T16:11:57.668Z"
   },
   {
    "duration": 181,
    "start_time": "2022-08-24T16:13:36.009Z"
   },
   {
    "duration": 255,
    "start_time": "2022-08-24T16:13:39.658Z"
   },
   {
    "duration": 87,
    "start_time": "2022-08-24T16:15:26.151Z"
   },
   {
    "duration": 123,
    "start_time": "2022-08-24T16:15:27.605Z"
   },
   {
    "duration": 134,
    "start_time": "2022-08-24T16:15:28.701Z"
   },
   {
    "duration": 100,
    "start_time": "2022-08-24T16:15:29.869Z"
   },
   {
    "duration": 4,
    "start_time": "2022-08-24T16:15:30.586Z"
   },
   {
    "duration": 106,
    "start_time": "2022-08-24T16:15:56.783Z"
   },
   {
    "duration": 4,
    "start_time": "2022-08-24T16:16:00.600Z"
   },
   {
    "duration": 1704,
    "start_time": "2022-08-24T16:16:13.659Z"
   },
   {
    "duration": 886,
    "start_time": "2022-08-24T16:16:15.365Z"
   },
   {
    "duration": 25,
    "start_time": "2022-08-24T16:16:16.254Z"
   },
   {
    "duration": 4,
    "start_time": "2022-08-24T16:16:16.289Z"
   },
   {
    "duration": 196,
    "start_time": "2022-08-24T16:16:16.295Z"
   },
   {
    "duration": 105,
    "start_time": "2022-08-24T16:16:16.493Z"
   },
   {
    "duration": 29,
    "start_time": "2022-08-24T16:16:16.600Z"
   },
   {
    "duration": 30,
    "start_time": "2022-08-24T16:16:16.630Z"
   },
   {
    "duration": 36,
    "start_time": "2022-08-24T16:16:16.662Z"
   },
   {
    "duration": 11,
    "start_time": "2022-08-24T16:16:16.700Z"
   },
   {
    "duration": 14,
    "start_time": "2022-08-24T16:16:16.713Z"
   },
   {
    "duration": 44,
    "start_time": "2022-08-24T16:16:16.729Z"
   },
   {
    "duration": 12,
    "start_time": "2022-08-24T16:16:16.775Z"
   },
   {
    "duration": 98,
    "start_time": "2022-08-24T16:16:16.789Z"
   },
   {
    "duration": 43,
    "start_time": "2022-08-24T16:16:16.888Z"
   },
   {
    "duration": 23,
    "start_time": "2022-08-24T16:16:16.933Z"
   },
   {
    "duration": 35,
    "start_time": "2022-08-24T16:16:16.958Z"
   },
   {
    "duration": 17,
    "start_time": "2022-08-24T16:16:16.995Z"
   },
   {
    "duration": 36,
    "start_time": "2022-08-24T16:16:17.013Z"
   },
   {
    "duration": 50,
    "start_time": "2022-08-24T16:16:17.051Z"
   },
   {
    "duration": 16,
    "start_time": "2022-08-24T16:16:17.103Z"
   },
   {
    "duration": 22,
    "start_time": "2022-08-24T16:16:17.121Z"
   },
   {
    "duration": 61,
    "start_time": "2022-08-24T16:16:17.144Z"
   },
   {
    "duration": 33,
    "start_time": "2022-08-24T16:16:17.207Z"
   },
   {
    "duration": 17,
    "start_time": "2022-08-24T16:16:17.241Z"
   },
   {
    "duration": 32,
    "start_time": "2022-08-24T16:16:17.260Z"
   },
   {
    "duration": 15,
    "start_time": "2022-08-24T16:16:17.294Z"
   },
   {
    "duration": 31,
    "start_time": "2022-08-24T16:16:17.314Z"
   },
   {
    "duration": 18,
    "start_time": "2022-08-24T16:16:17.347Z"
   },
   {
    "duration": 32,
    "start_time": "2022-08-24T16:16:17.387Z"
   },
   {
    "duration": 23,
    "start_time": "2022-08-24T16:16:17.420Z"
   },
   {
    "duration": 21,
    "start_time": "2022-08-24T16:16:17.444Z"
   },
   {
    "duration": 26,
    "start_time": "2022-08-24T16:16:17.467Z"
   },
   {
    "duration": 30,
    "start_time": "2022-08-24T16:16:17.495Z"
   },
   {
    "duration": 20,
    "start_time": "2022-08-24T16:16:17.527Z"
   },
   {
    "duration": 38,
    "start_time": "2022-08-24T16:16:17.549Z"
   },
   {
    "duration": 23,
    "start_time": "2022-08-24T16:16:17.589Z"
   },
   {
    "duration": 21,
    "start_time": "2022-08-24T16:16:17.614Z"
   },
   {
    "duration": 17,
    "start_time": "2022-08-24T16:16:17.636Z"
   },
   {
    "duration": 382,
    "start_time": "2022-08-24T16:16:17.655Z"
   },
   {
    "duration": 48,
    "start_time": "2022-08-24T16:16:18.039Z"
   },
   {
    "duration": 17,
    "start_time": "2022-08-24T16:16:18.088Z"
   },
   {
    "duration": 419,
    "start_time": "2022-08-24T16:16:18.107Z"
   },
   {
    "duration": 159,
    "start_time": "2022-08-24T16:16:18.528Z"
   },
   {
    "duration": 25,
    "start_time": "2022-08-24T16:16:18.688Z"
   },
   {
    "duration": 257,
    "start_time": "2022-08-24T16:16:18.715Z"
   },
   {
    "duration": 156,
    "start_time": "2022-08-24T16:16:18.974Z"
   },
   {
    "duration": 8,
    "start_time": "2022-08-24T16:16:19.132Z"
   },
   {
    "duration": 14,
    "start_time": "2022-08-24T16:16:19.142Z"
   },
   {
    "duration": 270,
    "start_time": "2022-08-24T16:16:19.157Z"
   },
   {
    "duration": 167,
    "start_time": "2022-08-24T16:16:19.428Z"
   },
   {
    "duration": 27,
    "start_time": "2022-08-24T16:16:19.597Z"
   },
   {
    "duration": 249,
    "start_time": "2022-08-24T16:16:19.626Z"
   },
   {
    "duration": 165,
    "start_time": "2022-08-24T16:16:19.876Z"
   },
   {
    "duration": 31,
    "start_time": "2022-08-24T16:16:20.043Z"
   },
   {
    "duration": 231,
    "start_time": "2022-08-24T16:16:20.086Z"
   },
   {
    "duration": 148,
    "start_time": "2022-08-24T16:16:20.319Z"
   },
   {
    "duration": 7,
    "start_time": "2022-08-24T16:16:20.469Z"
   },
   {
    "duration": 213,
    "start_time": "2022-08-24T16:16:20.487Z"
   },
   {
    "duration": 319,
    "start_time": "2022-08-24T16:16:20.702Z"
   },
   {
    "duration": 9,
    "start_time": "2022-08-24T16:16:21.023Z"
   },
   {
    "duration": 27,
    "start_time": "2022-08-24T16:16:21.033Z"
   },
   {
    "duration": 34,
    "start_time": "2022-08-24T16:16:21.063Z"
   },
   {
    "duration": 263,
    "start_time": "2022-08-24T16:16:21.099Z"
   },
   {
    "duration": 167,
    "start_time": "2022-08-24T16:16:21.364Z"
   },
   {
    "duration": 70,
    "start_time": "2022-08-24T16:16:21.533Z"
   },
   {
    "duration": 129,
    "start_time": "2022-08-24T16:16:21.605Z"
   },
   {
    "duration": 151,
    "start_time": "2022-08-24T16:16:21.736Z"
   },
   {
    "duration": 110,
    "start_time": "2022-08-24T16:16:21.889Z"
   },
   {
    "duration": 4,
    "start_time": "2022-08-24T16:16:22.001Z"
   },
   {
    "duration": 312,
    "start_time": "2022-08-24T16:16:22.007Z"
   },
   {
    "duration": 0,
    "start_time": "2022-08-24T16:16:22.321Z"
   },
   {
    "duration": 0,
    "start_time": "2022-08-24T16:16:22.323Z"
   },
   {
    "duration": 0,
    "start_time": "2022-08-24T16:16:22.324Z"
   },
   {
    "duration": 0,
    "start_time": "2022-08-24T16:16:22.326Z"
   },
   {
    "duration": 0,
    "start_time": "2022-08-24T16:16:22.327Z"
   },
   {
    "duration": 0,
    "start_time": "2022-08-24T16:16:22.329Z"
   },
   {
    "duration": 0,
    "start_time": "2022-08-24T16:16:22.330Z"
   },
   {
    "duration": 0,
    "start_time": "2022-08-24T16:16:22.332Z"
   },
   {
    "duration": 1,
    "start_time": "2022-08-24T16:16:22.333Z"
   },
   {
    "duration": 0,
    "start_time": "2022-08-24T16:16:22.335Z"
   },
   {
    "duration": 0,
    "start_time": "2022-08-24T16:16:22.336Z"
   },
   {
    "duration": 0,
    "start_time": "2022-08-24T16:16:22.338Z"
   },
   {
    "duration": 0,
    "start_time": "2022-08-24T16:16:22.339Z"
   },
   {
    "duration": 0,
    "start_time": "2022-08-24T16:16:22.341Z"
   },
   {
    "duration": 0,
    "start_time": "2022-08-24T16:16:22.343Z"
   },
   {
    "duration": 0,
    "start_time": "2022-08-24T16:16:22.344Z"
   },
   {
    "duration": 0,
    "start_time": "2022-08-24T16:16:22.345Z"
   },
   {
    "duration": 0,
    "start_time": "2022-08-24T16:16:22.347Z"
   },
   {
    "duration": 0,
    "start_time": "2022-08-24T16:16:22.348Z"
   },
   {
    "duration": 0,
    "start_time": "2022-08-24T16:16:22.349Z"
   },
   {
    "duration": 0,
    "start_time": "2022-08-24T16:16:22.350Z"
   },
   {
    "duration": 0,
    "start_time": "2022-08-24T16:16:22.351Z"
   },
   {
    "duration": 0,
    "start_time": "2022-08-24T16:16:22.352Z"
   },
   {
    "duration": 5,
    "start_time": "2022-08-24T16:17:07.287Z"
   },
   {
    "duration": 7,
    "start_time": "2022-08-24T16:17:08.003Z"
   },
   {
    "duration": 3,
    "start_time": "2022-08-24T16:17:08.529Z"
   },
   {
    "duration": 3,
    "start_time": "2022-08-24T16:17:09.102Z"
   },
   {
    "duration": 813,
    "start_time": "2022-08-24T16:17:11.474Z"
   },
   {
    "duration": 15,
    "start_time": "2022-08-24T16:17:13.815Z"
   },
   {
    "duration": 14,
    "start_time": "2022-08-24T16:17:14.610Z"
   },
   {
    "duration": 1716,
    "start_time": "2022-08-24T19:14:27.016Z"
   },
   {
    "duration": 1094,
    "start_time": "2022-08-24T19:14:28.738Z"
   },
   {
    "duration": 19,
    "start_time": "2022-08-24T19:14:29.834Z"
   },
   {
    "duration": 5,
    "start_time": "2022-08-24T19:14:29.855Z"
   },
   {
    "duration": 115,
    "start_time": "2022-08-24T19:14:29.861Z"
   },
   {
    "duration": 127,
    "start_time": "2022-08-24T19:14:29.978Z"
   },
   {
    "duration": 23,
    "start_time": "2022-08-24T19:14:30.107Z"
   },
   {
    "duration": 56,
    "start_time": "2022-08-24T19:14:30.132Z"
   },
   {
    "duration": 57,
    "start_time": "2022-08-24T19:14:30.191Z"
   },
   {
    "duration": 5,
    "start_time": "2022-08-24T19:14:30.250Z"
   },
   {
    "duration": 18,
    "start_time": "2022-08-24T19:14:30.256Z"
   },
   {
    "duration": 52,
    "start_time": "2022-08-24T19:14:30.275Z"
   },
   {
    "duration": 10,
    "start_time": "2022-08-24T19:14:30.328Z"
   },
   {
    "duration": 76,
    "start_time": "2022-08-24T19:14:30.340Z"
   },
   {
    "duration": 52,
    "start_time": "2022-08-24T19:14:30.417Z"
   },
   {
    "duration": 50,
    "start_time": "2022-08-24T19:14:30.471Z"
   },
   {
    "duration": 21,
    "start_time": "2022-08-24T19:14:30.522Z"
   },
   {
    "duration": 25,
    "start_time": "2022-08-24T19:14:30.544Z"
   },
   {
    "duration": 36,
    "start_time": "2022-08-24T19:14:30.570Z"
   },
   {
    "duration": 31,
    "start_time": "2022-08-24T19:14:30.608Z"
   },
   {
    "duration": 22,
    "start_time": "2022-08-24T19:14:30.641Z"
   },
   {
    "duration": 49,
    "start_time": "2022-08-24T19:14:30.664Z"
   },
   {
    "duration": 47,
    "start_time": "2022-08-24T19:14:30.714Z"
   },
   {
    "duration": 32,
    "start_time": "2022-08-24T19:14:30.762Z"
   },
   {
    "duration": 18,
    "start_time": "2022-08-24T19:14:30.796Z"
   },
   {
    "duration": 18,
    "start_time": "2022-08-24T19:14:30.816Z"
   },
   {
    "duration": 28,
    "start_time": "2022-08-24T19:14:30.836Z"
   },
   {
    "duration": 39,
    "start_time": "2022-08-24T19:14:30.868Z"
   },
   {
    "duration": 22,
    "start_time": "2022-08-24T19:14:30.909Z"
   },
   {
    "duration": 33,
    "start_time": "2022-08-24T19:14:30.932Z"
   },
   {
    "duration": 13,
    "start_time": "2022-08-24T19:14:30.967Z"
   },
   {
    "duration": 31,
    "start_time": "2022-08-24T19:14:30.981Z"
   },
   {
    "duration": 14,
    "start_time": "2022-08-24T19:14:31.014Z"
   },
   {
    "duration": 38,
    "start_time": "2022-08-24T19:14:31.029Z"
   },
   {
    "duration": 58,
    "start_time": "2022-08-24T19:14:31.069Z"
   },
   {
    "duration": 25,
    "start_time": "2022-08-24T19:14:31.129Z"
   },
   {
    "duration": 19,
    "start_time": "2022-08-24T19:14:31.155Z"
   },
   {
    "duration": 17,
    "start_time": "2022-08-24T19:14:31.176Z"
   },
   {
    "duration": 39,
    "start_time": "2022-08-24T19:14:31.195Z"
   },
   {
    "duration": 337,
    "start_time": "2022-08-24T19:14:31.236Z"
   },
   {
    "duration": 40,
    "start_time": "2022-08-24T19:14:31.575Z"
   },
   {
    "duration": 14,
    "start_time": "2022-08-24T19:14:31.617Z"
   },
   {
    "duration": 381,
    "start_time": "2022-08-24T19:14:31.633Z"
   },
   {
    "duration": 154,
    "start_time": "2022-08-24T19:14:32.015Z"
   },
   {
    "duration": 29,
    "start_time": "2022-08-24T19:14:32.170Z"
   },
   {
    "duration": 245,
    "start_time": "2022-08-24T19:14:32.200Z"
   },
   {
    "duration": 191,
    "start_time": "2022-08-24T19:14:32.446Z"
   },
   {
    "duration": 10,
    "start_time": "2022-08-24T19:14:32.638Z"
   },
   {
    "duration": 25,
    "start_time": "2022-08-24T19:14:32.650Z"
   },
   {
    "duration": 288,
    "start_time": "2022-08-24T19:14:32.678Z"
   },
   {
    "duration": 170,
    "start_time": "2022-08-24T19:14:32.968Z"
   },
   {
    "duration": 30,
    "start_time": "2022-08-24T19:14:33.140Z"
   },
   {
    "duration": 242,
    "start_time": "2022-08-24T19:14:33.172Z"
   },
   {
    "duration": 173,
    "start_time": "2022-08-24T19:14:33.415Z"
   },
   {
    "duration": 32,
    "start_time": "2022-08-24T19:14:33.590Z"
   },
   {
    "duration": 237,
    "start_time": "2022-08-24T19:14:33.623Z"
   },
   {
    "duration": 161,
    "start_time": "2022-08-24T19:14:33.861Z"
   },
   {
    "duration": 8,
    "start_time": "2022-08-24T19:14:34.025Z"
   },
   {
    "duration": 232,
    "start_time": "2022-08-24T19:14:34.035Z"
   },
   {
    "duration": 303,
    "start_time": "2022-08-24T19:14:34.269Z"
   },
   {
    "duration": 8,
    "start_time": "2022-08-24T19:14:34.573Z"
   },
   {
    "duration": 34,
    "start_time": "2022-08-24T19:14:34.583Z"
   },
   {
    "duration": 14,
    "start_time": "2022-08-24T19:14:34.619Z"
   },
   {
    "duration": 260,
    "start_time": "2022-08-24T19:14:34.635Z"
   },
   {
    "duration": 181,
    "start_time": "2022-08-24T19:14:34.896Z"
   },
   {
    "duration": 64,
    "start_time": "2022-08-24T19:14:35.078Z"
   },
   {
    "duration": 125,
    "start_time": "2022-08-24T19:14:35.143Z"
   },
   {
    "duration": 133,
    "start_time": "2022-08-24T19:14:35.270Z"
   },
   {
    "duration": 125,
    "start_time": "2022-08-24T19:14:35.405Z"
   },
   {
    "duration": 3,
    "start_time": "2022-08-24T19:14:35.532Z"
   },
   {
    "duration": 7,
    "start_time": "2022-08-24T19:14:35.536Z"
   },
   {
    "duration": 11,
    "start_time": "2022-08-24T19:14:35.544Z"
   },
   {
    "duration": 5,
    "start_time": "2022-08-24T19:14:35.557Z"
   },
   {
    "duration": 12,
    "start_time": "2022-08-24T19:14:35.563Z"
   },
   {
    "duration": 706,
    "start_time": "2022-08-24T19:14:35.576Z"
   },
   {
    "duration": 16,
    "start_time": "2022-08-24T19:14:36.284Z"
   },
   {
    "duration": 22,
    "start_time": "2022-08-24T19:14:36.302Z"
   },
   {
    "duration": 63,
    "start_time": "2022-08-24T19:14:36.326Z"
   },
   {
    "duration": 0,
    "start_time": "2022-08-24T19:14:36.392Z"
   },
   {
    "duration": 0,
    "start_time": "2022-08-24T19:14:36.393Z"
   },
   {
    "duration": 0,
    "start_time": "2022-08-24T19:14:36.394Z"
   },
   {
    "duration": 0,
    "start_time": "2022-08-24T19:14:36.396Z"
   },
   {
    "duration": 0,
    "start_time": "2022-08-24T19:14:36.397Z"
   },
   {
    "duration": 0,
    "start_time": "2022-08-24T19:14:36.398Z"
   },
   {
    "duration": 0,
    "start_time": "2022-08-24T19:14:36.399Z"
   },
   {
    "duration": 0,
    "start_time": "2022-08-24T19:14:36.400Z"
   },
   {
    "duration": 0,
    "start_time": "2022-08-24T19:14:36.400Z"
   },
   {
    "duration": 0,
    "start_time": "2022-08-24T19:14:36.402Z"
   },
   {
    "duration": 0,
    "start_time": "2022-08-24T19:14:36.403Z"
   },
   {
    "duration": 0,
    "start_time": "2022-08-24T19:14:36.404Z"
   },
   {
    "duration": 0,
    "start_time": "2022-08-24T19:14:36.405Z"
   },
   {
    "duration": 0,
    "start_time": "2022-08-24T19:14:36.406Z"
   },
   {
    "duration": 0,
    "start_time": "2022-08-24T19:14:36.407Z"
   },
   {
    "duration": 0,
    "start_time": "2022-08-24T19:14:36.408Z"
   },
   {
    "duration": 4,
    "start_time": "2022-08-24T19:21:55.648Z"
   },
   {
    "duration": 7,
    "start_time": "2022-08-24T19:21:56.371Z"
   },
   {
    "duration": 3,
    "start_time": "2022-08-24T19:22:16.935Z"
   },
   {
    "duration": 382,
    "start_time": "2022-08-24T19:22:59.863Z"
   },
   {
    "duration": 4,
    "start_time": "2022-08-24T19:23:02.778Z"
   },
   {
    "duration": 13242,
    "start_time": "2022-08-24T21:16:48.608Z"
   },
   {
    "duration": 9,
    "start_time": "2022-08-24T21:20:00.143Z"
   },
   {
    "duration": 3,
    "start_time": "2022-08-24T21:20:19.689Z"
   },
   {
    "duration": 10,
    "start_time": "2022-08-24T21:20:24.835Z"
   },
   {
    "duration": 51269,
    "start_time": "2022-08-24T21:21:33.344Z"
   },
   {
    "duration": 49653,
    "start_time": "2022-08-24T21:36:23.258Z"
   },
   {
    "duration": 49432,
    "start_time": "2022-08-24T21:37:36.381Z"
   },
   {
    "duration": 11945,
    "start_time": "2022-08-24T21:44:19.070Z"
   },
   {
    "duration": 52219,
    "start_time": "2022-08-24T21:44:53.719Z"
   },
   {
    "duration": 101,
    "start_time": "2022-08-24T21:45:46.012Z"
   },
   {
    "duration": 254,
    "start_time": "2022-08-24T21:46:12.484Z"
   },
   {
    "duration": 3,
    "start_time": "2022-08-24T21:46:14.713Z"
   },
   {
    "duration": 13,
    "start_time": "2022-08-24T21:46:23.476Z"
   },
   {
    "duration": 12048,
    "start_time": "2022-08-24T21:46:37.702Z"
   },
   {
    "duration": 49800,
    "start_time": "2022-08-24T21:46:49.815Z"
   },
   {
    "duration": 18,
    "start_time": "2022-08-24T21:51:29.167Z"
   },
   {
    "duration": 13,
    "start_time": "2022-08-24T21:51:58.844Z"
   },
   {
    "duration": 13,
    "start_time": "2022-08-24T21:52:00.104Z"
   },
   {
    "duration": 51779,
    "start_time": "2022-08-24T21:52:01.833Z"
   },
   {
    "duration": 440,
    "start_time": "2022-08-24T21:53:05.050Z"
   },
   {
    "duration": 44,
    "start_time": "2022-08-24T21:58:02.686Z"
   },
   {
    "duration": 49968,
    "start_time": "2022-08-24T21:58:11.891Z"
   },
   {
    "duration": 23099,
    "start_time": "2022-08-24T21:59:30.502Z"
   },
   {
    "duration": 0,
    "start_time": "2022-08-24T21:59:53.610Z"
   },
   {
    "duration": 0,
    "start_time": "2022-08-24T21:59:53.611Z"
   },
   {
    "duration": 0,
    "start_time": "2022-08-24T21:59:53.612Z"
   },
   {
    "duration": 4,
    "start_time": "2022-08-24T21:59:57.447Z"
   },
   {
    "duration": 5,
    "start_time": "2022-08-24T21:59:57.887Z"
   },
   {
    "duration": 3,
    "start_time": "2022-08-24T21:59:58.374Z"
   },
   {
    "duration": 0,
    "start_time": "2022-08-24T22:00:44.024Z"
   },
   {
    "duration": 48962,
    "start_time": "2022-08-24T22:00:45.949Z"
   },
   {
    "duration": 47481,
    "start_time": "2022-08-24T22:07:30.643Z"
   },
   {
    "duration": 47961,
    "start_time": "2022-08-24T22:09:18.750Z"
   },
   {
    "duration": 47981,
    "start_time": "2022-08-24T22:10:19.522Z"
   },
   {
    "duration": 4,
    "start_time": "2022-08-24T22:13:49.441Z"
   },
   {
    "duration": 6,
    "start_time": "2022-08-24T22:13:49.692Z"
   },
   {
    "duration": 52,
    "start_time": "2022-08-24T22:14:00.360Z"
   },
   {
    "duration": 3,
    "start_time": "2022-08-24T22:14:05.326Z"
   },
   {
    "duration": 3,
    "start_time": "2022-08-24T22:14:12.427Z"
   },
   {
    "duration": 47419,
    "start_time": "2022-08-24T22:15:29.757Z"
   },
   {
    "duration": 782693,
    "start_time": "2022-08-24T22:22:12.801Z"
   },
   {
    "duration": 326740,
    "start_time": "2022-08-24T22:36:02.266Z"
   },
   {
    "duration": 826344,
    "start_time": "2022-08-24T22:41:36.795Z"
   },
   {
    "duration": 30030,
    "start_time": "2022-08-24T22:55:31.229Z"
   },
   {
    "duration": 27,
    "start_time": "2022-08-24T22:56:08.304Z"
   },
   {
    "duration": 9,
    "start_time": "2022-08-24T22:56:29.096Z"
   },
   {
    "duration": 97045,
    "start_time": "2022-08-24T22:57:19.696Z"
   },
   {
    "duration": 239056,
    "start_time": "2022-08-24T22:59:30.663Z"
   },
   {
    "duration": 242684,
    "start_time": "2022-08-24T23:03:35.273Z"
   },
   {
    "duration": 68,
    "start_time": "2022-08-24T23:12:59.862Z"
   },
   {
    "duration": 66,
    "start_time": "2022-08-24T23:13:10.030Z"
   },
   {
    "duration": 44,
    "start_time": "2022-08-24T23:13:14.370Z"
   },
   {
    "duration": 10196,
    "start_time": "2022-08-24T23:13:24.227Z"
   },
   {
    "duration": 10391,
    "start_time": "2022-08-24T23:13:49.037Z"
   },
   {
    "duration": 759454,
    "start_time": "2022-08-24T23:14:10.674Z"
   },
   {
    "duration": 420087,
    "start_time": "2022-08-24T23:27:01.831Z"
   },
   {
    "duration": 441134,
    "start_time": "2022-08-24T23:34:38.283Z"
   },
   {
    "duration": 262972,
    "start_time": "2022-08-24T23:52:49.158Z"
   },
   {
    "duration": 458156,
    "start_time": "2022-08-24T23:57:20.760Z"
   },
   {
    "duration": 48,
    "start_time": "2022-08-25T00:05:24.490Z"
   },
   {
    "duration": 13,
    "start_time": "2022-08-25T00:05:48.744Z"
   },
   {
    "duration": 28,
    "start_time": "2022-08-25T00:06:04.249Z"
   },
   {
    "duration": 28,
    "start_time": "2022-08-25T00:06:26.872Z"
   },
   {
    "duration": 200424,
    "start_time": "2022-08-25T00:07:38.242Z"
   },
   {
    "duration": 45,
    "start_time": "2022-08-25T00:11:14.059Z"
   },
   {
    "duration": 308746,
    "start_time": "2022-08-25T00:11:17.925Z"
   },
   {
    "duration": 49301,
    "start_time": "2022-08-25T00:18:35.818Z"
   },
   {
    "duration": 3,
    "start_time": "2022-08-25T00:20:39.727Z"
   },
   {
    "duration": 8,
    "start_time": "2022-08-25T00:20:40.397Z"
   },
   {
    "duration": 3,
    "start_time": "2022-08-25T00:20:44.112Z"
   },
   {
    "duration": 243,
    "start_time": "2022-08-25T00:20:45.871Z"
   },
   {
    "duration": 230,
    "start_time": "2022-08-25T00:21:01.987Z"
   },
   {
    "duration": 8351,
    "start_time": "2022-08-25T00:29:35.966Z"
   },
   {
    "duration": 8607,
    "start_time": "2022-08-25T00:30:57.330Z"
   },
   {
    "duration": 11,
    "start_time": "2022-08-25T00:35:54.124Z"
   },
   {
    "duration": 1714,
    "start_time": "2022-08-25T09:11:14.591Z"
   },
   {
    "duration": 1108,
    "start_time": "2022-08-25T09:11:16.307Z"
   },
   {
    "duration": 26,
    "start_time": "2022-08-25T09:11:17.417Z"
   },
   {
    "duration": 4,
    "start_time": "2022-08-25T09:11:17.446Z"
   },
   {
    "duration": 121,
    "start_time": "2022-08-25T09:11:17.451Z"
   },
   {
    "duration": 106,
    "start_time": "2022-08-25T09:11:17.574Z"
   },
   {
    "duration": 30,
    "start_time": "2022-08-25T09:11:17.682Z"
   },
   {
    "duration": 30,
    "start_time": "2022-08-25T09:11:17.714Z"
   },
   {
    "duration": 18,
    "start_time": "2022-08-25T09:11:17.746Z"
   },
   {
    "duration": 5,
    "start_time": "2022-08-25T09:11:17.767Z"
   },
   {
    "duration": 19,
    "start_time": "2022-08-25T09:11:17.773Z"
   },
   {
    "duration": 33,
    "start_time": "2022-08-25T09:11:17.800Z"
   },
   {
    "duration": 11,
    "start_time": "2022-08-25T09:11:17.835Z"
   },
   {
    "duration": 114,
    "start_time": "2022-08-25T09:11:17.848Z"
   },
   {
    "duration": 37,
    "start_time": "2022-08-25T09:11:17.964Z"
   },
   {
    "duration": 15,
    "start_time": "2022-08-25T09:11:18.002Z"
   },
   {
    "duration": 18,
    "start_time": "2022-08-25T09:11:18.019Z"
   },
   {
    "duration": 14,
    "start_time": "2022-08-25T09:11:18.039Z"
   },
   {
    "duration": 56,
    "start_time": "2022-08-25T09:11:18.054Z"
   },
   {
    "duration": 29,
    "start_time": "2022-08-25T09:11:18.112Z"
   },
   {
    "duration": 17,
    "start_time": "2022-08-25T09:11:18.144Z"
   },
   {
    "duration": 22,
    "start_time": "2022-08-25T09:11:18.162Z"
   },
   {
    "duration": 47,
    "start_time": "2022-08-25T09:11:18.200Z"
   },
   {
    "duration": 29,
    "start_time": "2022-08-25T09:11:18.249Z"
   },
   {
    "duration": 17,
    "start_time": "2022-08-25T09:11:18.300Z"
   },
   {
    "duration": 30,
    "start_time": "2022-08-25T09:11:18.318Z"
   },
   {
    "duration": 18,
    "start_time": "2022-08-25T09:11:18.349Z"
   },
   {
    "duration": 31,
    "start_time": "2022-08-25T09:11:18.372Z"
   },
   {
    "duration": 18,
    "start_time": "2022-08-25T09:11:18.405Z"
   },
   {
    "duration": 26,
    "start_time": "2022-08-25T09:11:18.424Z"
   },
   {
    "duration": 28,
    "start_time": "2022-08-25T09:11:18.453Z"
   },
   {
    "duration": 44,
    "start_time": "2022-08-25T09:11:18.483Z"
   },
   {
    "duration": 17,
    "start_time": "2022-08-25T09:11:18.530Z"
   },
   {
    "duration": 30,
    "start_time": "2022-08-25T09:11:18.548Z"
   },
   {
    "duration": 32,
    "start_time": "2022-08-25T09:11:18.580Z"
   },
   {
    "duration": 43,
    "start_time": "2022-08-25T09:11:18.615Z"
   },
   {
    "duration": 20,
    "start_time": "2022-08-25T09:11:18.661Z"
   },
   {
    "duration": 17,
    "start_time": "2022-08-25T09:11:18.683Z"
   },
   {
    "duration": 22,
    "start_time": "2022-08-25T09:11:18.702Z"
   },
   {
    "duration": 387,
    "start_time": "2022-08-25T09:11:18.726Z"
   },
   {
    "duration": 47,
    "start_time": "2022-08-25T09:11:19.115Z"
   },
   {
    "duration": 15,
    "start_time": "2022-08-25T09:11:19.164Z"
   },
   {
    "duration": 448,
    "start_time": "2022-08-25T09:11:19.181Z"
   },
   {
    "duration": 152,
    "start_time": "2022-08-25T09:11:19.631Z"
   },
   {
    "duration": 34,
    "start_time": "2022-08-25T09:11:19.785Z"
   },
   {
    "duration": 257,
    "start_time": "2022-08-25T09:11:19.821Z"
   },
   {
    "duration": 186,
    "start_time": "2022-08-25T09:11:20.081Z"
   },
   {
    "duration": 9,
    "start_time": "2022-08-25T09:11:20.268Z"
   },
   {
    "duration": 28,
    "start_time": "2022-08-25T09:11:20.278Z"
   },
   {
    "duration": 254,
    "start_time": "2022-08-25T09:11:20.308Z"
   },
   {
    "duration": 160,
    "start_time": "2022-08-25T09:11:20.564Z"
   },
   {
    "duration": 25,
    "start_time": "2022-08-25T09:11:20.726Z"
   },
   {
    "duration": 267,
    "start_time": "2022-08-25T09:11:20.753Z"
   },
   {
    "duration": 164,
    "start_time": "2022-08-25T09:11:21.022Z"
   },
   {
    "duration": 37,
    "start_time": "2022-08-25T09:11:21.188Z"
   },
   {
    "duration": 257,
    "start_time": "2022-08-25T09:11:21.227Z"
   },
   {
    "duration": 178,
    "start_time": "2022-08-25T09:11:21.486Z"
   },
   {
    "duration": 7,
    "start_time": "2022-08-25T09:11:21.666Z"
   },
   {
    "duration": 224,
    "start_time": "2022-08-25T09:11:21.675Z"
   },
   {
    "duration": 349,
    "start_time": "2022-08-25T09:11:21.900Z"
   },
   {
    "duration": 8,
    "start_time": "2022-08-25T09:11:22.251Z"
   },
   {
    "duration": 41,
    "start_time": "2022-08-25T09:11:22.260Z"
   },
   {
    "duration": 15,
    "start_time": "2022-08-25T09:11:22.302Z"
   },
   {
    "duration": 313,
    "start_time": "2022-08-25T09:11:22.319Z"
   },
   {
    "duration": 169,
    "start_time": "2022-08-25T09:11:22.634Z"
   },
   {
    "duration": 58,
    "start_time": "2022-08-25T09:11:22.804Z"
   },
   {
    "duration": 142,
    "start_time": "2022-08-25T09:11:22.864Z"
   },
   {
    "duration": 146,
    "start_time": "2022-08-25T09:11:23.008Z"
   },
   {
    "duration": 106,
    "start_time": "2022-08-25T09:11:23.156Z"
   },
   {
    "duration": 4,
    "start_time": "2022-08-25T09:11:23.263Z"
   },
   {
    "duration": 11,
    "start_time": "2022-08-25T09:11:23.269Z"
   },
   {
    "duration": 8,
    "start_time": "2022-08-25T09:11:23.282Z"
   },
   {
    "duration": 10,
    "start_time": "2022-08-25T09:11:23.292Z"
   },
   {
    "duration": 895,
    "start_time": "2022-08-25T09:11:23.303Z"
   },
   {
    "duration": 14,
    "start_time": "2022-08-25T09:11:24.199Z"
   },
   {
    "duration": 18,
    "start_time": "2022-08-25T09:11:24.215Z"
   },
   {
    "duration": 437,
    "start_time": "2022-08-25T09:11:24.235Z"
   },
   {
    "duration": 86,
    "start_time": "2022-08-25T09:11:24.674Z"
   },
   {
    "duration": 0,
    "start_time": "2022-08-25T09:11:24.762Z"
   },
   {
    "duration": 0,
    "start_time": "2022-08-25T09:11:24.763Z"
   },
   {
    "duration": 0,
    "start_time": "2022-08-25T09:11:24.764Z"
   },
   {
    "duration": 0,
    "start_time": "2022-08-25T09:11:24.765Z"
   },
   {
    "duration": 0,
    "start_time": "2022-08-25T09:11:24.766Z"
   },
   {
    "duration": 0,
    "start_time": "2022-08-25T09:11:24.767Z"
   },
   {
    "duration": 0,
    "start_time": "2022-08-25T09:11:24.768Z"
   },
   {
    "duration": 0,
    "start_time": "2022-08-25T09:11:24.769Z"
   },
   {
    "duration": 0,
    "start_time": "2022-08-25T09:11:24.770Z"
   },
   {
    "duration": 0,
    "start_time": "2022-08-25T09:11:24.771Z"
   },
   {
    "duration": 4,
    "start_time": "2022-08-25T09:11:32.536Z"
   },
   {
    "duration": 122025,
    "start_time": "2022-08-25T09:12:58.993Z"
   },
   {
    "duration": 1601,
    "start_time": "2022-08-25T10:23:03.837Z"
   },
   {
    "duration": 908,
    "start_time": "2022-08-25T10:23:05.440Z"
   },
   {
    "duration": 20,
    "start_time": "2022-08-25T10:23:06.350Z"
   },
   {
    "duration": 18,
    "start_time": "2022-08-25T10:23:06.373Z"
   },
   {
    "duration": 163,
    "start_time": "2022-08-25T10:23:06.393Z"
   },
   {
    "duration": 108,
    "start_time": "2022-08-25T10:23:06.558Z"
   },
   {
    "duration": 35,
    "start_time": "2022-08-25T10:23:06.668Z"
   },
   {
    "duration": 51,
    "start_time": "2022-08-25T10:23:06.705Z"
   },
   {
    "duration": 25,
    "start_time": "2022-08-25T10:23:06.759Z"
   },
   {
    "duration": 49,
    "start_time": "2022-08-25T10:23:06.788Z"
   },
   {
    "duration": 19,
    "start_time": "2022-08-25T10:23:06.839Z"
   },
   {
    "duration": 67,
    "start_time": "2022-08-25T10:23:06.861Z"
   },
   {
    "duration": 10,
    "start_time": "2022-08-25T10:23:06.930Z"
   },
   {
    "duration": 90,
    "start_time": "2022-08-25T10:23:06.942Z"
   },
   {
    "duration": 29,
    "start_time": "2022-08-25T10:23:07.035Z"
   },
   {
    "duration": 35,
    "start_time": "2022-08-25T10:23:07.066Z"
   },
   {
    "duration": 58,
    "start_time": "2022-08-25T10:23:07.104Z"
   },
   {
    "duration": 17,
    "start_time": "2022-08-25T10:23:07.165Z"
   },
   {
    "duration": 48,
    "start_time": "2022-08-25T10:23:07.184Z"
   },
   {
    "duration": 45,
    "start_time": "2022-08-25T10:23:07.234Z"
   },
   {
    "duration": 24,
    "start_time": "2022-08-25T10:23:07.281Z"
   },
   {
    "duration": 79,
    "start_time": "2022-08-25T10:23:07.307Z"
   },
   {
    "duration": 73,
    "start_time": "2022-08-25T10:23:07.389Z"
   },
   {
    "duration": 32,
    "start_time": "2022-08-25T10:23:07.464Z"
   },
   {
    "duration": 32,
    "start_time": "2022-08-25T10:23:07.500Z"
   },
   {
    "duration": 43,
    "start_time": "2022-08-25T10:23:07.534Z"
   },
   {
    "duration": 28,
    "start_time": "2022-08-25T10:23:07.580Z"
   },
   {
    "duration": 42,
    "start_time": "2022-08-25T10:23:07.616Z"
   },
   {
    "duration": 26,
    "start_time": "2022-08-25T10:23:07.660Z"
   },
   {
    "duration": 53,
    "start_time": "2022-08-25T10:23:07.688Z"
   },
   {
    "duration": 17,
    "start_time": "2022-08-25T10:23:07.743Z"
   },
   {
    "duration": 27,
    "start_time": "2022-08-25T10:23:07.762Z"
   },
   {
    "duration": 21,
    "start_time": "2022-08-25T10:23:07.791Z"
   },
   {
    "duration": 34,
    "start_time": "2022-08-25T10:23:07.814Z"
   },
   {
    "duration": 33,
    "start_time": "2022-08-25T10:23:07.851Z"
   },
   {
    "duration": 54,
    "start_time": "2022-08-25T10:23:07.886Z"
   },
   {
    "duration": 19,
    "start_time": "2022-08-25T10:23:07.943Z"
   },
   {
    "duration": 17,
    "start_time": "2022-08-25T10:23:07.964Z"
   },
   {
    "duration": 35,
    "start_time": "2022-08-25T10:23:07.982Z"
   },
   {
    "duration": 424,
    "start_time": "2022-08-25T10:23:08.020Z"
   },
   {
    "duration": 35,
    "start_time": "2022-08-25T10:23:08.445Z"
   },
   {
    "duration": 37,
    "start_time": "2022-08-25T10:23:08.482Z"
   },
   {
    "duration": 476,
    "start_time": "2022-08-25T10:23:08.521Z"
   },
   {
    "duration": 175,
    "start_time": "2022-08-25T10:23:08.999Z"
   },
   {
    "duration": 41,
    "start_time": "2022-08-25T10:23:09.175Z"
   },
   {
    "duration": 270,
    "start_time": "2022-08-25T10:23:09.220Z"
   },
   {
    "duration": 192,
    "start_time": "2022-08-25T10:23:09.491Z"
   },
   {
    "duration": 8,
    "start_time": "2022-08-25T10:23:09.685Z"
   },
   {
    "duration": 51,
    "start_time": "2022-08-25T10:23:09.695Z"
   },
   {
    "duration": 282,
    "start_time": "2022-08-25T10:23:09.747Z"
   },
   {
    "duration": 201,
    "start_time": "2022-08-25T10:23:10.034Z"
   },
   {
    "duration": 31,
    "start_time": "2022-08-25T10:23:10.238Z"
   },
   {
    "duration": 326,
    "start_time": "2022-08-25T10:23:10.271Z"
   },
   {
    "duration": 189,
    "start_time": "2022-08-25T10:23:10.599Z"
   },
   {
    "duration": 38,
    "start_time": "2022-08-25T10:23:10.790Z"
   },
   {
    "duration": 308,
    "start_time": "2022-08-25T10:23:10.831Z"
   },
   {
    "duration": 157,
    "start_time": "2022-08-25T10:23:11.141Z"
   },
   {
    "duration": 20,
    "start_time": "2022-08-25T10:23:11.299Z"
   },
   {
    "duration": 302,
    "start_time": "2022-08-25T10:23:11.322Z"
   },
   {
    "duration": 384,
    "start_time": "2022-08-25T10:23:11.628Z"
   },
   {
    "duration": 11,
    "start_time": "2022-08-25T10:23:12.014Z"
   },
   {
    "duration": 41,
    "start_time": "2022-08-25T10:23:12.026Z"
   },
   {
    "duration": 17,
    "start_time": "2022-08-25T10:23:12.069Z"
   },
   {
    "duration": 351,
    "start_time": "2022-08-25T10:23:12.088Z"
   },
   {
    "duration": 193,
    "start_time": "2022-08-25T10:23:12.441Z"
   },
   {
    "duration": 57,
    "start_time": "2022-08-25T10:23:12.636Z"
   },
   {
    "duration": 149,
    "start_time": "2022-08-25T10:23:12.694Z"
   },
   {
    "duration": 151,
    "start_time": "2022-08-25T10:23:12.845Z"
   },
   {
    "duration": 144,
    "start_time": "2022-08-25T10:23:12.999Z"
   },
   {
    "duration": 7,
    "start_time": "2022-08-25T10:23:13.145Z"
   },
   {
    "duration": 16,
    "start_time": "2022-08-25T10:23:13.154Z"
   },
   {
    "duration": 19,
    "start_time": "2022-08-25T10:23:13.172Z"
   },
   {
    "duration": 24,
    "start_time": "2022-08-25T10:23:13.193Z"
   },
   {
    "duration": 1066,
    "start_time": "2022-08-25T10:23:13.219Z"
   },
   {
    "duration": 14,
    "start_time": "2022-08-25T10:23:14.287Z"
   },
   {
    "duration": 37,
    "start_time": "2022-08-25T10:23:14.302Z"
   },
   {
    "duration": 799,
    "start_time": "2022-08-25T10:23:14.341Z"
   },
   {
    "duration": 4,
    "start_time": "2022-08-25T10:23:15.142Z"
   },
   {
    "duration": 120867,
    "start_time": "2022-08-25T10:23:15.148Z"
   },
   {
    "duration": 87,
    "start_time": "2022-08-25T10:25:16.020Z"
   },
   {
    "duration": 0,
    "start_time": "2022-08-25T10:25:16.110Z"
   },
   {
    "duration": 0,
    "start_time": "2022-08-25T10:25:16.111Z"
   },
   {
    "duration": 0,
    "start_time": "2022-08-25T10:25:16.113Z"
   },
   {
    "duration": 0,
    "start_time": "2022-08-25T10:25:16.114Z"
   },
   {
    "duration": 0,
    "start_time": "2022-08-25T10:25:16.115Z"
   },
   {
    "duration": 0,
    "start_time": "2022-08-25T10:25:16.120Z"
   },
   {
    "duration": 0,
    "start_time": "2022-08-25T10:25:16.123Z"
   },
   {
    "duration": 0,
    "start_time": "2022-08-25T10:25:16.125Z"
   },
   {
    "duration": 0,
    "start_time": "2022-08-25T10:25:16.131Z"
   },
   {
    "duration": 28556,
    "start_time": "2022-08-25T10:27:22.153Z"
   },
   {
    "duration": 133,
    "start_time": "2022-08-25T10:27:55.921Z"
   },
   {
    "duration": 180,
    "start_time": "2022-08-25T10:29:45.822Z"
   },
   {
    "duration": 13,
    "start_time": "2022-08-25T10:29:48.487Z"
   },
   {
    "duration": 1656,
    "start_time": "2022-08-25T11:12:26.917Z"
   },
   {
    "duration": 902,
    "start_time": "2022-08-25T11:12:28.576Z"
   },
   {
    "duration": 30,
    "start_time": "2022-08-25T11:12:29.480Z"
   },
   {
    "duration": 6,
    "start_time": "2022-08-25T11:12:29.512Z"
   },
   {
    "duration": 140,
    "start_time": "2022-08-25T11:12:29.520Z"
   },
   {
    "duration": 120,
    "start_time": "2022-08-25T11:12:29.662Z"
   },
   {
    "duration": 37,
    "start_time": "2022-08-25T11:12:29.784Z"
   },
   {
    "duration": 27,
    "start_time": "2022-08-25T11:12:29.823Z"
   },
   {
    "duration": 15,
    "start_time": "2022-08-25T11:12:29.852Z"
   },
   {
    "duration": 8,
    "start_time": "2022-08-25T11:12:29.868Z"
   },
   {
    "duration": 30,
    "start_time": "2022-08-25T11:12:29.878Z"
   },
   {
    "duration": 47,
    "start_time": "2022-08-25T11:12:29.910Z"
   },
   {
    "duration": 13,
    "start_time": "2022-08-25T11:12:29.959Z"
   },
   {
    "duration": 111,
    "start_time": "2022-08-25T11:12:29.976Z"
   },
   {
    "duration": 49,
    "start_time": "2022-08-25T11:12:30.089Z"
   },
   {
    "duration": 28,
    "start_time": "2022-08-25T11:12:30.140Z"
   },
   {
    "duration": 37,
    "start_time": "2022-08-25T11:12:30.171Z"
   },
   {
    "duration": 46,
    "start_time": "2022-08-25T11:12:30.211Z"
   },
   {
    "duration": 42,
    "start_time": "2022-08-25T11:12:30.259Z"
   },
   {
    "duration": 60,
    "start_time": "2022-08-25T11:12:30.303Z"
   },
   {
    "duration": 60,
    "start_time": "2022-08-25T11:12:30.366Z"
   },
   {
    "duration": 46,
    "start_time": "2022-08-25T11:12:30.428Z"
   },
   {
    "duration": 45,
    "start_time": "2022-08-25T11:12:30.475Z"
   },
   {
    "duration": 50,
    "start_time": "2022-08-25T11:12:30.521Z"
   },
   {
    "duration": 63,
    "start_time": "2022-08-25T11:12:30.572Z"
   },
   {
    "duration": 39,
    "start_time": "2022-08-25T11:12:30.637Z"
   },
   {
    "duration": 54,
    "start_time": "2022-08-25T11:12:30.678Z"
   },
   {
    "duration": 40,
    "start_time": "2022-08-25T11:12:30.734Z"
   },
   {
    "duration": 28,
    "start_time": "2022-08-25T11:12:30.776Z"
   },
   {
    "duration": 83,
    "start_time": "2022-08-25T11:12:30.807Z"
   },
   {
    "duration": 39,
    "start_time": "2022-08-25T11:12:30.892Z"
   },
   {
    "duration": 37,
    "start_time": "2022-08-25T11:12:30.933Z"
   },
   {
    "duration": 37,
    "start_time": "2022-08-25T11:12:30.972Z"
   },
   {
    "duration": 68,
    "start_time": "2022-08-25T11:12:31.011Z"
   },
   {
    "duration": 60,
    "start_time": "2022-08-25T11:12:31.081Z"
   },
   {
    "duration": 52,
    "start_time": "2022-08-25T11:12:31.143Z"
   },
   {
    "duration": 48,
    "start_time": "2022-08-25T11:12:31.196Z"
   },
   {
    "duration": 23,
    "start_time": "2022-08-25T11:12:31.246Z"
   },
   {
    "duration": 59,
    "start_time": "2022-08-25T11:12:31.271Z"
   },
   {
    "duration": 522,
    "start_time": "2022-08-25T11:12:31.332Z"
   },
   {
    "duration": 50,
    "start_time": "2022-08-25T11:12:31.860Z"
   },
   {
    "duration": 19,
    "start_time": "2022-08-25T11:12:31.914Z"
   },
   {
    "duration": 515,
    "start_time": "2022-08-25T11:12:31.936Z"
   },
   {
    "duration": 251,
    "start_time": "2022-08-25T11:12:32.452Z"
   },
   {
    "duration": 51,
    "start_time": "2022-08-25T11:12:32.705Z"
   },
   {
    "duration": 286,
    "start_time": "2022-08-25T11:12:32.758Z"
   },
   {
    "duration": 185,
    "start_time": "2022-08-25T11:12:33.046Z"
   },
   {
    "duration": 9,
    "start_time": "2022-08-25T11:12:33.233Z"
   },
   {
    "duration": 20,
    "start_time": "2022-08-25T11:12:33.243Z"
   },
   {
    "duration": 295,
    "start_time": "2022-08-25T11:12:33.265Z"
   },
   {
    "duration": 184,
    "start_time": "2022-08-25T11:12:33.561Z"
   },
   {
    "duration": 25,
    "start_time": "2022-08-25T11:12:33.747Z"
   },
   {
    "duration": 297,
    "start_time": "2022-08-25T11:12:33.773Z"
   },
   {
    "duration": 182,
    "start_time": "2022-08-25T11:12:34.072Z"
   },
   {
    "duration": 26,
    "start_time": "2022-08-25T11:12:34.256Z"
   },
   {
    "duration": 284,
    "start_time": "2022-08-25T11:12:34.284Z"
   },
   {
    "duration": 191,
    "start_time": "2022-08-25T11:12:34.570Z"
   },
   {
    "duration": 8,
    "start_time": "2022-08-25T11:12:34.763Z"
   },
   {
    "duration": 291,
    "start_time": "2022-08-25T11:12:34.772Z"
   },
   {
    "duration": 353,
    "start_time": "2022-08-25T11:12:35.064Z"
   },
   {
    "duration": 10,
    "start_time": "2022-08-25T11:12:35.420Z"
   },
   {
    "duration": 24,
    "start_time": "2022-08-25T11:12:35.432Z"
   },
   {
    "duration": 50,
    "start_time": "2022-08-25T11:12:35.458Z"
   },
   {
    "duration": 295,
    "start_time": "2022-08-25T11:12:35.513Z"
   },
   {
    "duration": 207,
    "start_time": "2022-08-25T11:12:35.811Z"
   },
   {
    "duration": 63,
    "start_time": "2022-08-25T11:12:36.020Z"
   },
   {
    "duration": 151,
    "start_time": "2022-08-25T11:12:36.085Z"
   },
   {
    "duration": 142,
    "start_time": "2022-08-25T11:12:36.238Z"
   },
   {
    "duration": 128,
    "start_time": "2022-08-25T11:12:36.382Z"
   },
   {
    "duration": 4,
    "start_time": "2022-08-25T11:12:36.512Z"
   },
   {
    "duration": 10,
    "start_time": "2022-08-25T11:12:36.518Z"
   },
   {
    "duration": 9,
    "start_time": "2022-08-25T11:12:36.530Z"
   },
   {
    "duration": 7,
    "start_time": "2022-08-25T11:12:36.540Z"
   },
   {
    "duration": 952,
    "start_time": "2022-08-25T11:12:36.548Z"
   },
   {
    "duration": 19,
    "start_time": "2022-08-25T11:12:37.502Z"
   },
   {
    "duration": 14,
    "start_time": "2022-08-25T11:12:37.523Z"
   },
   {
    "duration": 501,
    "start_time": "2022-08-25T11:12:37.539Z"
   },
   {
    "duration": 5,
    "start_time": "2022-08-25T11:12:38.042Z"
   },
   {
    "duration": 98267,
    "start_time": "2022-08-25T11:12:38.049Z"
   },
   {
    "duration": 23702,
    "start_time": "2022-08-25T11:14:16.401Z"
   },
   {
    "duration": 296,
    "start_time": "2022-08-25T11:14:40.104Z"
   },
   {
    "duration": 11,
    "start_time": "2022-08-25T11:14:40.402Z"
   },
   {
    "duration": 95,
    "start_time": "2022-08-25T11:14:40.415Z"
   },
   {
    "duration": 0,
    "start_time": "2022-08-25T11:14:40.512Z"
   },
   {
    "duration": 0,
    "start_time": "2022-08-25T11:14:40.514Z"
   },
   {
    "duration": 0,
    "start_time": "2022-08-25T11:14:40.515Z"
   },
   {
    "duration": 0,
    "start_time": "2022-08-25T11:14:40.516Z"
   },
   {
    "duration": 0,
    "start_time": "2022-08-25T11:14:40.518Z"
   },
   {
    "duration": 0,
    "start_time": "2022-08-25T11:14:40.519Z"
   },
   {
    "duration": 0,
    "start_time": "2022-08-25T11:14:40.520Z"
   },
   {
    "duration": 0,
    "start_time": "2022-08-25T11:14:40.521Z"
   },
   {
    "duration": 130,
    "start_time": "2022-08-25T11:15:26.846Z"
   },
   {
    "duration": 12,
    "start_time": "2022-08-25T11:15:41.689Z"
   },
   {
    "duration": 7446,
    "start_time": "2022-08-25T11:16:11.162Z"
   },
   {
    "duration": 51408,
    "start_time": "2022-08-25T11:16:31.116Z"
   },
   {
    "duration": 425,
    "start_time": "2022-08-25T11:17:48.023Z"
   },
   {
    "duration": 19,
    "start_time": "2022-08-25T11:18:07.425Z"
   },
   {
    "duration": 11,
    "start_time": "2022-08-25T11:18:18.016Z"
   },
   {
    "duration": 10,
    "start_time": "2022-08-25T11:18:23.577Z"
   },
   {
    "duration": 262986,
    "start_time": "2022-08-25T11:22:54.086Z"
   },
   {
    "duration": 15085,
    "start_time": "2022-08-25T11:27:24.221Z"
   },
   {
    "duration": 926,
    "start_time": "2022-08-25T11:27:45.020Z"
   },
   {
    "duration": 12,
    "start_time": "2022-08-25T11:27:46.997Z"
   },
   {
    "duration": 1750666,
    "start_time": "2022-08-25T11:29:23.679Z"
   },
   {
    "duration": 415508,
    "start_time": "2022-08-25T11:59:46.538Z"
   },
   {
    "duration": 9,
    "start_time": "2022-08-25T12:06:45.685Z"
   },
   {
    "duration": 1155184,
    "start_time": "2022-08-25T12:06:49.355Z"
   },
   {
    "duration": 1630,
    "start_time": "2022-08-25T16:35:36.384Z"
   },
   {
    "duration": 1102,
    "start_time": "2022-08-25T16:35:38.016Z"
   },
   {
    "duration": 19,
    "start_time": "2022-08-25T16:35:39.120Z"
   },
   {
    "duration": 8,
    "start_time": "2022-08-25T16:35:39.141Z"
   },
   {
    "duration": 160,
    "start_time": "2022-08-25T16:35:39.152Z"
   },
   {
    "duration": 115,
    "start_time": "2022-08-25T16:35:39.314Z"
   },
   {
    "duration": 28,
    "start_time": "2022-08-25T16:35:39.431Z"
   },
   {
    "duration": 41,
    "start_time": "2022-08-25T16:35:39.461Z"
   },
   {
    "duration": 20,
    "start_time": "2022-08-25T16:35:39.504Z"
   },
   {
    "duration": 34,
    "start_time": "2022-08-25T16:35:39.526Z"
   },
   {
    "duration": 24,
    "start_time": "2022-08-25T16:35:39.562Z"
   },
   {
    "duration": 52,
    "start_time": "2022-08-25T16:35:39.587Z"
   },
   {
    "duration": 12,
    "start_time": "2022-08-25T16:35:39.640Z"
   },
   {
    "duration": 110,
    "start_time": "2022-08-25T16:35:39.655Z"
   },
   {
    "duration": 32,
    "start_time": "2022-08-25T16:35:39.767Z"
   },
   {
    "duration": 35,
    "start_time": "2022-08-25T16:35:39.801Z"
   },
   {
    "duration": 34,
    "start_time": "2022-08-25T16:35:39.838Z"
   },
   {
    "duration": 21,
    "start_time": "2022-08-25T16:35:39.874Z"
   },
   {
    "duration": 43,
    "start_time": "2022-08-25T16:35:39.897Z"
   },
   {
    "duration": 36,
    "start_time": "2022-08-25T16:35:39.942Z"
   },
   {
    "duration": 19,
    "start_time": "2022-08-25T16:35:39.980Z"
   },
   {
    "duration": 36,
    "start_time": "2022-08-25T16:35:40.001Z"
   },
   {
    "duration": 60,
    "start_time": "2022-08-25T16:35:40.039Z"
   },
   {
    "duration": 39,
    "start_time": "2022-08-25T16:35:40.101Z"
   },
   {
    "duration": 23,
    "start_time": "2022-08-25T16:35:40.142Z"
   },
   {
    "duration": 38,
    "start_time": "2022-08-25T16:35:40.166Z"
   },
   {
    "duration": 16,
    "start_time": "2022-08-25T16:35:40.206Z"
   },
   {
    "duration": 41,
    "start_time": "2022-08-25T16:35:40.224Z"
   },
   {
    "duration": 41,
    "start_time": "2022-08-25T16:35:40.267Z"
   },
   {
    "duration": 34,
    "start_time": "2022-08-25T16:35:40.310Z"
   },
   {
    "duration": 19,
    "start_time": "2022-08-25T16:35:40.345Z"
   },
   {
    "duration": 29,
    "start_time": "2022-08-25T16:35:40.365Z"
   },
   {
    "duration": 22,
    "start_time": "2022-08-25T16:35:40.395Z"
   },
   {
    "duration": 29,
    "start_time": "2022-08-25T16:35:40.419Z"
   },
   {
    "duration": 18,
    "start_time": "2022-08-25T16:35:40.449Z"
   },
   {
    "duration": 39,
    "start_time": "2022-08-25T16:35:40.468Z"
   },
   {
    "duration": 28,
    "start_time": "2022-08-25T16:35:40.508Z"
   },
   {
    "duration": 16,
    "start_time": "2022-08-25T16:35:40.537Z"
   },
   {
    "duration": 17,
    "start_time": "2022-08-25T16:35:40.555Z"
   },
   {
    "duration": 368,
    "start_time": "2022-08-25T16:35:40.575Z"
   },
   {
    "duration": 42,
    "start_time": "2022-08-25T16:35:40.949Z"
   },
   {
    "duration": 16,
    "start_time": "2022-08-25T16:35:40.992Z"
   },
   {
    "duration": 425,
    "start_time": "2022-08-25T16:35:41.010Z"
   },
   {
    "duration": 152,
    "start_time": "2022-08-25T16:35:41.437Z"
   },
   {
    "duration": 29,
    "start_time": "2022-08-25T16:35:41.591Z"
   },
   {
    "duration": 256,
    "start_time": "2022-08-25T16:35:41.622Z"
   },
   {
    "duration": 161,
    "start_time": "2022-08-25T16:35:41.880Z"
   },
   {
    "duration": 9,
    "start_time": "2022-08-25T16:35:42.044Z"
   },
   {
    "duration": 32,
    "start_time": "2022-08-25T16:35:42.055Z"
   },
   {
    "duration": 249,
    "start_time": "2022-08-25T16:35:42.090Z"
   },
   {
    "duration": 165,
    "start_time": "2022-08-25T16:35:42.341Z"
   },
   {
    "duration": 25,
    "start_time": "2022-08-25T16:35:42.508Z"
   },
   {
    "duration": 258,
    "start_time": "2022-08-25T16:35:42.535Z"
   },
   {
    "duration": 167,
    "start_time": "2022-08-25T16:35:42.795Z"
   },
   {
    "duration": 36,
    "start_time": "2022-08-25T16:35:42.964Z"
   },
   {
    "duration": 242,
    "start_time": "2022-08-25T16:35:43.003Z"
   },
   {
    "duration": 145,
    "start_time": "2022-08-25T16:35:43.248Z"
   },
   {
    "duration": 8,
    "start_time": "2022-08-25T16:35:43.395Z"
   },
   {
    "duration": 222,
    "start_time": "2022-08-25T16:35:43.405Z"
   },
   {
    "duration": 318,
    "start_time": "2022-08-25T16:35:43.629Z"
   },
   {
    "duration": 9,
    "start_time": "2022-08-25T16:35:43.949Z"
   },
   {
    "duration": 40,
    "start_time": "2022-08-25T16:35:43.960Z"
   },
   {
    "duration": 16,
    "start_time": "2022-08-25T16:35:44.002Z"
   },
   {
    "duration": 275,
    "start_time": "2022-08-25T16:35:44.020Z"
   },
   {
    "duration": 166,
    "start_time": "2022-08-25T16:35:44.297Z"
   },
   {
    "duration": 76,
    "start_time": "2022-08-25T16:35:44.465Z"
   },
   {
    "duration": 144,
    "start_time": "2022-08-25T16:35:44.543Z"
   },
   {
    "duration": 136,
    "start_time": "2022-08-25T16:35:44.689Z"
   },
   {
    "duration": 104,
    "start_time": "2022-08-25T16:35:44.827Z"
   },
   {
    "duration": 4,
    "start_time": "2022-08-25T16:35:44.932Z"
   },
   {
    "duration": 7,
    "start_time": "2022-08-25T16:35:44.937Z"
   },
   {
    "duration": 16,
    "start_time": "2022-08-25T16:35:44.945Z"
   },
   {
    "duration": 20,
    "start_time": "2022-08-25T16:35:44.963Z"
   },
   {
    "duration": 822,
    "start_time": "2022-08-25T16:35:44.984Z"
   },
   {
    "duration": 13,
    "start_time": "2022-08-25T16:35:45.808Z"
   },
   {
    "duration": 21,
    "start_time": "2022-08-25T16:35:45.823Z"
   },
   {
    "duration": 435,
    "start_time": "2022-08-25T16:35:45.846Z"
   },
   {
    "duration": 6,
    "start_time": "2022-08-25T16:35:46.283Z"
   },
   {
    "duration": 76905,
    "start_time": "2022-08-25T16:35:46.290Z"
   },
   {
    "duration": 21109,
    "start_time": "2022-08-25T16:37:03.286Z"
   },
   {
    "duration": 295,
    "start_time": "2022-08-25T16:37:24.397Z"
   },
   {
    "duration": 103,
    "start_time": "2022-08-25T16:37:24.695Z"
   },
   {
    "duration": 48129,
    "start_time": "2022-08-25T16:37:24.800Z"
   },
   {
    "duration": 614,
    "start_time": "2022-08-25T16:38:12.932Z"
   },
   {
    "duration": 17,
    "start_time": "2022-08-25T16:38:13.548Z"
   },
   {
    "duration": 20,
    "start_time": "2022-08-25T16:38:13.567Z"
   },
   {
    "duration": 247097,
    "start_time": "2022-08-25T16:38:13.590Z"
   },
   {
    "duration": 13363,
    "start_time": "2022-08-25T16:42:20.690Z"
   },
   {
    "duration": 806,
    "start_time": "2022-08-25T16:42:34.055Z"
   },
   {
    "duration": 8,
    "start_time": "2022-08-25T16:42:34.863Z"
   },
   {
    "duration": 1206355,
    "start_time": "2022-08-25T16:42:34.872Z"
   },
   {
    "duration": 0,
    "start_time": "2022-08-25T17:02:41.230Z"
   },
   {
    "duration": 0,
    "start_time": "2022-08-25T17:02:41.232Z"
   },
   {
    "duration": 0,
    "start_time": "2022-08-25T17:02:41.233Z"
   },
   {
    "duration": 0,
    "start_time": "2022-08-25T17:02:41.235Z"
   },
   {
    "duration": 0,
    "start_time": "2022-08-25T17:02:41.236Z"
   },
   {
    "duration": 0,
    "start_time": "2022-08-25T17:02:41.238Z"
   },
   {
    "duration": 0,
    "start_time": "2022-08-25T17:02:41.238Z"
   },
   {
    "duration": 0,
    "start_time": "2022-08-25T17:02:41.239Z"
   },
   {
    "duration": 0,
    "start_time": "2022-08-25T17:02:41.241Z"
   },
   {
    "duration": 145715,
    "start_time": "2022-08-25T17:05:06.198Z"
   },
   {
    "duration": 0,
    "start_time": "2022-08-25T17:08:14.912Z"
   },
   {
    "duration": 266516,
    "start_time": "2022-08-25T17:09:31.583Z"
   },
   {
    "duration": 10226,
    "start_time": "2022-08-25T17:19:15.473Z"
   },
   {
    "duration": 607,
    "start_time": "2022-08-25T17:19:25.701Z"
   },
   {
    "duration": 11,
    "start_time": "2022-08-25T17:19:26.388Z"
   },
   {
    "duration": 49192,
    "start_time": "2022-08-25T17:22:30.736Z"
   },
   {
    "duration": 2359,
    "start_time": "2022-08-25T17:23:19.930Z"
   },
   {
    "duration": 12,
    "start_time": "2022-08-25T17:23:22.291Z"
   },
   {
    "duration": 10,
    "start_time": "2022-08-25T17:23:22.305Z"
   },
   {
    "duration": 4,
    "start_time": "2022-08-25T17:25:36.182Z"
   },
   {
    "duration": 7,
    "start_time": "2022-08-25T17:25:36.754Z"
   },
   {
    "duration": 4,
    "start_time": "2022-08-25T17:25:38.355Z"
   },
   {
    "duration": 249,
    "start_time": "2022-08-25T17:25:39.783Z"
   },
   {
    "duration": 3865,
    "start_time": "2022-08-25T17:36:43.937Z"
   },
   {
    "duration": 122337,
    "start_time": "2022-08-25T17:38:22.564Z"
   },
   {
    "duration": 6215,
    "start_time": "2022-08-25T17:41:07.699Z"
   },
   {
    "duration": 6577,
    "start_time": "2022-08-25T17:43:05.022Z"
   },
   {
    "duration": 16548,
    "start_time": "2022-08-25T17:45:05.840Z"
   },
   {
    "duration": 15749,
    "start_time": "2022-08-25T17:45:40.138Z"
   },
   {
    "duration": 50,
    "start_time": "2022-08-26T07:45:43.275Z"
   },
   {
    "duration": 1840,
    "start_time": "2022-08-26T07:45:50.200Z"
   },
   {
    "duration": 85,
    "start_time": "2022-08-26T07:45:58.066Z"
   },
   {
    "duration": 1522,
    "start_time": "2022-08-26T07:48:39.662Z"
   },
   {
    "duration": 3409,
    "start_time": "2022-08-26T07:48:41.186Z"
   },
   {
    "duration": 20,
    "start_time": "2022-08-26T07:48:44.597Z"
   },
   {
    "duration": 4,
    "start_time": "2022-08-26T07:48:44.619Z"
   },
   {
    "duration": 138,
    "start_time": "2022-08-26T07:48:44.625Z"
   },
   {
    "duration": 112,
    "start_time": "2022-08-26T07:48:44.767Z"
   },
   {
    "duration": 25,
    "start_time": "2022-08-26T07:48:44.881Z"
   },
   {
    "duration": 24,
    "start_time": "2022-08-26T07:48:44.908Z"
   },
   {
    "duration": 15,
    "start_time": "2022-08-26T07:48:44.934Z"
   },
   {
    "duration": 4,
    "start_time": "2022-08-26T07:48:44.967Z"
   },
   {
    "duration": 20,
    "start_time": "2022-08-26T07:48:44.973Z"
   },
   {
    "duration": 34,
    "start_time": "2022-08-26T07:48:44.994Z"
   },
   {
    "duration": 13,
    "start_time": "2022-08-26T07:48:45.030Z"
   },
   {
    "duration": 100,
    "start_time": "2022-08-26T07:48:45.045Z"
   },
   {
    "duration": 43,
    "start_time": "2022-08-26T07:48:45.146Z"
   },
   {
    "duration": 19,
    "start_time": "2022-08-26T07:48:45.191Z"
   },
   {
    "duration": 21,
    "start_time": "2022-08-26T07:48:45.212Z"
   },
   {
    "duration": 37,
    "start_time": "2022-08-26T07:48:45.235Z"
   },
   {
    "duration": 44,
    "start_time": "2022-08-26T07:48:45.274Z"
   },
   {
    "duration": 35,
    "start_time": "2022-08-26T07:48:45.320Z"
   },
   {
    "duration": 25,
    "start_time": "2022-08-26T07:48:45.368Z"
   },
   {
    "duration": 24,
    "start_time": "2022-08-26T07:48:45.395Z"
   },
   {
    "duration": 59,
    "start_time": "2022-08-26T07:48:45.420Z"
   },
   {
    "duration": 40,
    "start_time": "2022-08-26T07:48:45.482Z"
   },
   {
    "duration": 20,
    "start_time": "2022-08-26T07:48:45.524Z"
   },
   {
    "duration": 34,
    "start_time": "2022-08-26T07:48:45.546Z"
   },
   {
    "duration": 16,
    "start_time": "2022-08-26T07:48:45.584Z"
   },
   {
    "duration": 29,
    "start_time": "2022-08-26T07:48:45.605Z"
   },
   {
    "duration": 34,
    "start_time": "2022-08-26T07:48:45.636Z"
   },
   {
    "duration": 35,
    "start_time": "2022-08-26T07:48:45.672Z"
   },
   {
    "duration": 16,
    "start_time": "2022-08-26T07:48:45.708Z"
   },
   {
    "duration": 22,
    "start_time": "2022-08-26T07:48:45.726Z"
   },
   {
    "duration": 22,
    "start_time": "2022-08-26T07:48:45.767Z"
   },
   {
    "duration": 36,
    "start_time": "2022-08-26T07:48:45.791Z"
   },
   {
    "duration": 23,
    "start_time": "2022-08-26T07:48:45.828Z"
   },
   {
    "duration": 39,
    "start_time": "2022-08-26T07:48:45.852Z"
   },
   {
    "duration": 16,
    "start_time": "2022-08-26T07:48:45.893Z"
   },
   {
    "duration": 15,
    "start_time": "2022-08-26T07:48:45.910Z"
   },
   {
    "duration": 18,
    "start_time": "2022-08-26T07:48:45.926Z"
   },
   {
    "duration": 437,
    "start_time": "2022-08-26T07:48:45.945Z"
   },
   {
    "duration": 35,
    "start_time": "2022-08-26T07:48:46.384Z"
   },
   {
    "duration": 19,
    "start_time": "2022-08-26T07:48:46.421Z"
   },
   {
    "duration": 562,
    "start_time": "2022-08-26T07:48:46.441Z"
   },
   {
    "duration": 176,
    "start_time": "2022-08-26T07:48:47.006Z"
   },
   {
    "duration": 28,
    "start_time": "2022-08-26T07:48:47.184Z"
   },
   {
    "duration": 286,
    "start_time": "2022-08-26T07:48:47.213Z"
   },
   {
    "duration": 188,
    "start_time": "2022-08-26T07:48:47.501Z"
   },
   {
    "duration": 8,
    "start_time": "2022-08-26T07:48:47.691Z"
   },
   {
    "duration": 18,
    "start_time": "2022-08-26T07:48:47.701Z"
   },
   {
    "duration": 298,
    "start_time": "2022-08-26T07:48:47.721Z"
   },
   {
    "duration": 191,
    "start_time": "2022-08-26T07:48:48.020Z"
   },
   {
    "duration": 23,
    "start_time": "2022-08-26T07:48:48.213Z"
   },
   {
    "duration": 280,
    "start_time": "2022-08-26T07:48:48.238Z"
   },
   {
    "duration": 187,
    "start_time": "2022-08-26T07:48:48.519Z"
   },
   {
    "duration": 25,
    "start_time": "2022-08-26T07:48:48.708Z"
   },
   {
    "duration": 270,
    "start_time": "2022-08-26T07:48:48.735Z"
   },
   {
    "duration": 183,
    "start_time": "2022-08-26T07:48:49.007Z"
   },
   {
    "duration": 9,
    "start_time": "2022-08-26T07:48:49.192Z"
   },
   {
    "duration": 251,
    "start_time": "2022-08-26T07:48:49.203Z"
   },
   {
    "duration": 360,
    "start_time": "2022-08-26T07:48:49.456Z"
   },
   {
    "duration": 9,
    "start_time": "2022-08-26T07:48:49.817Z"
   },
   {
    "duration": 22,
    "start_time": "2022-08-26T07:48:49.827Z"
   },
   {
    "duration": 21,
    "start_time": "2022-08-26T07:48:49.867Z"
   },
   {
    "duration": 321,
    "start_time": "2022-08-26T07:48:49.890Z"
   },
   {
    "duration": 201,
    "start_time": "2022-08-26T07:48:50.213Z"
   },
   {
    "duration": 67,
    "start_time": "2022-08-26T07:48:50.416Z"
   },
   {
    "duration": 141,
    "start_time": "2022-08-26T07:48:50.485Z"
   },
   {
    "duration": 150,
    "start_time": "2022-08-26T07:48:50.628Z"
   },
   {
    "duration": 119,
    "start_time": "2022-08-26T07:48:50.781Z"
   },
   {
    "duration": 4,
    "start_time": "2022-08-26T07:48:50.901Z"
   },
   {
    "duration": 11,
    "start_time": "2022-08-26T07:48:50.907Z"
   },
   {
    "duration": 12,
    "start_time": "2022-08-26T07:48:50.919Z"
   },
   {
    "duration": 8,
    "start_time": "2022-08-26T07:48:50.932Z"
   },
   {
    "duration": 947,
    "start_time": "2022-08-26T07:48:50.942Z"
   },
   {
    "duration": 16,
    "start_time": "2022-08-26T07:48:51.890Z"
   },
   {
    "duration": 13,
    "start_time": "2022-08-26T07:48:51.908Z"
   },
   {
    "duration": 446,
    "start_time": "2022-08-26T07:48:51.922Z"
   },
   {
    "duration": 5,
    "start_time": "2022-08-26T07:48:52.370Z"
   },
   {
    "duration": 78210,
    "start_time": "2022-08-26T07:48:52.377Z"
   },
   {
    "duration": 19905,
    "start_time": "2022-08-26T07:50:10.669Z"
   },
   {
    "duration": 687,
    "start_time": "2022-08-26T07:50:30.581Z"
   },
   {
    "duration": 22,
    "start_time": "2022-08-26T07:50:31.276Z"
   },
   {
    "duration": 52085,
    "start_time": "2022-08-26T07:50:31.368Z"
   },
   {
    "duration": 433,
    "start_time": "2022-08-26T07:51:23.455Z"
   },
   {
    "duration": 33,
    "start_time": "2022-08-26T07:51:23.890Z"
   },
   {
    "duration": 8,
    "start_time": "2022-08-26T07:51:23.925Z"
   },
   {
    "duration": 265433,
    "start_time": "2022-08-26T07:51:23.935Z"
   },
   {
    "duration": 15835,
    "start_time": "2022-08-26T07:55:49.370Z"
   },
   {
    "duration": 2884,
    "start_time": "2022-08-26T07:56:05.207Z"
   },
   {
    "duration": 8,
    "start_time": "2022-08-26T07:56:08.093Z"
   },
   {
    "duration": 4275847,
    "start_time": "2022-08-26T07:56:08.103Z"
   },
   {
    "duration": 0,
    "start_time": "2022-08-26T09:07:23.951Z"
   },
   {
    "duration": 0,
    "start_time": "2022-08-26T09:07:23.953Z"
   },
   {
    "duration": 0,
    "start_time": "2022-08-26T09:07:23.953Z"
   },
   {
    "duration": 0,
    "start_time": "2022-08-26T09:07:23.955Z"
   },
   {
    "duration": 0,
    "start_time": "2022-08-26T09:07:23.956Z"
   },
   {
    "duration": 0,
    "start_time": "2022-08-26T09:07:23.957Z"
   },
   {
    "duration": 0,
    "start_time": "2022-08-26T09:07:23.958Z"
   },
   {
    "duration": 0,
    "start_time": "2022-08-26T09:07:23.959Z"
   },
   {
    "duration": 0,
    "start_time": "2022-08-26T09:07:23.960Z"
   },
   {
    "duration": 0,
    "start_time": "2022-08-26T09:07:23.961Z"
   },
   {
    "duration": 0,
    "start_time": "2022-08-26T09:07:23.962Z"
   },
   {
    "duration": 0,
    "start_time": "2022-08-26T09:07:23.963Z"
   },
   {
    "duration": 53021,
    "start_time": "2022-08-26T09:07:31.463Z"
   },
   {
    "duration": 62002,
    "start_time": "2022-08-26T09:08:26.271Z"
   },
   {
    "duration": 2761,
    "start_time": "2022-08-26T09:10:50.957Z"
   },
   {
    "duration": 35,
    "start_time": "2022-08-26T09:10:55.819Z"
   },
   {
    "duration": 75,
    "start_time": "2022-08-26T09:11:18.006Z"
   },
   {
    "duration": 53,
    "start_time": "2022-08-26T09:16:22.428Z"
   },
   {
    "duration": 2186,
    "start_time": "2022-08-26T09:16:39.362Z"
   },
   {
    "duration": 1252,
    "start_time": "2022-08-26T09:16:41.550Z"
   },
   {
    "duration": 32,
    "start_time": "2022-08-26T09:16:42.804Z"
   },
   {
    "duration": 5,
    "start_time": "2022-08-26T09:16:42.839Z"
   },
   {
    "duration": 140,
    "start_time": "2022-08-26T09:16:42.846Z"
   },
   {
    "duration": 125,
    "start_time": "2022-08-26T09:16:42.988Z"
   },
   {
    "duration": 25,
    "start_time": "2022-08-26T09:16:43.115Z"
   },
   {
    "duration": 44,
    "start_time": "2022-08-26T09:16:43.142Z"
   },
   {
    "duration": 12,
    "start_time": "2022-08-26T09:16:43.188Z"
   },
   {
    "duration": 8,
    "start_time": "2022-08-26T09:16:43.205Z"
   },
   {
    "duration": 21,
    "start_time": "2022-08-26T09:16:43.215Z"
   },
   {
    "duration": 53,
    "start_time": "2022-08-26T09:16:43.238Z"
   },
   {
    "duration": 12,
    "start_time": "2022-08-26T09:16:43.293Z"
   },
   {
    "duration": 128,
    "start_time": "2022-08-26T09:16:43.307Z"
   },
   {
    "duration": 35,
    "start_time": "2022-08-26T09:16:43.437Z"
   },
   {
    "duration": 31,
    "start_time": "2022-08-26T09:16:43.474Z"
   },
   {
    "duration": 31,
    "start_time": "2022-08-26T09:16:43.508Z"
   },
   {
    "duration": 40,
    "start_time": "2022-08-26T09:16:43.541Z"
   },
   {
    "duration": 53,
    "start_time": "2022-08-26T09:16:43.583Z"
   },
   {
    "duration": 42,
    "start_time": "2022-08-26T09:16:43.638Z"
   },
   {
    "duration": 29,
    "start_time": "2022-08-26T09:16:43.682Z"
   },
   {
    "duration": 33,
    "start_time": "2022-08-26T09:16:43.713Z"
   },
   {
    "duration": 52,
    "start_time": "2022-08-26T09:16:43.749Z"
   },
   {
    "duration": 34,
    "start_time": "2022-08-26T09:16:43.802Z"
   },
   {
    "duration": 31,
    "start_time": "2022-08-26T09:16:43.838Z"
   },
   {
    "duration": 29,
    "start_time": "2022-08-26T09:16:43.872Z"
   },
   {
    "duration": 40,
    "start_time": "2022-08-26T09:16:43.903Z"
   },
   {
    "duration": 64,
    "start_time": "2022-08-26T09:16:43.950Z"
   },
   {
    "duration": 40,
    "start_time": "2022-08-26T09:16:44.016Z"
   },
   {
    "duration": 51,
    "start_time": "2022-08-26T09:16:44.059Z"
   },
   {
    "duration": 21,
    "start_time": "2022-08-26T09:16:44.112Z"
   },
   {
    "duration": 40,
    "start_time": "2022-08-26T09:16:44.134Z"
   },
   {
    "duration": 17,
    "start_time": "2022-08-26T09:16:44.176Z"
   },
   {
    "duration": 43,
    "start_time": "2022-08-26T09:16:44.195Z"
   },
   {
    "duration": 30,
    "start_time": "2022-08-26T09:16:44.240Z"
   },
   {
    "duration": 22,
    "start_time": "2022-08-26T09:16:44.272Z"
   },
   {
    "duration": 26,
    "start_time": "2022-08-26T09:16:44.296Z"
   },
   {
    "duration": 14,
    "start_time": "2022-08-26T09:16:44.324Z"
   },
   {
    "duration": 43,
    "start_time": "2022-08-26T09:16:44.340Z"
   },
   {
    "duration": 446,
    "start_time": "2022-08-26T09:16:44.385Z"
   },
   {
    "duration": 48,
    "start_time": "2022-08-26T09:16:44.834Z"
   },
   {
    "duration": 19,
    "start_time": "2022-08-26T09:16:44.884Z"
   },
   {
    "duration": 509,
    "start_time": "2022-08-26T09:16:44.905Z"
   },
   {
    "duration": 191,
    "start_time": "2022-08-26T09:16:45.415Z"
   },
   {
    "duration": 28,
    "start_time": "2022-08-26T09:16:45.608Z"
   },
   {
    "duration": 287,
    "start_time": "2022-08-26T09:16:45.638Z"
   },
   {
    "duration": 184,
    "start_time": "2022-08-26T09:16:45.927Z"
   },
   {
    "duration": 13,
    "start_time": "2022-08-26T09:16:46.113Z"
   },
   {
    "duration": 22,
    "start_time": "2022-08-26T09:16:46.128Z"
   },
   {
    "duration": 321,
    "start_time": "2022-08-26T09:16:46.169Z"
   },
   {
    "duration": 223,
    "start_time": "2022-08-26T09:16:46.508Z"
   },
   {
    "duration": 39,
    "start_time": "2022-08-26T09:16:46.734Z"
   },
   {
    "duration": 320,
    "start_time": "2022-08-26T09:16:46.776Z"
   },
   {
    "duration": 189,
    "start_time": "2022-08-26T09:16:47.098Z"
   },
   {
    "duration": 34,
    "start_time": "2022-08-26T09:16:47.289Z"
   },
   {
    "duration": 290,
    "start_time": "2022-08-26T09:16:47.325Z"
   },
   {
    "duration": 174,
    "start_time": "2022-08-26T09:16:47.617Z"
   },
   {
    "duration": 9,
    "start_time": "2022-08-26T09:16:47.793Z"
   },
   {
    "duration": 263,
    "start_time": "2022-08-26T09:16:47.805Z"
   },
   {
    "duration": 368,
    "start_time": "2022-08-26T09:16:48.070Z"
   },
   {
    "duration": 10,
    "start_time": "2022-08-26T09:16:48.440Z"
   },
   {
    "duration": 39,
    "start_time": "2022-08-26T09:16:48.451Z"
   },
   {
    "duration": 18,
    "start_time": "2022-08-26T09:16:48.492Z"
   },
   {
    "duration": 356,
    "start_time": "2022-08-26T09:16:48.512Z"
   },
   {
    "duration": 206,
    "start_time": "2022-08-26T09:16:48.870Z"
   },
   {
    "duration": 68,
    "start_time": "2022-08-26T09:16:49.078Z"
   },
   {
    "duration": 158,
    "start_time": "2022-08-26T09:16:49.148Z"
   },
   {
    "duration": 152,
    "start_time": "2022-08-26T09:16:49.309Z"
   },
   {
    "duration": 136,
    "start_time": "2022-08-26T09:16:49.463Z"
   },
   {
    "duration": 4,
    "start_time": "2022-08-26T09:16:49.601Z"
   },
   {
    "duration": 25,
    "start_time": "2022-08-26T09:16:49.608Z"
   },
   {
    "duration": 24,
    "start_time": "2022-08-26T09:16:49.636Z"
   },
   {
    "duration": 12,
    "start_time": "2022-08-26T09:16:49.661Z"
   },
   {
    "duration": 1097,
    "start_time": "2022-08-26T09:16:49.675Z"
   },
   {
    "duration": 16,
    "start_time": "2022-08-26T09:16:50.774Z"
   },
   {
    "duration": 55,
    "start_time": "2022-08-26T09:16:50.792Z"
   },
   {
    "duration": 438,
    "start_time": "2022-08-26T09:16:50.849Z"
   },
   {
    "duration": 5,
    "start_time": "2022-08-26T09:16:51.289Z"
   },
   {
    "duration": 102377,
    "start_time": "2022-08-26T09:16:51.296Z"
   },
   {
    "duration": 21293,
    "start_time": "2022-08-26T09:18:33.675Z"
   },
   {
    "duration": 598,
    "start_time": "2022-08-26T09:18:54.978Z"
   },
   {
    "duration": 11,
    "start_time": "2022-08-26T09:18:55.668Z"
   },
   {
    "duration": 52882,
    "start_time": "2022-08-26T09:18:55.681Z"
   },
   {
    "duration": 424,
    "start_time": "2022-08-26T09:19:48.568Z"
   },
   {
    "duration": 35,
    "start_time": "2022-08-26T09:19:48.993Z"
   },
   {
    "duration": 9,
    "start_time": "2022-08-26T09:19:49.030Z"
   },
   {
    "duration": 263984,
    "start_time": "2022-08-26T09:19:49.040Z"
   },
   {
    "duration": 14598,
    "start_time": "2022-08-26T09:24:13.026Z"
   },
   {
    "duration": 2779,
    "start_time": "2022-08-26T09:24:27.626Z"
   },
   {
    "duration": 126,
    "start_time": "2022-08-26T09:24:30.406Z"
   },
   {
    "duration": 0,
    "start_time": "2022-08-26T09:24:30.534Z"
   },
   {
    "duration": 0,
    "start_time": "2022-08-26T09:24:30.535Z"
   },
   {
    "duration": 0,
    "start_time": "2022-08-26T09:24:30.536Z"
   },
   {
    "duration": 0,
    "start_time": "2022-08-26T09:24:30.537Z"
   },
   {
    "duration": 0,
    "start_time": "2022-08-26T09:24:30.538Z"
   },
   {
    "duration": 0,
    "start_time": "2022-08-26T09:24:30.539Z"
   },
   {
    "duration": 0,
    "start_time": "2022-08-26T09:24:30.540Z"
   },
   {
    "duration": 0,
    "start_time": "2022-08-26T09:24:30.541Z"
   },
   {
    "duration": 0,
    "start_time": "2022-08-26T09:24:30.542Z"
   },
   {
    "duration": 0,
    "start_time": "2022-08-26T09:24:30.543Z"
   },
   {
    "duration": 0,
    "start_time": "2022-08-26T09:24:30.544Z"
   },
   {
    "duration": 0,
    "start_time": "2022-08-26T09:24:30.545Z"
   },
   {
    "duration": 0,
    "start_time": "2022-08-26T09:24:30.546Z"
   },
   {
    "duration": 13,
    "start_time": "2022-08-26T09:25:48.200Z"
   },
   {
    "duration": 465836,
    "start_time": "2022-08-26T09:27:07.472Z"
   },
   {
    "duration": 34852,
    "start_time": "2022-08-26T09:35:08.326Z"
   },
   {
    "duration": 13313,
    "start_time": "2022-08-26T09:36:22.992Z"
   },
   {
    "duration": 0,
    "start_time": "2022-08-26T09:37:40.699Z"
   },
   {
    "duration": 21085,
    "start_time": "2022-08-26T09:38:12.585Z"
   },
   {
    "duration": 14,
    "start_time": "2022-08-26T09:38:44.040Z"
   },
   {
    "duration": 16,
    "start_time": "2022-08-26T09:38:50.006Z"
   },
   {
    "duration": 372429,
    "start_time": "2022-08-26T09:38:59.092Z"
   },
   {
    "duration": 27,
    "start_time": "2022-08-26T09:45:19.946Z"
   },
   {
    "duration": 13,
    "start_time": "2022-08-26T09:45:33.448Z"
   },
   {
    "duration": 18,
    "start_time": "2022-08-26T09:46:05.064Z"
   },
   {
    "duration": 19,
    "start_time": "2022-08-26T09:46:25.632Z"
   },
   {
    "duration": 16,
    "start_time": "2022-08-26T09:46:49.314Z"
   },
   {
    "duration": 12,
    "start_time": "2022-08-26T09:46:49.540Z"
   },
   {
    "duration": 14,
    "start_time": "2022-08-26T09:47:17.824Z"
   },
   {
    "duration": 16,
    "start_time": "2022-08-26T09:47:36.174Z"
   },
   {
    "duration": 15,
    "start_time": "2022-08-26T09:47:46.522Z"
   },
   {
    "duration": 21247,
    "start_time": "2022-08-26T09:48:19.440Z"
   },
   {
    "duration": 63717,
    "start_time": "2022-08-26T09:48:44.473Z"
   },
   {
    "duration": 16,
    "start_time": "2022-08-26T09:49:51.735Z"
   },
   {
    "duration": 13,
    "start_time": "2022-08-26T09:49:59.455Z"
   },
   {
    "duration": 361254,
    "start_time": "2022-08-26T09:50:55.523Z"
   },
   {
    "duration": 80,
    "start_time": "2022-08-26T10:01:32.052Z"
   },
   {
    "duration": 1113245,
    "start_time": "2022-08-26T10:01:50.232Z"
   },
   {
    "duration": 20209,
    "start_time": "2022-08-26T11:05:04.361Z"
   },
   {
    "duration": 208,
    "start_time": "2022-08-26T11:05:24.573Z"
   },
   {
    "duration": 14,
    "start_time": "2022-08-26T11:05:24.784Z"
   },
   {
    "duration": 61631,
    "start_time": "2022-08-26T11:05:35.808Z"
   },
   {
    "duration": 2899,
    "start_time": "2022-08-26T11:09:44.634Z"
   },
   {
    "duration": 42,
    "start_time": "2022-08-26T11:09:47.536Z"
   },
   {
    "duration": 16,
    "start_time": "2022-08-26T11:09:52.467Z"
   },
   {
    "duration": 4,
    "start_time": "2022-08-26T11:10:00.979Z"
   },
   {
    "duration": 12,
    "start_time": "2022-08-26T11:10:01.480Z"
   },
   {
    "duration": 4,
    "start_time": "2022-08-26T11:10:02.338Z"
   },
   {
    "duration": 302,
    "start_time": "2022-08-26T11:10:04.131Z"
   },
   {
    "duration": 17,
    "start_time": "2022-08-26T11:12:33.683Z"
   },
   {
    "duration": 16,
    "start_time": "2022-08-26T11:13:52.117Z"
   },
   {
    "duration": 19,
    "start_time": "2022-08-26T11:14:00.858Z"
   },
   {
    "duration": 3333,
    "start_time": "2022-08-26T12:39:37.100Z"
   },
   {
    "duration": 13,
    "start_time": "2022-08-26T21:40:44.470Z"
   },
   {
    "duration": 46,
    "start_time": "2022-08-26T21:40:44.680Z"
   },
   {
    "duration": 1535,
    "start_time": "2022-09-04T19:23:40.386Z"
   },
   {
    "duration": 2712,
    "start_time": "2022-09-04T19:23:41.924Z"
   },
   {
    "duration": 18,
    "start_time": "2022-09-04T19:23:44.638Z"
   },
   {
    "duration": 4,
    "start_time": "2022-09-04T19:23:44.657Z"
   },
   {
    "duration": 136,
    "start_time": "2022-09-04T19:23:44.662Z"
   },
   {
    "duration": 86,
    "start_time": "2022-09-04T19:23:44.799Z"
   },
   {
    "duration": 28,
    "start_time": "2022-09-04T19:23:44.886Z"
   },
   {
    "duration": 23,
    "start_time": "2022-09-04T19:23:44.916Z"
   },
   {
    "duration": 14,
    "start_time": "2022-09-04T19:23:44.941Z"
   },
   {
    "duration": 4,
    "start_time": "2022-09-04T19:23:44.958Z"
   },
   {
    "duration": 13,
    "start_time": "2022-09-04T19:23:44.963Z"
   },
   {
    "duration": 44,
    "start_time": "2022-09-04T19:23:44.977Z"
   },
   {
    "duration": 10,
    "start_time": "2022-09-04T19:23:45.023Z"
   },
   {
    "duration": 73,
    "start_time": "2022-09-04T19:23:45.034Z"
   },
   {
    "duration": 27,
    "start_time": "2022-09-04T19:23:45.108Z"
   },
   {
    "duration": 15,
    "start_time": "2022-09-04T19:23:45.136Z"
   },
   {
    "duration": 23,
    "start_time": "2022-09-04T19:23:45.153Z"
   },
   {
    "duration": 30,
    "start_time": "2022-09-04T19:23:45.178Z"
   },
   {
    "duration": 26,
    "start_time": "2022-09-04T19:23:45.209Z"
   },
   {
    "duration": 26,
    "start_time": "2022-09-04T19:23:45.236Z"
   },
   {
    "duration": 14,
    "start_time": "2022-09-04T19:23:45.263Z"
   },
   {
    "duration": 34,
    "start_time": "2022-09-04T19:23:45.279Z"
   },
   {
    "duration": 38,
    "start_time": "2022-09-04T19:23:47.514Z"
   },
   {
    "duration": 27,
    "start_time": "2022-09-04T19:23:48.105Z"
   },
   {
    "duration": 13,
    "start_time": "2022-09-04T19:23:48.184Z"
   },
   {
    "duration": 14,
    "start_time": "2022-09-04T19:23:48.234Z"
   },
   {
    "duration": 13,
    "start_time": "2022-09-04T19:23:48.281Z"
   },
   {
    "duration": 27,
    "start_time": "2022-09-04T19:23:48.372Z"
   },
   {
    "duration": 12,
    "start_time": "2022-09-04T19:23:48.433Z"
   },
   {
    "duration": 26,
    "start_time": "2022-09-04T19:23:48.522Z"
   },
   {
    "duration": 14,
    "start_time": "2022-09-04T19:23:48.582Z"
   },
   {
    "duration": 16,
    "start_time": "2022-09-04T19:23:48.643Z"
   },
   {
    "duration": 13,
    "start_time": "2022-09-04T19:23:48.681Z"
   },
   {
    "duration": 25,
    "start_time": "2022-09-04T19:23:48.778Z"
   },
   {
    "duration": 14,
    "start_time": "2022-09-04T19:23:48.804Z"
   },
   {
    "duration": 17,
    "start_time": "2022-09-04T19:23:48.879Z"
   },
   {
    "duration": 13,
    "start_time": "2022-09-04T19:23:48.942Z"
   },
   {
    "duration": 9,
    "start_time": "2022-09-04T19:23:49.012Z"
   },
   {
    "duration": 17,
    "start_time": "2022-09-04T19:23:49.080Z"
   },
   {
    "duration": 372,
    "start_time": "2022-09-04T19:23:49.114Z"
   },
   {
    "duration": 39,
    "start_time": "2022-09-04T19:23:49.488Z"
   },
   {
    "duration": 15,
    "start_time": "2022-09-04T19:23:49.529Z"
   },
   {
    "duration": 404,
    "start_time": "2022-09-04T19:23:49.546Z"
   },
   {
    "duration": 248,
    "start_time": "2022-09-04T19:23:49.951Z"
   },
   {
    "duration": 27,
    "start_time": "2022-09-04T19:23:50.200Z"
   },
   {
    "duration": 246,
    "start_time": "2022-09-04T19:23:50.229Z"
   },
   {
    "duration": 148,
    "start_time": "2022-09-04T19:23:50.477Z"
   },
   {
    "duration": 8,
    "start_time": "2022-09-04T19:23:50.627Z"
   },
   {
    "duration": 15,
    "start_time": "2022-09-04T19:23:50.637Z"
   },
   {
    "duration": 262,
    "start_time": "2022-09-04T19:23:50.654Z"
   },
   {
    "duration": 158,
    "start_time": "2022-09-04T19:23:50.917Z"
   }
  ],
  "kernelspec": {
   "display_name": "Python 3 (ipykernel)",
   "language": "python",
   "name": "python3"
  },
  "language_info": {
   "codemirror_mode": {
    "name": "ipython",
    "version": 3
   },
   "file_extension": ".py",
   "mimetype": "text/x-python",
   "name": "python",
   "nbconvert_exporter": "python",
   "pygments_lexer": "ipython3",
   "version": "3.9.7"
  },
  "toc": {
   "base_numbering": 1,
   "nav_menu": {},
   "number_sections": true,
   "sideBar": true,
   "skip_h1_title": true,
   "title_cell": "Table of Contents",
   "title_sidebar": "Contents",
   "toc_cell": false,
   "toc_position": {
    "height": "calc(100% - 180px)",
    "left": "10px",
    "top": "150px",
    "width": "219.141px"
   },
   "toc_section_display": true,
   "toc_window_display": true
  }
 },
 "nbformat": 4,
 "nbformat_minor": 2
}
